{
 "cells": [
  {
   "cell_type": "markdown",
   "metadata": {
    "Collapsed": "false"
   },
   "source": [
    "<img src=\"https://www.python.org/static/community_logos/python-powered-w-200x80.png\" style=\"float: left; margin: 20px; height: 55px\">\n",
    "\n",
    "# Python Basics - Functions\n",
    "\n",
    "_Author: Alfred Zou_\n",
    "\n",
    "---"
   ]
  },
  {
   "cell_type": "markdown",
   "metadata": {
    "Collapsed": "false"
   },
   "source": [
    "## Functions Introduction\n",
    "---\n",
    "\n",
    "* The purpose of functions is to take an input, and perform some sort of operation or return an output\n",
    "* We create functions if we are going to reuse a code throughout a project. If we are reusing a code for one section, we can just use a `for` or `while loop`\n",
    "* Alongside the built-in functions provide by python, users themselves can create functions\n",
    "* The standard layout is:\n",
    "\n",
    "``` python\n",
    "# A parameter refers to the variable in the declaration of a function, where\n",
    "# An argument refers to the variable when calling or running the function\n",
    "def function_name(parameter):\n",
    "    # The doc string is a comment explaining the function, it's surrounded by ''' ''' or \"\"\" \"\"\" as the first line for any function\n",
    "    # It can be called by help(function_name) or pressing shift + tab when after writing function_name\n",
    "    ''' Prints the input\n",
    "    '''\n",
    "    print(parameter)\n",
    "          \n",
    "function_name('hello world')\n",
    "output: 'hello world'\n",
    "    \n",
    "help(function_name)\n",
    "output: 'Prints the input\n",
    "```"
   ]
  },
  {
   "cell_type": "code",
   "execution_count": 69,
   "metadata": {
    "Collapsed": "false"
   },
   "outputs": [
    {
     "name": "stdout",
     "output_type": "stream",
     "text": [
      "1 2 fizz 4 buzz fizz 7 8 fizz buzz 11 fizz 13 14 fizzbuzz 16 17 fizz 19 buzz fizz 22 23 fizz buzz 26 fizz 28 29 fizzbuzz "
     ]
    }
   ],
   "source": [
    "# Let's say we're annoyed at calling print(,end= \" \") for this fizzbuzz For loop\n",
    "# We can create a function to solve this\n",
    "\n",
    "for number in range(1,31):\n",
    "    if number % 3 == 0 and number % 5 == 0:\n",
    "        print(\"fizzbuzz\", end=\" \")\n",
    "    elif number % 3 == 0:\n",
    "        print(\"fizz\", end=\" \")\n",
    "    elif number % 5 == 0:\n",
    "        print(\"buzz\", end=\" \")\n",
    "    else:\n",
    "        print(number, end=\" \")"
   ]
  },
  {
   "cell_type": "code",
   "execution_count": 64,
   "metadata": {
    "Collapsed": "false"
   },
   "outputs": [],
   "source": [
    "def sprint(x):\n",
    "    '''Space print: prints the argument with a space behind, allowing results to be displayed horizontally\n",
    "    '''\n",
    "    \n",
    "    print(x,end=\" \")"
   ]
  },
  {
   "cell_type": "code",
   "execution_count": 71,
   "metadata": {
    "Collapsed": "false"
   },
   "outputs": [
    {
     "name": "stdout",
     "output_type": "stream",
     "text": [
      "Help on function sprint in module __main__:\n",
      "\n",
      "sprint(x)\n",
      "    Space print: prints the argument with a space behind, allowing results to be displayed horizontally\n",
      "\n"
     ]
    }
   ],
   "source": [
    "help(sprint)"
   ]
  },
  {
   "cell_type": "code",
   "execution_count": 73,
   "metadata": {
    "Collapsed": "false"
   },
   "outputs": [
    {
     "name": "stdout",
     "output_type": "stream",
     "text": [
      "1 2 fizz 4 buzz fizz 7 8 fizz buzz 11 fizz 13 14 fizzbuzz 16 17 fizz 19 buzz fizz 22 23 fizz buzz 26 fizz 28 29 fizzbuzz "
     ]
    }
   ],
   "source": [
    "# Rewriting this fizzbuzz For loop\n",
    "# After typing sprint, press shift + tab to enable docstring\n",
    "\n",
    "for number in range(1,31):\n",
    "    if number % 3 == 0 and number % 5 == 0:\n",
    "        sprint(\"fizzbuzz\")\n",
    "    elif number % 3 == 0:\n",
    "        sprint(\"fizz\")\n",
    "    elif number % 5 == 0:\n",
    "        sprint(\"buzz\")\n",
    "    else:\n",
    "        sprint(number)"
   ]
  },
  {
   "cell_type": "markdown",
   "metadata": {
    "Collapsed": "false"
   },
   "source": [
    "### Function Syntax\n",
    "\n",
    "* One important concept regarding functions is there are two types of arguments when calling a function:\n",
    "    * Positional arguments: that always require the exact number of positional arguments when called, and\n",
    "    * Key arguments: that have a predefined value and are optional when called.\n",
    "* It is important to note that when defining or calling functions the positional arguments must go first before the optional key arguments\n",
    "* Key arguments can be in any order\n",
    "* The function will stop executing, when it returns a value"
   ]
  },
  {
   "cell_type": "code",
   "execution_count": 22,
   "metadata": {
    "Collapsed": "false"
   },
   "outputs": [
    {
     "data": {
      "text/plain": [
       "\u001b[1;31mDocstring:\u001b[0m\n",
       "print(value, ..., sep=' ', end='\\n', file=sys.stdout, flush=False)\n",
       "\n",
       "Prints the values to a stream, or to sys.stdout by default.\n",
       "Optional keyword arguments:\n",
       "file:  a file-like object (stream); defaults to the current sys.stdout.\n",
       "sep:   string inserted between values, default a space.\n",
       "end:   string appended after the last value, default a newline.\n",
       "flush: whether to forcibly flush the stream.\n",
       "\u001b[1;31mType:\u001b[0m      builtin_function_or_method\n"
      ]
     },
     "metadata": {},
     "output_type": "display_data"
    }
   ],
   "source": [
    "# We can observe this by reading the docstring for the print function\n",
    "# In this case the positional parameter is the value, which must always be supplied, and one of the key parameters is end=\n",
    "\n",
    "print?"
   ]
  },
  {
   "cell_type": "code",
   "execution_count": 18,
   "metadata": {
    "Collapsed": "false"
   },
   "outputs": [
    {
     "name": "stdout",
     "output_type": "stream",
     "text": [
      "1+2+3\n"
     ]
    }
   ],
   "source": [
    "# This works, but ..\n",
    "print(1,2,3,sep='+')"
   ]
  },
  {
   "cell_type": "code",
   "execution_count": 15,
   "metadata": {
    "Collapsed": "false"
   },
   "outputs": [
    {
     "ename": "SyntaxError",
     "evalue": "positional argument follows keyword argument (<ipython-input-15-1150e78ecc09>, line 1)",
     "output_type": "error",
     "traceback": [
      "\u001b[1;36m  File \u001b[1;32m\"<ipython-input-15-1150e78ecc09>\"\u001b[1;36m, line \u001b[1;32m1\u001b[0m\n\u001b[1;33m    print(sep='+',1,2,3)\u001b[0m\n\u001b[1;37m                 ^\u001b[0m\n\u001b[1;31mSyntaxError\u001b[0m\u001b[1;31m:\u001b[0m positional argument follows keyword argument\n"
     ]
    }
   ],
   "source": [
    "# This doesn't.\n",
    "# Positional arguments must come before key arguments\n",
    "print(sep='+',1,2,3)"
   ]
  },
  {
   "cell_type": "code",
   "execution_count": 21,
   "metadata": {
    "Collapsed": "false"
   },
   "outputs": [
    {
     "name": "stdout",
     "output_type": "stream",
     "text": [
      "11\n",
      "13\n"
     ]
    }
   ],
   "source": [
    "# Instead of conducting an operation, we can also use return to retrieve a value and to end the function.\n",
    "# Ending the function works similar to break for loops\n",
    "def my_sum(a,b,c=3,d=5):\n",
    "    return a+b+c+d    \n",
    "    print(\"this is not printing due to return\")\n",
    "\n",
    "# Key arguments are optional and do not need to be supplied\n",
    "print(my_sum(1,2))\n",
    "\n",
    "# Key arguments can be called in different orders\n",
    "print(my_sum(1,2,d=5,c=5))"
   ]
  },
  {
   "cell_type": "markdown",
   "metadata": {},
   "source": [
    "##### Args and Kwargs\n",
    "* `*args` and `*kwargs` provides the flexibility for users to input as many arguments as they want"
   ]
  },
  {
   "cell_type": "markdown",
   "metadata": {},
   "source": [
    "##### args\n",
    "* the `*` groups all the remaining arguments into a tuple"
   ]
  },
  {
   "cell_type": "code",
   "execution_count": 151,
   "metadata": {},
   "outputs": [],
   "source": [
    "def concatenate(*strings):\n",
    "    result = ''\n",
    "    print(strings)\n",
    "    for i in strings:\n",
    "        result += i\n",
    "    return result"
   ]
  },
  {
   "cell_type": "code",
   "execution_count": 152,
   "metadata": {},
   "outputs": [
    {
     "name": "stdout",
     "output_type": "stream",
     "text": [
      "('tim', 'wong', 'is', 'cool')\n"
     ]
    },
    {
     "data": {
      "text/plain": [
       "'timwongiscool'"
      ]
     },
     "execution_count": 152,
     "metadata": {},
     "output_type": "execute_result"
    }
   ],
   "source": [
    "concatenate('tim','wong','is','cool')"
   ]
  },
  {
   "cell_type": "markdown",
   "metadata": {},
   "source": [
    "##### kwargs\n",
    "* stands for key word arguments\n",
    "* the `**` groups key word arguments into a dictionary"
   ]
  },
  {
   "cell_type": "code",
   "execution_count": 153,
   "metadata": {},
   "outputs": [],
   "source": [
    "def bar(**dict):\n",
    "    print(dict)\n",
    "    for k,v in dict.items():\n",
    "        print(f'{k}:{v}')"
   ]
  },
  {
   "cell_type": "code",
   "execution_count": 155,
   "metadata": {},
   "outputs": [
    {
     "name": "stdout",
     "output_type": "stream",
     "text": [
      "{'key1': 'tim', 'key2': 'karl'}\n",
      "key1:tim\n",
      "key2:karl\n"
     ]
    }
   ],
   "source": [
    "bar(key1='tim',key2='karl')"
   ]
  },
  {
   "cell_type": "markdown",
   "metadata": {},
   "source": [
    "##### The order of arguments are always\n",
    "* positional arguments\n",
    "* `*args`\n",
    "* key arguments\n",
    "* `*kwargs`"
   ]
  },
  {
   "cell_type": "code",
   "execution_count": 141,
   "metadata": {},
   "outputs": [],
   "source": [
    "def foo(required,*args,required_kw=3,**kwargs):\n",
    "    print(required)\n",
    "    if args:\n",
    "        print(args)\n",
    "    print(required_kw)\n",
    "    if kwargs:\n",
    "        print(kwargs)"
   ]
  },
  {
   "cell_type": "code",
   "execution_count": 144,
   "metadata": {},
   "outputs": [
    {
     "name": "stdout",
     "output_type": "stream",
     "text": [
      "hello\n",
      "('tim', 'wong')\n",
      "4\n",
      "{'a': 3, 'b': 6}\n"
     ]
    }
   ],
   "source": [
    "foo('hello','tim','wong',required_kw=4,a=3,b=6)"
   ]
  },
  {
   "cell_type": "markdown",
   "metadata": {
    "Collapsed": "false"
   },
   "source": [
    "## Variable Scope\n",
    "* Python follows `LEGB`, where it will check for the variable in the order from left to right:\n",
    "* Local scope: a variable defined in the current function\n",
    "* Enclosing scope: a variable defined in an enclosing function\n",
    "* Global scope: a variable defined outside of a function\n",
    "* Built-in scope: a built-in variable, which could be overwritten by a global variable"
   ]
  },
  {
   "cell_type": "markdown",
   "metadata": {
    "Collapsed": "false"
   },
   "source": [
    "##### Local Scope\n",
    "* Local variables can only be accessed from inside the function"
   ]
  },
  {
   "cell_type": "code",
   "execution_count": 3,
   "metadata": {
    "Collapsed": "false"
   },
   "outputs": [
    {
     "ename": "NameError",
     "evalue": "name 'y' is not defined",
     "output_type": "error",
     "traceback": [
      "\u001b[1;31m---------------------------------------------------------------------------\u001b[0m",
      "\u001b[1;31mNameError\u001b[0m                                 Traceback (most recent call last)",
      "\u001b[1;32m<ipython-input-3-5435207d9924>\u001b[0m in \u001b[0;36m<module>\u001b[1;34m\u001b[0m\n\u001b[0;32m      4\u001b[0m     \u001b[0my\u001b[0m \u001b[1;33m=\u001b[0m \u001b[1;34m'local y'\u001b[0m\u001b[1;33m\u001b[0m\u001b[1;33m\u001b[0m\u001b[0m\n\u001b[0;32m      5\u001b[0m \u001b[1;33m\u001b[0m\u001b[0m\n\u001b[1;32m----> 6\u001b[1;33m \u001b[0mprint\u001b[0m\u001b[1;33m(\u001b[0m\u001b[0my\u001b[0m\u001b[1;33m)\u001b[0m\u001b[1;33m\u001b[0m\u001b[1;33m\u001b[0m\u001b[0m\n\u001b[0m",
      "\u001b[1;31mNameError\u001b[0m: name 'y' is not defined"
     ]
    }
   ],
   "source": [
    "# We cannot access y from outside the function test()\n",
    "# Additionally, we cannot find the variable y in the enclosing, global or built-in scope\n",
    "def test():\n",
    "    y = 'local y'\n",
    "\n",
    "print(y)"
   ]
  },
  {
   "cell_type": "code",
   "execution_count": 4,
   "metadata": {
    "Collapsed": "false"
   },
   "outputs": [
    {
     "name": "stdout",
     "output_type": "stream",
     "text": [
      "local y\n"
     ]
    }
   ],
   "source": [
    "# If we access y from inside the function, we find it in the local scope\n",
    "def test():\n",
    "    y = 'local y'\n",
    "    print(y)\n",
    "\n",
    "test()"
   ]
  },
  {
   "cell_type": "markdown",
   "metadata": {
    "Collapsed": "false"
   },
   "source": [
    "##### Global vs Local Scope"
   ]
  },
  {
   "cell_type": "code",
   "execution_count": 6,
   "metadata": {
    "Collapsed": "false"
   },
   "outputs": [
    {
     "name": "stdout",
     "output_type": "stream",
     "text": [
      "local x\n",
      "global x\n"
     ]
    }
   ],
   "source": [
    "# When we print x from inside the test function, it finds the local x\n",
    "# When we print x from outside the test function, it cannot find a local x, so it prints out the global x\n",
    "x = 'global x'\n",
    "\n",
    "def test():\n",
    "    x = 'local x'\n",
    "    print(x)\n",
    "\n",
    "test()\n",
    "print(x)"
   ]
  },
  {
   "cell_type": "markdown",
   "metadata": {
    "Collapsed": "false"
   },
   "source": [
    "##### Enclosing Scope"
   ]
  },
  {
   "cell_type": "code",
   "execution_count": 8,
   "metadata": {
    "Collapsed": "false"
   },
   "outputs": [
    {
     "name": "stdout",
     "output_type": "stream",
     "text": [
      "outer x\n",
      "outer x\n",
      "global x\n"
     ]
    }
   ],
   "source": [
    "# When we print x from inside the inner function, it cannot find a local x, so it prints out the enclosing x (outer x)\n",
    "# When we print x from inside the outer function, it finds the local x (outer x)\n",
    "# When we print x from outside the functions, it cannot find a local x, so it prints out the global x\n",
    "x = 'global x'\n",
    "\n",
    "def outer():\n",
    "    x = 'outer x'\n",
    "    \n",
    "    def inner():\n",
    "        print(x)\n",
    "    \n",
    "    inner()\n",
    "    print(x)\n",
    "\n",
    "outer()\n",
    "print(x)"
   ]
  },
  {
   "cell_type": "markdown",
   "metadata": {
    "Collapsed": "false"
   },
   "source": [
    "##### Built-in Scope"
   ]
  },
  {
   "cell_type": "code",
   "execution_count": 1,
   "metadata": {
    "Collapsed": "false"
   },
   "outputs": [
    {
     "name": "stdout",
     "output_type": "stream",
     "text": [
      "1\n",
      "global scope\n"
     ]
    }
   ],
   "source": [
    "# When we call min, we can only find it in the built-in scope\n",
    "# However, when we overwrite it with our own function, it is added to the global scope\n",
    "# This means when we try calling min again, it instead uses the one in our global scope, instead of the built-in scope\n",
    "print(min([1,2,3,4]))\n",
    "\n",
    "def min(foo):\n",
    "    return 'global scope'\n",
    "\n",
    "print(min([1,2,3,4]))"
   ]
  },
  {
   "cell_type": "markdown",
   "metadata": {
    "Collapsed": "false"
   },
   "source": [
    "## Modules, Packages and Libraries\n",
    "\n",
    "* When we want to use functions across multiple projects, we use modules\n",
    "* Modules are functions saved in .py files that can be imported in\n",
    "* Packages are .py files that store a collection of modules, for example the pprint package stores the pprint module\n",
    "* A library is a collection of packages"
   ]
  },
  {
   "cell_type": "markdown",
   "metadata": {},
   "source": [
    "##### Importing a Package\n",
    "* There is two main ways of importing a package\n",
    "* There is a third method, but it is generally frowned upon"
   ]
  },
  {
   "cell_type": "code",
   "execution_count": 1,
   "metadata": {
    "Collapsed": "false"
   },
   "outputs": [
    {
     "name": "stdout",
     "output_type": "stream",
     "text": [
      "{1: {'age': 24, 'gender': 'male', 'name': 'tim'},\n",
      " 2: {'age': 27, 'gender': 'female', 'name': 'ashley'}}\n",
      "\n",
      "['PrettyPrinter', '_StringIO', '__all__', '__builtins__', '__cached__', '__doc__', '__file__', '__loader__', '__name__', '__package__', '__spec__', '_builtin_scalars', '_collections', '_perfcheck', '_recursion', '_safe_key', '_safe_repr', '_safe_tuple', '_sys', '_types', '_wrap_bytes_repr', 'isreadable', 'isrecursive', 'pformat', 'pprint', 're', 'saferepr']\n",
      "\n",
      "{1: {'age': 24, 'gender': 'male', 'name': 'tim'},\n",
      " 2: {'age': 27, 'gender': 'female', 'name': 'ashley'}}\n"
     ]
    }
   ],
   "source": [
    "# Importing the whole package, using import package\n",
    "import pprint\n",
    "pprint.pprint({1:{'name':'tim','age':24,'gender':\"male\"},2:{'name':'ashley','age':27,'gender':\"female\"}})\n",
    "print('')\n",
    "\n",
    "# If we check the directory of the pprint package, we can see the pprint module\n",
    "print(dir(pprint))\n",
    "print('')\n",
    "\n",
    "# Importing just the module, using from package import module\n",
    "from pprint import pprint\n",
    "pprint({1:{'name':'tim','age':24,'gender':\"male\"},2:{'name':'ashley','age':27,'gender':\"female\"}})"
   ]
  },
  {
   "cell_type": "code",
   "execution_count": 1,
   "metadata": {
    "Collapsed": "false"
   },
   "outputs": [
    {
     "name": "stdout",
     "output_type": "stream",
     "text": [
      "['In', 'Out', '_', '__', '___', '__builtin__', '__builtins__', '__doc__', '__loader__', '__name__', '__package__', '__spec__', '_dh', '_i', '_i1', '_ih', '_ii', '_iii', '_oh', 'exit', 'get_ipython', 'quit']\n",
      "\n",
      "['In', 'Out', '_', '__', '___', '__builtin__', '__builtins__', '__doc__', '__loader__', '__name__', '__package__', '__spec__', '_dh', '_i', '_i1', '_ih', '_ii', '_iii', '_oh', 'calibration', 'clone', 'cluster', 'compose', 'config_context', 'covariance', 'cross_decomposition', 'datasets', 'decomposition', 'discriminant_analysis', 'dummy', 'ensemble', 'exceptions', 'exit', 'experimental', 'externals', 'feature_extraction', 'feature_selection', 'gaussian_process', 'get_config', 'get_ipython', 'impute', 'inspection', 'isotonic', 'kernel_approximation', 'kernel_ridge', 'linear_model', 'manifold', 'metrics', 'mixture', 'model_selection', 'multiclass', 'multioutput', 'naive_bayes', 'neighbors', 'neural_network', 'pipeline', 'preprocessing', 'quit', 'random_projection', 'semi_supervised', 'set_config', 'show_versions', 'svm', 'tree']\n"
     ]
    }
   ],
   "source": [
    "# There is a third method that should never be used\n",
    "# Comparing our initial global namespace with ..\n",
    "print(dir())\n",
    "print()\n",
    "\n",
    "# Importing all the modules of a package is frowned upon\n",
    "# It reduces readability\n",
    "# It heavily pollutes the namespace, and may conflict with user definied functions or classes\n",
    "from sklearn import *\n",
    "print(dir())"
   ]
  },
  {
   "cell_type": "markdown",
   "metadata": {},
   "source": [
    "##### Exploring the contents of a Package/Module\n",
    "* We can explore a package by first importing it, then calling the `dir(package)` on it\n",
    "* We can then explore deeper by calling `dir(module)` on one of its moduels"
   ]
  },
  {
   "cell_type": "code",
   "execution_count": 12,
   "metadata": {
    "Collapsed": "false"
   },
   "outputs": [
    {
     "name": "stdout",
     "output_type": "stream",
     "text": [
      "['PrettyPrinter', '_StringIO', '__all__', '__builtins__', '__cached__', '__doc__', '__file__', '__loader__', '__name__', '__package__', '__spec__', '_builtin_scalars', '_collections', '_perfcheck', '_recursion', '_safe_key', '_safe_repr', '_safe_tuple', '_sys', '_types', '_wrap_bytes_repr', 'isreadable', 'isrecursive', 'pformat', 'pprint', 're', 'saferepr']\n"
     ]
    }
   ],
   "source": [
    "# By exploring the contents of a package, we can find out its methods, i.e. randint and seed\n",
    "import pprint\n",
    "print(dir(pprint))"
   ]
  },
  {
   "cell_type": "code",
   "execution_count": 13,
   "metadata": {},
   "outputs": [
    {
     "name": "stdout",
     "output_type": "stream",
     "text": [
      "['__annotations__', '__call__', '__class__', '__closure__', '__code__', '__defaults__', '__delattr__', '__dict__', '__dir__', '__doc__', '__eq__', '__format__', '__ge__', '__get__', '__getattribute__', '__globals__', '__gt__', '__hash__', '__init__', '__init_subclass__', '__kwdefaults__', '__le__', '__lt__', '__module__', '__name__', '__ne__', '__new__', '__qualname__', '__reduce__', '__reduce_ex__', '__repr__', '__setattr__', '__sizeof__', '__str__', '__subclasshook__']\n"
     ]
    }
   ],
   "source": [
    "print(dir(pprint.pprint))"
   ]
  },
  {
   "cell_type": "markdown",
   "metadata": {},
   "source": [
    "##### Locating a Package/Library\n",
    "* We can locate a package/library by printing out the `.__file__` attribute"
   ]
  },
  {
   "cell_type": "code",
   "execution_count": 14,
   "metadata": {},
   "outputs": [
    {
     "name": "stdout",
     "output_type": "stream",
     "text": [
      "C:\\Users\\draciel\\Anaconda3\\lib\\pprint.py\n"
     ]
    }
   ],
   "source": [
    "import pprint\n",
    "print(pprint.__file__)"
   ]
  },
  {
   "cell_type": "markdown",
   "metadata": {
    "Collapsed": "false"
   },
   "source": [
    "## Writing and importing our own Modules\n",
    "* We can further demonstrate this idea of package and library by writing our own, and calling them in our Jupyter Lab"
   ]
  },
  {
   "cell_type": "markdown",
   "metadata": {},
   "source": [
    "##### Writing our own Module\n",
    "* Normally modules are written using an IDE, such as pycharm or visual studio code\n",
    "* However, to demonstrate we will write it using a magic function"
   ]
  },
  {
   "cell_type": "code",
   "execution_count": 9,
   "metadata": {
    "Collapsed": "false"
   },
   "outputs": [
    {
     "name": "stdout",
     "output_type": "stream",
     "text": [
      "Overwriting Scripts\\math_operations.py\n"
     ]
    }
   ],
   "source": [
    "%%writefile \"Scripts\\math_operations.py\"\n",
    "# First create a package to stall our modules\n",
    "# This magic command will write our code into the file math_operations.py in the working directory, if there is any existing code it will be overwritten\n",
    "'''Contains modules for '''\n",
    "\n",
    "def add_two_numbers(a,b):\n",
    "    '''adds two numbers together'''\n",
    "    return(a+b)\n",
    "\n",
    "def subtract_two_numbers(a,b):\n",
    "    '''subtracts the second number from the first number'''\n",
    "    return(a-b)"
   ]
  },
  {
   "cell_type": "markdown",
   "metadata": {},
   "source": [
    "##### Importing our own Module\n",
    "* To import a module, it needs to be on the `sys.path`\n",
    "* Python checks the `sys.path` for any packages or libraries to import \n",
    "* by default the current working directory is included in `sys.path` and other python folders\n",
    "* `sys.path` is based on the environmental variable PYTHONPATH. If you want to permanently access the package/library, you can add it to your PYTHONPATH \n",
    "* Alternatively, we can temporarily edit our sys.path to import our module"
   ]
  },
  {
   "cell_type": "code",
   "execution_count": 1,
   "metadata": {},
   "outputs": [
    {
     "name": "stdout",
     "output_type": "stream",
     "text": [
      "['C:\\\\Users\\\\draciel\\\\Dropbox\\\\General_Assembly\\\\Github\\\\Notes', 'C:\\\\Users\\\\draciel\\\\Anaconda3\\\\python37.zip', 'C:\\\\Users\\\\draciel\\\\Anaconda3\\\\DLLs', 'C:\\\\Users\\\\draciel\\\\Anaconda3\\\\lib', 'C:\\\\Users\\\\draciel\\\\Anaconda3', '', 'C:\\\\Users\\\\draciel\\\\Anaconda3\\\\lib\\\\site-packages', 'c:\\\\program files\\\\git\\\\src\\\\facebook-sdk', 'C:\\\\Users\\\\draciel\\\\Anaconda3\\\\lib\\\\site-packages\\\\win32', 'C:\\\\Users\\\\draciel\\\\Anaconda3\\\\lib\\\\site-packages\\\\win32\\\\lib', 'C:\\\\Users\\\\draciel\\\\Anaconda3\\\\lib\\\\site-packages\\\\Pythonwin', 'C:\\\\Users\\\\draciel\\\\Anaconda3\\\\lib\\\\site-packages\\\\IPython\\\\extensions', 'C:\\\\Users\\\\draciel\\\\.ipython']\n"
     ]
    },
    {
     "ename": "ModuleNotFoundError",
     "evalue": "No module named 'math_operations'",
     "output_type": "error",
     "traceback": [
      "\u001b[1;31m---------------------------------------------------------------------------\u001b[0m",
      "\u001b[1;31mModuleNotFoundError\u001b[0m                       Traceback (most recent call last)",
      "\u001b[1;32m<ipython-input-1-b91f31f9e4fe>\u001b[0m in \u001b[0;36m<module>\u001b[1;34m\u001b[0m\n\u001b[0;32m      5\u001b[0m \u001b[1;31m# Python checks the sys.path for any packages or libraries to import\u001b[0m\u001b[1;33m\u001b[0m\u001b[1;33m\u001b[0m\u001b[1;33m\u001b[0m\u001b[0m\n\u001b[0;32m      6\u001b[0m \u001b[1;31m# sys.path is based on the envionmental variable PYTHONPATH. If you want to permanently access the package/library, you can add it to your PYTHONPATH\u001b[0m\u001b[1;33m\u001b[0m\u001b[1;33m\u001b[0m\u001b[1;33m\u001b[0m\u001b[0m\n\u001b[1;32m----> 7\u001b[1;33m \u001b[1;32mimport\u001b[0m \u001b[0mmath_operations\u001b[0m\u001b[1;33m\u001b[0m\u001b[1;33m\u001b[0m\u001b[0m\n\u001b[0m",
      "\u001b[1;31mModuleNotFoundError\u001b[0m: No module named 'math_operations'"
     ]
    }
   ],
   "source": [
    "import sys\n",
    "print(sys.path)\n",
    "\n",
    "# We cannot import this module, because it not in our sys.path\n",
    "import math_operations as mo"
   ]
  },
  {
   "cell_type": "code",
   "execution_count": 8,
   "metadata": {},
   "outputs": [
    {
     "name": "stdout",
     "output_type": "stream",
     "text": [
      "['.\\\\Scripts', '.\\\\Scripts', 'C:\\\\Users\\\\draciel\\\\Dropbox\\\\General_Assembly\\\\Github\\\\Notes', 'C:\\\\Users\\\\draciel\\\\Anaconda3\\\\python37.zip', 'C:\\\\Users\\\\draciel\\\\Anaconda3\\\\DLLs', 'C:\\\\Users\\\\draciel\\\\Anaconda3\\\\lib', 'C:\\\\Users\\\\draciel\\\\Anaconda3', '', 'C:\\\\Users\\\\draciel\\\\Anaconda3\\\\lib\\\\site-packages', 'c:\\\\program files\\\\git\\\\src\\\\facebook-sdk', 'C:\\\\Users\\\\draciel\\\\Anaconda3\\\\lib\\\\site-packages\\\\win32', 'C:\\\\Users\\\\draciel\\\\Anaconda3\\\\lib\\\\site-packages\\\\win32\\\\lib', 'C:\\\\Users\\\\draciel\\\\Anaconda3\\\\lib\\\\site-packages\\\\Pythonwin', 'C:\\\\Users\\\\draciel\\\\Anaconda3\\\\lib\\\\site-packages\\\\IPython\\\\extensions', 'C:\\\\Users\\\\draciel\\\\.ipython']\n"
     ]
    }
   ],
   "source": [
    "# Alternatively, we can temporarily add it to our sys.path\n",
    "sys.path.insert(0,\".\\Scripts\")\n",
    "print(sys.path)\n",
    "\n",
    "# And now it imports without error\n",
    "import math_operations as mo"
   ]
  },
  {
   "cell_type": "code",
   "execution_count": 3,
   "metadata": {
    "Collapsed": "false"
   },
   "outputs": [
    {
     "name": "stdout",
     "output_type": "stream",
     "text": [
      "Help on module math_operations:\n",
      "\n",
      "NAME\n",
      "    math_operations - Contains modules for\n",
      "\n",
      "FUNCTIONS\n",
      "    add_two_numbers(a, b)\n",
      "        adds two numbers together\n",
      "    \n",
      "    subtract_two_numbers(a, b)\n",
      "        subtracts the second number from the first number\n",
      "\n",
      "FILE\n",
      "    c:\\users\\draciel\\dropbox\\general_assembly\\github\\notes\\scripts\\math_operations.py\n",
      "\n",
      "\n",
      "['__builtins__', '__cached__', '__doc__', '__file__', '__loader__', '__name__', '__package__', '__spec__', 'add_two_numbers', 'subtract_two_numbers']\n"
     ]
    }
   ],
   "source": [
    "# We can check the help\n",
    "help(math_operations)\n",
    "\n",
    "# We can now see the two imported functions, add_two_numbers and subtract_two_numbers, in our namespace\n",
    "print(dir(math_operations))"
   ]
  },
  {
   "cell_type": "code",
   "execution_count": 10,
   "metadata": {},
   "outputs": [
    {
     "name": "stdout",
     "output_type": "stream",
     "text": [
      "4\n",
      "-2\n"
     ]
    }
   ],
   "source": [
    "# You can see now we have successfully imported the package, which allows us to use its functions\n",
    "print(mo.add_two_numbers(1,3))\n",
    "print(mo.subtract_two_numbers(1,3))"
   ]
  },
  {
   "cell_type": "markdown",
   "metadata": {
    "Collapsed": "false"
   },
   "source": [
    "## Lambda Expressions\n",
    "* Lambda Expressions are anonymous functions, or functions without a name\n",
    "* They are used once and thrown away\n",
    "* They are useful in conjunction with lots of other methods, especially ones for sorting and filtering"
   ]
  },
  {
   "cell_type": "code",
   "execution_count": 19,
   "metadata": {
    "Collapsed": "false"
   },
   "outputs": [
    {
     "name": "stdout",
     "output_type": "stream",
     "text": [
      "7\n"
     ]
    },
    {
     "data": {
      "text/plain": [
       "7"
      ]
     },
     "execution_count": 19,
     "metadata": {},
     "output_type": "execute_result"
    }
   ],
   "source": [
    "# This function can be rewritten as a lambda expression\n",
    "# The format is lambda input: output\n",
    "def f(x):\n",
    "    return 3*x + 1\n",
    "print(f(2))\n",
    "\n",
    "(lambda x: 3*x + 1)(2)"
   ]
  },
  {
   "cell_type": "code",
   "execution_count": 20,
   "metadata": {
    "Collapsed": "false"
   },
   "outputs": [
    {
     "data": {
      "text/plain": [
       "['Douglas Adams',\n",
       " 'Isaac Asimov',\n",
       " 'Leigh Brackett',\n",
       " 'Ray Bradbury',\n",
       " 'Orson Scott Card',\n",
       " 'Arthus C. Clarke',\n",
       " 'Robert Heinlein',\n",
       " 'Frank Herbert',\n",
       " 'H. G. Wells']"
      ]
     },
     "execution_count": 20,
     "metadata": {},
     "output_type": "execute_result"
    }
   ],
   "source": [
    "scifi_authors = [\"Isaac Asimov\",\"Ray Bradbury\",\"Robert Heinlein\",\"Arthus C. Clarke\"\n",
    "                , \"Frank Herbert\", \"Orson Scott Card\", \"Douglas Adams\",\n",
    "                \"H. G. Wells\", \"Leigh Brackett\"]\n",
    "\n",
    "scifi_authors.sort(key = lambda name: name.split(\" \")[-1].title())\n",
    "scifi_authors"
   ]
  },
  {
   "cell_type": "markdown",
   "metadata": {
    "Collapsed": "false"
   },
   "source": [
    "## Basic Error Handling\n",
    "* It is important to know the most common exceptions and how to address them:\n",
    "* `SyntaxError`: the syntax is incorrect\n",
    "* `NameError`: the variable doesn't exist\n",
    "* `TypeError`: the variable is the wrong type\n",
    "* `ValueError` the variable is the right type, but an inappropriate value. i.e. supplying a negative number to a function that only accepts positive numbers\n",
    "* Other built-in exceptions can be found here: https://docs.python.org/3/library/exceptions.html"
   ]
  },
  {
   "cell_type": "markdown",
   "metadata": {},
   "source": [
    "##### Try & Except Blocks\n",
    "* We can tell the program to try something, and if an error occurs to do something else\n",
    "* After an error occurs, it will immediately jump to the except section\n",
    "* If no error occurs it will jump to the else section\n",
    "* Regardless of any outcome, it will always run the finally section"
   ]
  },
  {
   "cell_type": "code",
   "execution_count": 50,
   "metadata": {
    "Collapsed": "false"
   },
   "outputs": [
    {
     "name": "stdout",
     "output_type": "stream",
     "text": [
      "I will print if the str can be converted into a float. The float is 2.1. I will print when there is no error. I will always print.\n",
      "I will print if the str can be converted into a float. The float is 2.3. I will print when there is no error. I will always print.\n",
      "I will always print.\n",
      "I will always print.\n",
      "I will print if the str can be converted into a float. The float is 8.9. I will print when there is no error. I will always print.\n",
      "I will always print.\n",
      "I will print if the str can be converted into a float. The float is 33.1. I will print when there is no error. I will always print.\n",
      "[2.1, 2.3, None, None, 8.9, None, 33.1]\n"
     ]
    }
   ],
   "source": [
    "# Notice how the element isn't printed when the string cannot be converted into an int\n",
    "str_to_float = ['2.1', '2.3', '7,5', '$12.12', '8.9', '5%', '33.1']\n",
    "floats = []\n",
    "for i in str_to_float:\n",
    "    try:\n",
    "        floats.append(float(i))\n",
    "        print(f'I will print if the str can be converted into a float. The float is {i}.',end=' ')\n",
    "    except:\n",
    "        floats.append(None)\n",
    "    else:\n",
    "        print('I will print when there is no error.',end = ' ')\n",
    "    finally:\n",
    "        print('I will always print.')\n",
    "print(floats)"
   ]
  },
  {
   "cell_type": "markdown",
   "metadata": {},
   "source": [
    "##### Handling Errors\n",
    "* We can also tell the program to run a block of code if a type of error is received"
   ]
  },
  {
   "cell_type": "code",
   "execution_count": 62,
   "metadata": {},
   "outputs": [
    {
     "name": "stdout",
     "output_type": "stream",
     "text": [
      "Print this if its a ValueError\n"
     ]
    }
   ],
   "source": [
    "try:\n",
    "    int('my_string')\n",
    "except ValueError:\n",
    "    print('Print this if its a ValueError')"
   ]
  },
  {
   "cell_type": "markdown",
   "metadata": {},
   "source": [
    "##### Raising Errors\n",
    "* We can also tell the program to raise errors when they normally don't happen"
   ]
  },
  {
   "cell_type": "code",
   "execution_count": 52,
   "metadata": {
    "Collapsed": "false"
   },
   "outputs": [
    {
     "name": "stdout",
     "output_type": "stream",
     "text": [
      "4\n"
     ]
    },
    {
     "ename": "ValueError",
     "evalue": "Positive numbers only",
     "output_type": "error",
     "traceback": [
      "\u001b[1;31m---------------------------------------------------------------------------\u001b[0m",
      "\u001b[1;31mValueError\u001b[0m                                Traceback (most recent call last)",
      "\u001b[1;32m<ipython-input-52-c2b523859949>\u001b[0m in \u001b[0;36m<module>\u001b[1;34m\u001b[0m\n\u001b[0;32m      5\u001b[0m         \u001b[1;32mreturn\u001b[0m \u001b[0ma\u001b[0m \u001b[1;33m+\u001b[0m \u001b[0mb\u001b[0m\u001b[1;33m\u001b[0m\u001b[1;33m\u001b[0m\u001b[0m\n\u001b[0;32m      6\u001b[0m \u001b[0mprint\u001b[0m\u001b[1;33m(\u001b[0m\u001b[0mpositives_only\u001b[0m\u001b[1;33m(\u001b[0m\u001b[1;36m1\u001b[0m\u001b[1;33m,\u001b[0m\u001b[1;36m3\u001b[0m\u001b[1;33m)\u001b[0m\u001b[1;33m)\u001b[0m\u001b[1;33m\u001b[0m\u001b[1;33m\u001b[0m\u001b[0m\n\u001b[1;32m----> 7\u001b[1;33m \u001b[0mprint\u001b[0m\u001b[1;33m(\u001b[0m\u001b[0mpositives_only\u001b[0m\u001b[1;33m(\u001b[0m\u001b[1;36m1\u001b[0m\u001b[1;33m,\u001b[0m\u001b[1;33m-\u001b[0m\u001b[1;36m3\u001b[0m\u001b[1;33m)\u001b[0m\u001b[1;33m)\u001b[0m\u001b[1;33m\u001b[0m\u001b[1;33m\u001b[0m\u001b[0m\n\u001b[0m",
      "\u001b[1;32m<ipython-input-52-c2b523859949>\u001b[0m in \u001b[0;36mpositives_only\u001b[1;34m(a, b)\u001b[0m\n\u001b[0;32m      1\u001b[0m \u001b[1;32mdef\u001b[0m \u001b[0mpositives_only\u001b[0m\u001b[1;33m(\u001b[0m\u001b[0ma\u001b[0m\u001b[1;33m,\u001b[0m\u001b[0mb\u001b[0m\u001b[1;33m)\u001b[0m\u001b[1;33m:\u001b[0m\u001b[1;33m\u001b[0m\u001b[1;33m\u001b[0m\u001b[0m\n\u001b[0;32m      2\u001b[0m     \u001b[1;32mif\u001b[0m \u001b[0ma\u001b[0m \u001b[1;33m<\u001b[0m \u001b[1;36m0\u001b[0m \u001b[1;32mor\u001b[0m \u001b[0mb\u001b[0m \u001b[1;33m<\u001b[0m \u001b[1;36m0\u001b[0m\u001b[1;33m:\u001b[0m\u001b[1;33m\u001b[0m\u001b[1;33m\u001b[0m\u001b[0m\n\u001b[1;32m----> 3\u001b[1;33m         \u001b[1;32mraise\u001b[0m \u001b[0mValueError\u001b[0m\u001b[1;33m(\u001b[0m\u001b[1;34m'Positive numbers only'\u001b[0m\u001b[1;33m)\u001b[0m\u001b[1;33m\u001b[0m\u001b[1;33m\u001b[0m\u001b[0m\n\u001b[0m\u001b[0;32m      4\u001b[0m     \u001b[1;32melse\u001b[0m\u001b[1;33m:\u001b[0m\u001b[1;33m\u001b[0m\u001b[1;33m\u001b[0m\u001b[0m\n\u001b[0;32m      5\u001b[0m         \u001b[1;32mreturn\u001b[0m \u001b[0ma\u001b[0m \u001b[1;33m+\u001b[0m \u001b[0mb\u001b[0m\u001b[1;33m\u001b[0m\u001b[1;33m\u001b[0m\u001b[0m\n",
      "\u001b[1;31mValueError\u001b[0m: Positive numbers only"
     ]
    }
   ],
   "source": [
    "def positives_only(a,b):\n",
    "    if a < 0 or b < 0:\n",
    "        raise ValueError('Positive numbers only')\n",
    "    else:\n",
    "        return a + b\n",
    "print(positives_only(1,3))\n",
    "print(positives_only(1,-3))"
   ]
  },
  {
   "cell_type": "markdown",
   "metadata": {},
   "source": [
    "##### Assertions\n",
    "* Assertions can be used to check if a variable is a certain value or type\n",
    "* If the statement is false, it will raise an AssertionError"
   ]
  },
  {
   "cell_type": "code",
   "execution_count": 60,
   "metadata": {},
   "outputs": [],
   "source": [
    "my_string = 'tim'\n",
    "assert type(my_string) == str"
   ]
  },
  {
   "cell_type": "code",
   "execution_count": 59,
   "metadata": {},
   "outputs": [
    {
     "ename": "AssertionError",
     "evalue": "",
     "output_type": "error",
     "traceback": [
      "\u001b[1;31m---------------------------------------------------------------------------\u001b[0m",
      "\u001b[1;31mAssertionError\u001b[0m                            Traceback (most recent call last)",
      "\u001b[1;32m<ipython-input-59-5376b26893fe>\u001b[0m in \u001b[0;36m<module>\u001b[1;34m\u001b[0m\n\u001b[0;32m      1\u001b[0m \u001b[0mmy_string2\u001b[0m \u001b[1;33m=\u001b[0m \u001b[1;36m3\u001b[0m\u001b[1;33m\u001b[0m\u001b[1;33m\u001b[0m\u001b[0m\n\u001b[1;32m----> 2\u001b[1;33m \u001b[1;32massert\u001b[0m \u001b[0mtype\u001b[0m\u001b[1;33m(\u001b[0m\u001b[0mmy_string2\u001b[0m\u001b[1;33m)\u001b[0m \u001b[1;33m==\u001b[0m \u001b[0mstr\u001b[0m\u001b[1;33m\u001b[0m\u001b[1;33m\u001b[0m\u001b[0m\n\u001b[0m",
      "\u001b[1;31mAssertionError\u001b[0m: "
     ]
    }
   ],
   "source": [
    "my_string2 = 3\n",
    "assert type(my_string2) == str"
   ]
  }
 ],
 "metadata": {
  "kernelspec": {
   "display_name": "Python 3",
   "language": "python",
   "name": "python3"
  },
  "language_info": {
   "codemirror_mode": {
    "name": "ipython",
    "version": 3
   },
   "file_extension": ".py",
   "mimetype": "text/x-python",
   "name": "python",
   "nbconvert_exporter": "python",
   "pygments_lexer": "ipython3",
   "version": "3.7.3"
  },
  "toc-showmarkdowntxt": false
 },
 "nbformat": 4,
 "nbformat_minor": 4
}
