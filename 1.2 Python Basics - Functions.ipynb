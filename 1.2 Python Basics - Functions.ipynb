{
 "cells": [
  {
   "cell_type": "markdown",
   "metadata": {
    "Collapsed": "false"
   },
   "source": [
    "<img src=\"https://www.python.org/static/community_logos/python-powered-w-200x80.png\" style=\"float: left; margin: 20px; height: 55px\">\n",
    "\n",
    "# Python Basics - Functions\n",
    "\n",
    "_Author: Alfred Zou_\n",
    "\n",
    "---"
   ]
  },
  {
   "cell_type": "markdown",
   "metadata": {
    "Collapsed": "false",
    "toc-hr-collapsed": true,
    "toc-nb-collapsed": true
   },
   "source": [
    "## Functions Introduction\n",
    "---\n",
    "\n",
    "* The purpose of functions is to take an input, and perform some sort of operation or return an output\n",
    "* We create functions if we are going to reuse a code throughout a project. If we are reusing a code for one section, we can just use a `for` or `while loop`\n",
    "* Alongside the built-in functions provide by python, users themselves can create functions\n",
    "* The standard layout is:\n",
    "\n",
    "``` python\n",
    "# A parameter refers to the variable in the declaration of a function, where\n",
    "# An argument refers to the variable when calling or running the function\n",
    "def function_name(parameter):\n",
    "    # The doc string is a comment explaining the function, it's surrounded by ''' ''' or \"\"\" \"\"\" as the first line for any function\n",
    "    # It can be called by help(function_name) or pressing shift + tab when after writing function_name\n",
    "    ''' Prints the input\n",
    "    '''\n",
    "    print(parameter)\n",
    "          \n",
    "function_name('hello world')\n",
    "output: 'hello world'\n",
    "    \n",
    "help(function_name)\n",
    "output: 'Prints the input\n",
    "```"
   ]
  },
  {
   "cell_type": "code",
   "execution_count": 69,
   "metadata": {
    "Collapsed": "false"
   },
   "outputs": [
    {
     "name": "stdout",
     "output_type": "stream",
     "text": [
      "1 2 fizz 4 buzz fizz 7 8 fizz buzz 11 fizz 13 14 fizzbuzz 16 17 fizz 19 buzz fizz 22 23 fizz buzz 26 fizz 28 29 fizzbuzz "
     ]
    }
   ],
   "source": [
    "# Let's say we're annoyed at calling print(,end= \" \") for this fizzbuzz For loop\n",
    "# We can create a function to solve this\n",
    "\n",
    "for number in range(1,31):\n",
    "    if number % 3 == 0 and number % 5 == 0:\n",
    "        print(\"fizzbuzz\", end=\" \")\n",
    "    elif number % 3 == 0:\n",
    "        print(\"fizz\", end=\" \")\n",
    "    elif number % 5 == 0:\n",
    "        print(\"buzz\", end=\" \")\n",
    "    else:\n",
    "        print(number, end=\" \")"
   ]
  },
  {
   "cell_type": "code",
   "execution_count": 64,
   "metadata": {
    "Collapsed": "false"
   },
   "outputs": [],
   "source": [
    "def sprint(x):\n",
    "    '''Space print: prints the argument with a space behind, allowing results to be displayed horizontally\n",
    "    '''\n",
    "    \n",
    "    print(x,end=\" \")"
   ]
  },
  {
   "cell_type": "code",
   "execution_count": 71,
   "metadata": {
    "Collapsed": "false"
   },
   "outputs": [
    {
     "name": "stdout",
     "output_type": "stream",
     "text": [
      "Help on function sprint in module __main__:\n",
      "\n",
      "sprint(x)\n",
      "    Space print: prints the argument with a space behind, allowing results to be displayed horizontally\n",
      "\n"
     ]
    }
   ],
   "source": [
    "help(sprint)"
   ]
  },
  {
   "cell_type": "code",
   "execution_count": 73,
   "metadata": {
    "Collapsed": "false"
   },
   "outputs": [
    {
     "name": "stdout",
     "output_type": "stream",
     "text": [
      "1 2 fizz 4 buzz fizz 7 8 fizz buzz 11 fizz 13 14 fizzbuzz 16 17 fizz 19 buzz fizz 22 23 fizz buzz 26 fizz 28 29 fizzbuzz "
     ]
    }
   ],
   "source": [
    "# Rewriting this fizzbuzz For loop\n",
    "# After typing sprint, press shift + tab to enable docstring\n",
    "\n",
    "for number in range(1,31):\n",
    "    if number % 3 == 0 and number % 5 == 0:\n",
    "        sprint(\"fizzbuzz\")\n",
    "    elif number % 3 == 0:\n",
    "        sprint(\"fizz\")\n",
    "    elif number % 5 == 0:\n",
    "        sprint(\"buzz\")\n",
    "    else:\n",
    "        sprint(number)"
   ]
  },
  {
   "cell_type": "markdown",
   "metadata": {
    "Collapsed": "false"
   },
   "source": [
    "### Function Syntax\n",
    "\n",
    "* One important concept regarding functions is there are two types of arguments when calling a function:\n",
    "    * Positional arguments: that always require the exact number of positional arguments when called, and\n",
    "    * Key arguments: that have a predefined value and are optional when called.\n",
    "* It is important to note that when defining or calling functions the positional arguments must go first before the optional key arguments\n",
    "* Key arguments can be in any order\n",
    "* The function will stop executing, when it returns a value"
   ]
  },
  {
   "cell_type": "code",
   "execution_count": 22,
   "metadata": {
    "Collapsed": "false"
   },
   "outputs": [
    {
     "data": {
      "text/plain": [
       "\u001b[1;31mDocstring:\u001b[0m\n",
       "print(value, ..., sep=' ', end='\\n', file=sys.stdout, flush=False)\n",
       "\n",
       "Prints the values to a stream, or to sys.stdout by default.\n",
       "Optional keyword arguments:\n",
       "file:  a file-like object (stream); defaults to the current sys.stdout.\n",
       "sep:   string inserted between values, default a space.\n",
       "end:   string appended after the last value, default a newline.\n",
       "flush: whether to forcibly flush the stream.\n",
       "\u001b[1;31mType:\u001b[0m      builtin_function_or_method\n"
      ]
     },
     "metadata": {},
     "output_type": "display_data"
    }
   ],
   "source": [
    "# We can observe this by reading the docstring for the print function\n",
    "# In this case the positional parameter is the value, which must always be supplied, and one of the key parameters is end=\n",
    "\n",
    "print?"
   ]
  },
  {
   "cell_type": "code",
   "execution_count": 18,
   "metadata": {
    "Collapsed": "false"
   },
   "outputs": [
    {
     "name": "stdout",
     "output_type": "stream",
     "text": [
      "1+2+3\n"
     ]
    }
   ],
   "source": [
    "# This works, but ..\n",
    "print(1,2,3,sep='+')"
   ]
  },
  {
   "cell_type": "code",
   "execution_count": 15,
   "metadata": {
    "Collapsed": "false"
   },
   "outputs": [
    {
     "ename": "SyntaxError",
     "evalue": "positional argument follows keyword argument (<ipython-input-15-1150e78ecc09>, line 1)",
     "output_type": "error",
     "traceback": [
      "\u001b[1;36m  File \u001b[1;32m\"<ipython-input-15-1150e78ecc09>\"\u001b[1;36m, line \u001b[1;32m1\u001b[0m\n\u001b[1;33m    print(sep='+',1,2,3)\u001b[0m\n\u001b[1;37m                 ^\u001b[0m\n\u001b[1;31mSyntaxError\u001b[0m\u001b[1;31m:\u001b[0m positional argument follows keyword argument\n"
     ]
    }
   ],
   "source": [
    "# This doesn't.\n",
    "# Positional arguments must come before key arguments\n",
    "print(sep='+',1,2,3)"
   ]
  },
  {
   "cell_type": "code",
   "execution_count": 21,
   "metadata": {
    "Collapsed": "false"
   },
   "outputs": [
    {
     "name": "stdout",
     "output_type": "stream",
     "text": [
      "11\n",
      "13\n"
     ]
    }
   ],
   "source": [
    "# Instead of conducting an operation, we can also use return to retrieve a value and to end the function.\n",
    "# Ending the function works similar to break for loops\n",
    "def my_sum(a,b,c=3,d=5):\n",
    "    return a+b+c+d    \n",
    "    print(\"this is not printing due to return\")\n",
    "\n",
    "# Key arguments are optional and do not need to be supplied\n",
    "print(my_sum(1,2))\n",
    "\n",
    "# Key arguments can be called in different orders\n",
    "print(my_sum(1,2,d=5,c=5))"
   ]
  },
  {
   "cell_type": "markdown",
   "metadata": {},
   "source": [
    "##### Args and Kwargs\n",
    "* `*args` and `*kwargs` provides the flexibility for users to input as many arguments as they want"
   ]
  },
  {
   "cell_type": "markdown",
   "metadata": {},
   "source": [
    "##### args\n",
    "* the `*` groups all the remaining arguments into a tuple"
   ]
  },
  {
   "cell_type": "code",
   "execution_count": 151,
   "metadata": {},
   "outputs": [],
   "source": [
    "def concatenate(*strings):\n",
    "    result = ''\n",
    "    print(strings)\n",
    "    for i in strings:\n",
    "        result += i\n",
    "    return result"
   ]
  },
  {
   "cell_type": "code",
   "execution_count": 152,
   "metadata": {},
   "outputs": [
    {
     "name": "stdout",
     "output_type": "stream",
     "text": [
      "('tim', 'wong', 'is', 'cool')\n"
     ]
    },
    {
     "data": {
      "text/plain": [
       "'timwongiscool'"
      ]
     },
     "execution_count": 152,
     "metadata": {},
     "output_type": "execute_result"
    }
   ],
   "source": [
    "concatenate('tim','wong','is','cool')"
   ]
  },
  {
   "cell_type": "markdown",
   "metadata": {},
   "source": [
    "##### kwargs\n",
    "* stands for key word arguments\n",
    "* the `**` groups key word arguments into a dictionary"
   ]
  },
  {
   "cell_type": "code",
   "execution_count": 153,
   "metadata": {},
   "outputs": [],
   "source": [
    "def bar(**dict):\n",
    "    print(dict)\n",
    "    for k,v in dict.items():\n",
    "        print(f'{k}:{v}')"
   ]
  },
  {
   "cell_type": "code",
   "execution_count": 155,
   "metadata": {},
   "outputs": [
    {
     "name": "stdout",
     "output_type": "stream",
     "text": [
      "{'key1': 'tim', 'key2': 'karl'}\n",
      "key1:tim\n",
      "key2:karl\n"
     ]
    }
   ],
   "source": [
    "bar(key1='tim',key2='karl')"
   ]
  },
  {
   "cell_type": "markdown",
   "metadata": {},
   "source": [
    "##### The order of arguments are always\n",
    "* positional arguments\n",
    "* `*args`\n",
    "* key arguments\n",
    "* `*kwargs`"
   ]
  },
  {
   "cell_type": "code",
   "execution_count": 141,
   "metadata": {},
   "outputs": [],
   "source": [
    "def foo(required,*args,required_kw=3,**kwargs):\n",
    "    print(required)\n",
    "    if args:\n",
    "        print(args)\n",
    "    print(required_kw)\n",
    "    if kwargs:\n",
    "        print(kwargs)"
   ]
  },
  {
   "cell_type": "code",
   "execution_count": 144,
   "metadata": {},
   "outputs": [
    {
     "name": "stdout",
     "output_type": "stream",
     "text": [
      "hello\n",
      "('tim', 'wong')\n",
      "4\n",
      "{'a': 3, 'b': 6}\n"
     ]
    }
   ],
   "source": [
    "foo('hello','tim','wong',required_kw=4,a=3,b=6)"
   ]
  },
  {
   "cell_type": "markdown",
   "metadata": {
    "Collapsed": "false",
    "toc-hr-collapsed": true,
    "toc-nb-collapsed": true
   },
   "source": [
    "## Variable Scope\n",
    "* Python follows `LEGB`, where it will check for the variable in the order from left to right:\n",
    "* Local scope: a variable defined in the current function\n",
    "* Enclosing scope: a variable defined in an enclosing function\n",
    "* Global scope: a variable defined outside of a function\n",
    "* Built-in scope: a built-in variable, which could be overwritten by a global variable"
   ]
  },
  {
   "cell_type": "markdown",
   "metadata": {
    "Collapsed": "false"
   },
   "source": [
    "##### Local Scope\n",
    "* Local variables can only be accessed from inside the function"
   ]
  },
  {
   "cell_type": "code",
   "execution_count": 3,
   "metadata": {
    "Collapsed": "false"
   },
   "outputs": [
    {
     "ename": "NameError",
     "evalue": "name 'y' is not defined",
     "output_type": "error",
     "traceback": [
      "\u001b[1;31m---------------------------------------------------------------------------\u001b[0m",
      "\u001b[1;31mNameError\u001b[0m                                 Traceback (most recent call last)",
      "\u001b[1;32m<ipython-input-3-5435207d9924>\u001b[0m in \u001b[0;36m<module>\u001b[1;34m\u001b[0m\n\u001b[0;32m      4\u001b[0m     \u001b[0my\u001b[0m \u001b[1;33m=\u001b[0m \u001b[1;34m'local y'\u001b[0m\u001b[1;33m\u001b[0m\u001b[1;33m\u001b[0m\u001b[0m\n\u001b[0;32m      5\u001b[0m \u001b[1;33m\u001b[0m\u001b[0m\n\u001b[1;32m----> 6\u001b[1;33m \u001b[0mprint\u001b[0m\u001b[1;33m(\u001b[0m\u001b[0my\u001b[0m\u001b[1;33m)\u001b[0m\u001b[1;33m\u001b[0m\u001b[1;33m\u001b[0m\u001b[0m\n\u001b[0m",
      "\u001b[1;31mNameError\u001b[0m: name 'y' is not defined"
     ]
    }
   ],
   "source": [
    "# We cannot access y from outside the function test()\n",
    "# Additionally, we cannot find the variable y in the enclosing, global or built-in scope\n",
    "def test():\n",
    "    y = 'local y'\n",
    "\n",
    "print(y)"
   ]
  },
  {
   "cell_type": "code",
   "execution_count": 4,
   "metadata": {
    "Collapsed": "false"
   },
   "outputs": [
    {
     "name": "stdout",
     "output_type": "stream",
     "text": [
      "local y\n"
     ]
    }
   ],
   "source": [
    "# If we access y from inside the function, we find it in the local scope\n",
    "def test():\n",
    "    y = 'local y'\n",
    "    print(y)\n",
    "\n",
    "test()"
   ]
  },
  {
   "cell_type": "markdown",
   "metadata": {
    "Collapsed": "false"
   },
   "source": [
    "##### Global vs Local Scope"
   ]
  },
  {
   "cell_type": "code",
   "execution_count": 6,
   "metadata": {
    "Collapsed": "false"
   },
   "outputs": [
    {
     "name": "stdout",
     "output_type": "stream",
     "text": [
      "local x\n",
      "global x\n"
     ]
    }
   ],
   "source": [
    "# When we print x from inside the test function, it finds the local x\n",
    "# When we print x from outside the test function, it cannot find a local x, so it prints out the global x\n",
    "x = 'global x'\n",
    "\n",
    "def test():\n",
    "    x = 'local x'\n",
    "    print(x)\n",
    "\n",
    "test()\n",
    "print(x)"
   ]
  },
  {
   "cell_type": "markdown",
   "metadata": {
    "Collapsed": "false"
   },
   "source": [
    "##### Enclosing Scope"
   ]
  },
  {
   "cell_type": "code",
   "execution_count": 8,
   "metadata": {
    "Collapsed": "false"
   },
   "outputs": [
    {
     "name": "stdout",
     "output_type": "stream",
     "text": [
      "outer x\n",
      "outer x\n",
      "global x\n"
     ]
    }
   ],
   "source": [
    "# When we print x from inside the inner function, it cannot find a local x, so it prints out the enclosing x (outer x)\n",
    "# When we print x from inside the outer function, it finds the local x (outer x)\n",
    "# When we print x from outside the functions, it cannot find a local x, so it prints out the global x\n",
    "x = 'global x'\n",
    "\n",
    "def outer():\n",
    "    x = 'outer x'\n",
    "    \n",
    "    def inner():\n",
    "        print(x)\n",
    "    \n",
    "    inner()\n",
    "    print(x)\n",
    "\n",
    "outer()\n",
    "print(x)"
   ]
  },
  {
   "cell_type": "markdown",
   "metadata": {
    "Collapsed": "false"
   },
   "source": [
    "##### Built-in Scope"
   ]
  },
  {
   "cell_type": "code",
   "execution_count": 1,
   "metadata": {
    "Collapsed": "false"
   },
   "outputs": [
    {
     "name": "stdout",
     "output_type": "stream",
     "text": [
      "1\n",
      "global scope\n"
     ]
    }
   ],
   "source": [
    "# When we call min, we can only find it in the built-in scope\n",
    "# However, when we overwrite it with our own function, it is added to the global scope\n",
    "# This means when we try calling min again, it instead uses the one in our global scope, instead of the built-in scope\n",
    "print(min([1,2,3,4]))\n",
    "\n",
    "def min(foo):\n",
    "    return 'global scope'\n",
    "\n",
    "print(min([1,2,3,4]))"
   ]
  },
  {
   "cell_type": "markdown",
   "metadata": {
    "Collapsed": "false",
    "toc-hr-collapsed": true,
    "toc-nb-collapsed": true
   },
   "source": [
    "## Modules, Packages and Libraries\n",
    "\n",
    "* When we want to use functions across multiple projects, we use modules\n",
    "* Modules are functions saved in .py files that can be imported in\n",
    "* Packages are .py files that store a collection of modules, for example the pprint package stores the pprint module\n",
    "* A library is a collection of packages"
   ]
  },
  {
   "cell_type": "markdown",
   "metadata": {},
   "source": [
    "##### Importing a Package\n",
    "* There is two main ways of importing a package\n",
    "* There is a third method, but it is generally frowned upon"
   ]
  },
  {
   "cell_type": "code",
   "execution_count": 1,
   "metadata": {
    "Collapsed": "false"
   },
   "outputs": [
    {
     "name": "stdout",
     "output_type": "stream",
     "text": [
      "{1: {'age': 24, 'gender': 'male', 'name': 'tim'},\n",
      " 2: {'age': 27, 'gender': 'female', 'name': 'ashley'}}\n",
      "\n",
      "['PrettyPrinter', '_StringIO', '__all__', '__builtins__', '__cached__', '__doc__', '__file__', '__loader__', '__name__', '__package__', '__spec__', '_builtin_scalars', '_collections', '_perfcheck', '_recursion', '_safe_key', '_safe_repr', '_safe_tuple', '_sys', '_types', '_wrap_bytes_repr', 'isreadable', 'isrecursive', 'pformat', 'pprint', 're', 'saferepr']\n",
      "\n",
      "{1: {'age': 24, 'gender': 'male', 'name': 'tim'},\n",
      " 2: {'age': 27, 'gender': 'female', 'name': 'ashley'}}\n"
     ]
    }
   ],
   "source": [
    "# Importing the whole package, using import package\n",
    "import pprint\n",
    "pprint.pprint({1:{'name':'tim','age':24,'gender':\"male\"},2:{'name':'ashley','age':27,'gender':\"female\"}})\n",
    "print('')\n",
    "\n",
    "# If we check the directory of the pprint package, we can see the pprint module\n",
    "print(dir(pprint))\n",
    "print('')\n",
    "\n",
    "# Importing just the module, using from package import module\n",
    "from pprint import pprint\n",
    "pprint({1:{'name':'tim','age':24,'gender':\"male\"},2:{'name':'ashley','age':27,'gender':\"female\"}})"
   ]
  },
  {
   "cell_type": "code",
   "execution_count": 1,
   "metadata": {
    "Collapsed": "false"
   },
   "outputs": [
    {
     "name": "stdout",
     "output_type": "stream",
     "text": [
      "['In', 'Out', '_', '__', '___', '__builtin__', '__builtins__', '__doc__', '__loader__', '__name__', '__package__', '__spec__', '_dh', '_i', '_i1', '_ih', '_ii', '_iii', '_oh', 'exit', 'get_ipython', 'quit']\n",
      "\n",
      "['In', 'Out', '_', '__', '___', '__builtin__', '__builtins__', '__doc__', '__loader__', '__name__', '__package__', '__spec__', '_dh', '_i', '_i1', '_ih', '_ii', '_iii', '_oh', 'calibration', 'clone', 'cluster', 'compose', 'config_context', 'covariance', 'cross_decomposition', 'datasets', 'decomposition', 'discriminant_analysis', 'dummy', 'ensemble', 'exceptions', 'exit', 'experimental', 'externals', 'feature_extraction', 'feature_selection', 'gaussian_process', 'get_config', 'get_ipython', 'impute', 'inspection', 'isotonic', 'kernel_approximation', 'kernel_ridge', 'linear_model', 'manifold', 'metrics', 'mixture', 'model_selection', 'multiclass', 'multioutput', 'naive_bayes', 'neighbors', 'neural_network', 'pipeline', 'preprocessing', 'quit', 'random_projection', 'semi_supervised', 'set_config', 'show_versions', 'svm', 'tree']\n"
     ]
    }
   ],
   "source": [
    "# There is a third method that should never be used\n",
    "# Comparing our initial global namespace with ..\n",
    "print(dir())\n",
    "print()\n",
    "\n",
    "# Importing all the modules of a package is frowned upon\n",
    "# It reduces readability\n",
    "# It heavily pollutes the namespace, and may conflict with user definied functions or classes\n",
    "from sklearn import *\n",
    "print(dir())"
   ]
  },
  {
   "cell_type": "markdown",
   "metadata": {},
   "source": [
    "##### Exploring the contents of a Package/Module\n",
    "* We can explore a package by first importing it, then calling the `dir(package)` on it\n",
    "* We can then explore deeper by calling `dir(module)` on one of its moduels"
   ]
  },
  {
   "cell_type": "code",
   "execution_count": 12,
   "metadata": {
    "Collapsed": "false"
   },
   "outputs": [
    {
     "name": "stdout",
     "output_type": "stream",
     "text": [
      "['PrettyPrinter', '_StringIO', '__all__', '__builtins__', '__cached__', '__doc__', '__file__', '__loader__', '__name__', '__package__', '__spec__', '_builtin_scalars', '_collections', '_perfcheck', '_recursion', '_safe_key', '_safe_repr', '_safe_tuple', '_sys', '_types', '_wrap_bytes_repr', 'isreadable', 'isrecursive', 'pformat', 'pprint', 're', 'saferepr']\n"
     ]
    }
   ],
   "source": [
    "# By exploring the contents of a package, we can find out its methods, i.e. randint and seed\n",
    "import pprint\n",
    "print(dir(pprint))"
   ]
  },
  {
   "cell_type": "code",
   "execution_count": 13,
   "metadata": {},
   "outputs": [
    {
     "name": "stdout",
     "output_type": "stream",
     "text": [
      "['__annotations__', '__call__', '__class__', '__closure__', '__code__', '__defaults__', '__delattr__', '__dict__', '__dir__', '__doc__', '__eq__', '__format__', '__ge__', '__get__', '__getattribute__', '__globals__', '__gt__', '__hash__', '__init__', '__init_subclass__', '__kwdefaults__', '__le__', '__lt__', '__module__', '__name__', '__ne__', '__new__', '__qualname__', '__reduce__', '__reduce_ex__', '__repr__', '__setattr__', '__sizeof__', '__str__', '__subclasshook__']\n"
     ]
    }
   ],
   "source": [
    "print(dir(pprint.pprint))"
   ]
  },
  {
   "cell_type": "markdown",
   "metadata": {},
   "source": [
    "##### Locating a Package/Library\n",
    "* We can locate a package/library by printing out the `.__file__` attribute"
   ]
  },
  {
   "cell_type": "code",
   "execution_count": 14,
   "metadata": {},
   "outputs": [
    {
     "name": "stdout",
     "output_type": "stream",
     "text": [
      "C:\\Users\\draciel\\Anaconda3\\lib\\pprint.py\n"
     ]
    }
   ],
   "source": [
    "import pprint\n",
    "print(pprint.__file__)"
   ]
  },
  {
   "cell_type": "markdown",
   "metadata": {
    "Collapsed": "false",
    "toc-hr-collapsed": true,
    "toc-nb-collapsed": true
   },
   "source": [
    "## Writing and importing our own Modules\n",
    "* We can further demonstrate this idea of package and library by writing our own, and calling them in our Jupyter Lab"
   ]
  },
  {
   "cell_type": "markdown",
   "metadata": {},
   "source": [
    "##### Writing our own Module\n",
    "* Normally modules are written using an IDE, such as pycharm or visual studio code\n",
    "* However, to demonstrate we will write it using a magic function"
   ]
  },
  {
   "cell_type": "code",
   "execution_count": 9,
   "metadata": {
    "Collapsed": "false"
   },
   "outputs": [
    {
     "name": "stdout",
     "output_type": "stream",
     "text": [
      "Overwriting Scripts\\math_operations.py\n"
     ]
    }
   ],
   "source": [
    "%%writefile \"Scripts\\math_operations.py\"\n",
    "# First create a package to stall our modules\n",
    "# This magic command will write our code into the file math_operations.py in the working directory, if there is any existing code it will be overwritten\n",
    "'''Contains modules for '''\n",
    "\n",
    "def add_two_numbers(a,b):\n",
    "    '''adds two numbers together'''\n",
    "    return(a+b)\n",
    "\n",
    "def subtract_two_numbers(a,b):\n",
    "    '''subtracts the second number from the first number'''\n",
    "    return(a-b)"
   ]
  },
  {
   "cell_type": "markdown",
   "metadata": {},
   "source": [
    "##### Importing our own Module\n",
    "* To import a module, it needs to be on the `sys.path`\n",
    "* Python checks the `sys.path` for any packages or libraries to import \n",
    "* by default the current working directory is included in `sys.path` and other python folders\n",
    "* `sys.path` is based on the environmental variable PYTHONPATH. If you want to permanently access the package/library, you can add it to your PYTHONPATH \n",
    "* Alternatively, we can temporarily edit our sys.path to import our module"
   ]
  },
  {
   "cell_type": "code",
   "execution_count": 1,
   "metadata": {},
   "outputs": [
    {
     "name": "stdout",
     "output_type": "stream",
     "text": [
      "['C:\\\\Users\\\\draciel\\\\Dropbox\\\\General_Assembly\\\\Github\\\\Notes', 'C:\\\\Users\\\\draciel\\\\Anaconda3\\\\python37.zip', 'C:\\\\Users\\\\draciel\\\\Anaconda3\\\\DLLs', 'C:\\\\Users\\\\draciel\\\\Anaconda3\\\\lib', 'C:\\\\Users\\\\draciel\\\\Anaconda3', '', 'C:\\\\Users\\\\draciel\\\\Anaconda3\\\\lib\\\\site-packages', 'c:\\\\program files\\\\git\\\\src\\\\facebook-sdk', 'C:\\\\Users\\\\draciel\\\\Anaconda3\\\\lib\\\\site-packages\\\\win32', 'C:\\\\Users\\\\draciel\\\\Anaconda3\\\\lib\\\\site-packages\\\\win32\\\\lib', 'C:\\\\Users\\\\draciel\\\\Anaconda3\\\\lib\\\\site-packages\\\\Pythonwin', 'C:\\\\Users\\\\draciel\\\\Anaconda3\\\\lib\\\\site-packages\\\\IPython\\\\extensions', 'C:\\\\Users\\\\draciel\\\\.ipython']\n"
     ]
    },
    {
     "ename": "ModuleNotFoundError",
     "evalue": "No module named 'math_operations'",
     "output_type": "error",
     "traceback": [
      "\u001b[1;31m---------------------------------------------------------------------------\u001b[0m",
      "\u001b[1;31mModuleNotFoundError\u001b[0m                       Traceback (most recent call last)",
      "\u001b[1;32m<ipython-input-1-b91f31f9e4fe>\u001b[0m in \u001b[0;36m<module>\u001b[1;34m\u001b[0m\n\u001b[0;32m      5\u001b[0m \u001b[1;31m# Python checks the sys.path for any packages or libraries to import\u001b[0m\u001b[1;33m\u001b[0m\u001b[1;33m\u001b[0m\u001b[1;33m\u001b[0m\u001b[0m\n\u001b[0;32m      6\u001b[0m \u001b[1;31m# sys.path is based on the envionmental variable PYTHONPATH. If you want to permanently access the package/library, you can add it to your PYTHONPATH\u001b[0m\u001b[1;33m\u001b[0m\u001b[1;33m\u001b[0m\u001b[1;33m\u001b[0m\u001b[0m\n\u001b[1;32m----> 7\u001b[1;33m \u001b[1;32mimport\u001b[0m \u001b[0mmath_operations\u001b[0m\u001b[1;33m\u001b[0m\u001b[1;33m\u001b[0m\u001b[0m\n\u001b[0m",
      "\u001b[1;31mModuleNotFoundError\u001b[0m: No module named 'math_operations'"
     ]
    }
   ],
   "source": [
    "import sys\n",
    "print(sys.path)\n",
    "\n",
    "# We cannot import this module, because it not in our sys.path\n",
    "import math_operations as mo"
   ]
  },
  {
   "cell_type": "code",
   "execution_count": 8,
   "metadata": {},
   "outputs": [
    {
     "name": "stdout",
     "output_type": "stream",
     "text": [
      "['.\\\\Scripts', '.\\\\Scripts', 'C:\\\\Users\\\\draciel\\\\Dropbox\\\\General_Assembly\\\\Github\\\\Notes', 'C:\\\\Users\\\\draciel\\\\Anaconda3\\\\python37.zip', 'C:\\\\Users\\\\draciel\\\\Anaconda3\\\\DLLs', 'C:\\\\Users\\\\draciel\\\\Anaconda3\\\\lib', 'C:\\\\Users\\\\draciel\\\\Anaconda3', '', 'C:\\\\Users\\\\draciel\\\\Anaconda3\\\\lib\\\\site-packages', 'c:\\\\program files\\\\git\\\\src\\\\facebook-sdk', 'C:\\\\Users\\\\draciel\\\\Anaconda3\\\\lib\\\\site-packages\\\\win32', 'C:\\\\Users\\\\draciel\\\\Anaconda3\\\\lib\\\\site-packages\\\\win32\\\\lib', 'C:\\\\Users\\\\draciel\\\\Anaconda3\\\\lib\\\\site-packages\\\\Pythonwin', 'C:\\\\Users\\\\draciel\\\\Anaconda3\\\\lib\\\\site-packages\\\\IPython\\\\extensions', 'C:\\\\Users\\\\draciel\\\\.ipython']\n"
     ]
    }
   ],
   "source": [
    "# Alternatively, we can temporarily add it to our sys.path\n",
    "sys.path.insert(0,\".\\Scripts\")\n",
    "print(sys.path)\n",
    "\n",
    "# And now it imports without error\n",
    "import math_operations as mo"
   ]
  },
  {
   "cell_type": "code",
   "execution_count": 3,
   "metadata": {
    "Collapsed": "false"
   },
   "outputs": [
    {
     "name": "stdout",
     "output_type": "stream",
     "text": [
      "Help on module math_operations:\n",
      "\n",
      "NAME\n",
      "    math_operations - Contains modules for\n",
      "\n",
      "FUNCTIONS\n",
      "    add_two_numbers(a, b)\n",
      "        adds two numbers together\n",
      "    \n",
      "    subtract_two_numbers(a, b)\n",
      "        subtracts the second number from the first number\n",
      "\n",
      "FILE\n",
      "    c:\\users\\draciel\\dropbox\\general_assembly\\github\\notes\\scripts\\math_operations.py\n",
      "\n",
      "\n",
      "['__builtins__', '__cached__', '__doc__', '__file__', '__loader__', '__name__', '__package__', '__spec__', 'add_two_numbers', 'subtract_two_numbers']\n"
     ]
    }
   ],
   "source": [
    "# We can check the help\n",
    "help(math_operations)\n",
    "\n",
    "# We can now see the two imported functions, add_two_numbers and subtract_two_numbers, in our namespace\n",
    "print(dir(math_operations))"
   ]
  },
  {
   "cell_type": "code",
   "execution_count": 10,
   "metadata": {},
   "outputs": [
    {
     "name": "stdout",
     "output_type": "stream",
     "text": [
      "4\n",
      "-2\n"
     ]
    }
   ],
   "source": [
    "# You can see now we have successfully imported the package, which allows us to use its functions\n",
    "print(mo.add_two_numbers(1,3))\n",
    "print(mo.subtract_two_numbers(1,3))"
   ]
  },
  {
   "cell_type": "markdown",
   "metadata": {
    "Collapsed": "false"
   },
   "source": [
    "## Lambda Expressions\n",
    "* Lambda Expressions are anonymous functions, or functions without a name\n",
    "* They are used once and thrown away\n",
    "* They are useful in conjunction with lots of other methods, especially ones for sorting and filtering"
   ]
  },
  {
   "cell_type": "code",
   "execution_count": 58,
   "metadata": {},
   "outputs": [
    {
     "name": "stdout",
     "output_type": "stream",
     "text": [
      "7\n"
     ]
    },
    {
     "data": {
      "text/plain": [
       "7"
      ]
     },
     "execution_count": 58,
     "metadata": {},
     "output_type": "execute_result"
    }
   ],
   "source": [
    "# This function can be rewritten as a lambda expression\n",
    "# The format is lambda input: output\n",
    "def f(x):\n",
    "    return 3*x + 1\n",
    "print(f(2))\n",
    "\n",
    "(lambda x: 3*x + 1)(2)"
   ]
  },
  {
   "cell_type": "code",
   "execution_count": 59,
   "metadata": {},
   "outputs": [
    {
     "data": {
      "text/plain": [
       "['Douglas Adams',\n",
       " 'Isaac Asimov',\n",
       " 'Leigh Brackett',\n",
       " 'Ray Bradbury',\n",
       " 'Orson Scott Card',\n",
       " 'Arthus C. Clarke',\n",
       " 'Robert Heinlein',\n",
       " 'Frank Herbert',\n",
       " 'H. G. Wells']"
      ]
     },
     "execution_count": 59,
     "metadata": {},
     "output_type": "execute_result"
    }
   ],
   "source": [
    "scifi_authors = [\"Isaac Asimov\",\"Ray Bradbury\",\"Robert Heinlein\",\"Arthus C. Clarke\"\n",
    "                , \"Frank Herbert\", \"Orson Scott Card\", \"Douglas Adams\",\n",
    "                \"H. G. Wells\", \"Leigh Brackett\"]\n",
    "\n",
    "scifi_authors.sort(key = lambda name: name.split(\" \")[-1].title())\n",
    "scifi_authors"
   ]
  },
  {
   "cell_type": "markdown",
   "metadata": {},
   "source": [
    "##### If Elif Else Statements in Lambda"
   ]
  },
  {
   "cell_type": "code",
   "execution_count": 7,
   "metadata": {},
   "outputs": [
    {
     "name": "stdout",
     "output_type": "stream",
     "text": [
      "x = 2\n",
      "x = 3\n",
      "x != 2 or 3\n"
     ]
    }
   ],
   "source": [
    "print((lambda x: 'x = 2' if x==2 else 'x = 3' if x==3 else 'x != 2 or 3')(2))\n",
    "print((lambda x: 'x = 2' if x==2 else 'x = 3' if x==3 else 'x != 2 or 3')(3))\n",
    "print((lambda x: 'x = 2' if x==2 else 'x = 3' if x==3 else 'x != 2 or 3')(4))"
   ]
  },
  {
   "cell_type": "markdown",
   "metadata": {},
   "source": [
    "##### Multiple conditions"
   ]
  },
  {
   "cell_type": "code",
   "execution_count": 57,
   "metadata": {},
   "outputs": [
    {
     "name": "stdout",
     "output_type": "stream",
     "text": [
      "x > 2 and x < 5\n",
      "x > 2 or x < 5\n"
     ]
    }
   ],
   "source": [
    "print((lambda x: 'x > 2 and x < 5' if (x>2) and (x<5) else 'x > 2 or x < 5' if (x>2) or (x<5) else False)(3))\n",
    "print((lambda x: 'x > 2 and x < 5' if (x>2) and (x<5) else 'x > 2 or x < 5' if (x>2) or (x<5) else False)(10))"
   ]
  },
  {
   "cell_type": "markdown",
   "metadata": {
    "toc-hr-collapsed": true,
    "toc-nb-collapsed": true
   },
   "source": [
    "## Generators\n",
    "* Unlike normal functions that use `return`, generators use `yield`\n",
    "* Upon `yield`ing a value, the generator retains the previous state\n",
    "* If generators are used as an iterable, they return one value at a time instead of a whole list of values\n",
    "* This is why generators are called lazy, they only provide information on demand\n",
    "* Unlike lists, which are completely stored in memory, generators only stores the state of the function\n",
    "* This makes generators memory efficient and useful for working with big data\n",
    "* Generators can only be used once, once we iterate over something, it's consumed"
   ]
  },
  {
   "cell_type": "code",
   "execution_count": 60,
   "metadata": {},
   "outputs": [],
   "source": [
    "# A simple generator function\n",
    "def my_gen():\n",
    "    n = 1\n",
    "    print('This is printed first')\n",
    "    # Generator function contains yield statements\n",
    "    yield n\n",
    "\n",
    "    n += 1\n",
    "    print('This is printed second')\n",
    "    yield n\n",
    "\n",
    "    n += 1\n",
    "    print('This is printed at last')\n",
    "    yield n"
   ]
  },
  {
   "cell_type": "code",
   "execution_count": 61,
   "metadata": {},
   "outputs": [],
   "source": [
    "gen = my_gen()"
   ]
  },
  {
   "cell_type": "code",
   "execution_count": 62,
   "metadata": {},
   "outputs": [
    {
     "name": "stdout",
     "output_type": "stream",
     "text": [
      "This is printed first\n",
      "1\n",
      "This is printed second\n",
      "2\n",
      "This is printed at last\n",
      "3\n"
     ]
    },
    {
     "ename": "StopIteration",
     "evalue": "",
     "output_type": "error",
     "traceback": [
      "\u001b[1;31m---------------------------------------------------------------------------\u001b[0m",
      "\u001b[1;31mStopIteration\u001b[0m                             Traceback (most recent call last)",
      "\u001b[1;32m<ipython-input-62-816b69930d80>\u001b[0m in \u001b[0;36m<module>\u001b[1;34m\u001b[0m\n\u001b[0;32m      2\u001b[0m \u001b[0mprint\u001b[0m\u001b[1;33m(\u001b[0m\u001b[0mnext\u001b[0m\u001b[1;33m(\u001b[0m\u001b[0mgen\u001b[0m\u001b[1;33m)\u001b[0m\u001b[1;33m)\u001b[0m\u001b[1;33m\u001b[0m\u001b[1;33m\u001b[0m\u001b[0m\n\u001b[0;32m      3\u001b[0m \u001b[0mprint\u001b[0m\u001b[1;33m(\u001b[0m\u001b[0mnext\u001b[0m\u001b[1;33m(\u001b[0m\u001b[0mgen\u001b[0m\u001b[1;33m)\u001b[0m\u001b[1;33m)\u001b[0m\u001b[1;33m\u001b[0m\u001b[1;33m\u001b[0m\u001b[0m\n\u001b[1;32m----> 4\u001b[1;33m \u001b[0mprint\u001b[0m\u001b[1;33m(\u001b[0m\u001b[0mnext\u001b[0m\u001b[1;33m(\u001b[0m\u001b[0mgen\u001b[0m\u001b[1;33m)\u001b[0m\u001b[1;33m)\u001b[0m\u001b[1;33m\u001b[0m\u001b[1;33m\u001b[0m\u001b[0m\n\u001b[0m",
      "\u001b[1;31mStopIteration\u001b[0m: "
     ]
    }
   ],
   "source": [
    "print(next(gen))\n",
    "print(next(gen))\n",
    "print(next(gen))\n",
    "print(next(gen))"
   ]
  },
  {
   "cell_type": "markdown",
   "metadata": {},
   "source": [
    "##### Size comparison"
   ]
  },
  {
   "cell_type": "code",
   "execution_count": 55,
   "metadata": {},
   "outputs": [
    {
     "name": "stdout",
     "output_type": "stream",
     "text": [
      "8697464\n",
      "120\n"
     ]
    }
   ],
   "source": [
    "import sys\n",
    "\n",
    "a_list = [i for i in range(1000000) ]\n",
    "a_generator = (i for i in range(1000000) )\n",
    "\n",
    "print(sys.getsizeof(a_list)) # 81528064 Bytes\n",
    "print(sys.getsizeof(a_generator)) # 80 Bytes"
   ]
  },
  {
   "cell_type": "markdown",
   "metadata": {},
   "source": [
    "##### A more practical example\n",
    "* Reading files that are too big to store in memory\n",
    "* `with open()` returns the lines like a generator"
   ]
  },
  {
   "cell_type": "code",
   "execution_count": 24,
   "metadata": {},
   "outputs": [
    {
     "name": "stdout",
     "output_type": "stream",
     "text": [
      "CRIM,ZN,INDUS,CHAS,NOX,RM,AGE,DIS,RAD,TAX,PTRATIO,B,LSTAT,MEDV\n",
      "\n",
      "0.00632,18.0,2.31,0,0.538,6.575,65.2,4.09,1,296.0,15.3,396.9,4.98,24.0\n",
      "\n",
      "0.02731,0.0,7.07,0,0.469,6.421,78.9,4.9671,2,242.0,17.8,396.9,9.14,21.6\n",
      "\n",
      "0.02729,0.0,7.07,0,0.469,7.185,61.1,4.9671,2,242.0,17.8,392.83,4.03,34.7\n",
      "\n",
      "0.03237,0.0,2.18,0,0.458,6.998,45.8,6.0622,3,222.0,18.7,394.63,2.94,33.4\n",
      "\n",
      "0.06905,0.0,2.18,0,0.458,7.147,54.2,6.0622,3,222.0,18.7,396.9,5.33,36.2\n",
      "\n",
      "0.02985,0.0,2.18,0,0.458,6.43,58.7,6.0622,3,222.0,18.7,394.12,5.21,28.7\n",
      "\n"
     ]
    }
   ],
   "source": [
    "with open('Data/boston_housing_data.csv','r') as f:\n",
    "        print(next(f))\n",
    "        print(next(f))\n",
    "        print(next(f))\n",
    "        print(next(f))\n",
    "        print(next(f))\n",
    "        print(next(f))\n",
    "        print(next(f))"
   ]
  },
  {
   "cell_type": "markdown",
   "metadata": {},
   "source": [
    "##### List Comprehension for Generators\n",
    "* Generators can be created similar to list comprehension, but uses `()` instead of `[]`"
   ]
  },
  {
   "cell_type": "code",
   "execution_count": 16,
   "metadata": {},
   "outputs": [],
   "source": [
    "my_list = [1,3,6,10]\n",
    "generator = (x**2 for x in my_list)"
   ]
  },
  {
   "cell_type": "code",
   "execution_count": 17,
   "metadata": {},
   "outputs": [
    {
     "name": "stdout",
     "output_type": "stream",
     "text": [
      "1\n",
      "9\n",
      "36\n",
      "100\n"
     ]
    },
    {
     "ename": "StopIteration",
     "evalue": "",
     "output_type": "error",
     "traceback": [
      "\u001b[1;31m---------------------------------------------------------------------------\u001b[0m",
      "\u001b[1;31mStopIteration\u001b[0m                             Traceback (most recent call last)",
      "\u001b[1;32m<ipython-input-17-78c2ea1818d1>\u001b[0m in \u001b[0;36m<module>\u001b[1;34m\u001b[0m\n\u001b[0;32m      3\u001b[0m \u001b[0mprint\u001b[0m\u001b[1;33m(\u001b[0m\u001b[0mnext\u001b[0m\u001b[1;33m(\u001b[0m\u001b[0mgenerator\u001b[0m\u001b[1;33m)\u001b[0m\u001b[1;33m)\u001b[0m\u001b[1;33m\u001b[0m\u001b[1;33m\u001b[0m\u001b[0m\n\u001b[0;32m      4\u001b[0m \u001b[0mprint\u001b[0m\u001b[1;33m(\u001b[0m\u001b[0mnext\u001b[0m\u001b[1;33m(\u001b[0m\u001b[0mgenerator\u001b[0m\u001b[1;33m)\u001b[0m\u001b[1;33m)\u001b[0m\u001b[1;33m\u001b[0m\u001b[1;33m\u001b[0m\u001b[0m\n\u001b[1;32m----> 5\u001b[1;33m \u001b[0mprint\u001b[0m\u001b[1;33m(\u001b[0m\u001b[0mnext\u001b[0m\u001b[1;33m(\u001b[0m\u001b[0mgenerator\u001b[0m\u001b[1;33m)\u001b[0m\u001b[1;33m)\u001b[0m\u001b[1;33m\u001b[0m\u001b[1;33m\u001b[0m\u001b[0m\n\u001b[0m",
      "\u001b[1;31mStopIteration\u001b[0m: "
     ]
    }
   ],
   "source": [
    "print(next(generator))\n",
    "print(next(generator))\n",
    "print(next(generator))\n",
    "print(next(generator))\n",
    "print(next(generator))"
   ]
  },
  {
   "cell_type": "markdown",
   "metadata": {},
   "source": [
    "## Advanced Functions\n",
    "* Here are some topics regarding:\n",
    "* Private functions, functions that shouldn't be directly accessed from outside the function\n",
    "* Nested functions, which can enforce private functions and can be used to create closure functions\n",
    "* Higher order functions, functions taking other functions as input"
   ]
  },
  {
   "cell_type": "markdown",
   "metadata": {},
   "source": [
    "## Private Functions\n",
    "* Private functions indicate functions that shouldn't be accessed directly from the outside\n",
    "* There is no enforcement of private functions in Python, but it is highly recommended\n",
    "* They are denoted with an underscore prefix `_privatefunction`"
   ]
  },
  {
   "cell_type": "code",
   "execution_count": 1,
   "metadata": {},
   "outputs": [],
   "source": [
    "def _privatefunction(x):\n",
    "    return x +1"
   ]
  },
  {
   "cell_type": "code",
   "execution_count": 2,
   "metadata": {},
   "outputs": [
    {
     "name": "stdout",
     "output_type": "stream",
     "text": [
      "['In', 'Out', '_', '__', '___', '__builtin__', '__builtins__', '__doc__', '__loader__', '__name__', '__package__', '__spec__', '_dh', '_i', '_i1', '_i2', '_ih', '_ii', '_iii', '_oh', '_privatefunction', 'exit', 'get_ipython', 'quit']\n"
     ]
    }
   ],
   "source": [
    "print(dir())"
   ]
  },
  {
   "cell_type": "markdown",
   "metadata": {},
   "source": [
    "## Nested Functions\n",
    "* A function defined within another function is called a inner/nested function\n",
    "* They can access variables of the enclosing scope"
   ]
  },
  {
   "cell_type": "markdown",
   "metadata": {},
   "source": [
    "#### Nested Functions as Private Functions\n",
    "* Inner functions can be used to protect from access from outside, which is like some sort of forced private function"
   ]
  },
  {
   "cell_type": "code",
   "execution_count": 52,
   "metadata": {},
   "outputs": [],
   "source": [
    "# You can define private functions in the global scope, but they can still be called\n",
    "def _privatefunction(x):\n",
    "    return x +1"
   ]
  },
  {
   "cell_type": "code",
   "execution_count": 51,
   "metadata": {},
   "outputs": [
    {
     "data": {
      "text/plain": [
       "11"
      ]
     },
     "execution_count": 51,
     "metadata": {},
     "output_type": "execute_result"
    }
   ],
   "source": [
    "_privatefunction(10)"
   ]
  },
  {
   "cell_type": "markdown",
   "metadata": {},
   "source": [
    "Let's try creating a nested function and accessing the inner function"
   ]
  },
  {
   "cell_type": "code",
   "execution_count": 1,
   "metadata": {},
   "outputs": [],
   "source": [
    "# Created a nested function\n",
    "def create_private(x):\n",
    "    def _hiddenfunction(x):\n",
    "        rv_inner = x+1\n",
    "        return rv_inner\n",
    "    rv_outer = _hiddenfunction(x)\n",
    "    return rv_outer"
   ]
  },
  {
   "cell_type": "code",
   "execution_count": 2,
   "metadata": {},
   "outputs": [
    {
     "data": {
      "text/plain": [
       "4"
      ]
     },
     "execution_count": 2,
     "metadata": {},
     "output_type": "execute_result"
    }
   ],
   "source": [
    "create_private(3)"
   ]
  },
  {
   "cell_type": "code",
   "execution_count": 3,
   "metadata": {},
   "outputs": [
    {
     "name": "stdout",
     "output_type": "stream",
     "text": [
      "['In', 'Out', '_', '_2', '__', '___', '__builtin__', '__builtins__', '__doc__', '__loader__', '__name__', '__package__', '__spec__', '_dh', '_i', '_i1', '_i2', '_i3', '_ih', '_ii', '_iii', '_oh', 'create_private', 'exit', 'get_ipython', 'quit']\n"
     ]
    },
    {
     "ename": "NameError",
     "evalue": "name '_hiddenfunction' is not defined",
     "output_type": "error",
     "traceback": [
      "\u001b[1;31m---------------------------------------------------------------------------\u001b[0m",
      "\u001b[1;31mNameError\u001b[0m                                 Traceback (most recent call last)",
      "\u001b[1;32m<ipython-input-3-69c54d16b9dc>\u001b[0m in \u001b[0;36m<module>\u001b[1;34m\u001b[0m\n\u001b[0;32m      1\u001b[0m \u001b[1;31m# We can't access it\u001b[0m\u001b[1;33m\u001b[0m\u001b[1;33m\u001b[0m\u001b[1;33m\u001b[0m\u001b[0m\n\u001b[0;32m      2\u001b[0m \u001b[0mprint\u001b[0m\u001b[1;33m(\u001b[0m\u001b[0mdir\u001b[0m\u001b[1;33m(\u001b[0m\u001b[1;33m)\u001b[0m\u001b[1;33m)\u001b[0m\u001b[1;33m\u001b[0m\u001b[1;33m\u001b[0m\u001b[0m\n\u001b[1;32m----> 3\u001b[1;33m \u001b[0m_hiddenfunction\u001b[0m\u001b[1;33m(\u001b[0m\u001b[1;33m)\u001b[0m\u001b[1;33m\u001b[0m\u001b[1;33m\u001b[0m\u001b[0m\n\u001b[0m",
      "\u001b[1;31mNameError\u001b[0m: name '_hiddenfunction' is not defined"
     ]
    }
   ],
   "source": [
    "# We can't access it, because it doesn't exist in the global scope\n",
    "print(dir())\n",
    "_hiddenfunction()"
   ]
  },
  {
   "cell_type": "markdown",
   "metadata": {},
   "source": [
    "#### Closure Functions\n",
    "* We can use nested functions to create a new function\n",
    "* This inner function retains the variable values from an enclosing function, when it was defined\n",
    "* Note we don't accept these enclosing variables as input for the nested function, as we don't want them to become inputs when we call the nested function\n",
    "* But when there are too many attributes and methods, it is probably better to implement a class\n",
    "* Requirements for closure:\n",
    "* Must have a nested function\n",
    "* The nested function must refer to a value defined in the enclosing function\n",
    "* The enclosing function must return the nested function"
   ]
  },
  {
   "cell_type": "code",
   "execution_count": 23,
   "metadata": {},
   "outputs": [],
   "source": [
    "# Note n and a variabels from the enclosing function are not included as inputs for the nested function\n",
    "def make_mult_and_add(n,a):\n",
    "    def mult_and_add(x):\n",
    "        return x * n + a\n",
    "    return mult_and_add"
   ]
  },
  {
   "cell_type": "code",
   "execution_count": 19,
   "metadata": {},
   "outputs": [
    {
     "name": "stdout",
     "output_type": "stream",
     "text": [
      "28\n"
     ]
    }
   ],
   "source": [
    "# We've now created a closure function that remembers the variables from the enclosing function\n",
    "times3add1 = make_mult_and_add(3,1)\n",
    "print(times3add1(9))"
   ]
  },
  {
   "cell_type": "code",
   "execution_count": 20,
   "metadata": {},
   "outputs": [
    {
     "name": "stdout",
     "output_type": "stream",
     "text": [
      "(<cell at 0x000001DA0643C9A8: int object at 0x00007FF9025E9340>, <cell at 0x000001DA0643CBB8: int object at 0x00007FF9025E9380>)\n"
     ]
    }
   ],
   "source": [
    "# We can also check out the closure values\n",
    "# Note there are two cells, one for each value\n",
    "print(times3add1.__closure__)"
   ]
  },
  {
   "cell_type": "code",
   "execution_count": 22,
   "metadata": {},
   "outputs": [
    {
     "name": "stdout",
     "output_type": "stream",
     "text": [
      "1\n",
      "3\n"
     ]
    }
   ],
   "source": [
    "print(times3add1.__closure__[0].cell_contents)\n",
    "print(times3add1.__closure__[1].cell_contents)"
   ]
  },
  {
   "cell_type": "markdown",
   "metadata": {},
   "source": [
    "## Higher Order Functions\n",
    "* When you pass a function as an argument into another function, this is called a higher order function\n",
    "* The argument from the higher order function can be also passed to the referenced function\n",
    "\n",
    "``` python\n",
    "def lowerfunc(my_arg):\n",
    "    return my_arg\n",
    "\n",
    "def higherfunc(my_lowerfunc,my_arg):\n",
    "    result = my_lowerfunc(my_arg)\n",
    "    return result\n",
    "\n",
    "higherfunc(lowerfunc, my_arg)\n",
    "```"
   ]
  },
  {
   "cell_type": "code",
   "execution_count": 68,
   "metadata": {},
   "outputs": [],
   "source": [
    "def shout(text):  \n",
    "    return text.upper()  \n",
    "    \n",
    "def whisper(text):\n",
    "    return text.lower()\n",
    "\n",
    "def greet(func, text):\n",
    "    greeting = func(text)\n",
    "    return greeting"
   ]
  },
  {
   "cell_type": "code",
   "execution_count": 69,
   "metadata": {},
   "outputs": [
    {
     "name": "stdout",
     "output_type": "stream",
     "text": [
      "HI MY NAME IS ALFRED. HOW ARE YOU?\n",
      "hi my name is alfred. how are you?\n"
     ]
    }
   ],
   "source": [
    "print(greet(shout,'Hi my name is Alfred. How are you?'))\n",
    "print(greet(whisper,'Hi my name is Alfred. How are you?'))"
   ]
  },
  {
   "cell_type": "markdown",
   "metadata": {},
   "source": [
    "#### Built-in Higher Order Functions\n",
    "* We can see the use of higher order functions from the built-in ones\n",
    "* `map(func,iterable)` - applies the function to each element and returns an iterator\n",
    "* `sorted` - applies the function to each element, sorts it and returns a sorted list\n",
    "* `filter` - applies the function to each element, filters out any False results and returns a list\n",
    "* `reduce` - applies the function of two arguments cumulatively to the items of a sequence from left to right, so as to reduce it to a single value"
   ]
  },
  {
   "cell_type": "code",
   "execution_count": 20,
   "metadata": {},
   "outputs": [],
   "source": [
    "my_list = [1,2,3,4,5]"
   ]
  },
  {
   "cell_type": "code",
   "execution_count": 72,
   "metadata": {},
   "outputs": [
    {
     "data": {
      "text/plain": [
       "[1, 4, 9, 16, 25]"
      ]
     },
     "execution_count": 72,
     "metadata": {},
     "output_type": "execute_result"
    }
   ],
   "source": [
    "# squares every element\n",
    "list(map(lambda x: x**2, my_list))"
   ]
  },
  {
   "cell_type": "code",
   "execution_count": 76,
   "metadata": {},
   "outputs": [
    {
     "data": {
      "text/plain": [
       "[5, 4, 3, 2, 1]"
      ]
     },
     "execution_count": 76,
     "metadata": {},
     "output_type": "execute_result"
    }
   ],
   "source": [
    "# the key applies the function to each element\n",
    "# then sorts it\n",
    "sorted(my_list, key = lambda x: -x)"
   ]
  },
  {
   "cell_type": "code",
   "execution_count": 28,
   "metadata": {},
   "outputs": [
    {
     "data": {
      "text/plain": [
       "[4, 5]"
      ]
     },
     "execution_count": 28,
     "metadata": {},
     "output_type": "execute_result"
    }
   ],
   "source": [
    "list(filter(lambda x: x if x>3 else False,my_list))"
   ]
  },
  {
   "cell_type": "code",
   "execution_count": 43,
   "metadata": {},
   "outputs": [
    {
     "data": {
      "text/plain": [
       "15"
      ]
     },
     "execution_count": 43,
     "metadata": {},
     "output_type": "execute_result"
    }
   ],
   "source": [
    "# Reduce is running: ((((1+2)+3)+4)+5)\n",
    "from functools import reduce\n",
    "reduce(lambda x,y: x+y,[1,2,3,4,5])"
   ]
  },
  {
   "cell_type": "markdown",
   "metadata": {},
   "source": [
    "## Decorators\n",
    "* Decorators are a type of higher order functions\n",
    "* They take an existing function and adds additional functionality to it, then returns it\n",
    "* This can be extremely useful if you want to apply this additional functionality to multiple functions, i.e. add the additional functionality to time how long it took a function to run\n",
    "* Note the location the function arguments are being passed\n",
    "\n",
    "``` python\n",
    "# Defining the function to be modified\n",
    "def my_func(my_arg):\n",
    "    pass\n",
    "\n",
    "# Defining the decorator\n",
    "def my_decorator(my_func):\n",
    "    def inner(my_arg):\n",
    "        my_func(my_arg)\n",
    "    return inner\n",
    "\n",
    "# Its common place to assign the modified function to the same variable\n",
    "my_func = decorator(my_func)\n",
    "```"
   ]
  },
  {
   "cell_type": "code",
   "execution_count": 74,
   "metadata": {},
   "outputs": [],
   "source": [
    "# Function that sleeps a random amount of time\n",
    "import numpy as np\n",
    "from time import sleep\n",
    "\n",
    "def rand_sleep(upper):\n",
    "    sleep(np.random.randint(1,upper)/10)"
   ]
  },
  {
   "cell_type": "code",
   "execution_count": 75,
   "metadata": {},
   "outputs": [],
   "source": [
    "rand_sleep(5)"
   ]
  },
  {
   "cell_type": "code",
   "execution_count": 123,
   "metadata": {},
   "outputs": [],
   "source": [
    "# Let's try to time it by creating a decorator function\n",
    "from time import time\n",
    "\n",
    "def timer(func):\n",
    "    def inner(upper):\n",
    "        before = time()\n",
    "        func(upper)\n",
    "        after = time()\n",
    "        print(after-before)\n",
    "    return inner"
   ]
  },
  {
   "cell_type": "code",
   "execution_count": 124,
   "metadata": {},
   "outputs": [],
   "source": [
    "rand_sleep = timer(rand_sleep)"
   ]
  },
  {
   "cell_type": "code",
   "execution_count": 108,
   "metadata": {},
   "outputs": [
    {
     "name": "stdout",
     "output_type": "stream",
     "text": [
      "0.20014142990112305\n"
     ]
    }
   ],
   "source": [
    "# Now we know how long we randomly sleep for\n",
    "rand_sleep(5)"
   ]
  },
  {
   "cell_type": "markdown",
   "metadata": {},
   "source": [
    "##### Shortened decorators\n",
    "\n",
    "* Python has special syntax to shorten writing decorators\n",
    "* `@my_decorator_function` placed above function to be decorated\n",
    "\n",
    "``` python\n",
    "# Defining the decorator\n",
    "def my_decorator(my_func):\n",
    "    def inner(my_arg):\n",
    "        my_func(my_arg)\n",
    "    return inner\n",
    "\n",
    "# Defining the function to be modified\n",
    "# And applying the decorator to it\n",
    "@my_decorator\n",
    "def my_func(my_arg):\n",
    "    pass\n",
    "\n",
    "'''\n",
    "@my_decorator is the same as:\n",
    "my_func = my_decorator(my_func)\n",
    "'''\n",
    "```"
   ]
  },
  {
   "cell_type": "code",
   "execution_count": 125,
   "metadata": {},
   "outputs": [],
   "source": [
    "# Alternatively\n",
    "@timer\n",
    "def rand_sleep(upper):\n",
    "    sleep(np.random.randint(1,upper)/10)\n",
    "\n",
    "# Which replaces:\n",
    "# rand_sleep = timer(rand_sleep)"
   ]
  },
  {
   "cell_type": "code",
   "execution_count": 112,
   "metadata": {},
   "outputs": [
    {
     "name": "stdout",
     "output_type": "stream",
     "text": [
      "0.1020350456237793\n"
     ]
    }
   ],
   "source": [
    "rand_sleep(5)"
   ]
  },
  {
   "cell_type": "markdown",
   "metadata": {},
   "source": [
    "##### Generalised decorators\n",
    "* We've been hard wiring the decorator to accept only 1 argument, however to make decorators truly useful, it needs to be able to accept any amount of arguments\n",
    "* To generalise decorators, pass `*args, **kwargs` to the inner decorator function\n",
    "\n",
    "``` python\n",
    "# Defining the decorator\n",
    "def my_decorator(my_func):\n",
    "    def inner(*args, **kwargs):\n",
    "        my_func(*args, **kwargs)\n",
    "    return inner\n",
    "\n",
    "# Defining the function to be modified\n",
    "# And applying the decorator to it\n",
    "@my_decorator\n",
    "def my_func(args):\n",
    "    pass\n",
    "```"
   ]
  },
  {
   "cell_type": "code",
   "execution_count": 128,
   "metadata": {},
   "outputs": [],
   "source": [
    "# In this case I've modified rand_sleep to accept two arguments\n",
    "# But it won't work because the decorator function has been set up to accept only one argument\n",
    "@timer\n",
    "def rand_sleep(lower,upper):\n",
    "    sleep(np.random.randint(lower,upper)/10)"
   ]
  },
  {
   "cell_type": "code",
   "execution_count": 129,
   "metadata": {},
   "outputs": [
    {
     "ename": "TypeError",
     "evalue": "inner() takes 1 positional argument but 2 were given",
     "output_type": "error",
     "traceback": [
      "\u001b[1;31m---------------------------------------------------------------------------\u001b[0m",
      "\u001b[1;31mTypeError\u001b[0m                                 Traceback (most recent call last)",
      "\u001b[1;32m<ipython-input-129-771f5a926eee>\u001b[0m in \u001b[0;36m<module>\u001b[1;34m\u001b[0m\n\u001b[1;32m----> 1\u001b[1;33m \u001b[0mrand_sleep\u001b[0m\u001b[1;33m(\u001b[0m\u001b[1;36m2\u001b[0m\u001b[1;33m,\u001b[0m\u001b[1;36m5\u001b[0m\u001b[1;33m)\u001b[0m\u001b[1;33m\u001b[0m\u001b[1;33m\u001b[0m\u001b[0m\n\u001b[0m",
      "\u001b[1;31mTypeError\u001b[0m: inner() takes 1 positional argument but 2 were given"
     ]
    }
   ],
   "source": [
    "rand_sleep(2,5)"
   ]
  },
  {
   "cell_type": "code",
   "execution_count": 132,
   "metadata": {},
   "outputs": [],
   "source": [
    "# By using *args, **kwargs we can make decorator functions work on any functions\n",
    "from time import time\n",
    "\n",
    "def timer(func):\n",
    "    def inner(*args,**kwargs): # Note *args, **kwargs\n",
    "        before = time()\n",
    "        func(*args,**kwargs) # Note *args, **kwargs\n",
    "        after = time()\n",
    "        print(after-before)\n",
    "    return inner"
   ]
  },
  {
   "cell_type": "code",
   "execution_count": 134,
   "metadata": {},
   "outputs": [],
   "source": [
    "@timer\n",
    "def rand_sleep(lower,upper):\n",
    "    sleep(np.random.randint(lower,upper)/10)"
   ]
  },
  {
   "cell_type": "code",
   "execution_count": 135,
   "metadata": {},
   "outputs": [
    {
     "name": "stdout",
     "output_type": "stream",
     "text": [
      "0.4009230136871338\n"
     ]
    }
   ],
   "source": [
    "rand_sleep(2,5)"
   ]
  },
  {
   "cell_type": "markdown",
   "metadata": {},
   "source": [
    "##### Maintaining previous function docstring using functools' wraps \n",
    "* If we try to call the docstring of our modified function, we will get inner decorator function's docstring instead\n",
    "* To solve this use functools' `wraps`"
   ]
  },
  {
   "cell_type": "code",
   "execution_count": 157,
   "metadata": {},
   "outputs": [],
   "source": [
    "from time import time\n",
    "\n",
    "def timer(func):\n",
    "    def inner(*args,**kwargs): # Note *args, **kwargs\n",
    "        '''decorator doc string\n",
    "        '''\n",
    "        before = time()\n",
    "        func(*args,**kwargs) # Note *args, **kwargs\n",
    "        after = time()\n",
    "        print(after-before)\n",
    "    return inner"
   ]
  },
  {
   "cell_type": "code",
   "execution_count": 154,
   "metadata": {},
   "outputs": [],
   "source": [
    "@timer\n",
    "def rand_sleep(lower,upper):\n",
    "    '''sleep a random amount of time between a specified lower and upper bound\n",
    "    '''\n",
    "    sleep(np.random.randint(lower,upper)/10)"
   ]
  },
  {
   "cell_type": "code",
   "execution_count": 156,
   "metadata": {},
   "outputs": [
    {
     "name": "stdout",
     "output_type": "stream",
     "text": [
      "decorator doc string\n",
      "        \n"
     ]
    }
   ],
   "source": [
    "# you can see we get the inner decorator function's docstring\n",
    "print(rand_sleep.__doc__)"
   ]
  },
  {
   "cell_type": "code",
   "execution_count": 159,
   "metadata": {},
   "outputs": [],
   "source": [
    "from time import time\n",
    "from functools import wraps\n",
    "\n",
    "def timer(func):\n",
    "    @wraps(func)\n",
    "    def inner(*args,**kwargs): # Note *args, **kwargs\n",
    "        '''decorator doc string\n",
    "        '''\n",
    "        before = time()\n",
    "        func(*args,**kwargs) # Note *args, **kwargs\n",
    "        after = time()\n",
    "        print(after-before)\n",
    "    return inner"
   ]
  },
  {
   "cell_type": "code",
   "execution_count": 160,
   "metadata": {},
   "outputs": [],
   "source": [
    "@timer\n",
    "def rand_sleep(lower,upper):\n",
    "    '''sleep a random amount of time between a specified lower and upper bound\n",
    "    '''\n",
    "    sleep(np.random.randint(lower,upper)/10)"
   ]
  },
  {
   "cell_type": "code",
   "execution_count": 162,
   "metadata": {},
   "outputs": [
    {
     "name": "stdout",
     "output_type": "stream",
     "text": [
      "sleep a random amount of time between a specified lower and upper bound\n",
      "    \n"
     ]
    }
   ],
   "source": [
    "# We have the docstring of the modified function now\n",
    "print(rand_sleep.__doc__)"
   ]
  }
 ],
 "metadata": {
  "kernelspec": {
   "display_name": "Python 3",
   "language": "python",
   "name": "python3"
  },
  "language_info": {
   "codemirror_mode": {
    "name": "ipython",
    "version": 3
   },
   "file_extension": ".py",
   "mimetype": "text/x-python",
   "name": "python",
   "nbconvert_exporter": "python",
   "pygments_lexer": "ipython3",
   "version": "3.7.3"
  },
  "toc-showmarkdowntxt": false
 },
 "nbformat": 4,
 "nbformat_minor": 4
}
