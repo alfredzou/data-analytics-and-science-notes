{
 "cells": [
  {
   "cell_type": "markdown",
   "metadata": {
    "Collapsed": "false"
   },
   "source": [
    "<img src=\"https://www.python.org/static/community_logos/python-powered-w-200x80.png\" style=\"float: left; margin: 20px; height: 55px\">\n",
    "\n",
    "# Python Basics - Scripting\n",
    "\n",
    "_Author: Alfred Zou_\n",
    "\n",
    "---"
   ]
  },
  {
   "cell_type": "markdown",
   "metadata": {
    "Collapsed": "false",
    "toc-hr-collapsed": true,
    "toc-nb-collapsed": true
   },
   "source": [
    "## Python Scripts\n",
    "* Up to this point we have been importing Python modules from a package or library\n",
    "* Python scripts are made to be directly executed\n",
    "* We know when a script is being run directly because `__name__` will return `__main__`\n",
    "* Otherwise when we import it `__name__` will return `my_python_file_name`\n",
    "* We will verify this later with our own Python script\n",
    "\n",
    "```python\n",
    "#!my_python_path\n",
    "\n",
    "def main():\n",
    "    pass\n",
    "\n",
    "if __name__ == '__main__':\n",
    "    main()\n",
    "```"
   ]
  },
  {
   "cell_type": "markdown",
   "metadata": {},
   "source": [
    "##### Environment Variables\n",
    "* Environment variables are used by the command line to look for scripts to run, and by Python to look for modules to import\n",
    "* There are two types of environment variables:\n",
    "    * User variables that are specific to the user\n",
    "    * System variables that apply to all users"
   ]
  },
  {
   "cell_type": "markdown",
   "metadata": {},
   "source": [
    "* The important variables we'll be looking at are:\n",
    "    * `PATH`: path where the command line looks for scripts to run. `PATH` is a special variable, as it combines both system and user variables\n",
    "    * `PYTHONPATH`: additional paths where python looks for modules to import. If a user `PYTHONPATH` variable exists, it will overwrite the system `PYTHONPATH` variable\n",
    "    * `sys.path`: not an environment variable, but a Python specific variable where Pyhton looks for modules to import. It is setup when Python is run and is a combination of standard paths with `PYTHONPATH`"
   ]
  },
  {
   "cell_type": "markdown",
   "metadata": {},
   "source": [
    "##### Checking for Environment Variables through Command Line\n",
    "* `echo $PATH | tr \":\" \"\\n\"`\n",
    "* `echo $PYTHONPATH | tr \":\" \"\\n\"`\n",
    "* The bash command `tr`, or transform, replaces all colons with newlines for easier viewing"
   ]
  },
  {
   "cell_type": "code",
   "execution_count": 5,
   "metadata": {},
   "outputs": [
    {
     "name": "stdout",
     "output_type": "stream",
     "text": [
      "/usr/local/sbin\n",
      "/usr/local/bin\n",
      "/usr/sbin\n",
      "/usr/bin\n",
      "/sbin\n",
      "/bin\n",
      "/usr/games\n",
      "/usr/local/games\n",
      "/mnt/c/Users/draciel/Anaconda3\n",
      "/mnt/c/Users/draciel/Anaconda3/Library/mingw-w64/bin\n"
     ]
    }
   ],
   "source": [
    "%%bash\n",
    "# I've used head to suppress to 10 lines of output\n",
    "echo $PATH | tr \":\" \"\\n\" | head "
   ]
  },
  {
   "cell_type": "code",
   "execution_count": null,
   "metadata": {},
   "outputs": [],
   "source": [
    "%%bash\n",
    "# Not sure why this doesn't work through jupyter, but if you type the command in shell, it will work\n",
    "# If you set two python paths, notice the user PYTHONPATH will overwrite the system PYTHONPATH\n",
    "echo $PYTHONPATH"
   ]
  },
  {
   "cell_type": "markdown",
   "metadata": {},
   "source": [
    "##### Checking for Environment Variables through Python\n",
    "* `os.environ['MYPATH'].split(';')`: using the os module, you can use `os.environ` for a dictionary of all paths\n",
    "* `sys.path`: using the `sys` module"
   ]
  },
  {
   "cell_type": "code",
   "execution_count": 1,
   "metadata": {},
   "outputs": [
    {
     "data": {
      "text/plain": [
       "['C:\\\\Users\\\\draciel\\\\Anaconda3',\n",
       " 'C:\\\\Users\\\\draciel\\\\Anaconda3\\\\Library\\\\mingw-w64\\\\bin',\n",
       " 'C:\\\\Users\\\\draciel\\\\Anaconda3\\\\Library\\\\usr\\\\bin',\n",
       " 'C:\\\\Users\\\\draciel\\\\Anaconda3\\\\Library\\\\bin',\n",
       " 'C:\\\\Users\\\\draciel\\\\Anaconda3\\\\Scripts',\n",
       " 'C:\\\\Users\\\\draciel\\\\Anaconda3\\\\bin',\n",
       " 'C:\\\\Users\\\\draciel\\\\Anaconda3\\\\Scripts\\\\condabin',\n",
       " 'C:\\\\Users\\\\draciel\\\\bin',\n",
       " 'C:\\\\Program Files\\\\Git\\\\mingw64\\\\bin',\n",
       " 'C:\\\\Program Files\\\\Git\\\\usr\\\\local\\\\bin']"
      ]
     },
     "execution_count": 1,
     "metadata": {},
     "output_type": "execute_result"
    }
   ],
   "source": [
    "import os\n",
    "os.environ['PATH'].split(';')[:10]"
   ]
  },
  {
   "cell_type": "code",
   "execution_count": 2,
   "metadata": {},
   "outputs": [
    {
     "data": {
      "text/plain": [
       "'C:\\\\Users\\\\draciel\\\\Dropbox\\\\General_Assembly\\\\Github\\\\Notes\\\\Scripts'"
      ]
     },
     "execution_count": 2,
     "metadata": {},
     "output_type": "execute_result"
    }
   ],
   "source": [
    "os.environ['PYTHONPATH']"
   ]
  },
  {
   "cell_type": "code",
   "execution_count": 3,
   "metadata": {},
   "outputs": [
    {
     "data": {
      "text/plain": [
       "['C:\\\\Users\\\\draciel\\\\Dropbox\\\\General_Assembly\\\\Github\\\\Notes',\n",
       " 'C:\\\\Users\\\\draciel\\\\Dropbox\\\\General_Assembly\\\\Github\\\\Notes\\\\Scripts',\n",
       " 'C:\\\\Users\\\\draciel\\\\Anaconda3\\\\python37.zip',\n",
       " 'C:\\\\Users\\\\draciel\\\\Anaconda3\\\\DLLs',\n",
       " 'C:\\\\Users\\\\draciel\\\\Anaconda3\\\\lib',\n",
       " 'C:\\\\Users\\\\draciel\\\\Anaconda3',\n",
       " '',\n",
       " 'C:\\\\Users\\\\draciel\\\\Anaconda3\\\\lib\\\\site-packages',\n",
       " 'c:\\\\program files\\\\git\\\\src\\\\facebook-sdk',\n",
       " 'C:\\\\Users\\\\draciel\\\\Anaconda3\\\\lib\\\\site-packages\\\\win32']"
      ]
     },
     "execution_count": 3,
     "metadata": {},
     "output_type": "execute_result"
    }
   ],
   "source": [
    "# We can see the PYTHONPATH variable included in sys.path\n",
    "import sys\n",
    "sys.path[:10]"
   ]
  },
  {
   "cell_type": "markdown",
   "metadata": {},
   "source": [
    "##### Setting and Editing Environment Variables in Windows 10\n",
    "* Search and open `Edit the system environment variables`. This will open the `System Properties`\n",
    "* Click the `Environment Variables` button\n",
    "* Edit an existing variable or create a new variable. The important ones are `PATH` and `PYTHONPATH`\n",
    "* Click `OK` twice, your changes should now be implemented\n",
    "* If you have a command line open, you need to close and reopen it to refresh the paths"
   ]
  },
  {
   "cell_type": "markdown",
   "metadata": {},
   "source": [
    "##### Running a Python Script\n",
    "* There are two main options:\n",
    "    * Running it within the folder containing the script\n",
    "    * Running it anywhere"
   ]
  },
  {
   "cell_type": "markdown",
   "metadata": {},
   "source": [
    "##### Running a Python Script from Command Line (in the working directory)\n",
    "* `python my_file.py` and `python -m my_file` are equivalent and will run the Python file as a script. \n",
    "* `-m` is a flag that says import the module `my_file` and run it as a script, there is a subtle difference which I will address later"
   ]
  },
  {
   "cell_type": "markdown",
   "metadata": {},
   "source": [
    "##### Running a Python Script from Command Line (From anywhere)\n",
    "* You need to have the folder containing the script into your system's `PATH` variable to run the script for anywhere\n",
    "* You can check your path with `echo $PATH` in the CL\n",
    "* Then you need to add a shebang to the beginning of the Python script `#!my_python_path`, which points to where your Python is installed\n",
    "    * You can use the command line command `which python` to find the path to your Python. This essentially tells your command line to run this program using Python, note how we don't need to directly specify  the Python in `python my_file.py`\n",
    "    * My one is `/c/Users/draciel/Anaconda3/python`, then you simply just add a shebang to it `#!/c/Users/draciel/Anaconda3/python`\n",
    "    * This tells your computer to run it with Python, located at this path\n",
    "* You can then call your script with `my_file.py` from anywhere"
   ]
  },
  {
   "cell_type": "code",
   "execution_count": 13,
   "metadata": {},
   "outputs": [],
   "source": [
    "# Running this in shell won't work, because its not on our PATH\n",
    "'''shebang.py'''"
   ]
  },
  {
   "cell_type": "code",
   "execution_count": 13,
   "metadata": {},
   "outputs": [],
   "source": [
    "# Add the ../Notes/Scripts directory to your user PATH\n",
    "# Running this in shell will work\n",
    "'''shebang.py'''"
   ]
  },
  {
   "cell_type": "code",
   "execution_count": null,
   "metadata": {},
   "outputs": [],
   "source": [
    "# But running this in shell won't work\n",
    "# We haven't told this script, which interpreter to use\n",
    "'''no_shebang.py'''"
   ]
  },
  {
   "cell_type": "markdown",
   "metadata": {},
   "source": [
    "##### Importing a Python Module (From anywhere)\n",
    "* A permanent solution involves adding the folder path containing the package or library to `PYTHONPATH`\n",
    "* A temporary solution inserting the the folder path containing the package or library to `sys.path`"
   ]
  },
  {
   "cell_type": "markdown",
   "metadata": {},
   "source": [
    "* Importing from `PYTHONPATH`\n",
    "* I've alredy added the folder containing the script `onpath.py` to `PYTHONPATH`, so we should be able to import it from anywhere"
   ]
  },
  {
   "cell_type": "code",
   "execution_count": 1,
   "metadata": {},
   "outputs": [
    {
     "data": {
      "text/plain": [
       "'C:\\\\Users\\\\draciel\\\\Dropbox\\\\General_Assembly\\\\Github\\\\Notes\\\\Scripts'"
      ]
     },
     "execution_count": 1,
     "metadata": {},
     "output_type": "execute_result"
    }
   ],
   "source": [
    "# add ../Notes/Scripts to your user PYTHONPATH\n",
    "import os\n",
    "os.environ['PYTHONPATH']"
   ]
  },
  {
   "cell_type": "code",
   "execution_count": 3,
   "metadata": {},
   "outputs": [
    {
     "name": "stdout",
     "output_type": "stream",
     "text": [
      "__pycache__\n",
      "circles.py\n",
      "employee.py\n",
      "math_operations.py\n",
      "mocking.py\n",
      "name.py\n",
      "no_shebang.py\n",
      "notonpathfolder\n",
      "onpath.py\n",
      "shebang.py\n"
     ]
    }
   ],
   "source": [
    "# We can see our python script onpath.py is in the path\n",
    "!ls 'C:\\\\Users\\\\draciel\\\\Dropbox\\\\General_Assembly\\\\Github\\\\Notes\\\\Scripts' | head"
   ]
  },
  {
   "cell_type": "code",
   "execution_count": 4,
   "metadata": {},
   "outputs": [
    {
     "name": "stdout",
     "output_type": "stream",
     "text": [
      "I'm on path\n"
     ]
    }
   ],
   "source": [
    "import onpath"
   ]
  },
  {
   "cell_type": "markdown",
   "metadata": {},
   "source": [
    "* Importing by appending to `sys.path`\n",
    "* The script notonpath.py is not on `PYTHONPATH`, so if we want to import it, we can temporarily add it to the `sys.path`"
   ]
  },
  {
   "cell_type": "code",
   "execution_count": 5,
   "metadata": {},
   "outputs": [
    {
     "ename": "ModuleNotFoundError",
     "evalue": "No module named 'notonpath'",
     "output_type": "error",
     "traceback": [
      "\u001b[1;31m---------------------------------------------------------------------------\u001b[0m",
      "\u001b[1;31mModuleNotFoundError\u001b[0m                       Traceback (most recent call last)",
      "\u001b[1;32m<ipython-input-5-246bcb250ba1>\u001b[0m in \u001b[0;36m<module>\u001b[1;34m\u001b[0m\n\u001b[0;32m      1\u001b[0m \u001b[1;31m# We can't import it if we're not in the working directory\u001b[0m\u001b[1;33m\u001b[0m\u001b[1;33m\u001b[0m\u001b[1;33m\u001b[0m\u001b[0m\n\u001b[1;32m----> 2\u001b[1;33m \u001b[1;32mimport\u001b[0m \u001b[0mnotonpath\u001b[0m\u001b[1;33m\u001b[0m\u001b[1;33m\u001b[0m\u001b[0m\n\u001b[0m",
      "\u001b[1;31mModuleNotFoundError\u001b[0m: No module named 'notonpath'"
     ]
    }
   ],
   "source": [
    "# We can't import it if we're not in the working directory\n",
    "import notonpath"
   ]
  },
  {
   "cell_type": "code",
   "execution_count": 6,
   "metadata": {},
   "outputs": [
    {
     "data": {
      "text/plain": [
       "['C:\\\\Users\\\\draciel\\\\Dropbox\\\\General_Assembly\\\\Github\\\\Notes\\\\Scripts\\\\notonpathfolder',\n",
       " 'C:\\\\Users\\\\draciel\\\\Dropbox\\\\General_Assembly\\\\Github\\\\Notes',\n",
       " 'C:\\\\Users\\\\draciel\\\\Dropbox\\\\General_Assembly\\\\Github\\\\Notes\\\\Scripts',\n",
       " 'C:\\\\Users\\\\draciel\\\\Anaconda3\\\\python37.zip',\n",
       " 'C:\\\\Users\\\\draciel\\\\Anaconda3\\\\DLLs',\n",
       " 'C:\\\\Users\\\\draciel\\\\Anaconda3\\\\lib',\n",
       " 'C:\\\\Users\\\\draciel\\\\Anaconda3',\n",
       " '',\n",
       " 'C:\\\\Users\\\\draciel\\\\Anaconda3\\\\lib\\\\site-packages',\n",
       " 'c:\\\\program files\\\\git\\\\src\\\\facebook-sdk',\n",
       " 'C:\\\\Users\\\\draciel\\\\Anaconda3\\\\lib\\\\site-packages\\\\win32',\n",
       " 'C:\\\\Users\\\\draciel\\\\Anaconda3\\\\lib\\\\site-packages\\\\win32\\\\lib',\n",
       " 'C:\\\\Users\\\\draciel\\\\Anaconda3\\\\lib\\\\site-packages\\\\Pythonwin',\n",
       " 'C:\\\\Users\\\\draciel\\\\Anaconda3\\\\lib\\\\site-packages\\\\IPython\\\\extensions',\n",
       " 'C:\\\\Users\\\\draciel\\\\.ipython']"
      ]
     },
     "execution_count": 6,
     "metadata": {},
     "output_type": "execute_result"
    }
   ],
   "source": [
    "# We take the current directory and supply the folder path, then insert it into sys.path\n",
    "# This is temporary and will reset on restarting Python\n",
    "import os, sys\n",
    "sys.path.insert(0,os.getcwd()+ r\"\\Scripts\\notonpathfolder\")\n",
    "sys.path"
   ]
  },
  {
   "cell_type": "code",
   "execution_count": 7,
   "metadata": {},
   "outputs": [
    {
     "name": "stdout",
     "output_type": "stream",
     "text": [
      "I'm not on path\n"
     ]
    }
   ],
   "source": [
    "import notonpath"
   ]
  },
  {
   "cell_type": "markdown",
   "metadata": {},
   "source": [
    "##### Running a Python Script from Command Line (from anywhere)\n",
    "* `python -m my_file` has special properties as it first imports the module then runs it as a script\n",
    "* Therefore, it uses `PYTHONPATH` not `PATH`"
   ]
  },
  {
   "cell_type": "code",
   "execution_count": 8,
   "metadata": {},
   "outputs": [
    {
     "name": "stdout",
     "output_type": "stream",
     "text": [
      "I'm on path\n"
     ]
    }
   ],
   "source": [
    "!python -m onpath"
   ]
  },
  {
   "cell_type": "code",
   "execution_count": 9,
   "metadata": {},
   "outputs": [
    {
     "name": "stderr",
     "output_type": "stream",
     "text": [
      "C:\\Users\\draciel\\Anaconda3\\python.exe: No module named notonpath\n"
     ]
    }
   ],
   "source": [
    "!python -m notonpath"
   ]
  },
  {
   "cell_type": "markdown",
   "metadata": {},
   "source": [
    "##### Module vs. Script\n",
    "* As previously discussed modules are to be imported and scripts are to be run directly\n",
    "* We know when a script is being run, as its `__name__` is `__main__`\n",
    "* We know when a module is being imported, as its `__name__` is `my_python_file`"
   ]
  },
  {
   "cell_type": "code",
   "execution_count": 29,
   "metadata": {},
   "outputs": [],
   "source": [
    "# Run this to open the script in visual studio code\n",
    "!code Scripts/name.py"
   ]
  },
  {
   "cell_type": "code",
   "execution_count": 9,
   "metadata": {},
   "outputs": [
    {
     "name": "stdout",
     "output_type": "stream",
     "text": [
      "The __name__ is: __main__\n",
      "I'm running as a script.\n"
     ]
    }
   ],
   "source": [
    "!python -m name"
   ]
  },
  {
   "cell_type": "code",
   "execution_count": 7,
   "metadata": {},
   "outputs": [
    {
     "name": "stdout",
     "output_type": "stream",
     "text": [
      "The __name__ is: name\n",
      "I'm being imported\n"
     ]
    }
   ],
   "source": [
    "import name"
   ]
  },
  {
   "cell_type": "markdown",
   "metadata": {},
   "source": [
    "##### Refreshing a module\n",
    "* Often we want to change a module, then test the changed code\n",
    "* However when we use `import` in python, in reality it checks if the module has been imported already. If it hasn't it will then import the module, else it will do nothing\n",
    "* There are a few options:\n",
    "    * Refresh the kernal. That means restarting our terminal or jupyter lab\n",
    "    * Use `importlib.refresh` module to refresh it\n",
    "    * If you're using jupyter lab, you can use autoreload"
   ]
  },
  {
   "cell_type": "markdown",
   "metadata": {},
   "source": [
    "##### Refreshing with importlib\n",
    "* `import my_package`"
   ]
  },
  {
   "cell_type": "code",
   "execution_count": 28,
   "metadata": {},
   "outputs": [
    {
     "name": "stdout",
     "output_type": "stream",
     "text": [
      "Overwriting Scripts\\refresh.py\n"
     ]
    }
   ],
   "source": [
    "%%writefile \"Scripts\\refresh.py\"\n",
    "\n",
    "def my_mod():\n",
    "    print('hello')"
   ]
  },
  {
   "cell_type": "code",
   "execution_count": 29,
   "metadata": {},
   "outputs": [
    {
     "name": "stdout",
     "output_type": "stream",
     "text": [
      "hello\n"
     ]
    }
   ],
   "source": [
    "import refresh\n",
    "refresh.my_mod()"
   ]
  },
  {
   "cell_type": "code",
   "execution_count": 30,
   "metadata": {},
   "outputs": [
    {
     "name": "stdout",
     "output_type": "stream",
     "text": [
      "Overwriting Scripts\\refresh.py\n"
     ]
    }
   ],
   "source": [
    "%%writefile \"Scripts\\refresh.py\"\n",
    "\n",
    "def my_mod():\n",
    "    print('bye')"
   ]
  },
  {
   "cell_type": "code",
   "execution_count": 31,
   "metadata": {},
   "outputs": [
    {
     "name": "stdout",
     "output_type": "stream",
     "text": [
      "hello\n"
     ]
    }
   ],
   "source": [
    "# Notice how the module didn't refresh\n",
    "import refresh\n",
    "refresh.my_mod()"
   ]
  },
  {
   "cell_type": "code",
   "execution_count": 32,
   "metadata": {},
   "outputs": [
    {
     "name": "stdout",
     "output_type": "stream",
     "text": [
      "bye\n"
     ]
    }
   ],
   "source": [
    "import importlib\n",
    "importlib.reload(refresh)\n",
    "refresh.my_mod()"
   ]
  },
  {
   "cell_type": "markdown",
   "metadata": {},
   "source": [
    "* To use `urllib` with `from my_package import my_module`, you need to `import my_package` first"
   ]
  },
  {
   "cell_type": "code",
   "execution_count": 7,
   "metadata": {},
   "outputs": [
    {
     "name": "stdout",
     "output_type": "stream",
     "text": [
      "Overwriting Scripts\\refresh.py\n"
     ]
    }
   ],
   "source": [
    "%%writefile \"Scripts\\refresh.py\"\n",
    "\n",
    "def my_mod():\n",
    "    print('hello')"
   ]
  },
  {
   "cell_type": "code",
   "execution_count": 8,
   "metadata": {},
   "outputs": [
    {
     "name": "stdout",
     "output_type": "stream",
     "text": [
      "hello\n"
     ]
    }
   ],
   "source": [
    "import refresh\n",
    "from refresh import my_mod\n",
    "my_mod()"
   ]
  },
  {
   "cell_type": "code",
   "execution_count": 9,
   "metadata": {},
   "outputs": [
    {
     "name": "stdout",
     "output_type": "stream",
     "text": [
      "Overwriting Scripts\\refresh.py\n"
     ]
    }
   ],
   "source": [
    "%%writefile \"Scripts\\refresh.py\"\n",
    "\n",
    "def my_mod():\n",
    "    print('bye')"
   ]
  },
  {
   "cell_type": "code",
   "execution_count": 10,
   "metadata": {},
   "outputs": [
    {
     "name": "stdout",
     "output_type": "stream",
     "text": [
      "hello\n"
     ]
    }
   ],
   "source": [
    "# Notice how the module didn't refresh\n",
    "import refresh\n",
    "from refresh import my_mod\n",
    "my_mod()"
   ]
  },
  {
   "cell_type": "code",
   "execution_count": 11,
   "metadata": {},
   "outputs": [
    {
     "name": "stdout",
     "output_type": "stream",
     "text": [
      "bye\n"
     ]
    }
   ],
   "source": [
    "import importlib\n",
    "importlib.reload(refresh)\n",
    "refresh.my_mod()"
   ]
  },
  {
   "cell_type": "markdown",
   "metadata": {},
   "source": [
    "##### Autoreload with jupyter\n",
    "* Read about how to [use it here](https://ipython.readthedocs.io/en/stable/config/extensions/autoreload.html)\n",
    "* First you need to load the extension using `%load_ext autoreload`\n",
    "* `%autoreload 2` reloads all modules before running any python script"
   ]
  },
  {
   "cell_type": "code",
   "execution_count": null,
   "metadata": {},
   "outputs": [],
   "source": [
    "%load_ext autoreload\n",
    "%autoreload 2"
   ]
  },
  {
   "cell_type": "code",
   "execution_count": 2,
   "metadata": {},
   "outputs": [
    {
     "name": "stdout",
     "output_type": "stream",
     "text": [
      "Overwriting Scripts\\refresh.py\n"
     ]
    }
   ],
   "source": [
    "%%writefile \"Scripts\\refresh.py\"\n",
    "\n",
    "def my_mod():\n",
    "    print('hello')"
   ]
  },
  {
   "cell_type": "code",
   "execution_count": 3,
   "metadata": {},
   "outputs": [
    {
     "name": "stdout",
     "output_type": "stream",
     "text": [
      "hello\n"
     ]
    }
   ],
   "source": [
    "from refresh import my_mod\n",
    "my_mod()"
   ]
  },
  {
   "cell_type": "code",
   "execution_count": 4,
   "metadata": {},
   "outputs": [
    {
     "name": "stdout",
     "output_type": "stream",
     "text": [
      "Overwriting Scripts\\refresh.py\n"
     ]
    }
   ],
   "source": [
    "%%writefile \"Scripts\\refresh.py\"\n",
    "\n",
    "def my_mod():\n",
    "    print('bye')"
   ]
  },
  {
   "cell_type": "code",
   "execution_count": 5,
   "metadata": {},
   "outputs": [
    {
     "name": "stdout",
     "output_type": "stream",
     "text": [
      "bye\n"
     ]
    }
   ],
   "source": [
    "my_mod()"
   ]
  },
  {
   "cell_type": "markdown",
   "metadata": {
    "toc-hr-collapsed": true,
    "toc-nb-collapsed": true
   },
   "source": [
    "## Writing Scripts with Visual Studio Code\n",
    "* Visual Studio Code is a text editor that makes it easier to write long scripts\n",
    "* The features it offers for python are:\n",
    "    * Debugging: fix errors in your code without resulting to lots of print statements\n",
    "    * Linting: analyses your code and lets you know if there are any errors\n",
    "    * Intellisense: code completion\n",
    "    * Syntax highlighting: displays source code in different colours to improve readability\n",
    "    * Github & unit testing integration\n",
    "    * Environment support for different python environments\n",
    "    * Lots of extensions"
   ]
  },
  {
   "cell_type": "markdown",
   "metadata": {},
   "source": [
    "##### Setup\n",
    "* Before using vscode, we need to do some setup to prepare for writing python scripts\n",
    "* Most of the features of vscode for python comes form the python extension\n",
    "* `Cntrl + Shift + X` to navigate to the extensions tab. Search for Python and install it\n",
    "    * In the bottom left, you can choose your desired python environment\n",
    "    * When prompted to install linting, install it\n",
    "    * When prompted to install an auto formatter. Install any. I use Black, you can consider other formatters [autopep8 and yapf here](https://medium.com/3yourmind/auto-formatters-for-python-8925065f9505)."
   ]
  },
  {
   "cell_type": "markdown",
   "metadata": {},
   "source": [
    "##### Modify the settings\n",
    "* vscode has heaps of settings you can modify to make your coding experience better\n",
    "* `Cntrl + ,`: to open settings\n",
    "    * Note the settings will normally open in a GUI interface. In the top right you button you can open the settings in the json format, which is a lot easier to read. You can also open the default json settings side-by-side, by adding `\"workbench.settings.openDefaultSettings\": true` to your settings\n",
    "    * Consider setting `\"python.formatting.provider\": \"black\"` and `\"editor.formatOnSave\": true` to ensure black is always the auto formatter used, and to auto format on save\n",
    "* `Cntrl + K Cntrl + S`: open keyboard shortcuts\n",
    "    * Consider adding a hotkey for `Python: Run Python File in Terminal`. I've set it to `Cntrl + Alt + N`\n",
    "    * Consider adding a hotkey for `Terminal: Kill the Active Terminal Instance`. I've set it to `Cntrl + W` with when condition `terminalFocus`\n",
    "    * Consider setting `View: Close Editor` with when condition `!terminalFocus`\n",
    "* If you want to use git bash for your terminal:\n",
    "    * You need to open your `.bashrc` file and add the line `eval \"$('my_conda_path' 'shell.bash' 'hook')\"`. The location of your conda can be found with `which conda`. The location of the `.bashrc` file can be opened from `code ~/.bashrc`. If it doesn't exist create it using `touch ~/.bashrc`. Its a hidden file so use `ls -a` to locate it. Something about conda activating using `bash_profile` instead of `.bashrc`. Read more about [the process here](https://stackoverflow.com/questions/57560017/stuck-when-setting-up-to-use-anaconda-with-vs-code-and-integrated-git-terminal)\n",
    "* When using the debugger for unit tests, which will be covered later\n",
    "    * Consider setting `\"python.envFile\": \"${python.pythonPath}/.env\"` to ensure your debugger uses your current python environment, or else it won't work. This is because it searches within the scripts folder for a folder containing the .env folder"
   ]
  },
  {
   "cell_type": "markdown",
   "metadata": {},
   "source": [
    "##### Shortcuts\n",
    "* `Cntrl + shift + P`: open command palette, which is a search tool for all commands\n",
    "* `Cntrl + N`: open a new editor\n",
    "* `Cntrl + W`: close active editor\n",
    "* `Cntrl + Shift + W`: close vscode\n",
    "* `Cntrl + Shift + Tab`: open most recently closed editor\n",
    "* `Cntrl + Page up`: switch to left editor\n",
    "* `Cntrl + Page down`: switch to right editor\n",
    "* `Cntrl + tab`: switch to the most recently used window\n",
    "* `Cntrl + shift + tab`: switch to the least recently used window\n",
    "* `Cntrl + \\`: split the editor\n",
    "* `Cntrl + #`: switch to the #th group or split panel window\n",
    "* `RMB + Run Python File in Terminal`: runs the current Python file in terminal\n",
    "* `Shift + Enter`: run selected code in an interactive python environment, similar to jupyter lab. In addition, it has a variable inspector\n",
    "* ``Cntrl + ` ``: toggle terminal\n",
    "* ``Cntrl + shift + ` ``: open a terminal using the selected virtual environment\n",
    "* `F12`: open definition\n",
    "* `Alt + F12`: peak definition\n",
    "* `Shift + Alt + F`: Auto format\n",
    "* `Shift + Space`: Open intellisence. `Tab` or `Space` to auto complete\n",
    "* `Cntrl + Shift + Space`: trigger parameter hints\n",
    "* `Cntrl + K Cntrl + I`: trigger docstring hover\n",
    "* `Esc`: hide parameter hints or docstring hover\n",
    "* `Cntrl + B`: hide sidebar"
   ]
  },
  {
   "cell_type": "markdown",
   "metadata": {},
   "source": [
    "##### Github Integration\n",
    "* `Cntrl + Shift + G`: Open source control tab\n",
    "* Everything you can do in the commandline, can also be done through the GUI in the source control tab\n",
    "* Changed files are represented with a `M`\n",
    "    * It's easy to view the changes made: `right click file and open changes`\n",
    "* Untracked files are represented with a `U`"
   ]
  },
  {
   "cell_type": "markdown",
   "metadata": {},
   "source": [
    "##### Debugging\n",
    "* An inefficient way of debugging is to put lots of print statements everywhere. This forces you to constantly delete and check your code\n",
    "* An efficient way of debugging is to use a debugger. A debugger allows you to set breakpoints and inspect variable values, as your script runs\n",
    "* `Cntrl + Shift + D`: Open debugging tab\n",
    "* `F5`: start debugging. Stop at break point or at end of script\n",
    "* `F10`: step over. If there is a function call, execute the function like a black box. You can't see how the function was executed\n",
    "* `F11`: step into. If there is a function call, go inside the function and execute it line by line until it returns.\n",
    "* `Shift + F11`: step out. If you've stepped into a function call, you can step out without executing it until it returns.\n",
    "* `Shift + F5`: stop debugging\n",
    "* `Cntrl + Shift + F5`: restart debugging\n",
    "* You can add variables to watch: `click the plus button`\n",
    "* You can also open the `DEBUG CONSOLE`: where you can interact with the script, as its running"
   ]
  },
  {
   "cell_type": "code",
   "execution_count": 10,
   "metadata": {},
   "outputs": [],
   "source": [
    "# Practice debugging here\n",
    "!code Scripts/debug.py"
   ]
  },
  {
   "cell_type": "markdown",
   "metadata": {
    "toc-hr-collapsed": true,
    "toc-nb-collapsed": true
   },
   "source": [
    "## Unit tests\n",
    "* Unit tests are a combination of input and expected output cases used to verify your code is working as intended\n",
    "* They make sure your code doesn't break when you make changes to it\n",
    "* You can imagine how helpful this would be when working with a huge code base\n",
    "* If your code base is too huge, it maybe impossible to separately test the functionality of your code with every change\n",
    "* Writing unit tests and confirming your code passes these unit tests, will provide you with a lot of peace of mind\n",
    "* Putting a lot of print statements isn't easy to automate nor a good way to affirm your code is working as intended\n",
    "* Some people write the unit tests before the actual script"
   ]
  },
  {
   "cell_type": "markdown",
   "metadata": {},
   "source": [
    "##### Writing Unit Tests\n",
    "* Writing unit tests are easy with the unittest package\n",
    "* First write the script to be tested\n",
    "* We can use `raise` to raise errors, which will be useful to enforce our scripts work a certain way\n",
    "* Refer to control flow notebook if you need a reminder on basic error handling with exception catching, `try-except-finally` statements, `assert` and `raise`\n",
    "\n",
    "``` python\n",
    "# circles.py\n",
    "from math import pi \n",
    "\n",
    "def circle_area(r):\n",
    "    if r < 0:\n",
    "        raise ValueError(\"A circle must have a length\")\n",
    "    return pi * (r ** 2)\n",
    "```"
   ]
  },
  {
   "cell_type": "markdown",
   "metadata": {},
   "source": [
    "* Next write the unit test script. This is where it gets tricky\n",
    "* We name the unit test script as `test_my_script` or `my_script_test`\n",
    "* First we need to import the `unittest` module, the module dependencies like `pi` and the module we want to test, or `circle_area`\n",
    "* Then we need to create a subclass of the `unittest.TestCase` class\n",
    "* Next we write as many unit tests we want as methods. Note the unit tests must be prefixed with `test` or they won't run\n",
    "* Recall that unit tests are just combinations of expected inputs and outputs. We write conditional statements to check this\n",
    "* We can check heaps of things: if variables match a value, if variables are of the correct type, etc.\n",
    "* You can find the conditionals [statements here](https://docs.python.org/3.4/library/unittest.html#unittest.TestCase.debug)\n",
    "\n",
    "```python\n",
    "# test_circles.py or circles_test.py\n",
    "import unittest\n",
    "from math import pi\n",
    "from circles import circle_area\n",
    "\n",
    "class TestCircleArea(unittest.TestCase):\n",
    "    def test_area(self):\n",
    "        # Test areas when radius >= 0\n",
    "        self.assertAlmostEqual(circle_area(1), pi)\n",
    "        self.assertAlmostEqual(circle_area(0), 0)\n",
    "        self.assertAlmostEqual(circle_area(2.1), pi * 2.1 ** 2)        \n",
    "        \n",
    "    def skipped_test(self):\n",
    "        # By not prefixing our function with test, it doesn't get tested\n",
    "        pass       \n",
    "```"
   ]
  },
  {
   "cell_type": "markdown",
   "metadata": {},
   "source": [
    "##### Conditional statements in depth\n",
    "``` python\n",
    "# checking if a variable is equal to a given output, for a given input\n",
    "self.assertAlmostEqual(my_module(my_input),my_output)\n",
    "\n",
    "# checking if the module raises a specific error, for a given input\n",
    "self.assertRaises(MyError, my_module, my_input)\n",
    "\n",
    "# Alternatively, error checking with a context manager\n",
    "with self.assertRaises(MyError):\n",
    "    my_module(my_input)\n",
    "```"
   ]
  },
  {
   "cell_type": "code",
   "execution_count": 16,
   "metadata": {},
   "outputs": [],
   "source": [
    "# Have a look at the script and the associated unit test written in vscode\n",
    "# Later on I have shown how to fix up the main script, to pass all unit tests\n",
    "!code Scripts/circles.py\n",
    "!code Scripts/test_circles.py"
   ]
  },
  {
   "cell_type": "markdown",
   "metadata": {},
   "source": [
    "##### Running Unit Tests\n",
    "* `python -m unittest my_test_file`: runs a specified test\n",
    "* `.` indicates test succeeded and `F` indicates the test failed\n",
    "* `python -m unittest`: searches for all tests in the directory and run them\n",
    "* `-v`: at the end, adds verbosity and lets you know which tests passed and which tests failed"
   ]
  },
  {
   "cell_type": "code",
   "execution_count": 17,
   "metadata": {},
   "outputs": [
    {
     "name": "stderr",
     "output_type": "stream",
     "text": [
      ".FF\n",
      "======================================================================\n",
      "FAIL: test_types (test_circles.TestCircleArea)\n",
      "----------------------------------------------------------------------\n",
      "Traceback (most recent call last):\n",
      "  File \"C:\\Users\\draciel\\Dropbox\\General_Assembly\\Github\\Notes\\Scripts\\test_circles.py\", line 23, in test_types\n",
      "    self.assertRaises(TypeError, circle_area, 2 + 5j)\n",
      "AssertionError: TypeError not raised by circle_area\n",
      "\n",
      "======================================================================\n",
      "FAIL: test_values (test_circles.TestCircleArea)\n",
      "----------------------------------------------------------------------\n",
      "Traceback (most recent call last):\n",
      "  File \"C:\\Users\\draciel\\Dropbox\\General_Assembly\\Github\\Notes\\Scripts\\test_circles.py\", line 19, in test_values\n",
      "    self.assertRaises(ValueError, circle_area, -2)\n",
      "AssertionError: ValueError not raised by circle_area\n",
      "\n",
      "----------------------------------------------------------------------\n",
      "Ran 3 tests in 0.001s\n",
      "\n",
      "FAILED (failures=2)\n"
     ]
    }
   ],
   "source": [
    "!python -m unittest test_circles"
   ]
  },
  {
   "cell_type": "markdown",
   "metadata": {},
   "source": [
    "* This allows for testing by running the python test script directly\n",
    "\n",
    "``` python\n",
    "if __name__ == \"__main__\":\n",
    "    unittest.main()\n",
    "```"
   ]
  },
  {
   "cell_type": "code",
   "execution_count": 18,
   "metadata": {},
   "outputs": [
    {
     "name": "stderr",
     "output_type": "stream",
     "text": [
      ".FF\n",
      "======================================================================\n",
      "FAIL: test_types (__main__.TestCircleArea)\n",
      "----------------------------------------------------------------------\n",
      "Traceback (most recent call last):\n",
      "  File \"C:\\Users\\draciel\\Dropbox\\General_Assembly\\Github\\Notes\\Scripts\\test_circles.py\", line 23, in test_types\n",
      "    self.assertRaises(TypeError, circle_area, 2 + 5j)\n",
      "AssertionError: TypeError not raised by circle_area\n",
      "\n",
      "======================================================================\n",
      "FAIL: test_values (__main__.TestCircleArea)\n",
      "----------------------------------------------------------------------\n",
      "Traceback (most recent call last):\n",
      "  File \"C:\\Users\\draciel\\Dropbox\\General_Assembly\\Github\\Notes\\Scripts\\test_circles.py\", line 19, in test_values\n",
      "    self.assertRaises(ValueError, circle_area, -2)\n",
      "AssertionError: ValueError not raised by circle_area\n",
      "\n",
      "----------------------------------------------------------------------\n",
      "Ran 3 tests in 0.001s\n",
      "\n",
      "FAILED (failures=2)\n"
     ]
    }
   ],
   "source": [
    "!python -m test_circles"
   ]
  },
  {
   "cell_type": "markdown",
   "metadata": {},
   "source": [
    "##### vscode (unit test integration)\n",
    "* `Open command palette and search for 'Discover Tests'`: \n",
    "* In the activity bar you will now see the testing tab. In the testing tab, vscode provides a nice GUI to visualise your test cases\n",
    "* Above your test cases, you will also see `Run Test` and `Debug Test` buttons. The `Debug Test` button won't work out of the box, you will need to configuire it. See Modify the Settings section"
   ]
  },
  {
   "cell_type": "code",
   "execution_count": null,
   "metadata": {},
   "outputs": [],
   "source": [
    "# By writing exception handling in the main script, we can pass all unit tests in the test scripts\n",
    "!code Scripts/circles.py\n",
    "!code Scripts/test_circles.py\n",
    "!code Scripts/circles_1.py\n",
    "!code Scripts/test_circles_1.py\n",
    "!code Scripts/circles_2.py\n",
    "!code Scripts/test_circles_2.py"
   ]
  },
  {
   "cell_type": "markdown",
   "metadata": {},
   "source": [
    "##### Advanced Unit Testing\n",
    "* `setUpClass`: run at the beginning of the unit test suite. Requires a `@classmethod` decorator\n",
    "* `tearDownClass`: runs at the end of the unit test suite. Requires a `@classmethod` decorator\n",
    "* `setUp`: runs at the beginning of each test. This could be useful for setting the initial conditions\n",
    "* `tearDown`: runs at the end of each test. This is useful for clean up\n",
    "\n",
    "``` python\n",
    "@classmethod\n",
    "def setUpClass(cls):\n",
    "    pass\n",
    "\n",
    "def tearDownClass(cls):\n",
    "    pass\n",
    "\n",
    "def setUp(self):\n",
    "    pass\n",
    "\n",
    "def tearDown(self):\n",
    "    pass\n",
    "```"
   ]
  },
  {
   "cell_type": "code",
   "execution_count": 1,
   "metadata": {},
   "outputs": [],
   "source": [
    "# Look at the main and test script I've written for an Employee class\n",
    "# Note it uses some advanced class ideas with the property decorator, getter and setters. Refer to the class notebook\n",
    "!code Scripts/employee.py\n",
    "!code Scripts/test_employee.py"
   ]
  },
  {
   "cell_type": "code",
   "execution_count": 3,
   "metadata": {},
   "outputs": [
    {
     "name": "stdout",
     "output_type": "stream",
     "text": [
      "setupClass\n",
      "\n",
      "setting up employee 1 & 2\n",
      "Checking email OK on init and changing firstname\n",
      "deleting employee 1 & 2\n",
      "\n",
      "setting up employee 1 & 2\n",
      "Checking fullname OK on init and changing firstname\n",
      "deleting employee 1 & 2\n",
      "\n",
      "setting up employee 1 & 2\n",
      "Checking init OK\n",
      "deleting employee 1 & 2\n",
      "\n",
      "setting up employee 1 & 2\n",
      "Checking input conditions are string only\n",
      "deleting employee 1 & 2\n",
      "\n",
      "setting up employee 1 & 2\n",
      "Checking getter method\n",
      "deleting employee 1 & 2\n",
      "\n",
      "tearDownClass\n",
      "\n"
     ]
    },
    {
     "name": "stderr",
     "output_type": "stream",
     "text": [
      ".....\n",
      "----------------------------------------------------------------------\n",
      "Ran 5 tests in 0.000s\n",
      "\n",
      "OK\n"
     ]
    }
   ],
   "source": [
    "# As you can see the setUpClass runs at the beginning of the test suite, tearDownClass runs at the end of the test suite, setUp runs at the beginning of each test and tearDown runs at the end of each test\n",
    "!python -m test_employee"
   ]
  },
  {
   "cell_type": "markdown",
   "metadata": {},
   "source": [
    "##### Mocking\n",
    "* When our code is dependent on 3rd party dependencies, like someone else's code or a website being up, we don't want our unittest to be dependent on those\n",
    "* This is where mocking comes into play, where we hijack an object and replace it with our own values\n",
    "* To do this we use `unittest.mock.patch` to intercept a module like `requests.get`, and replace it with a `Mock` class\n",
    "* This `Mock` class we can overwrite the returned values, allowing us for consistent tests using the `unittest` package\n",
    "* Mocking is very deep and complex, this is only scratching the surface"
   ]
  },
  {
   "cell_type": "code",
   "execution_count": 4,
   "metadata": {},
   "outputs": [],
   "source": [
    "# Have a look at my examples of mocking\n",
    "!code Scripts/mocking.py\n",
    "!code Scripts/test_mocking.py"
   ]
  },
  {
   "cell_type": "code",
   "execution_count": 8,
   "metadata": {},
   "outputs": [
    {
     "name": "stdout",
     "output_type": "stream",
     "text": [
      "The type of requests.get is: \n",
      "<class 'requests.models.Response'>\n",
      "\n",
      "The r.ok is: \n",
      "True\n",
      "\n",
      "The first 50 characters of the html is: \n",
      "<!doctype html>\n",
      "<html>\n",
      "<head>\n",
      "    <title>Example D\n",
      "\n"
     ]
    }
   ],
   "source": [
    "# This one is based off of http://example.com/ website being up\n",
    "!python -m mocking"
   ]
  },
  {
   "cell_type": "code",
   "execution_count": 9,
   "metadata": {},
   "outputs": [
    {
     "name": "stdout",
     "output_type": "stream",
     "text": [
      "The type of requests.get is: \n",
      "<class 'unittest.mock.MagicMock'>\n",
      "\n",
      "The r.ok is: \n",
      "True\n",
      "\n",
      "The first 50 characters of the html is: \n",
      "I'm mocked\n",
      "\n",
      "The type of requests.get is: \n",
      "<class 'unittest.mock.MagicMock'>\n",
      "\n",
      "The r.ok is: \n",
      "False\n",
      "\n",
      "The first 50 characters of the html is: \n",
      "I'm not mocked\n",
      "\n"
     ]
    },
    {
     "name": "stderr",
     "output_type": "stream",
     "text": [
      ".\n",
      "----------------------------------------------------------------------\n",
      "Ran 1 test in 0.000s\n",
      "\n",
      "OK\n"
     ]
    }
   ],
   "source": [
    "# You can see we have mocked requests.get for the mocking.py script\n",
    "!python -m test_mocking"
   ]
  },
  {
   "cell_type": "markdown",
   "metadata": {
    "toc-hr-collapsed": true,
    "toc-nb-collapsed": true
   },
   "source": [
    "## Logging\n",
    "* Logging is also another alternative to lots of print statements, which need to be removed later in the code\n",
    "* Logging helps us find out whats going in our code\n",
    "    * Especially if a user runs into an error, it can help a lot when debugging\n",
    "* Logging provides a lot of flexibility, as it allows us to classify our messages into different levels and redirect the outputs"
   ]
  },
  {
   "cell_type": "markdown",
   "metadata": {},
   "source": [
    "##### Logging in Python with the root logger\n",
    "* To do logging in Python, we'll use the built-in module `logging`\n",
    "* There are 5 built-in logging levels:\n",
    "    * `DEBUG`: Detailed information, typically of interest only when diagnosing problems.\n",
    "    * `INFO`: Confirmation that things are working as expected.\n",
    "    * `WARNING`: An indication that something unexpected happened, or indicative of some problem in the near future (e.g. ‘disk space low’). The software is still working as expected.\n",
    "    * `ERROR`: Due to a more serious problem, the software has not been able to perform some function.\n",
    "    * `CRITICAL`: A serious error, indicating that the program itself may be unable to continue running.\n",
    "* By default we are using the `root logger`, but it's good practice to explicitly create a logger for extra customisability or preventing conflicts\n",
    "* We log by calling `logging.my_level(my_msg)`"
   ]
  },
  {
   "cell_type": "code",
   "execution_count": 11,
   "metadata": {},
   "outputs": [],
   "source": [
    "# Basic logging with the root logger\n",
    "!code Scripts/log.py"
   ]
  },
  {
   "cell_type": "markdown",
   "metadata": {},
   "source": [
    "##### Logging in Python by customising the root logger\n",
    "* We can configure our logger using `logging.basicConfig()`\n",
    "    * We can set the level with `level=logging.my_level`. If we set the level as `level=logging.WARNING`, any logs below that, or Debug or Info, won't appear\n",
    "    * We can set the format with `format = my_log_format`. You can find the [syntax here](https://docs.python.org/3/library/logging.html#logrecord-attributes)\n",
    "    * We can set the file path with `filename = my_path.log`\n",
    "* Anytime we call `logging.my_level(my_msg)` or `logging.basicConfig()`, the root logging configurations are set and cannot be changed. The root logging configurations can only be set once"
   ]
  },
  {
   "cell_type": "code",
   "execution_count": 11,
   "metadata": {},
   "outputs": [],
   "source": [
    "# Configuring the root logger to specify level, log path and format. Showcase that the root logging configurations can only be set once\n",
    "!code Scripts/log_2.py"
   ]
  },
  {
   "cell_type": "markdown",
   "metadata": {},
   "source": [
    "##### Creating our own loggers and customising them with handlers\n",
    "* We can create our own loggers, which are customised by `FileHandlers` and `StreamHandlers`, which provide us the flexibilty to redirect outputs\n",
    "* Multiple handlers can be attached to one logger\n",
    "* `FileHandlers` handle the outputting into files, while `StreamHandlers` handle the outputting into the terminal"
   ]
  },
  {
   "cell_type": "code",
   "execution_count": 1,
   "metadata": {},
   "outputs": [],
   "source": [
    "# Creating your own loggers, and customising them with FileHandlers and StreamHandlers\n",
    "!code Scripts/log_3.py"
   ]
  },
  {
   "cell_type": "markdown",
   "metadata": {},
   "source": [
    "##### Logging over multiple files\n",
    "* When logging over multiple files, we must never use the `root logger`\n",
    "* This will cause issues, because the `root logger` can only be customised once\n",
    "* Instead we create a custom logger, with the convention that the logger name is equal to `__name__` (`logger = logging.getLogger(__name__)`)"
   ]
  },
  {
   "cell_type": "code",
   "execution_count": 12,
   "metadata": {},
   "outputs": [],
   "source": [
    "# Logging across mupltiple files\n",
    "!code Scripts/log_4_script.py\n",
    "!code Scripts/log_4_module.py"
   ]
  },
  {
   "cell_type": "markdown",
   "metadata": {
    "toc-hr-collapsed": true,
    "toc-nb-collapsed": true
   },
   "source": [
    "## Interactive programs\n",
    "* To make scripts interactable, we need to wait an listen for user inputs\n",
    "* And upon receiving the user input, we will run the associated function\n",
    "* `while True` can be run to constantly wait for user input\n",
    "* and the `if-elif` statements handle which function to run\n",
    "\n",
    "```python\n",
    "def my_func():\n",
    "    pass\n",
    "\n",
    "while True:\n",
    "    inp = input(\"Input in a function\")\n",
    "    if inp == my_func:\n",
    "        my_func()\n",
    "    elif inp == my_func_2:\n",
    "        my_func_2()\n",
    "    elif inp == exit:\n",
    "        exit()\n",
    "```"
   ]
  },
  {
   "cell_type": "code",
   "execution_count": 1,
   "metadata": {},
   "outputs": [],
   "source": [
    "!code Scripts/looping_program.py"
   ]
  },
  {
   "cell_type": "markdown",
   "metadata": {
    "Collapsed": "false",
    "toc-hr-collapsed": true,
    "toc-nb-collapsed": true
   },
   "source": [
    "## Python GUIs\n",
    "* Your program maybe interactive via the CLI, but not everyone can code\n",
    "* So to make a program accessible to the majority of users, you need to implement a GUI, or a graphical user interface\n",
    "* There are multiple Python GUIs:\n",
    "    * `Tkinter`\n",
    "    * `PyQT`\n",
    "    * `wxPython`\n",
    "    * `kivy`\n",
    "    * `PySimpleGUI`\n",
    "* I recommend using `PySimpleGUI`, a wrapper for `Tkinter`, `PyQT` and `wxPython`\n",
    "* In `PySimpleGUI`, it's easy to create a GUI"
   ]
  },
  {
   "cell_type": "markdown",
   "metadata": {},
   "source": [
    "##### PySimpleGUI\n",
    "* A `PySimpleGUI` script can be broken down into 5 stages:\n",
    "    * Import: importing the package\n",
    "    * Layout: providing the layout of the GUI. `PySimpleGUI` constructs the layout using a list of lists. Each list consists of one horizontal row, where elements can be inserted. Elements are predefined classes. By design, `PySimpleGUI` elements take in a lot of arguments. Elements include:\n",
    "        * `sg.Text('my_text)` for a text element\n",
    "        * `sg.Input(key='-MYKEY-')` for an input element where the key value can be specified. The convention for the keys are written like this `-MYKEY-`\n",
    "        * `sg.Button('my_button')` for a button element with a key value of 'my_button'\n",
    "        * `sg.Print('my_debug')` writes debug messages into a pop up\n",
    "        * And other elements can be [found here](https://pysimplegui.readthedocs.io/en/latest/call%20reference/#text-element)\n",
    "    * Window: Create a window with the associated layout. Window arguments like font size can be set, which are overwritten by layout arguments.\n",
    "    * Event loop: An interactive program that waits for certain inputs from the user. This could be clicking on a button, checking a radio button, etc.\n",
    "        * We use a `while True:` loop to make it interactable\n",
    "        * We call `window.read()` to retrieve the user input\n",
    "        * We check for events either using `if event in ('-MYKEY-','my_button'):` or `if event == '-MYKEY-' or event == 'my_button':`. Both syntaxes are fine\n",
    "        * `if event in (None)`: runs this when the user clicks the `X button` in the top right of the window\n",
    "    * Close window: its important to ensure the window is closed to prevent the unwanted usage of resources\n",
    "* Refer script below for an example"
   ]
  },
  {
   "cell_type": "code",
   "execution_count": 1,
   "metadata": {},
   "outputs": [],
   "source": [
    "!code Scripts/pysimplegui.py"
   ]
  },
  {
   "cell_type": "markdown",
   "metadata": {
    "Collapsed": "false",
    "toc-hr-collapsed": true,
    "toc-nb-collapsed": true
   },
   "source": [
    "## Converting Python Scripts into executable files\n",
    "* We can use `PyInstaller` to turn python scripts into an executable file\n",
    "* `pyinstaller my_script.py`\n",
    "    * `-w`: hide console window\n",
    "    * `-F`: one executable file"
   ]
  },
  {
   "cell_type": "code",
   "execution_count": 2,
   "metadata": {},
   "outputs": [
    {
     "name": "stdout",
     "output_type": "stream",
     "text": [
      "C:\\Users\\draciel\\Dropbox\\General_Assembly\\Github\\Notes\\pyinstaller\n"
     ]
    }
   ],
   "source": [
    "cd pyinstaller"
   ]
  },
  {
   "cell_type": "code",
   "execution_count": 3,
   "metadata": {},
   "outputs": [
    {
     "name": "stderr",
     "output_type": "stream",
     "text": [
      "88 INFO: PyInstaller: 3.6\n",
      "88 INFO: Python: 3.7.3 (conda)\n",
      "88 INFO: Platform: Windows-10-10.0.18362-SP0\n",
      "89 INFO: wrote C:\\Users\\draciel\\Dropbox\\General_Assembly\\Github\\Notes\\pyinstaller\\btdl.spec\n",
      "95 INFO: UPX is not available.\n",
      "99 INFO: Extending PYTHONPATH with paths\n",
      "['C:\\\\Users\\\\draciel\\\\Dropbox\\\\General_Assembly\\\\Github\\\\Notes\\\\pyinstaller',\n",
      " 'C:\\\\Users\\\\draciel\\\\Dropbox\\\\General_Assembly\\\\Github\\\\Notes\\\\pyinstaller']\n",
      "99 INFO: checking Analysis\n",
      "99 INFO: Building Analysis because Analysis-00.toc is non existent\n",
      "99 INFO: Initializing module dependency graph...\n",
      "106 INFO: Caching module graph hooks...\n",
      "115 INFO: Analyzing base_library.zip ...\n",
      "5513 INFO: Caching module dependency graph...\n",
      "5690 INFO: running Analysis Analysis-00.toc\n",
      "5714 INFO: Adding Microsoft.Windows.Common-Controls to dependent assemblies of final executable\n",
      "  required by c:\\users\\draciel\\anaconda3\\python.exe\n",
      "6085 INFO: Analyzing C:\\Users\\draciel\\Dropbox\\General_Assembly\\Github\\Notes\\pyinstaller\\btdl.py\n",
      "7102 INFO: Processing pre-find module path hook   site\n",
      "7102 INFO: site: retargeting to fake-dir 'c:\\\\users\\\\draciel\\\\anaconda3\\\\lib\\\\site-packages\\\\PyInstaller\\\\fake-modules'\n",
      "12176 INFO: Processing pre-safe import module hook   urllib3.packages.six.moves\n",
      "15200 INFO: Processing pre-safe import module hook   six.moves\n",
      "17158 INFO: Processing module hooks...\n",
      "17158 INFO: Loading module hook \"hook-certifi.py\"...\n",
      "17160 INFO: Loading module hook \"hook-cryptography.py\"...\n",
      "17522 INFO: Loading module hook \"hook-encodings.py\"...\n",
      "17627 INFO: Loading module hook \"hook-pydoc.py\"...\n",
      "17628 INFO: Loading module hook \"hook-xml.py\"...\n",
      "17810 INFO: Loading module hook \"hook-_tkinter.py\"...\n",
      "18021 INFO: checking Tree\n",
      "18021 INFO: Building Tree because Tree-00.toc is non existent\n",
      "18021 INFO: Building Tree Tree-00.toc\n",
      "18109 INFO: checking Tree\n",
      "18109 INFO: Building Tree because Tree-01.toc is non existent\n",
      "18110 INFO: Building Tree Tree-01.toc\n",
      "18160 INFO: Looking for ctypes DLLs\n",
      "18162 INFO: Analyzing run-time hooks ...\n",
      "18166 INFO: Including run-time hook 'pyi_rth_certifi.py'\n",
      "18168 INFO: Including run-time hook 'pyi_rth__tkinter.py'\n",
      "18177 INFO: Looking for dynamic libraries\n",
      "18490 INFO: Looking for eggs\n",
      "18490 INFO: Using Python library c:\\users\\draciel\\anaconda3\\python37.dll\n",
      "18490 INFO: Found binding redirects: \n",
      "[]\n",
      "18495 INFO: Warnings written to C:\\Users\\draciel\\Dropbox\\General_Assembly\\Github\\Notes\\pyinstaller\\build\\btdl\\warn-btdl.txt\n",
      "18600 INFO: Graph cross-reference written to C:\\Users\\draciel\\Dropbox\\General_Assembly\\Github\\Notes\\pyinstaller\\build\\btdl\\xref-btdl.html\n",
      "18667 INFO: checking PYZ\n",
      "18668 INFO: Building PYZ because PYZ-00.toc is non existent\n",
      "18668 INFO: Building PYZ (ZlibArchive) C:\\Users\\draciel\\Dropbox\\General_Assembly\\Github\\Notes\\pyinstaller\\build\\btdl\\PYZ-00.pyz\n",
      "20060 INFO: Building PYZ (ZlibArchive) C:\\Users\\draciel\\Dropbox\\General_Assembly\\Github\\Notes\\pyinstaller\\build\\btdl\\PYZ-00.pyz completed successfully.\n",
      "20092 INFO: checking PKG\n",
      "20092 INFO: Building PKG because PKG-00.toc is non existent\n",
      "20092 INFO: Building PKG (CArchive) PKG-00.pkg\n",
      "23613 INFO: Building PKG (CArchive) PKG-00.pkg completed successfully.\n",
      "23656 INFO: Bootloader c:\\users\\draciel\\anaconda3\\lib\\site-packages\\PyInstaller\\bootloader\\Windows-64bit\\runw.exe\n",
      "23656 INFO: checking EXE\n",
      "23657 INFO: Building EXE because EXE-00.toc is non existent\n",
      "23657 INFO: Building EXE from EXE-00.toc\n",
      "23657 INFO: Appending archive to EXE C:\\Users\\draciel\\Dropbox\\General_Assembly\\Github\\Notes\\pyinstaller\\dist\\btdl.exe\n",
      "23675 INFO: Building EXE from EXE-00.toc completed successfully.\n"
     ]
    }
   ],
   "source": [
    "# The executable is in the dist folder\n",
    "!pyinstaller -w -F \"btdl.py\""
   ]
  },
  {
   "cell_type": "markdown",
   "metadata": {},
   "source": [
    "## Automation\n",
    "* Automation of Python scripts can be broken down into online or locally on your computer"
   ]
  },
  {
   "cell_type": "markdown",
   "metadata": {},
   "source": [
    "##### Online Automation\n",
    "* You can write Python code and get it scheduled to run automatically online\n",
    "* There are a lot of options. Some include:\n",
    "    * [pythonanywhere](https://www.pythonanywhere.com/)\n",
    "    * [heroku](https://www.heroku.com/)\n",
    "    * [DigitalOcean](https://www.digitalocean.com/)"
   ]
  },
  {
   "cell_type": "code",
   "execution_count": 2,
   "metadata": {},
   "outputs": [],
   "source": [
    "# Schedule this code using https://www.pythonanywhere.com/\n",
    "!code Scripts/daily.py"
   ]
  },
  {
   "cell_type": "markdown",
   "metadata": {},
   "source": [
    "##### Windows Automation\n",
    "* We can use windows task scheduler to schedule tasks\n",
    "* Open `Task Scheduler` & set `Name` in `General` tab\n",
    "* In the `Actions` tab, create a new action\n",
    "    * `Program/script`: location of Python, you can find out using `where python` in the CLI. Setting `my_path/pythonw.exe` hides the CL, where as `my_path/python.exe` has a CL\n",
    "    * `Add arguments`: script name\n",
    "    * `Start in`: location of the script\n",
    "* In the `Triggers` tab, create a new trigger\n",
    "    * Select the scheduled date, time and recurrence rate"
   ]
  },
  {
   "cell_type": "code",
   "execution_count": null,
   "metadata": {},
   "outputs": [],
   "source": [
    "# Automate this code using windows task manager\n",
    "!code Scripts/daily_wiki.py"
   ]
  },
  {
   "cell_type": "code",
   "execution_count": 4,
   "metadata": {},
   "outputs": [],
   "source": [
    "# Automate opening Jupyter lab in my notes folder on startup\n",
    "!code Scripts/jupyter_lab_startup.sh"
   ]
  }
 ],
 "metadata": {
  "kernelspec": {
   "display_name": "Python 3",
   "language": "python",
   "name": "python3"
  },
  "language_info": {
   "codemirror_mode": {
    "name": "ipython",
    "version": 3
   },
   "file_extension": ".py",
   "mimetype": "text/x-python",
   "name": "python",
   "nbconvert_exporter": "python",
   "pygments_lexer": "ipython3",
   "version": "3.7.7"
  },
  "toc-autonumbering": true
 },
 "nbformat": 4,
 "nbformat_minor": 4
}
