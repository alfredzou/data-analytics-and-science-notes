{
 "cells": [
  {
   "cell_type": "markdown",
   "metadata": {
    "Collapsed": "false"
   },
   "source": [
    "<img src=\"https://www.python.org/static/community_logos/python-powered-w-200x80.png\" style=\"float: left; margin: 20px; height: 55px\">\n",
    "\n",
    "# Python Basics - Misc\n",
    "\n",
    "_Author: Alfred Zou_\n",
    "\n",
    "---"
   ]
  },
  {
   "cell_type": "markdown",
   "metadata": {
    "Collapsed": "false"
   },
   "source": [
    "## Opening Files\n",
    "---\n",
    "* Most of the time our data will be in another file\n",
    "* We will need to somehow tell Python to open the file, then extract the data"
   ]
  },
  {
   "cell_type": "code",
   "execution_count": 10,
   "metadata": {
    "Collapsed": "false"
   },
   "outputs": [],
   "source": [
    "# The best way to open a file to read it is using the with method (context managers)\n",
    "# Context managers are recommended, even if we throw an error, it'll close the file (DB connection)\n",
    "# handles the teardown of resources\n",
    "# This method means you don't have to close the file after\n",
    "# 'r' tells open() to open the file in read only mode\n",
    "\n",
    "with open('Data\\earthquakes.csv','r') as f:\n",
    "    lines = f.readlines()"
   ]
  },
  {
   "cell_type": "markdown",
   "metadata": {
    "Collapsed": "false"
   },
   "source": [
    "?? -m what does do"
   ]
  },
  {
   "cell_type": "code",
   "execution_count": 11,
   "metadata": {
    "Collapsed": "false"
   },
   "outputs": [
    {
     "name": "stdout",
     "output_type": "stream",
     "text": [
      "earthquake id,occurred_on,latitude,longitude,depth,magnitude,calculation_method,network_id,place,cause\n",
      "\n",
      "1,1/01/1969 9:07,51.096,-179.392,45,5.6,mw,iscgem812771,\"Andreanof Islands, Aleutian Islands, Alaska\",earthquake\n",
      "\n",
      "2,2/01/1969 17:50,-56.096,-27.842,80.1,6,mw,iscgemsup812819,South Sandwich Islands region,earthquake\n",
      "\n",
      "3,3/01/1969 3:16,37.14,57.899,10,5.5,mw,iscgem812826,Turkmenistan-Iran border region,earthquake\n",
      "\n",
      "4,3/01/1969 13:28,51.132,-179.306,15,5.9,mw,iscgem812841,\"Andreanof Islands, Aleutian Islands, Alaska\",earthquake\n",
      "\n"
     ]
    }
   ],
   "source": [
    "for line in lines[0:5]:\n",
    "    print(line)"
   ]
  },
  {
   "cell_type": "code",
   "execution_count": null,
   "metadata": {
    "Collapsed": "false"
   },
   "outputs": [],
   "source": [
    "# We can also use open() to create, write and append to files"
   ]
  },
  {
   "cell_type": "markdown",
   "metadata": {
    "Collapsed": "false"
   },
   "source": [
    "### Importing Files vs Running from a Script\n"
   ]
  },
  {
   "cell_type": "code",
   "execution_count": null,
   "metadata": {
    "Collapsed": "false"
   },
   "outputs": [],
   "source": [
    "if __name__ == '__main__':\n",
    "    print('run directly')\n",
    "else:\n",
    "    print('imported')"
   ]
  },
  {
   "cell_type": "markdown",
   "metadata": {
    "Collapsed": "false"
   },
   "source": [
    "### Enumerate, Zip and Map"
   ]
  },
  {
   "cell_type": "code",
   "execution_count": 1,
   "metadata": {
    "Collapsed": "false"
   },
   "outputs": [],
   "source": [
    "real_names = ['Bruce Wayne','Peter Parker','Tony Stark','Clark Kent']\n",
    "super_hero_names = ['Batman','Spider Man',' Iron Man','Superman']"
   ]
  },
  {
   "cell_type": "markdown",
   "metadata": {
    "Collapsed": "false"
   },
   "source": [
    "#### Enumerate"
   ]
  },
  {
   "cell_type": "code",
   "execution_count": 3,
   "metadata": {
    "Collapsed": "false"
   },
   "outputs": [
    {
     "name": "stdout",
     "output_type": "stream",
     "text": [
      "0 Bruce Wayne\n",
      "1 Peter Parker\n",
      "2 Tony Stark\n",
      "3 Clark Kent\n"
     ]
    }
   ],
   "source": [
    "index = 0\n",
    "for real_name in real_names:\n",
    "    print(index, real_name)\n",
    "    index += 1"
   ]
  },
  {
   "cell_type": "code",
   "execution_count": 4,
   "metadata": {
    "Collapsed": "false"
   },
   "outputs": [
    {
     "name": "stdout",
     "output_type": "stream",
     "text": [
      "0 Bruce Wayne\n",
      "1 Peter Parker\n",
      "2 Tony Stark\n",
      "3 Clark Kent\n"
     ]
    }
   ],
   "source": [
    "for index, real_name in enumerate(real_names):\n",
    "    print(index, real_name)"
   ]
  },
  {
   "cell_type": "code",
   "execution_count": 15,
   "metadata": {
    "Collapsed": "false"
   },
   "outputs": [
    {
     "name": "stdout",
     "output_type": "stream",
     "text": [
      "(0, 'Bruce Wayne')\n",
      "(1, 'Peter Parker')\n",
      "(2, 'Tony Stark')\n",
      "(3, 'Clark Kent')\n"
     ]
    }
   ],
   "source": [
    "for i in enumerate(real_names):\n",
    "    print(i)"
   ]
  },
  {
   "cell_type": "markdown",
   "metadata": {
    "Collapsed": "false"
   },
   "source": [
    "#### Zip"
   ]
  },
  {
   "cell_type": "code",
   "execution_count": 10,
   "metadata": {
    "Collapsed": "false"
   },
   "outputs": [
    {
     "name": "stdout",
     "output_type": "stream",
     "text": [
      "Bruce Wayne is actually Batman\n",
      "Peter Parker is actually Spider Man\n",
      "Tony Stark is actually  Iron Man\n",
      "Clark Kent is actually Superman\n"
     ]
    }
   ],
   "source": [
    "index = 0\n",
    "for real_name in real_names:\n",
    "    super_hero_name = super_hero_names[index]\n",
    "    print(f\"{real_name} is actually {super_hero_name}\")\n",
    "    index += 1"
   ]
  },
  {
   "cell_type": "code",
   "execution_count": 11,
   "metadata": {
    "Collapsed": "false"
   },
   "outputs": [
    {
     "name": "stdout",
     "output_type": "stream",
     "text": [
      "Bruce Wayne is actually Batman\n",
      "Peter Parker is actually Spider Man\n",
      "Tony Stark is actually  Iron Man\n",
      "Clark Kent is actually Superman\n"
     ]
    }
   ],
   "source": [
    "for real_name,super_hero_name in zip(real_names,super_hero_names):\n",
    "    print(f\"{real_name} is actually {super_hero_name}\")"
   ]
  },
  {
   "cell_type": "code",
   "execution_count": 16,
   "metadata": {
    "Collapsed": "false"
   },
   "outputs": [
    {
     "name": "stdout",
     "output_type": "stream",
     "text": [
      "('Bruce Wayne', 'Batman')\n",
      "('Peter Parker', 'Spider Man')\n",
      "('Tony Stark', ' Iron Man')\n",
      "('Clark Kent', 'Superman')\n"
     ]
    }
   ],
   "source": [
    "for i in zip(real_names,super_hero_names):\n",
    "    print(i)"
   ]
  },
  {
   "cell_type": "markdown",
   "metadata": {
    "Collapsed": "false"
   },
   "source": [
    "### Unpacking and discarding"
   ]
  },
  {
   "cell_type": "code",
   "execution_count": 17,
   "metadata": {
    "Collapsed": "false"
   },
   "outputs": [
    {
     "name": "stdout",
     "output_type": "stream",
     "text": [
      "1\n"
     ]
    }
   ],
   "source": [
    "a, _ = (1,2)\n",
    "print(a)"
   ]
  },
  {
   "cell_type": "code",
   "execution_count": 18,
   "metadata": {
    "Collapsed": "false"
   },
   "outputs": [
    {
     "name": "stdout",
     "output_type": "stream",
     "text": [
      "1\n",
      "2\n",
      "[3, 4, 5, 6]\n"
     ]
    }
   ],
   "source": [
    "a,b,*c = (1,2,3,4,5,6)\n",
    "print(a)\n",
    "print(b)\n",
    "print(c)"
   ]
  },
  {
   "cell_type": "markdown",
   "metadata": {
    "Collapsed": "false"
   },
   "source": [
    "### Generators \n",
    "list comprehension `[i for i in [1,2,3]`\n",
    "generators is `(i for i in [1,2,3])`\n",
    "they don't store the whole list in memory\n",
    "you call it with next(generator) until it exausts\n",
    "\n",
    "for i in generator:\n",
    "    print(i)\n",
    "    \n",
    "you can write a generator like\n",
    "for i in `[1,2,3]`\n",
    "    yield i*i"
   ]
  },
  {
   "cell_type": "code",
   "execution_count": 15,
   "metadata": {
    "Collapsed": "false"
   },
   "outputs": [],
   "source": [
    "def square(i):\n",
    "    for j in i:\n",
    "        yield j**2"
   ]
  },
  {
   "cell_type": "code",
   "execution_count": 16,
   "metadata": {
    "Collapsed": "false"
   },
   "outputs": [
    {
     "data": {
      "text/plain": [
       "<generator object square at 0x000001628E24C048>"
      ]
     },
     "execution_count": 16,
     "metadata": {},
     "output_type": "execute_result"
    }
   ],
   "source": [
    "square([1,2,3])"
   ]
  },
  {
   "cell_type": "code",
   "execution_count": 34,
   "metadata": {
    "Collapsed": "false"
   },
   "outputs": [],
   "source": [
    "abc = square([1,2,3])"
   ]
  },
  {
   "cell_type": "code",
   "execution_count": 35,
   "metadata": {
    "Collapsed": "false"
   },
   "outputs": [
    {
     "name": "stdout",
     "output_type": "stream",
     "text": [
      "1\n",
      "4\n",
      "9\n"
     ]
    }
   ],
   "source": [
    "print(next(abc))\n",
    "print(next(abc))\n",
    "print(next(abc))"
   ]
  },
  {
   "cell_type": "markdown",
   "metadata": {
    "Collapsed": "false"
   },
   "source": [
    "### decorators, setters, deleters\n",
    "* for classes\n",
    "* you can treat a function as a decorator by using @property above \n",
    "* this allows you to call it using .asdfsadf without brackets\n",
    "* you can also use a setter and deleter"
   ]
  },
  {
   "cell_type": "markdown",
   "metadata": {
    "Collapsed": "false"
   },
   "source": [
    "### Classes"
   ]
  },
  {
   "cell_type": "markdown",
   "metadata": {
    "Collapsed": "false"
   },
   "source": [
    "* Classes are like blueprints, they are used to make objects\n",
    "* They have attributes\n",
    "* They have methods (functions specific to the class)\n",
    "* Init method - this (initilaisation) method is called everytime a new object is created\n",
    "* self is a reference to the new object created\n",
    "* inheritence"
   ]
  },
  {
   "cell_type": "code",
   "execution_count": 1,
   "metadata": {
    "Collapsed": "false"
   },
   "outputs": [],
   "source": [
    "class User():\n",
    "    pass"
   ]
  },
  {
   "cell_type": "markdown",
   "metadata": {
    "Collapsed": "false"
   },
   "source": [
    "### Converting Python Scripts into .exe Files"
   ]
  },
  {
   "cell_type": "code",
   "execution_count": null,
   "metadata": {
    "Collapsed": "false"
   },
   "outputs": [],
   "source": []
  },
  {
   "cell_type": "markdown",
   "metadata": {
    "Collapsed": "false"
   },
   "source": [
    "### Python GUIs"
   ]
  },
  {
   "cell_type": "markdown",
   "metadata": {
    "Collapsed": "false"
   },
   "source": [
    "* Tkinter()\n",
    "* \n",
    "* ElectronJS is coded in html, css and javascript and rendered on a Chromium browser. It uses the capabilities of NodeJS to use javascript outside of a browser. It is popular for creating desktop apps including Slack and Visual Studio Code"
   ]
  },
  {
   "cell_type": "markdown",
   "metadata": {
    "Collapsed": "false"
   },
   "source": [
    "### Hosting ML models"
   ]
  },
  {
   "cell_type": "markdown",
   "metadata": {
    "Collapsed": "false"
   },
   "source": [
    "* Flask\n",
    "* Streamlit"
   ]
  },
  {
   "cell_type": "markdown",
   "metadata": {
    "Collapsed": "false"
   },
   "source": [
    "### Metaclasses"
   ]
  },
  {
   "cell_type": "markdown",
   "metadata": {
    "Collapsed": "false"
   },
   "source": [
    "Opportunity to assert from the library side\n",
    "where is on the user side you can just use assert\n",
    "* args **kwargs\n",
    "decorators are like wrappers"
   ]
  }
 ],
 "metadata": {
  "kernelspec": {
   "display_name": "Python 3",
   "language": "python",
   "name": "python3"
  },
  "language_info": {
   "codemirror_mode": {
    "name": "ipython",
    "version": 3
   },
   "file_extension": ".py",
   "mimetype": "text/x-python",
   "name": "python",
   "nbconvert_exporter": "python",
   "pygments_lexer": "ipython3",
   "version": "3.7.3"
  }
 },
 "nbformat": 4,
 "nbformat_minor": 4
}
