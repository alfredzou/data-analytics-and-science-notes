{
 "cells": [
  {
   "cell_type": "markdown",
   "metadata": {
    "Collapsed": "false"
   },
   "source": [
    "<img src=\"https://kasunkodagoda.gallerycdn.vsassets.io/extensions/kasunkodagoda/regex-match-replace/2.1.5/1567104415777/Microsoft.VisualStudio.Services.Icons.Default\" style=\"float: left; margin: 20px; height: 55px\">\n",
    "\n",
    "# Regular Expressions\n",
    "\n",
    "_Author: Alfred Zou_\n",
    "\n",
    "---"
   ]
  },
  {
   "cell_type": "markdown",
   "metadata": {
    "Collapsed": "false"
   },
   "source": [
    "* Regular expressions are a powerful way to search within strings\n",
    "* It is has wide applications in bash's grep, SQL, python and text editors\n",
    "* The downside of regex is that it can be overly complicated, and down right intimidating for those who don't understand it\n",
    "* Further information for grep searching can be found [here](http://opensourceforu.com/2012/06/beginners-guide-gnu-grep-basics/)\n",
    "* A good way to learn Regex is through [RegExr](http://regexr.com/). This website lets you visualise matches\n",
    "\n",
    "### Regex Syntax\n",
    "\n",
    "* The standard regex syntax is:\n",
    "* Regex searches the string left to right using the search_pattern\n",
    "* There are multiple useful regex methods such as `findall()`, `search()`, `replace()`, etc\n",
    "* Optional flags can be utilised for extra search customisation\n",
    "\n",
    "``` python\n",
    "import re\n",
    "re.method(search_pattern, string, flags)\n",
    "```\n",
    "\n",
    "### Search Pattern Syntax\n",
    "\n",
    "#### Characters\n",
    "* Characters are the fundamental building blocks of search strings. They are single characters that can be modified by quantifiers, logics, groups and lookarounds.\n",
    "* `a` - Literals. Exact character match.\n",
    "* `[tT]` or `[a-z]` - Character classes. One character within the bracket. \n",
    "* `[^a]` - Character class negation. Negates the whole character class\n",
    "* `\\$` - Special classes need to be escaped using `\\`\n",
    "* `.` - any charcter except a line break (\\n)\n",
    "* `\\w` - word characters, including digits and underscores\n",
    "* `\\W` - opposite of `\\w`\n",
    "* `\\d` - all digit characters\n",
    "* `\\D` - opposite of `\\d`\n",
    "* `\\s` - all white space\n",
    "* `\\S` - opposite of `\\s`\n",
    "\n",
    "#### Quantifiers\n",
    "* Quantifiers can be placed after characters or groups to modify them\n",
    "* `?` - 0 or 1\n",
    "* `*` - 0 or more\n",
    "* `+` - 1 or more\n",
    "* `{m}` - m number of times\n",
    "* `{m,}` - m or more\n",
    "* `{m,n}` - m to n\n",
    "* Quantifiers are inherently greedy, which means they will match the maximum characters they can\n",
    "* `?` - added to the end of a quantifier makes it lazy, which means it will match the minimum characters it can\n",
    "\n",
    "#### Anchors and Boundaries\n",
    "* Anchors and boundaries are included at the beginning or end of a search string to denote positional matches\n",
    "* `^` - beginning of string\n",
    "* `$` - end of string\n",
    "* `\\b` - Word boundary. Beginning or end of word\n",
    "* `\\B` - opposite of `\\b`\n",
    "\n",
    "#### Lookarounds\n",
    "* For a search pattern checks the lookaround ahead (lookahead) or behind (lookbehind). \n",
    "    * If true, returns a match for a postive lookaround.\n",
    "    * If false, returns a match for a negative lookaround.\n",
    "* The lookaround is never returned with the match\n",
    "* `(?=string)` - Positive lookahead. \n",
    "* `(?<=string)` - Positive lookbehind.\n",
    "* `(?!string)` - Negative lookahead.\n",
    "* `(?<!string)` - Negative lookbehind.\n",
    "\n",
    "#### Logic, Grouping and Capture\n",
    "* `[a|b]` or `(cat|dog)` - Alteration. Either collection to the left or right of the alteration\n",
    "* `((abc)def)` - Grouping. This captures the match and is returned by regex methods\n",
    "* Captured contents can be recalled and are ordered from outside to inside, then left to right \n",
    "* Using raw strings is recommended otherwise recalling captured contents won't work, `r'search_pattern'`\n",
    "    * `\\1` - Group 1\n",
    "    * `\\2` - Group 2\n",
    "\n",
    "### Flags\n",
    "* Flags add additional search customisation\n",
    "* `re.I` - case insensitive\n",
    "* `re.M` - Multiline. Allows `^` & `$` to function at the beginning and end of line breaks, `\\n`, opposed to at the beginning and end of the string\n",
    "\n",
    "### Regex Methods\n",
    "\n",
    "##### Findall\n",
    "* Returns a list of all matched strings, or\n",
    "* A tuple of all the groups, following the captured contents order. In this case the matched string is not included in the final output"
   ]
  },
  {
   "cell_type": "code",
   "execution_count": 1,
   "metadata": {
    "Collapsed": "false"
   },
   "outputs": [
    {
     "data": {
      "text/plain": [
       "[('bob_ ralph', 'bob_', 'ralph'), ('bab_ ralph', 'bab_', 'ralph')]"
      ]
     },
     "execution_count": 1,
     "metadata": {},
     "output_type": "execute_result"
    }
   ],
   "source": [
    "# The output in this case is a list of tuples for every match. In every tuple, its the groups included.\n",
    "import re\n",
    "my_string = 'bob bob_ ralph_ bobbobbobbybobbob bab_ ralph_ bob'\n",
    "re.findall('((b.b_) (ralph))_ bob',my_string)"
   ]
  },
  {
   "cell_type": "markdown",
   "metadata": {
    "Collapsed": "false"
   },
   "source": [
    "##### Search\n",
    "* Finds the first match. Use `findall()` for every match\n",
    "* Returns a match object that needs to be opened with `group()`\n",
    "    * `group()` returns match\n",
    "    * `group(1)` returns group 1\n",
    "    * `group(2)` returns group 2"
   ]
  },
  {
   "cell_type": "code",
   "execution_count": 2,
   "metadata": {
    "Collapsed": "false"
   },
   "outputs": [
    {
     "name": "stdout",
     "output_type": "stream",
     "text": [
      "cat\n"
     ]
    }
   ],
   "source": [
    "# First match only\n",
    "import re\n",
    "my_string = 'star cat hat mat'\n",
    "results = re.search('.at',my_string)\n",
    "print(results.group(),end = '\\n')"
   ]
  },
  {
   "cell_type": "code",
   "execution_count": 3,
   "metadata": {
    "Collapsed": "false"
   },
   "outputs": [
    {
     "name": "stdout",
     "output_type": "stream",
     "text": [
      "bob bob_ ralph_\n",
      "bob bob_\n",
      "bob\n",
      "bob_\n"
     ]
    }
   ],
   "source": [
    "# Demonstration of the group outputs\n",
    "import re\n",
    "my_string = 'bob bob_ ralph_ bobbobbobbybobbob'\n",
    "results = re.search('((bob) (bob_)) ralph_',my_string)\n",
    "print(results.group(),end = '\\n')\n",
    "print(results.group(1),end = '\\n')\n",
    "print(results.group(2),end = '\\n')\n",
    "print(results.group(3),end = '\\n')"
   ]
  },
  {
   "cell_type": "markdown",
   "metadata": {
    "Collapsed": "false"
   },
   "source": [
    "##### Match\n",
    "* Match is similar to search, but is for the first word only"
   ]
  },
  {
   "cell_type": "code",
   "execution_count": 4,
   "metadata": {
    "Collapsed": "false"
   },
   "outputs": [
    {
     "name": "stdout",
     "output_type": "stream",
     "text": [
      "sta\n"
     ]
    }
   ],
   "source": [
    "# Searches the first word only\n",
    "import re\n",
    "my_string = 'star cat hat mat'\n",
    "results = re.match('.{3}',my_string)\n",
    "print(results.group(),end = '\\n')"
   ]
  },
  {
   "cell_type": "markdown",
   "metadata": {
    "Collapsed": "false"
   },
   "source": [
    "##### Sub\n",
    "* Regex searches the string left to right using the search_pattern and replaces with the replacement\n",
    "* Use raw strings to call group contents with \\1 & \\2\n",
    "* The format is: \n",
    "\n",
    "``` python\n",
    "import re\n",
    "re.sub(search_pattern,replacement, string, flags)\n",
    "```"
   ]
  },
  {
   "cell_type": "code",
   "execution_count": 5,
   "metadata": {
    "Collapsed": "false"
   },
   "outputs": [
    {
     "data": {
      "text/plain": [
       "'purple alice@hotmail.com, blah monkey bob@hotmail.com blah dishwasher'"
      ]
     },
     "execution_count": 5,
     "metadata": {},
     "output_type": "execute_result"
    }
   ],
   "source": [
    "my_string = 'purple alice@google.com, blah monkey bob@abc.com blah dishwasher'\n",
    "re.sub(r'(\\w+)@[\\w.]+', r'\\1@hotmail.com', my_string)"
   ]
  },
  {
   "cell_type": "markdown",
   "metadata": {
    "Collapsed": "false"
   },
   "source": [
    "### Pandas Integration\n",
    "* Regex capabilities can be utilised on Panda Series containining a full collection of strings\n",
    "* The general format is:\n",
    "\n",
    "``` python\n",
    "import pandas as pd\n",
    "my_series = pd.Series([string1,string2,string3])\n",
    "my_series = pd.str.method()\n",
    "```\n",
    "\n",
    "##### str.split()\n",
    "* Splits strings similar to the `split()` method for strings but regex can be applied"
   ]
  },
  {
   "cell_type": "code",
   "execution_count": 6,
   "metadata": {
    "Collapsed": "false"
   },
   "outputs": [
    {
     "data": {
      "text/plain": [
       "0       [tim, hotmail, com]\n",
       "1    [trevor, outlook, com]\n",
       "2     [ashely, google, com]\n",
       "3       [tiffany, msn, com]\n",
       "dtype: object"
      ]
     },
     "execution_count": 6,
     "metadata": {},
     "output_type": "execute_result"
    }
   ],
   "source": [
    "import pandas as pd\n",
    "my_series = pd.Series(['tim@hotmail.com','trevor@outlook.com','ashely@google.com','tiffany@msn.com'])\n",
    "my_series.str.split('[@.]')"
   ]
  },
  {
   "cell_type": "markdown",
   "metadata": {
    "Collapsed": "false"
   },
   "source": [
    "##### str.replace()"
   ]
  },
  {
   "cell_type": "code",
   "execution_count": 7,
   "metadata": {
    "Collapsed": "false"
   },
   "outputs": [
    {
     "data": {
      "text/plain": [
       "0        tim@yahoo.com\n",
       "1     trevor@yahoo.com\n",
       "2     ashely@yahoo.com\n",
       "3    tiffany@yahoo.com\n",
       "dtype: object"
      ]
     },
     "execution_count": 7,
     "metadata": {},
     "output_type": "execute_result"
    }
   ],
   "source": [
    "import pandas as pd\n",
    "my_series = pd.Series(['tim@hotmail.com','trevor@outlook.com','ashely@google.com','tiffany@msn.com'])\n",
    "my_series.str.replace('(?<=@).*','yahoo.com')"
   ]
  },
  {
   "cell_type": "markdown",
   "metadata": {
    "Collapsed": "false"
   },
   "source": [
    "##### str.contains()"
   ]
  },
  {
   "cell_type": "code",
   "execution_count": 8,
   "metadata": {
    "Collapsed": "false"
   },
   "outputs": [
    {
     "data": {
      "text/plain": [
       "0       tim@hotmail.com\n",
       "1    trevor@outlook.com\n",
       "2     ashely@google.com\n",
       "3       tiffany@msn.com\n",
       "dtype: object"
      ]
     },
     "execution_count": 8,
     "metadata": {},
     "output_type": "execute_result"
    }
   ],
   "source": [
    "import pandas as pd\n",
    "my_series = pd.Series(['tim@hotmail.com','trevor@outlook.com','ashely@google.com','tiffany@msn.com','algoexpert.io','generalassemb.ly'])\n",
    "my_series[my_series.str.contains('@')]"
   ]
  },
  {
   "cell_type": "markdown",
   "metadata": {
    "Collapsed": "false"
   },
   "source": [
    "##### str.extract()\n",
    "* Extracts capture groups"
   ]
  },
  {
   "cell_type": "code",
   "execution_count": 9,
   "metadata": {
    "Collapsed": "false"
   },
   "outputs": [
    {
     "data": {
      "text/html": [
       "<div>\n",
       "<style scoped>\n",
       "    .dataframe tbody tr th:only-of-type {\n",
       "        vertical-align: middle;\n",
       "    }\n",
       "\n",
       "    .dataframe tbody tr th {\n",
       "        vertical-align: top;\n",
       "    }\n",
       "\n",
       "    .dataframe thead th {\n",
       "        text-align: right;\n",
       "    }\n",
       "</style>\n",
       "<table border=\"1\" class=\"dataframe\">\n",
       "  <thead>\n",
       "    <tr style=\"text-align: right;\">\n",
       "      <th></th>\n",
       "      <th>0</th>\n",
       "      <th>1</th>\n",
       "    </tr>\n",
       "  </thead>\n",
       "  <tbody>\n",
       "    <tr>\n",
       "      <th>0</th>\n",
       "      <td>tim</td>\n",
       "      <td>hotmail</td>\n",
       "    </tr>\n",
       "    <tr>\n",
       "      <th>1</th>\n",
       "      <td>trevor</td>\n",
       "      <td>outlook</td>\n",
       "    </tr>\n",
       "    <tr>\n",
       "      <th>2</th>\n",
       "      <td>ashely</td>\n",
       "      <td>google</td>\n",
       "    </tr>\n",
       "    <tr>\n",
       "      <th>3</th>\n",
       "      <td>tiffany</td>\n",
       "      <td>msn</td>\n",
       "    </tr>\n",
       "    <tr>\n",
       "      <th>4</th>\n",
       "      <td>NaN</td>\n",
       "      <td>NaN</td>\n",
       "    </tr>\n",
       "    <tr>\n",
       "      <th>5</th>\n",
       "      <td>NaN</td>\n",
       "      <td>NaN</td>\n",
       "    </tr>\n",
       "  </tbody>\n",
       "</table>\n",
       "</div>"
      ],
      "text/plain": [
       "         0        1\n",
       "0      tim  hotmail\n",
       "1   trevor  outlook\n",
       "2   ashely   google\n",
       "3  tiffany      msn\n",
       "4      NaN      NaN\n",
       "5      NaN      NaN"
      ]
     },
     "execution_count": 9,
     "metadata": {},
     "output_type": "execute_result"
    }
   ],
   "source": [
    "import pandas as pd\n",
    "my_series = pd.Series(['tim@hotmail.com','trevor@outlook.com','ashely@google.com','tiffany@msn.com','algoexpert.io','generalassemb.ly'])\n",
    "my_series.str.extract('(.*)@(.*).com')"
   ]
  },
  {
   "cell_type": "markdown",
   "metadata": {
    "Collapsed": "false"
   },
   "source": [
    "##### pd.filter()\n",
    "* Filter through column names in a df"
   ]
  },
  {
   "cell_type": "code",
   "execution_count": 10,
   "metadata": {
    "Collapsed": "false"
   },
   "outputs": [
    {
     "data": {
      "text/html": [
       "<div>\n",
       "<style scoped>\n",
       "    .dataframe tbody tr th:only-of-type {\n",
       "        vertical-align: middle;\n",
       "    }\n",
       "\n",
       "    .dataframe tbody tr th {\n",
       "        vertical-align: top;\n",
       "    }\n",
       "\n",
       "    .dataframe thead th {\n",
       "        text-align: right;\n",
       "    }\n",
       "</style>\n",
       "<table border=\"1\" class=\"dataframe\">\n",
       "  <thead>\n",
       "    <tr style=\"text-align: right;\">\n",
       "      <th></th>\n",
       "      <th>id</th>\n",
       "      <th>malignant</th>\n",
       "      <th>nucleus_mean</th>\n",
       "      <th>nucleus_se</th>\n",
       "      <th>nucleus_worst</th>\n",
       "      <th>texture_mean</th>\n",
       "      <th>texture_se</th>\n",
       "      <th>texture_worst</th>\n",
       "      <th>perimeter_mean</th>\n",
       "      <th>perimeter_se</th>\n",
       "      <th>...</th>\n",
       "      <th>concavity_worst</th>\n",
       "      <th>concave_pts_mean</th>\n",
       "      <th>concave_pts_se</th>\n",
       "      <th>concave_pts_worst</th>\n",
       "      <th>symmetry_mean</th>\n",
       "      <th>symmetry_se</th>\n",
       "      <th>symmetry_worst</th>\n",
       "      <th>fractal_dim_mean</th>\n",
       "      <th>fractal_dim_se</th>\n",
       "      <th>fractal_dim_worst</th>\n",
       "    </tr>\n",
       "  </thead>\n",
       "  <tbody>\n",
       "    <tr>\n",
       "      <th>0</th>\n",
       "      <td>0.834842</td>\n",
       "      <td>0.104796</td>\n",
       "      <td>0.744640</td>\n",
       "      <td>0.360501</td>\n",
       "      <td>0.359311</td>\n",
       "      <td>0.609238</td>\n",
       "      <td>0.393780</td>\n",
       "      <td>0.409073</td>\n",
       "      <td>0.509902</td>\n",
       "      <td>0.710148</td>\n",
       "      <td>...</td>\n",
       "      <td>0.458704</td>\n",
       "      <td>0.873863</td>\n",
       "      <td>0.258450</td>\n",
       "      <td>0.664851</td>\n",
       "      <td>0.862674</td>\n",
       "      <td>0.148848</td>\n",
       "      <td>0.562950</td>\n",
       "      <td>0.159155</td>\n",
       "      <td>0.172895</td>\n",
       "      <td>0.104023</td>\n",
       "    </tr>\n",
       "    <tr>\n",
       "      <th>1</th>\n",
       "      <td>0.202938</td>\n",
       "      <td>0.455189</td>\n",
       "      <td>0.794575</td>\n",
       "      <td>0.990823</td>\n",
       "      <td>0.805017</td>\n",
       "      <td>0.377415</td>\n",
       "      <td>0.515737</td>\n",
       "      <td>0.058899</td>\n",
       "      <td>0.711096</td>\n",
       "      <td>0.072508</td>\n",
       "      <td>...</td>\n",
       "      <td>0.984284</td>\n",
       "      <td>0.271560</td>\n",
       "      <td>0.897152</td>\n",
       "      <td>0.164235</td>\n",
       "      <td>0.132358</td>\n",
       "      <td>0.317353</td>\n",
       "      <td>0.307423</td>\n",
       "      <td>0.422055</td>\n",
       "      <td>0.330996</td>\n",
       "      <td>0.568075</td>\n",
       "    </tr>\n",
       "    <tr>\n",
       "      <th>2</th>\n",
       "      <td>0.095285</td>\n",
       "      <td>0.797977</td>\n",
       "      <td>0.268656</td>\n",
       "      <td>0.911415</td>\n",
       "      <td>0.901744</td>\n",
       "      <td>0.015858</td>\n",
       "      <td>0.853682</td>\n",
       "      <td>0.675606</td>\n",
       "      <td>0.037680</td>\n",
       "      <td>0.308948</td>\n",
       "      <td>...</td>\n",
       "      <td>0.112680</td>\n",
       "      <td>0.853298</td>\n",
       "      <td>0.048454</td>\n",
       "      <td>0.499429</td>\n",
       "      <td>0.503090</td>\n",
       "      <td>0.764727</td>\n",
       "      <td>0.347479</td>\n",
       "      <td>0.931419</td>\n",
       "      <td>0.299206</td>\n",
       "      <td>0.551129</td>\n",
       "    </tr>\n",
       "  </tbody>\n",
       "</table>\n",
       "<p>3 rows × 32 columns</p>\n",
       "</div>"
      ],
      "text/plain": [
       "         id  malignant  nucleus_mean  nucleus_se  nucleus_worst  texture_mean  \\\n",
       "0  0.834842   0.104796      0.744640    0.360501       0.359311      0.609238   \n",
       "1  0.202938   0.455189      0.794575    0.990823       0.805017      0.377415   \n",
       "2  0.095285   0.797977      0.268656    0.911415       0.901744      0.015858   \n",
       "\n",
       "   texture_se  texture_worst  perimeter_mean  perimeter_se  ...  \\\n",
       "0    0.393780       0.409073        0.509902      0.710148  ...   \n",
       "1    0.515737       0.058899        0.711096      0.072508  ...   \n",
       "2    0.853682       0.675606        0.037680      0.308948  ...   \n",
       "\n",
       "   concavity_worst  concave_pts_mean  concave_pts_se  concave_pts_worst  \\\n",
       "0         0.458704          0.873863        0.258450           0.664851   \n",
       "1         0.984284          0.271560        0.897152           0.164235   \n",
       "2         0.112680          0.853298        0.048454           0.499429   \n",
       "\n",
       "   symmetry_mean  symmetry_se  symmetry_worst  fractal_dim_mean  \\\n",
       "0       0.862674     0.148848        0.562950          0.159155   \n",
       "1       0.132358     0.317353        0.307423          0.422055   \n",
       "2       0.503090     0.764727        0.347479          0.931419   \n",
       "\n",
       "   fractal_dim_se  fractal_dim_worst  \n",
       "0        0.172895           0.104023  \n",
       "1        0.330996           0.568075  \n",
       "2        0.299206           0.551129  \n",
       "\n",
       "[3 rows x 32 columns]"
      ]
     },
     "execution_count": 10,
     "metadata": {},
     "output_type": "execute_result"
    }
   ],
   "source": [
    "import pandas as pd\n",
    "import numpy as np\n",
    "\n",
    "# Fix the seed, so we can always generate the same np array\n",
    "# Generate np array with shape (3,4)\n",
    "np.random.seed(44)\n",
    "matrix = np.random.rand(3,32)\n",
    "\n",
    "# Column names we're filtering through\n",
    "column_names = ['id','malignant',\n",
    "                'nucleus_mean','nucleus_se','nucleus_worst',\n",
    "                'texture_mean','texture_se','texture_worst',\n",
    "                'perimeter_mean','perimeter_se','perimeter_worst',\n",
    "                'area_mean','area_se','area_worst',\n",
    "                'smoothness_mean','smoothness_se','smoothness_worst',\n",
    "                'compactness_mean','compactness_se','compactness_worst',\n",
    "                'concavity_mean','concavity_se','concavity_worst',\n",
    "                'concave_pts_mean','concave_pts_se','concave_pts_worst',\n",
    "                'symmetry_mean','symmetry_se','symmetry_worst',\n",
    "                'fractal_dim_mean','fractal_dim_se','fractal_dim_worst']\n",
    "\n",
    "# Create and print df\n",
    "df = pd.DataFrame(matrix,columns=column_names)\n",
    "df.head(3)"
   ]
  },
  {
   "cell_type": "code",
   "execution_count": 11,
   "metadata": {
    "Collapsed": "false"
   },
   "outputs": [
    {
     "data": {
      "text/html": [
       "<div>\n",
       "<style scoped>\n",
       "    .dataframe tbody tr th:only-of-type {\n",
       "        vertical-align: middle;\n",
       "    }\n",
       "\n",
       "    .dataframe tbody tr th {\n",
       "        vertical-align: top;\n",
       "    }\n",
       "\n",
       "    .dataframe thead th {\n",
       "        text-align: right;\n",
       "    }\n",
       "</style>\n",
       "<table border=\"1\" class=\"dataframe\">\n",
       "  <thead>\n",
       "    <tr style=\"text-align: right;\">\n",
       "      <th></th>\n",
       "      <th>id</th>\n",
       "      <th>nucleus_mean</th>\n",
       "      <th>texture_mean</th>\n",
       "      <th>perimeter_mean</th>\n",
       "      <th>area_mean</th>\n",
       "      <th>smoothness_mean</th>\n",
       "      <th>compactness_mean</th>\n",
       "      <th>concavity_mean</th>\n",
       "      <th>concave_pts_mean</th>\n",
       "      <th>symmetry_mean</th>\n",
       "      <th>fractal_dim_mean</th>\n",
       "    </tr>\n",
       "  </thead>\n",
       "  <tbody>\n",
       "    <tr>\n",
       "      <th>0</th>\n",
       "      <td>0.834842</td>\n",
       "      <td>0.744640</td>\n",
       "      <td>0.609238</td>\n",
       "      <td>0.509902</td>\n",
       "      <td>0.456621</td>\n",
       "      <td>0.217899</td>\n",
       "      <td>0.881824</td>\n",
       "      <td>0.636832</td>\n",
       "      <td>0.873863</td>\n",
       "      <td>0.862674</td>\n",
       "      <td>0.159155</td>\n",
       "    </tr>\n",
       "    <tr>\n",
       "      <th>1</th>\n",
       "      <td>0.202938</td>\n",
       "      <td>0.794575</td>\n",
       "      <td>0.377415</td>\n",
       "      <td>0.711096</td>\n",
       "      <td>0.726058</td>\n",
       "      <td>0.697430</td>\n",
       "      <td>0.094972</td>\n",
       "      <td>0.108974</td>\n",
       "      <td>0.271560</td>\n",
       "      <td>0.132358</td>\n",
       "      <td>0.422055</td>\n",
       "    </tr>\n",
       "    <tr>\n",
       "      <th>2</th>\n",
       "      <td>0.095285</td>\n",
       "      <td>0.268656</td>\n",
       "      <td>0.015858</td>\n",
       "      <td>0.037680</td>\n",
       "      <td>0.594078</td>\n",
       "      <td>0.938702</td>\n",
       "      <td>0.108886</td>\n",
       "      <td>0.018255</td>\n",
       "      <td>0.853298</td>\n",
       "      <td>0.503090</td>\n",
       "      <td>0.931419</td>\n",
       "    </tr>\n",
       "  </tbody>\n",
       "</table>\n",
       "</div>"
      ],
      "text/plain": [
       "         id  nucleus_mean  texture_mean  perimeter_mean  area_mean  \\\n",
       "0  0.834842      0.744640      0.609238        0.509902   0.456621   \n",
       "1  0.202938      0.794575      0.377415        0.711096   0.726058   \n",
       "2  0.095285      0.268656      0.015858        0.037680   0.594078   \n",
       "\n",
       "   smoothness_mean  compactness_mean  concavity_mean  concave_pts_mean  \\\n",
       "0         0.217899          0.881824        0.636832          0.873863   \n",
       "1         0.697430          0.094972        0.108974          0.271560   \n",
       "2         0.938702          0.108886        0.018255          0.853298   \n",
       "\n",
       "   symmetry_mean  fractal_dim_mean  \n",
       "0       0.862674          0.159155  \n",
       "1       0.132358          0.422055  \n",
       "2       0.503090          0.931419  "
      ]
     },
     "execution_count": 11,
     "metadata": {},
     "output_type": "execute_result"
    }
   ],
   "source": [
    "# Filter all the columns that have mean\n",
    "df.filter(regex='[^(se)^(worst)]$')"
   ]
  },
  {
   "cell_type": "markdown",
   "metadata": {
    "Collapsed": "false"
   },
   "source": [
    "##### Column filtering"
   ]
  },
  {
   "cell_type": "code",
   "execution_count": 14,
   "metadata": {
    "Collapsed": "false"
   },
   "outputs": [
    {
     "data": {
      "text/html": [
       "<div>\n",
       "<style scoped>\n",
       "    .dataframe tbody tr th:only-of-type {\n",
       "        vertical-align: middle;\n",
       "    }\n",
       "\n",
       "    .dataframe tbody tr th {\n",
       "        vertical-align: top;\n",
       "    }\n",
       "\n",
       "    .dataframe thead th {\n",
       "        text-align: right;\n",
       "    }\n",
       "</style>\n",
       "<table border=\"1\" class=\"dataframe\">\n",
       "  <thead>\n",
       "    <tr style=\"text-align: right;\">\n",
       "      <th></th>\n",
       "      <th>sepal_length</th>\n",
       "      <th>sepal_width</th>\n",
       "      <th>petal_length</th>\n",
       "      <th>petal_width</th>\n",
       "      <th>species</th>\n",
       "    </tr>\n",
       "  </thead>\n",
       "  <tbody>\n",
       "    <tr>\n",
       "      <th>0</th>\n",
       "      <td>5.1</td>\n",
       "      <td>3.5</td>\n",
       "      <td>1.4</td>\n",
       "      <td>0.2</td>\n",
       "      <td>setosa</td>\n",
       "    </tr>\n",
       "    <tr>\n",
       "      <th>1</th>\n",
       "      <td>4.9</td>\n",
       "      <td>3.0</td>\n",
       "      <td>1.4</td>\n",
       "      <td>0.2</td>\n",
       "      <td>setosa</td>\n",
       "    </tr>\n",
       "    <tr>\n",
       "      <th>2</th>\n",
       "      <td>4.7</td>\n",
       "      <td>3.2</td>\n",
       "      <td>1.3</td>\n",
       "      <td>0.2</td>\n",
       "      <td>setosa</td>\n",
       "    </tr>\n",
       "    <tr>\n",
       "      <th>3</th>\n",
       "      <td>4.6</td>\n",
       "      <td>3.1</td>\n",
       "      <td>1.5</td>\n",
       "      <td>0.2</td>\n",
       "      <td>setosa</td>\n",
       "    </tr>\n",
       "    <tr>\n",
       "      <th>4</th>\n",
       "      <td>5.0</td>\n",
       "      <td>3.6</td>\n",
       "      <td>1.4</td>\n",
       "      <td>0.2</td>\n",
       "      <td>setosa</td>\n",
       "    </tr>\n",
       "  </tbody>\n",
       "</table>\n",
       "</div>"
      ],
      "text/plain": [
       "   sepal_length  sepal_width  petal_length  petal_width species\n",
       "0           5.1          3.5           1.4          0.2  setosa\n",
       "1           4.9          3.0           1.4          0.2  setosa\n",
       "2           4.7          3.2           1.3          0.2  setosa\n",
       "3           4.6          3.1           1.5          0.2  setosa\n",
       "4           5.0          3.6           1.4          0.2  setosa"
      ]
     },
     "execution_count": 14,
     "metadata": {},
     "output_type": "execute_result"
    }
   ],
   "source": [
    "# Resetting the df\n",
    "import seaborn as sns\n",
    "df = sns.load_dataset('iris')\n",
    "df.head()"
   ]
  },
  {
   "cell_type": "code",
   "execution_count": 15,
   "metadata": {
    "Collapsed": "false"
   },
   "outputs": [
    {
     "data": {
      "text/html": [
       "<div>\n",
       "<style scoped>\n",
       "    .dataframe tbody tr th:only-of-type {\n",
       "        vertical-align: middle;\n",
       "    }\n",
       "\n",
       "    .dataframe tbody tr th {\n",
       "        vertical-align: top;\n",
       "    }\n",
       "\n",
       "    .dataframe thead th {\n",
       "        text-align: right;\n",
       "    }\n",
       "</style>\n",
       "<table border=\"1\" class=\"dataframe\">\n",
       "  <thead>\n",
       "    <tr style=\"text-align: right;\">\n",
       "      <th></th>\n",
       "      <th>sepal_length</th>\n",
       "      <th>sepal_width</th>\n",
       "      <th>petal_length</th>\n",
       "      <th>petal_width</th>\n",
       "      <th>species</th>\n",
       "    </tr>\n",
       "  </thead>\n",
       "  <tbody>\n",
       "    <tr>\n",
       "      <th>0</th>\n",
       "      <td>5.1</td>\n",
       "      <td>3.5</td>\n",
       "      <td>1.4</td>\n",
       "      <td>0.2</td>\n",
       "      <td>setosa</td>\n",
       "    </tr>\n",
       "    <tr>\n",
       "      <th>1</th>\n",
       "      <td>4.9</td>\n",
       "      <td>3.0</td>\n",
       "      <td>1.4</td>\n",
       "      <td>0.2</td>\n",
       "      <td>setosa</td>\n",
       "    </tr>\n",
       "    <tr>\n",
       "      <th>2</th>\n",
       "      <td>4.7</td>\n",
       "      <td>3.2</td>\n",
       "      <td>1.3</td>\n",
       "      <td>0.2</td>\n",
       "      <td>setosa</td>\n",
       "    </tr>\n",
       "    <tr>\n",
       "      <th>3</th>\n",
       "      <td>4.6</td>\n",
       "      <td>3.1</td>\n",
       "      <td>1.5</td>\n",
       "      <td>0.2</td>\n",
       "      <td>setosa</td>\n",
       "    </tr>\n",
       "    <tr>\n",
       "      <th>4</th>\n",
       "      <td>5.0</td>\n",
       "      <td>3.6</td>\n",
       "      <td>1.4</td>\n",
       "      <td>0.2</td>\n",
       "      <td>setosa</td>\n",
       "    </tr>\n",
       "  </tbody>\n",
       "</table>\n",
       "</div>"
      ],
      "text/plain": [
       "   sepal_length  sepal_width  petal_length  petal_width species\n",
       "0           5.1          3.5           1.4          0.2  setosa\n",
       "1           4.9          3.0           1.4          0.2  setosa\n",
       "2           4.7          3.2           1.3          0.2  setosa\n",
       "3           4.6          3.1           1.5          0.2  setosa\n",
       "4           5.0          3.6           1.4          0.2  setosa"
      ]
     },
     "execution_count": 15,
     "metadata": {},
     "output_type": "execute_result"
    }
   ],
   "source": [
    "# What if we wanted species containing a string\n",
    "df[df['species'].str.contains(r'set')].head()"
   ]
  }
 ],
 "metadata": {
  "kernelspec": {
   "display_name": "Python 3",
   "language": "python",
   "name": "python3"
  },
  "language_info": {
   "codemirror_mode": {
    "name": "ipython",
    "version": 3
   },
   "file_extension": ".py",
   "mimetype": "text/x-python",
   "name": "python",
   "nbconvert_exporter": "python",
   "pygments_lexer": "ipython3",
   "version": "3.7.7"
  }
 },
 "nbformat": 4,
 "nbformat_minor": 4
}
