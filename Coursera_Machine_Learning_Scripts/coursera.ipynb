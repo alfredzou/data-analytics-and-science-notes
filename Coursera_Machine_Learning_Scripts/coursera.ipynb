{
 "cells": [
  {
   "cell_type": "markdown",
   "metadata": {
    "Collapsed": "false"
   },
   "source": [
    "## Coursera Machine Learning Course Notes"
   ]
  },
  {
   "cell_type": "markdown",
   "metadata": {
    "Collapsed": "false"
   },
   "source": [
    "### Simple Linear Regression (SLR)\n",
    "* $h(x)$ is the hypothesis function. In this case it is SLR\n",
    "* $j(\\theta)$ is the cost function we are trying to minimise. In this case it is MSE\n",
    "* We can achieve this by finding the partial slope $\\frac{\\partial j(\\theta)}{\\partial\\theta}$ then updating the parameters $\\theta_0$ and $\\theta_1$\n",
    "\n",
    "Hypothesis function and cost function\n",
    "* $h(x) = \\theta_0 + \\theta_1x$\n",
    "* $j(\\theta_0,\\theta_1) = MSE = \\frac{1}{2m}\\sum_{i=1}^{m} (\\theta_0 + \\theta_1x^{(i)} - y^{(i)})^2$\n",
    "\n",
    "Calculating gradients of the cost function\n",
    "* $\\frac{\\partial j(\\theta_0,\\theta_1)}{\\partial\\theta_0} = \\frac{1}{m}\\sum_{i=1}^{m} (\\theta_0 + \\theta_1x^i - y^i)$\n",
    "* $\\frac{\\partial j(\\theta_0,\\theta_1)}{\\partial\\theta_1} = \\frac{1}{m}\\sum_{i=1}^{m} (\\theta_0 + \\theta_1x^i - y^i) x^i$\n",
    "\n",
    "Updating $\\theta$ simultaneously\n",
    "* $temp_0 := \\theta_0 - \\alpha \\frac{\\partial j(\\theta_0,\\theta_1)}{\\partial\\theta_0}$\n",
    "* $temp_1 := \\theta_1 - \\alpha \\frac{\\partial j(\\theta_0,\\theta_1)}{\\partial\\theta_1}$\n",
    "* $\\theta_0 = temp_0$\n",
    "* $\\theta_1 = temp_1$\n",
    "\n",
    "Learning rate $\\alpha$\n",
    "* if $\\alpha$ is too low, it takes a lot of iterations and may get stuck in a local minimum\n",
    "* if $\\alpha$ is too high, it may fail to converge or diverge (skipping past the local minimum)\n",
    "* As we approach a local minimum, gradient descent will automatically take smaller steps. So, no need to decrease $\\alpha$ over time\n",
    "\n",
    "Types of gradient descent\n",
    "* batch uses all training examples (per epoch)\n",
    "* minibatch uses a portion of the training examples (due to ram issues)"
   ]
  },
  {
   "cell_type": "code",
   "execution_count": null,
   "metadata": {},
   "outputs": [],
   "source": []
  },
  {
   "cell_type": "code",
   "execution_count": 2,
   "metadata": {
    "Collapsed": "false"
   },
   "outputs": [],
   "source": [
    "import matplotlib.pyplot as plt\n",
    "import numpy as np"
   ]
  },
  {
   "cell_type": "code",
   "execution_count": 25,
   "metadata": {
    "Collapsed": "false"
   },
   "outputs": [],
   "source": [
    "x_i = [0, 1, 3, 4, 5, 9, 10, 11, 13 ,14]\n",
    "y_i = [i + np.random.randint(-3,3) for i in x]"
   ]
  },
  {
   "cell_type": "code",
   "execution_count": 134,
   "metadata": {
    "Collapsed": "false"
   },
   "outputs": [],
   "source": [
    "theta_0 = 0\n",
    "theta_1 = 0\n",
    "y_pred = [theta_0+theta_1*i for i in x_i]"
   ]
  },
  {
   "cell_type": "code",
   "execution_count": 2559,
   "metadata": {
    "Collapsed": "false"
   },
   "outputs": [
    {
     "data": {
      "image/png": "[encoded data removed]",
      "text/plain": [
       "<Figure size 432x288 with 1 Axes>"
      ]
     },
     "metadata": {
      "needs_background": "light"
     },
     "output_type": "display_data"
    }
   ],
   "source": [
    "fig = plt.figure()\n",
    "ax = plt.axes()\n",
    "\n",
    "plt.scatter(x_i,y_i)\n",
    "plt.plot(x_i,y_pred)\n",
    "\n",
    "# plt.vlines(x=0, ymin=3, ymax=-2)\n",
    "\n",
    "iteration = 0\n",
    "for x in x_i:\n",
    "    y_min = np.min([y_i[iteration],y_pred[iteration]])\n",
    "    y_max = np.max([y_i[iteration],y_pred[iteration]])\n",
    "    plt.vlines(x=x, ymin=y_min, ymax=y_max, colors='r',linestyle=':')\n",
    "    iteration += 1"
   ]
  },
  {
   "cell_type": "code",
   "execution_count": 130,
   "metadata": {
    "Collapsed": "false"
   },
   "outputs": [],
   "source": [
    "def error():\n",
    "    sum = 0\n",
    "    iteration = 0\n",
    "    for x in x_i:\n",
    "        sum += (y_pred[iteration] - y_i[iteration])**2      \n",
    "        iteration += 1\n",
    "        \n",
    "    sum /= len(x_i)\n",
    "    return sum"
   ]
  },
  {
   "cell_type": "code",
   "execution_count": 315,
   "metadata": {
    "Collapsed": "false"
   },
   "outputs": [
    {
     "data": {
      "text/plain": [
       "4.28697513555709"
      ]
     },
     "execution_count": 315,
     "metadata": {},
     "output_type": "execute_result"
    }
   ],
   "source": [
    "error()"
   ]
  },
  {
   "cell_type": "code",
   "execution_count": 1294,
   "metadata": {
    "Collapsed": "false"
   },
   "outputs": [],
   "source": [
    "def update(theta_0,theta_1,alpha):\n",
    "    derivative_0,derivative_1 = 0,0\n",
    "    iteration = 0\n",
    "    for x in x_i:\n",
    "        derivative_0 += (y_pred[iteration] - y_i[iteration])\n",
    "        derivative_1 += (y_pred[iteration] - y_i[iteration])*x\n",
    "        iteration += 1\n",
    "        \n",
    "    theta_0 = theta_0 - alpha * derivative_0\n",
    "    theta_1 = theta_1 - alpha * derivative_1\n",
    "    print(theta_0,theta_1)\n",
    "    return theta_0,theta_1"
   ]
  },
  {
   "cell_type": "code",
   "execution_count": 2014,
   "metadata": {
    "Collapsed": "false"
   },
   "outputs": [],
   "source": [
    "theta_0,theta_1 =0,0"
   ]
  },
  {
   "cell_type": "code",
   "execution_count": 2558,
   "metadata": {
    "Collapsed": "false"
   },
   "outputs": [
    {
     "name": "stdout",
     "output_type": "stream",
     "text": [
      "0.41236191574929254 0.9834789458075751\n",
      "2.2030175422574225\n"
     ]
    }
   ],
   "source": [
    "y_pred = [theta_0+theta_1*i for i in x_i]\n",
    "theta_0,theta_1 = update(theta_0,theta_1,0.002)\n",
    "print(error())"
   ]
  },
  {
   "cell_type": "code",
   "execution_count": 2560,
   "metadata": {
    "Collapsed": "false"
   },
   "outputs": [],
   "source": [
    "from sklearn.linear_model import LinearRegression"
   ]
  },
  {
   "cell_type": "code",
   "execution_count": 2566,
   "metadata": {
    "Collapsed": "false"
   },
   "outputs": [
    {
     "ename": "ValueError",
     "evalue": "Found input variables with inconsistent numbers of samples: [1, 10]",
     "output_type": "error",
     "traceback": [
      "\u001b[1;31m---------------------------------------------------------------------------\u001b[0m",
      "\u001b[1;31mValueError\u001b[0m                                Traceback (most recent call last)",
      "\u001b[1;32m<ipython-input-2566-68cd1c4abc37>\u001b[0m in \u001b[0;36m<module>\u001b[1;34m\u001b[0m\n\u001b[1;32m----> 1\u001b[1;33m \u001b[0mreg\u001b[0m \u001b[1;33m=\u001b[0m \u001b[0mLinearRegression\u001b[0m\u001b[1;33m(\u001b[0m\u001b[1;33m)\u001b[0m\u001b[1;33m.\u001b[0m\u001b[0mfit\u001b[0m\u001b[1;33m(\u001b[0m\u001b[1;33m[\u001b[0m\u001b[0mx_i\u001b[0m\u001b[1;33m]\u001b[0m\u001b[1;33m,\u001b[0m \u001b[0my_i\u001b[0m\u001b[1;33m)\u001b[0m\u001b[1;33m\u001b[0m\u001b[1;33m\u001b[0m\u001b[0m\n\u001b[0m",
      "\u001b[1;32m~\\Anaconda3\\lib\\site-packages\\sklearn\\linear_model\\_base.py\u001b[0m in \u001b[0;36mfit\u001b[1;34m(self, X, y, sample_weight)\u001b[0m\n\u001b[0;32m    490\u001b[0m         \u001b[0mn_jobs_\u001b[0m \u001b[1;33m=\u001b[0m \u001b[0mself\u001b[0m\u001b[1;33m.\u001b[0m\u001b[0mn_jobs\u001b[0m\u001b[1;33m\u001b[0m\u001b[1;33m\u001b[0m\u001b[0m\n\u001b[0;32m    491\u001b[0m         X, y = check_X_y(X, y, accept_sparse=['csr', 'csc', 'coo'],\n\u001b[1;32m--> 492\u001b[1;33m                          y_numeric=True, multi_output=True)\n\u001b[0m\u001b[0;32m    493\u001b[0m \u001b[1;33m\u001b[0m\u001b[0m\n\u001b[0;32m    494\u001b[0m         \u001b[1;32mif\u001b[0m \u001b[0msample_weight\u001b[0m \u001b[1;32mis\u001b[0m \u001b[1;32mnot\u001b[0m \u001b[1;32mNone\u001b[0m\u001b[1;33m:\u001b[0m\u001b[1;33m\u001b[0m\u001b[1;33m\u001b[0m\u001b[0m\n",
      "\u001b[1;32m~\\Anaconda3\\lib\\site-packages\\sklearn\\utils\\validation.py\u001b[0m in \u001b[0;36mcheck_X_y\u001b[1;34m(X, y, accept_sparse, accept_large_sparse, dtype, order, copy, force_all_finite, ensure_2d, allow_nd, multi_output, ensure_min_samples, ensure_min_features, y_numeric, warn_on_dtype, estimator)\u001b[0m\n\u001b[0;32m    763\u001b[0m         \u001b[0my\u001b[0m \u001b[1;33m=\u001b[0m \u001b[0my\u001b[0m\u001b[1;33m.\u001b[0m\u001b[0mastype\u001b[0m\u001b[1;33m(\u001b[0m\u001b[0mnp\u001b[0m\u001b[1;33m.\u001b[0m\u001b[0mfloat64\u001b[0m\u001b[1;33m)\u001b[0m\u001b[1;33m\u001b[0m\u001b[1;33m\u001b[0m\u001b[0m\n\u001b[0;32m    764\u001b[0m \u001b[1;33m\u001b[0m\u001b[0m\n\u001b[1;32m--> 765\u001b[1;33m     \u001b[0mcheck_consistent_length\u001b[0m\u001b[1;33m(\u001b[0m\u001b[0mX\u001b[0m\u001b[1;33m,\u001b[0m \u001b[0my\u001b[0m\u001b[1;33m)\u001b[0m\u001b[1;33m\u001b[0m\u001b[1;33m\u001b[0m\u001b[0m\n\u001b[0m\u001b[0;32m    766\u001b[0m \u001b[1;33m\u001b[0m\u001b[0m\n\u001b[0;32m    767\u001b[0m     \u001b[1;32mreturn\u001b[0m \u001b[0mX\u001b[0m\u001b[1;33m,\u001b[0m \u001b[0my\u001b[0m\u001b[1;33m\u001b[0m\u001b[1;33m\u001b[0m\u001b[0m\n",
      "\u001b[1;32m~\\Anaconda3\\lib\\site-packages\\sklearn\\utils\\validation.py\u001b[0m in \u001b[0;36mcheck_consistent_length\u001b[1;34m(*arrays)\u001b[0m\n\u001b[0;32m    210\u001b[0m     \u001b[1;32mif\u001b[0m \u001b[0mlen\u001b[0m\u001b[1;33m(\u001b[0m\u001b[0muniques\u001b[0m\u001b[1;33m)\u001b[0m \u001b[1;33m>\u001b[0m \u001b[1;36m1\u001b[0m\u001b[1;33m:\u001b[0m\u001b[1;33m\u001b[0m\u001b[1;33m\u001b[0m\u001b[0m\n\u001b[0;32m    211\u001b[0m         raise ValueError(\"Found input variables with inconsistent numbers of\"\n\u001b[1;32m--> 212\u001b[1;33m                          \" samples: %r\" % [int(l) for l in lengths])\n\u001b[0m\u001b[0;32m    213\u001b[0m \u001b[1;33m\u001b[0m\u001b[0m\n\u001b[0;32m    214\u001b[0m \u001b[1;33m\u001b[0m\u001b[0m\n",
      "\u001b[1;31mValueError\u001b[0m: Found input variables with inconsistent numbers of samples: [1, 10]"
     ]
    }
   ],
   "source": [
    "reg = LinearRegression().fit([x_i], y_i)"
   ]
  },
  {
   "cell_type": "code",
   "execution_count": 2567,
   "metadata": {
    "Collapsed": "false"
   },
   "outputs": [
    {
     "data": {
      "text/plain": [
       "[0, 1, 3, 4, 5, 9, 10, 11, 13, 14]"
      ]
     },
     "execution_count": 2567,
     "metadata": {},
     "output_type": "execute_result"
    }
   ],
   "source": [
    "x_i"
   ]
  },
  {
   "cell_type": "code",
   "execution_count": 6,
   "metadata": {
    "Collapsed": "false"
   },
   "outputs": [],
   "source": [
    "from matplotlib import pyplot\n",
    "import numpy, weakref\n",
    "a = numpy.arange(int(1e3))\n",
    "fig = pyplot.Figure()\n",
    "ax  = fig.add_subplot(1, 1, 1)\n",
    "lines = ax.plot(a)\n",
    "\n",
    "# l = lines.pop(0)\n",
    "# wl = weakref.ref(l)  # create a weak reference to see if references still exist\n",
    "# #                      to this object\n",
    "# print wl  # not dead\n",
    "# l.remove()\n",
    "# print wl  # not dead\n",
    "# del l\n",
    "# print wl  # dead  (remove either of the steps above and this is still live)"
   ]
  },
  {
   "cell_type": "code",
   "execution_count": 5,
   "metadata": {},
   "outputs": [],
   "source": [
    "pyplot.show()"
   ]
  },
  {
   "cell_type": "code",
   "execution_count": null,
   "metadata": {},
   "outputs": [],
   "source": []
  },
  {
   "cell_type": "markdown",
   "metadata": {},
   "source": [
    "## Matrix\n",
    "* dim of matrix = row * col\n",
    "* $A_{ij}$ represents element in row i and col j\n",
    "* capitals refer to matrices\n",
    "* lower case scalar and vector"
   ]
  },
  {
   "cell_type": "markdown",
   "metadata": {},
   "source": [
    "## Octave\n",
    "``` octave\n",
    "A = [1,2,3;4,5,6;7,8,9]\n",
    "v = [1,2,3]\n",
    "[m,n] = size(A)\n",
    "dim_A = size(A)\n",
    "A_23 = A(2,3)\n",
    "A' %transpose\n",
    "inv(A) %inverse\n",
    "help my_func\n",
    "1==2 %compare\n",
    "1~=2 %~ is not\n",
    "1&&0 % AND\n",
    "1||0 % OR\n",
    "xor(1,0) % XOR\n",
    "ls\n",
    "cd\n",
    "load my_file % loads data into octave\n",
    "save my_file my_variable % save data\n",
    "whos % detailed view\n",
    "clear my_variable % delete variable\n",
    "A(1:12) % index 1-12th elements\n",
    "A*B % dot product\n",
    "A.*B % elmeent operation\n",
    "plot(x,y)\n",
    "hold on\n",
    "plot(x,y2,'r')\n",
    "xlabel('')\n",
    "ylabel('')\n",
    "title('')\n",
    "legend('y1','y2')\n",
    "print -dpng ''\n",
    "close\n",
    "subplot(r,c,1)\n",
    "axis([xmin,xmax,ymin,ymax])\n",
    "imagesc(A),colorbar,colormap gray;\n",
    "% for loops\n",
    "for i=1:10,\n",
    "i,\n",
    "end\n",
    "% while loop\n",
    "i = 0\n",
    "while i<10,\n",
    "i=i+1,\n",
    "end\n",
    "% if statement the same\n",
    "% functions\n",
    "function [y1,y2] = squareAndCubeThisNumber(x)\n",
    "y1 = x^2\n",
    "y2 = x^3\n",
    "end\n",
    ">> squareAndCubeThisNumber(3)\n",
    "y1 =  9\n",
    "y2 =  27\n",
    "```"
   ]
  },
  {
   "cell_type": "markdown",
   "metadata": {},
   "source": [
    "* n = # of features\n",
    "* $x_1^{i},x_2^{i},x_3^{i}$ represents feature 1,2,3 respectively of the ith index\n",
    "* $\\theta_j := \\theta_j - \\alpha\\frac{1}{m}\\sum_{i=1}^{m} (\\theta^Tx^{(i)} - y^{(i)}) x_j^i$"
   ]
  },
  {
   "cell_type": "markdown",
   "metadata": {},
   "source": [
    "##### Feature scaling\n",
    "* I want to see before and after feature scaling\n",
    "* scaling can cnverge much faster\n",
    "* want ot get into -1 < $x_i$< 1range\n",
    "* mean normilisation $x_1 = \\frac {size-\\mu} {2000}$"
   ]
  },
  {
   "cell_type": "markdown",
   "metadata": {},
   "source": [
    "##### Choose learning rate $\\alpha$\n",
    "* plot cost function over time (iterations) and it should decrease over time\n",
    "* automatic convergence, if cost function dcreases less than 10^-3 by one interaction"
   ]
  },
  {
   "cell_type": "markdown",
   "metadata": {},
   "source": [
    "##### Features and ploynomial regression\n",
    "* $h_\\theta(x) = \\theta_0 +\\theta_1(size)+\\theta_2(size)^2+\\theta_3(size)^3$\n",
    "* $h_\\theta(x) = \\theta_0 +\\theta_1x_1+\\theta_2x_2+\\theta_3x_3$\n",
    "* $x_1 = size, x_2=size^2,x_3=size^3, x_4 = \\sqrt{size}$\n",
    "* This substitution is fine, but makes feature scaling even more important"
   ]
  },
  {
   "cell_type": "markdown",
   "metadata": {},
   "source": [
    "##### Normal Equation\n",
    "* solved for $\\theta$ analytically\n",
    "* $\\theta =(X^TX)^{-1}X^Ty$\n",
    "* No need for feature scaling\n"
   ]
  },
  {
   "cell_type": "markdown",
   "metadata": {},
   "source": [
    "##### Normal vs gradient descent\n",
    "* gradient need to choose $\\alpha$\n",
    "* GD needs many iterations\n",
    "* GD works well even when n is large, normal equation is slow if n is very large <10^6\n",
    "* GD works for generic for specialised eqns\n"
   ]
  },
  {
   "cell_type": "markdown",
   "metadata": {},
   "source": [
    "##### Non invertible\n",
    "* $X^TX$ redundant features (linearly dependent)\n",
    "* called singular\n",
    "* too many features m <= n \n",
    "    * 10 rows with 100 features\n",
    "    * delete some features with regularization"
   ]
  }
 ],
 "metadata": {
  "kernelspec": {
   "display_name": "Python 3",
   "language": "python",
   "name": "python3"
  },
  "language_info": {
   "codemirror_mode": {
    "name": "ipython",
    "version": 3
   },
   "file_extension": ".py",
   "mimetype": "text/x-python",
   "name": "python",
   "nbconvert_exporter": "python",
   "pygments_lexer": "ipython3",
   "version": "3.7.7"
  }
 },
 "nbformat": 4,
 "nbformat_minor": 4
}
