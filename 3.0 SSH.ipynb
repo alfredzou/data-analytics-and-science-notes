{
 "cells": [
  {
   "cell_type": "markdown",
   "metadata": {},
   "source": [
    "<img src=\"https://camo.githubusercontent.com/db6bd56a6ead4c0d902278e7c1f642ea166d9ddd/687474703a2f2f69636f6e732e69636f6e617263686976652e636f6d2f69636f6e732f746865686f74682f73656f2f3235362f73656f2d70616e64612d69636f6e2e706e67\" style=\"float: left; margin: 20px; height: 55px\">\n",
    "\n",
    "# SSH\n",
    "\n",
    "_Author: Alfred Zou_\n",
    "\n",
    "---"
   ]
  },
  {
   "cell_type": "markdown",
   "metadata": {},
   "source": [
    "## Introduction\n",
    "* SSH (secure shell) provides a secure channel over an unsecured network\n",
    "* It's typically used to log into a remote machine and execute commands"
   ]
  },
  {
   "cell_type": "markdown",
   "metadata": {},
   "source": [
    "## PuTTY\n",
    "* `PuTTY` is a free and open-source software that supports SSH\n",
    "* Generate a SSH key pair. If you're trying to access a webserver you own, they will provide you with this functionality\n",
    "* Take the private key, copy it into notepad and save it as `my_private_key.ppk` file \n",
    "* Use `puttygen.exe` to turn this private key into a PuTTy key, then overwrite the `my_private_key.ppk` file \n",
    "* Use `pageant.exe` to load the key\n",
    "* Use `PuTTY` to SSH by providing the `Host name` and `Port` with the loaded private key to connect to the CLI on the remote machine\n",
    "* Download links to the latest `PuTTY`, `pageant` and `puttygen` [can be found here](https://www.chiark.greenend.org.uk/~sgtatham/putty/latest.html)"
   ]
  }
 ],
 "metadata": {
  "kernelspec": {
   "display_name": "Python 3",
   "language": "python",
   "name": "python3"
  },
  "language_info": {
   "codemirror_mode": {
    "name": "ipython",
    "version": 3
   },
   "file_extension": ".py",
   "mimetype": "text/x-python",
   "name": "python",
   "nbconvert_exporter": "python",
   "pygments_lexer": "ipython3",
   "version": "3.7.7"
  }
 },
 "nbformat": 4,
 "nbformat_minor": 4
}
