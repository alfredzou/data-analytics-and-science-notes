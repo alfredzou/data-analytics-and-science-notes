{
 "cells": [
  {
   "cell_type": "markdown",
   "metadata": {
    "Collapsed": "false"
   },
   "source": [
    "<img src=\"https://www.python.org/static/community_logos/python-powered-w-200x80.png\" style=\"float: left; margin: 20px; height: 55px\">\n",
    "\n",
    "# Python Basics - Data Types\n",
    "\n",
    "_Author: Alfred Zou_\n",
    "\n",
    "---"
   ]
  },
  {
   "cell_type": "markdown",
   "metadata": {
    "Collapsed": "false"
   },
   "source": [
    "### Python Introduction\n",
    "\n",
    "This is a quick introduction to coding in python. It will explore the basic 8 data types. Depending on their inherent properties, we can understand how to manipulate them.\n",
    "\n",
    "# 8 Basic Data Types\n",
    "---\n",
    "* We need to be careful in selecting the correct datatype for the type of information we want to store. This will affect how we can maniuplate and interact with the data.\n",
    "* Datatypes can be visualised as buckets that store a certain type of information\n",
    "* The 8 Basic Data Types:\n",
    "    * Integer: stores whole numbers\n",
    "    * Float: stores numbers with decimal points\n",
    "    * Boolean: stores True or False\n",
    "    * String: stores text or a collection of letters\n",
    "    * List: stores a collection of variables\n",
    "    * Tuple: stores a collection of variables. Tuples cannot be changed\n",
    "    * Sets:  stores a collection of unique variables\n",
    "    * Dictionaries: stores a collection of key and value pairs"
   ]
  },
  {
   "cell_type": "markdown",
   "metadata": {
    "Collapsed": "false"
   },
   "source": [
    "### Variable Assignment\n",
    "* Firstly, what is a variable in Python? Well pretty much everything, the concept of constant doesn't really exist in Python\n",
    "* Unlike other programing languages when we create/assign a variable a value, we don't need to provide Python with a datatype\n",
    "* In python, when creating a variable or assigning it a value, we always place the variable on the left and assign it to the value on the right"
   ]
  },
  {
   "cell_type": "code",
   "execution_count": 53,
   "metadata": {
    "Collapsed": "false"
   },
   "outputs": [
    {
     "data": {
      "text/plain": [
       "3"
      ]
     },
     "execution_count": 53,
     "metadata": {},
     "output_type": "execute_result"
    }
   ],
   "source": [
    "# An example of left assignment\n",
    "a = 3\n",
    "b = 4\n",
    "b = a\n",
    "b"
   ]
  },
  {
   "cell_type": "code",
   "execution_count": 54,
   "metadata": {
    "Collapsed": "false"
   },
   "outputs": [
    {
     "data": {
      "text/plain": [
       "(5, 6)"
      ]
     },
     "execution_count": 54,
     "metadata": {},
     "output_type": "execute_result"
    }
   ],
   "source": [
    "# We can also assign multiple variables at the same time\n",
    "c,d = 5,6\n",
    "c,d"
   ]
  },
  {
   "cell_type": "markdown",
   "metadata": {
    "Collapsed": "false"
   },
   "source": [
    "### Numerical Datatypes - Integers and Floats\n",
    "\n",
    "* There are two ways to store numerical data\n",
    "* Integers are for whole numbers while floats are for numbers with decimal points\n",
    "* Use int() & float() functions to convert between the datatypes\n",
    "* Dividing always converts an integer into a float"
   ]
  },
  {
   "cell_type": "code",
   "execution_count": 55,
   "metadata": {
    "Collapsed": "false"
   },
   "outputs": [
    {
     "data": {
      "text/plain": [
       "int"
      ]
     },
     "execution_count": 55,
     "metadata": {},
     "output_type": "execute_result"
    }
   ],
   "source": [
    "# An integer can be a negative number, as long as its a whole number\n",
    "random_int = -5\n",
    "type(random_int)"
   ]
  },
  {
   "cell_type": "code",
   "execution_count": 56,
   "metadata": {
    "Collapsed": "false"
   },
   "outputs": [
    {
     "data": {
      "text/plain": [
       "float"
      ]
     },
     "execution_count": 56,
     "metadata": {},
     "output_type": "execute_result"
    }
   ],
   "source": [
    "random_float = 1.99999999\n",
    "type(random_float)"
   ]
  },
  {
   "cell_type": "code",
   "execution_count": 57,
   "metadata": {
    "Collapsed": "false"
   },
   "outputs": [
    {
     "name": "stdout",
     "output_type": "stream",
     "text": [
      "1\n"
     ]
    }
   ],
   "source": [
    "# Turning a float into an integer removes the decimal point but does not round it\n",
    "float_to_int = int(random_float)\n",
    "print(float_to_int)"
   ]
  },
  {
   "cell_type": "code",
   "execution_count": 58,
   "metadata": {
    "Collapsed": "false"
   },
   "outputs": [
    {
     "name": "stdout",
     "output_type": "stream",
     "text": [
      "-5.0\n"
     ]
    }
   ],
   "source": [
    "int_to_float = float(random_int)\n",
    "print(int_to_float)"
   ]
  },
  {
   "cell_type": "code",
   "execution_count": 59,
   "metadata": {
    "Collapsed": "false"
   },
   "outputs": [
    {
     "name": "stdout",
     "output_type": "stream",
     "text": [
      "5.0\n"
     ]
    },
    {
     "data": {
      "text/plain": [
       "float"
      ]
     },
     "execution_count": 59,
     "metadata": {},
     "output_type": "execute_result"
    }
   ],
   "source": [
    "# Even when dividing by two integers, the output is always a float\n",
    "print(5/1)\n",
    "type(5/1)"
   ]
  },
  {
   "cell_type": "markdown",
   "metadata": {
    "Collapsed": "false"
   },
   "source": [
    "### Numerical Operations\n",
    "\n",
    "Numerical operavtors include `+`, `-`, `*`, `/`, `**`, `//`, `%`\n",
    "\n",
    "`**` is the symbol for the power operator  \n",
    "`/` dividing and integer always creates a float  \n",
    "`//` is called the quotient or the number of times a dividing number goes into the number. i.e. 11`//`2 = 5. The remainder is captured by the modulus\n",
    "`%` is called the modulus or the remainder. Useful for checking if a number is divisible by another when `%` = 0. i.e. is a number even (`%`2 = 0) or odd (`%`2 = 1)?"
   ]
  },
  {
   "cell_type": "code",
   "execution_count": 60,
   "metadata": {
    "Collapsed": "false"
   },
   "outputs": [
    {
     "data": {
      "text/plain": [
       "125"
      ]
     },
     "execution_count": 60,
     "metadata": {},
     "output_type": "execute_result"
    }
   ],
   "source": [
    "# 5 to the power of 3\n",
    "5**3"
   ]
  },
  {
   "cell_type": "code",
   "execution_count": 61,
   "metadata": {
    "Collapsed": "false"
   },
   "outputs": [
    {
     "name": "stdout",
     "output_type": "stream",
     "text": [
      "82\n",
      "0\n"
     ]
    }
   ],
   "source": [
    "# How many times is 574 divisible by 7?\n",
    "# Is 574 divisible by 7? If the modulus is 0 then it is\n",
    "print(574//7)\n",
    "print(574%7)"
   ]
  },
  {
   "cell_type": "code",
   "execution_count": 62,
   "metadata": {
    "Collapsed": "false"
   },
   "outputs": [
    {
     "name": "stdout",
     "output_type": "stream",
     "text": [
      "28\n",
      "28\n"
     ]
    }
   ],
   "source": [
    "# When operating on a variable to itself, you can write it in two ways\n",
    "a = 23\n",
    "b = 23\n",
    "a = a + 5\n",
    "print(a)\n",
    "b += 5\n",
    "print(b)"
   ]
  },
  {
   "cell_type": "markdown",
   "metadata": {
    "Collapsed": "false"
   },
   "source": [
    "### Booleans \n",
    "\n",
    "* There are two boolean values: True and False\n",
    "* Booleans are the end result of comparison or boolean operators, which are used in logic. This will be explained later on\n",
    "* The boolean of most varaibles are True\n",
    "* Empty values are False"
   ]
  },
  {
   "cell_type": "code",
   "execution_count": 63,
   "metadata": {
    "Collapsed": "false"
   },
   "outputs": [
    {
     "name": "stdout",
     "output_type": "stream",
     "text": [
      "True True True\n",
      "False False False False False False False\n"
     ]
    }
   ],
   "source": [
    "# True Booleans\n",
    "print(bool(1),bool(\"as\"),bool([\"as\",\"sfd\"]))\n",
    "# False Booleans\n",
    "print(bool(),bool(None),bool(0),bool(\"\"),bool({}),bool(set()),bool(()))"
   ]
  },
  {
   "cell_type": "markdown",
   "metadata": {
    "Collapsed": "false"
   },
   "source": [
    "### Collections\n",
    "* Collections are a collection of variables. These include strings, lists, tuples, sets and dictionaries\n",
    "* They are all unique and have interesting data type properties that will be explained later on"
   ]
  },
  {
   "cell_type": "markdown",
   "metadata": {
    "Collapsed": "false"
   },
   "source": [
    "### Strings\n",
    "\n",
    "* Strings holds text. They are a collection of letters\n",
    "* They are iterable, immutable, sortable and can be indexed. These properties will be explained later on"
   ]
  },
  {
   "cell_type": "code",
   "execution_count": 64,
   "metadata": {
    "Collapsed": "false"
   },
   "outputs": [
    {
     "name": "stdout",
     "output_type": "stream",
     "text": [
      "spam eggs 234 342 24\n",
      "<class 'str'> <class 'str'> <class 'str'> <class 'str'>\n"
     ]
    }
   ],
   "source": [
    "# Create strings with 'string', \"string\", '''string''', \"\"\"string\"\"\"\n",
    "print('spam eggs',\"234\",'''342''',\"\"\"24\"\"\")\n",
    "print(type('spam eggs'),type(\"234\"),type('''342'''),type(\"\"\"24\"\"\"))"
   ]
  },
  {
   "cell_type": "code",
   "execution_count": 65,
   "metadata": {
    "Collapsed": "false"
   },
   "outputs": [
    {
     "name": "stdout",
     "output_type": "stream",
     "text": [
      "He said, \"I'm a dog\"\n",
      "He said, \"I'm a dog\"\n",
      "He said, \"I'm a dog\n"
     ]
    }
   ],
   "source": [
    "# Quotations are a problem for strings\n",
    "# Use escape sequence \\ or use triple ''' or \"\"\" to comment a string with ' and \"\n",
    "print('He said, \\\"I\\'m a dog\"' )\n",
    "print('''He said, \"I'm a dog\"''')\n",
    "print(\"\"\"He said, \"I'm a dog\"\"\") # This one loses the last \" mark, so its not ideal, use the '''string''' format instead"
   ]
  },
  {
   "cell_type": "code",
   "execution_count": 66,
   "metadata": {
    "Collapsed": "false"
   },
   "outputs": [
    {
     "name": "stdout",
     "output_type": "stream",
     "text": [
      "line 1\n",
      "line 2\n"
     ]
    }
   ],
   "source": [
    "# For multi-line text use \\n\n",
    "print(\"line 1\\nline 2\")"
   ]
  },
  {
   "cell_type": "code",
   "execution_count": 67,
   "metadata": {
    "Collapsed": "false"
   },
   "outputs": [
    {
     "name": "stdout",
     "output_type": "stream",
     "text": [
      " \n",
      "Usage: thingy [OPTIONS]\n",
      "     -h                        Display this usage message\n",
      "     -H hostname               Hostname to connect to\n",
      "\n"
     ]
    }
   ],
   "source": [
    "# Strings can go across multiple liknes with \"\"\"\"\"\" or ''''''\n",
    "print(\"\"\" \n",
    "Usage: thingy [OPTIONS]\n",
    "     -h                        Display this usage message\n",
    "     -H hostname               Hostname to connect to\n",
    "\"\"\") "
   ]
  },
  {
   "cell_type": "code",
   "execution_count": 68,
   "metadata": {
    "Collapsed": "false"
   },
   "outputs": [
    {
     "name": "stdout",
     "output_type": "stream",
     "text": [
      "C:\\Users\\Draciel\\Dropbox\\General Assembly\\Pre-work\\Python\\csv\\google_returns.csv\n",
      "C:\\Users\\Draciel\\Dropbox\\General Assembly\\Pre-work\\Python\\csv\\female_names.csv\n",
      "         Date    Return\n",
      "0  08/19/2014  0.008073\n",
      "1  08/18/2014  0.015136\n",
      "2  08/15/2014 -0.002036\n",
      "3  08/14/2014 -0.000226\n",
      "4  08/13/2014  0.021413\n",
      "   1      Emma\n",
      "0  2    Olivia\n",
      "1  3       Ava\n",
      "2  4  Isabella\n",
      "3  5    Sophia\n",
      "4  6       Mia\n"
     ]
    }
   ],
   "source": [
    "# Windows machine use a file path using \\ while linux based machines use /\n",
    "# We need to use a raw string r\"\" to prevent escape sequences\n",
    "# A common use for this is to referenec a csv folder path, where we can pull out csv files as needed\n",
    "# Pathlib's Path is used as it can be used for both macs and pcs\n",
    "\n",
    "from pathlib import Path\n",
    "csv_path = Path(r\"C:\\Users\\Draciel\\Dropbox\\General Assembly\\Pre-work\\Python\\csv\")\n",
    "file_path_1 = csv_path / \"google_returns.csv\"\n",
    "file_path_2 = csv_path / \"female_names.csv\"\n",
    "print(file_path_1)\n",
    "print(file_path_2)\n",
    "\n",
    "import pandas as pd\n",
    "df1 = pd.read_csv(file_path_1)\n",
    "df2 = pd.read_csv(file_path_2)\n",
    "print(df1.head())\n",
    "print(df2.head())"
   ]
  },
  {
   "cell_type": "code",
   "execution_count": 69,
   "metadata": {
    "Collapsed": "false"
   },
   "outputs": [
    {
     "data": {
      "text/plain": [
       "'banana'"
      ]
     },
     "execution_count": 69,
     "metadata": {},
     "output_type": "execute_result"
    }
   ],
   "source": [
    "# Strings can be cancatinated by adding them together and repeated by multiplying with integers\n",
    "\"ba\" + 2*\"na\""
   ]
  },
  {
   "cell_type": "markdown",
   "metadata": {
    "Collapsed": "false"
   },
   "source": [
    "#### String Formatting\n",
    "\n",
    "* There are multiple ways on how to do string formatting with variables, I have  listed the two best methods\n",
    "* .format is one option but I prefer f strings as they are easier to read"
   ]
  },
  {
   "cell_type": "code",
   "execution_count": 63,
   "metadata": {
    "Collapsed": "false"
   },
   "outputs": [
    {
     "name": "stdout",
     "output_type": "stream",
     "text": [
      "Karl is 28 years old, which is 45.67%\n"
     ]
    }
   ],
   "source": [
    "name = 'Karl'\n",
    "age = 28\n",
    "perc = 0.45673\n",
    "print(\"{} is {} years old, which is {:.2%}\".format(name,age,perc))"
   ]
  },
  {
   "cell_type": "code",
   "execution_count": 38,
   "metadata": {
    "Collapsed": "false"
   },
   "outputs": [
    {
     "name": "stdout",
     "output_type": "stream",
     "text": [
      "Karl is 28 years old, which is 45.67%\n"
     ]
    }
   ],
   "source": [
    "print(f\"{name} is {age} years old, which is {perc:.2%}\")"
   ]
  },
  {
   "cell_type": "markdown",
   "metadata": {
    "Collapsed": "false"
   },
   "source": [
    "* `%s` string\n",
    "* `%d` integer\n",
    "* `%f` float\n",
    "* `&.#f` float with # number of decimal points\n",
    "* `&.#%` float with # number of decimal points and percentage sign"
   ]
  },
  {
   "cell_type": "markdown",
   "metadata": {
    "Collapsed": "false"
   },
   "source": [
    "### Lists \n",
    "\n",
    "* Collection of variables\n",
    "* They are iterable, mutable, ordered and can be indexed. These properties will be explained later on"
   ]
  },
  {
   "cell_type": "code",
   "execution_count": 72,
   "metadata": {
    "Collapsed": "false"
   },
   "outputs": [
    {
     "name": "stdout",
     "output_type": "stream",
     "text": [
      "[5, 10, 3]\n"
     ]
    }
   ],
   "source": [
    "random_list = [5,10,3]\n",
    "print(random_list)"
   ]
  },
  {
   "cell_type": "markdown",
   "metadata": {
    "Collapsed": "false"
   },
   "source": [
    "### Tuples \n",
    "\n",
    "* Collection of variables\n",
    "* They are iterable, immutable, ordered and can be indexed. These properties will be explained later on\n",
    "* They also take less memory than lists"
   ]
  },
  {
   "cell_type": "code",
   "execution_count": 73,
   "metadata": {
    "Collapsed": "false"
   },
   "outputs": [
    {
     "name": "stdout",
     "output_type": "stream",
     "text": [
      "(1, 2, 3, 'sadsad', 3.234243)\n"
     ]
    }
   ],
   "source": [
    "random_tuple = (1,2,3,\"sadsad\",3.234243)\n",
    "print(random_tuple)"
   ]
  },
  {
   "cell_type": "markdown",
   "metadata": {
    "Collapsed": "false"
   },
   "source": [
    "### Sets\n",
    "\n",
    "* Collection of unique variables\n",
    "* They are iterable, mutable, unordered and cannot be indexed. These properties will be explained later on\n",
    "* Sets do not contain duplicate elements\n",
    "* Important for membership testing, to see if an element exists in a set"
   ]
  },
  {
   "cell_type": "code",
   "execution_count": 74,
   "metadata": {
    "Collapsed": "false"
   },
   "outputs": [
    {
     "name": "stdout",
     "output_type": "stream",
     "text": [
      "{1, 3}\n"
     ]
    }
   ],
   "source": [
    "random_set = {1,1,3}\n",
    "print(random_set)"
   ]
  },
  {
   "cell_type": "code",
   "execution_count": 75,
   "metadata": {
    "Collapsed": "false"
   },
   "outputs": [
    {
     "data": {
      "text/plain": [
       "True"
      ]
     },
     "execution_count": 75,
     "metadata": {},
     "output_type": "execute_result"
    }
   ],
   "source": [
    "1 in random_set"
   ]
  },
  {
   "cell_type": "markdown",
   "metadata": {
    "Collapsed": "false"
   },
   "source": [
    "### Dictionaries\n",
    "\n",
    "* Collection of key:value paris\n",
    "* The keys are unique and do not repeat\n",
    "* They are iterable, mutable, unordered and can be indexed. These properties will be explained later on"
   ]
  },
  {
   "cell_type": "code",
   "execution_count": 2,
   "metadata": {
    "Collapsed": "false"
   },
   "outputs": [
    {
     "name": "stdout",
     "output_type": "stream",
     "text": [
      "{'user_id': 209, 'message': 'D5 B4 G6', 'language': 'english', 'datetime': '12309213092139', 'location': (44.23423, -131.11)}\n"
     ]
    }
   ],
   "source": [
    "random_dictionary = {\"user_id\":209,\"message\":\"D5 B4 G6\",\"language\":\"english\",\"datetime\":\"12309213092139\",\"location\":(44.23423,-131.11)}\n",
    "print(random_dictionary)"
   ]
  },
  {
   "cell_type": "code",
   "execution_count": 4,
   "metadata": {
    "Collapsed": "false"
   },
   "outputs": [
    {
     "name": "stdout",
     "output_type": "stream",
     "text": [
      "209\n",
      "no star sign found\n"
     ]
    }
   ],
   "source": [
    "# .get() uses an input key to get the associated value, if it can't find anything it will return a default value\n",
    "print(random_dictionary.get(\"user_id\"))\n",
    "print(random_dictionary.get(\"star_sign\",\"no star sign found\"))"
   ]
  },
  {
   "cell_type": "markdown",
   "metadata": {
    "Collapsed": "false"
   },
   "source": [
    "# Datatype Manipulation\n",
    "---\n",
    "### Datatype Properties\n",
    "\n",
    "##### Iterable\n",
    "* All collections are iterable. The elements within strings, lists, tuples, sets and dictionaries can be iterated on\n",
    "\n",
    "##### Mutable vs Immutable\n",
    "* Mutable means ability to be changed. They include lists, sets and dictionaries. i.e. we can add new entries into a dictionary without reassigning a new dictionary\n",
    "* Immutable means inability to be changed. They include strings and tuples. You cannot change a string or tuple but you can override them with a new string or tuple\n",
    "\n",
    "##### Ordered\n",
    "* Sets and dictionaries aren't ordered. \n",
    "\n",
    "##### Indexable\n",
    "* Sets aren't indexable as there is no order\n",
    "* Strings, list and tuples are indexable by order\n",
    "* Dictionaries can be indexed by calling the key, returning the respective value\n",
    "\n",
    "##### Indexable and Mutable\n",
    "* Only lists and dictionaries are indexable and mutable, this means that the values can be overwritten by assigning a value to the index\n",
    "\n",
    "##### Indexable and Ordered\n",
    "* Strings, lists and tuples can be sliced\n",
    "\n",
    "Datatype Property|String | List | Tuple | Set | Dictionary\n",
    "---|---|---|---|---|---\n",
    "Iterable|O|O|O|O|O\n",
    "Mutable: Ability to add new elements||O||O|O\n",
    "Immutable|O||O||\n",
    "Ordered|O|O|O||\n",
    "Indexable|O|O|O||by key\n",
    "Indexable and Mutable: Variable assignment||O|||by key\n",
    "Indexable and Ordered: Slicing|O|O|O||\n",
    "\n",
    "### Functions & Methods Vs. Selection\n",
    "\n",
    "##### Functions vs Methods\n",
    "\n",
    "* How do we operate on these data types? We apply functions and methods\n",
    "* Functions are called using the \"function(data)\" format \n",
    "* For example print(random_string_variable) is one of Python's built in functions. Users can define their own functions but I will discuss that later\n",
    "* Methods are called by \"data.method()\" format and are specific to the data type\n",
    "* For example random_list.append() is one of Python's built in methods. The .append() method only applies to the list data type. Users can define their own data types called classes, and can assign methods that can be executed on these classes\n",
    "\n",
    "##### Functions & Methods Vs. Selection\n",
    "\n",
    "* Functions and methods manipulate data. They are represented by ()\n",
    "* Indexing and slicing is used to select data. This is represented by []"
   ]
  },
  {
   "cell_type": "markdown",
   "metadata": {
    "Collapsed": "false"
   },
   "source": [
    "##### Empty Data"
   ]
  },
  {
   "cell_type": "code",
   "execution_count": 88,
   "metadata": {
    "Collapsed": "false"
   },
   "outputs": [],
   "source": [
    "# Creating empty data is useful during for and while loops\n",
    "empty_list = []\n",
    "empty_set = set()\n",
    "empty_dictionary = {}\n",
    "empty_tuple = ()\n",
    "empty_string = \"\""
   ]
  },
  {
   "cell_type": "markdown",
   "metadata": {
    "Collapsed": "false"
   },
   "source": [
    "#### Datatype Properties Demonstration"
   ]
  },
  {
   "cell_type": "code",
   "execution_count": 77,
   "metadata": {
    "Collapsed": "false"
   },
   "outputs": [
    {
     "name": "stdout",
     "output_type": "stream",
     "text": [
      "elephant\n",
      "[5, 10, 3]\n",
      "{1, 3}\n",
      "{'user_id': 209, 'message': 'D5 B4 G6', 'language': 'english', 'datetime': '12309213092139', 'location': (44.23423, -131.11)}\n",
      "(1, 2, 3, 'sadsad', 3.234243)\n"
     ]
    }
   ],
   "source": [
    "random_string = \"elephant\"\n",
    "print(random_string)\n",
    "print(random_list)\n",
    "print(random_set)\n",
    "print(random_dictionary)\n",
    "print(random_tuple)"
   ]
  },
  {
   "cell_type": "markdown",
   "metadata": {
    "Collapsed": "false"
   },
   "source": [
    "##### Iterable"
   ]
  },
  {
   "cell_type": "code",
   "execution_count": 78,
   "metadata": {
    "Collapsed": "false"
   },
   "outputs": [
    {
     "name": "stdout",
     "output_type": "stream",
     "text": [
      "['e', 'l', 'e', 'p', 'h', 'a', 'n', 't']\n",
      "[5, 10, 3]\n",
      "[1, 2, 3, 'sadsad', 3.234243]\n",
      "[1, 3]\n",
      "['user_id', 'message', 'language', 'datetime', 'location']\n"
     ]
    }
   ],
   "source": [
    "# The elements within strings, lists, tuples, sets and dictionaries can be iterated on\n",
    "def iteration(x):\n",
    "    empty_string = []\n",
    "    for i in x:\n",
    "        empty_string.append(i)\n",
    "    print(empty_string)\n",
    "iteration(random_string)\n",
    "iteration(random_list)\n",
    "iteration(random_tuple)\n",
    "iteration(random_set)\n",
    "iteration(random_dictionary)"
   ]
  },
  {
   "cell_type": "markdown",
   "metadata": {
    "Collapsed": "false"
   },
   "source": [
    "##### Mutable"
   ]
  },
  {
   "cell_type": "code",
   "execution_count": 79,
   "metadata": {
    "Collapsed": "false"
   },
   "outputs": [
    {
     "name": "stdout",
     "output_type": "stream",
     "text": [
      "[5, 10, 3]\n",
      "[3, 5, 10]\n"
     ]
    }
   ],
   "source": [
    "# Mutable objects can apply methods that inheriently change them\n",
    "# Lists, sets and dictionaries are mutable\n",
    "random_list = [5,10,3]\n",
    "print(random_list)\n",
    "random_list.sort()\n",
    "print(random_list)"
   ]
  },
  {
   "cell_type": "markdown",
   "metadata": {
    "Collapsed": "false"
   },
   "source": [
    "##### Variable creation issue for mutable collections"
   ]
  },
  {
   "cell_type": "code",
   "execution_count": 8,
   "metadata": {
    "Collapsed": "false"
   },
   "outputs": [
    {
     "name": "stdout",
     "output_type": "stream",
     "text": [
      "True\n",
      "[1, 2, 3, 4]\n",
      "[1, 2, 3, 4]\n"
     ]
    },
    {
     "data": {
      "text/plain": [
       "True"
      ]
     },
     "execution_count": 8,
     "metadata": {},
     "output_type": "execute_result"
    }
   ],
   "source": [
    "# Python does not store values in variables\n",
    "# Variables are just a reference to an object that stores the value\n",
    "# When we create the variable a, we are pointing it to the object containing the numbers 1, 2 and 3 \n",
    "# When we create variabe b, we are pointing it to where a is pointing, or the object containing the numbers 1, 2 and 3 \n",
    "# When we change the underlying object of variable a and then retrieve variable b, we will find its value changed. This is despite not directly changing variable b\n",
    "a = [1,2,3]\n",
    "b = a\n",
    "print(id(a) == id(b))\n",
    "a.append(4)\n",
    "print(a)\n",
    "print(b)\n",
    "id(a) == id(b)"
   ]
  },
  {
   "cell_type": "code",
   "execution_count": 81,
   "metadata": {
    "Collapsed": "false"
   },
   "outputs": [
    {
     "name": "stdout",
     "output_type": "stream",
     "text": [
      "False\n",
      "[1, 2, 3, 4]\n",
      "[1, 2, 3]\n"
     ]
    },
    {
     "data": {
      "text/plain": [
       "False"
      ]
     },
     "execution_count": 81,
     "metadata": {},
     "output_type": "execute_result"
    }
   ],
   "source": [
    "# The work around is to create shallow copies\n",
    "# Deep copies can also be created if lists, sets and dictionaries have nested lists, sets or dictionaries\n",
    "a = [1,2,3]\n",
    "b = a[:] # or a.copy()\n",
    "print(id(a) == id(b))\n",
    "a.append(4)\n",
    "print(a)\n",
    "print(b)\n",
    "id(a) == id(b)"
   ]
  },
  {
   "cell_type": "markdown",
   "metadata": {
    "Collapsed": "false"
   },
   "source": [
    "##### Indexable"
   ]
  },
  {
   "cell_type": "code",
   "execution_count": 82,
   "metadata": {
    "Collapsed": "false"
   },
   "outputs": [
    {
     "name": "stdout",
     "output_type": "stream",
     "text": [
      "e\n",
      "10\n",
      "209\n",
      "3\n"
     ]
    }
   ],
   "source": [
    "# Strings, lists, dictionary and tuples are indexable\n",
    "print(random_string[2])\n",
    "print(random_list[2])\n",
    "print(random_dictionary['user_id'])\n",
    "print(random_tuple[2])"
   ]
  },
  {
   "cell_type": "markdown",
   "metadata": {
    "Collapsed": "false"
   },
   "source": [
    "##### Variable assignment: indexable and mutable"
   ]
  },
  {
   "cell_type": "code",
   "execution_count": 83,
   "metadata": {
    "Collapsed": "false"
   },
   "outputs": [],
   "source": [
    "# Strings, lists, dictionary and tuples are indexable\n",
    "# Lists and dictionaries are mutable\n",
    "# Only lists and dictionary indexes can be assigned new values\n",
    "random_list[2]=5\n",
    "random_dictionary['user_id']=5"
   ]
  },
  {
   "cell_type": "markdown",
   "metadata": {
    "Collapsed": "false"
   },
   "source": [
    "##### Sliceable: indexable and ordered"
   ]
  },
  {
   "cell_type": "code",
   "execution_count": 84,
   "metadata": {
    "Collapsed": "false"
   },
   "outputs": [
    {
     "name": "stdout",
     "output_type": "stream",
     "text": [
      "el\n",
      "[3, 5]\n",
      "(1, 2)\n"
     ]
    }
   ],
   "source": [
    "# Strings, lists and tuples are sliceable, as they are ordered and indexable\n",
    "print(random_string[:2])\n",
    "print(random_list[:2])\n",
    "print(random_tuple[:2])"
   ]
  },
  {
   "cell_type": "code",
   "execution_count": 85,
   "metadata": {
    "Collapsed": "false"
   },
   "outputs": [
    {
     "name": "stdout",
     "output_type": "stream",
     "text": [
      "[1, 3, 5, 7, 9]\n"
     ]
    }
   ],
   "source": [
    "# For slicing you can also skip indexes\n",
    "list_a = [1,2,3,4,5,6,7,8,9,10]\n",
    "\n",
    "print(list_a[::2])"
   ]
  },
  {
   "cell_type": "code",
   "execution_count": 86,
   "metadata": {
    "Collapsed": "false"
   },
   "outputs": [
    {
     "name": "stdout",
     "output_type": "stream",
     "text": [
      "[10, 9, 8, 7, 6, 5, 4, 3, 2, 1]\n"
     ]
    }
   ],
   "source": [
    "# For slicing you can also reverse\n",
    "list_a = [1,2,3,4,5,6,7,8,9,10]\n",
    "\n",
    "print(list_a[::-1])"
   ]
  }
 ],
 "metadata": {
  "kernelspec": {
   "display_name": "Python 3",
   "language": "python",
   "name": "python3"
  },
  "language_info": {
   "codemirror_mode": {
    "name": "ipython",
    "version": 3
   },
   "file_extension": ".py",
   "mimetype": "text/x-python",
   "name": "python",
   "nbconvert_exporter": "python",
   "pygments_lexer": "ipython3",
   "version": "3.7.3"
  }
 },
 "nbformat": 4,
 "nbformat_minor": 4
}
