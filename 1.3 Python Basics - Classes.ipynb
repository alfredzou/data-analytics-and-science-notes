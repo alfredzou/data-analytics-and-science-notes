{
 "cells": [
  {
   "cell_type": "markdown",
   "metadata": {
    "Collapsed": "false"
   },
   "source": [
    "<img src=\"https://www.python.org/static/community_logos/python-powered-w-200x80.png\" style=\"float: left; margin: 20px; height: 55px\">\n",
    "\n",
    "# Python Basics - Classes\n",
    "\n",
    "_Author: Alfred Zou_\n",
    "\n",
    "---"
   ]
  },
  {
   "cell_type": "markdown",
   "metadata": {
    "Collapsed": "false",
    "toc-hr-collapsed": true,
    "toc-nb-collapsed": true
   },
   "source": [
    "## Introduction to Classes\n",
    "---\n",
    "\n",
    "* Classes are blueprints that determine what data an object can store and what functions it can run\n",
    "* To use a class, you need to make an instance of it, called an object\n",
    "* Everything in Python is an object\n",
    "* For example, a list is a Python class\n",
    "* We create an instance of a list, and then we can access its class specific `append()` function\n",
    "\n",
    "``` python\n",
    "my_list = [1,2,3]\n",
    "my_list.append(4)\n",
    "```\n",
    "\n",
    "* To recap:\n",
    "* Classes can store data using attributes. e.g. `my_class.attribute`\n",
    "* Classes can use functions specific to the class, called methods. e.g. `my_class.method()`\n",
    "* By convention user created class methods have the first letter capatalised "
   ]
  },
  {
   "cell_type": "markdown",
   "metadata": {},
   "source": [
    "##### Defining and Instantiating a Class\n",
    "* To use a class, we must first define it:\n",
    "\n",
    "```python\n",
    "class Myclass():\n",
    "    pass\n",
    "```\n",
    "\n",
    "* Then we must create an instance of it:\n",
    "\n",
    "``` python\n",
    "instance_1 = Myclass()\n",
    "```"
   ]
  },
  {
   "cell_type": "code",
   "execution_count": 1,
   "metadata": {},
   "outputs": [],
   "source": [
    "# We define a class\n",
    "class Employee():\n",
    "    pass"
   ]
  },
  {
   "cell_type": "code",
   "execution_count": 2,
   "metadata": {},
   "outputs": [],
   "source": [
    "# We create an instance of a class\n",
    "emp_1 = Employee()"
   ]
  },
  {
   "cell_type": "code",
   "execution_count": 33,
   "metadata": {},
   "outputs": [],
   "source": [
    "# We assign some attributes to our instance of a class, or object\n",
    "emp_1.first = 'Tim'\n",
    "emp_1.last = 'Wong'\n",
    "emp_1.email = \"Tim.Wong@gmail.com\"\n",
    "emp_1.pay = 50000"
   ]
  },
  {
   "cell_type": "code",
   "execution_count": 135,
   "metadata": {},
   "outputs": [
    {
     "name": "stdout",
     "output_type": "stream",
     "text": [
      "tim\n",
      "{'first': 'tim', 'last': 'wong', 'email': 'tim.wong@gmail.com', 'pay': 50000}\n",
      "{'first': 'tim', 'last': 'wong', 'email': 'tim.wong@gmail.com', 'pay': 50000}\n"
     ]
    }
   ],
   "source": [
    "# We can print the attributes\n",
    "# We can also use vars() or __dict__ to look at all the associated attributes and value pairs\n",
    "print(emp_1.first)\n",
    "print(vars(emp_1))\n",
    "print(emp_1.__dict__)"
   ]
  },
  {
   "cell_type": "markdown",
   "metadata": {},
   "source": [
    "##### `__init__` method\n",
    "* init stands for initialise, which means to set the initial values for\n",
    "* Instead of adding the attributes after we instantiate an object, we can do it during the instantiation phase\n",
    "* the `__init__` method is called during the instantiation phase\n",
    "* data models, dunder methods or `__method__` are special python defined methods that determine the behaviour of a class\n",
    "* These include `__repr__` for string representation when the object is called\n",
    "* And, `__add__` for when object_1 + object_2 is called \n",
    "* self is a reference to the instance of the object being used\n",
    "* self must always be included in all methods\n",
    "\n",
    "```python\n",
    "# When defining a class\n",
    "class Myclass():\n",
    "    def __init__(self, param_1, param_2, ...):\n",
    "        self.param_1 = param_1\n",
    "        self.param_2 = param_2\n",
    "```\n",
    "\n",
    "```python\n",
    "# When instantiating an object, which runs the __init__ method\n",
    "my_object_1 = Myclass(argument_1,argument_2, ...):\n",
    "```"
   ]
  },
  {
   "cell_type": "code",
   "execution_count": 65,
   "metadata": {},
   "outputs": [],
   "source": [
    "# We define a class\n",
    "class Employee():\n",
    "    def __init__(self,first,last,pay):\n",
    "        self.first = first\n",
    "        self.last = last\n",
    "        self.email = f'{self.first}.{self.last}@gmail.com'\n",
    "        self.pay = pay"
   ]
  },
  {
   "cell_type": "code",
   "execution_count": 66,
   "metadata": {},
   "outputs": [],
   "source": [
    "# Now we instantiate the class by supplying the relenvant arguments\n",
    "emp_2 = Employee('Karl','Jin',35000)"
   ]
  },
  {
   "cell_type": "code",
   "execution_count": 67,
   "metadata": {},
   "outputs": [
    {
     "name": "stdout",
     "output_type": "stream",
     "text": [
      "Karl\n"
     ]
    },
    {
     "data": {
      "text/plain": [
       "{'first': 'Karl', 'last': 'Jin', 'email': 'Karl.Jin@gmail.com', 'pay': 35000}"
      ]
     },
     "execution_count": 67,
     "metadata": {},
     "output_type": "execute_result"
    }
   ],
   "source": [
    "print(emp_2.first)\n",
    "vars(emp_2)"
   ]
  },
  {
   "cell_type": "markdown",
   "metadata": {},
   "source": [
    "##### Methods\n",
    "* Let's create some class specific methods"
   ]
  },
  {
   "cell_type": "code",
   "execution_count": 68,
   "metadata": {},
   "outputs": [],
   "source": [
    "# We define a class\n",
    "class Employee():\n",
    "    def __init__(self,first,last,pay):\n",
    "        self.first = first\n",
    "        self.last = last\n",
    "        self.email = f'{self.first}.{self.last}@gmail.com'\n",
    "        self.pay = pay\n",
    "    \n",
    "    def fullname(self):\n",
    "        return f'{self.first} {self.last}'"
   ]
  },
  {
   "cell_type": "code",
   "execution_count": 69,
   "metadata": {},
   "outputs": [],
   "source": [
    "# Now we instantiate the class by supplying the relenvant arguments\n",
    "emp_3 = Employee('Foo','Bar',35000)"
   ]
  },
  {
   "cell_type": "code",
   "execution_count": 70,
   "metadata": {},
   "outputs": [
    {
     "name": "stdout",
     "output_type": "stream",
     "text": [
      "Foo Bar\n",
      "Foo Bar\n"
     ]
    }
   ],
   "source": [
    "# Normally we call the method like so\n",
    "print(emp_3.fullname())\n",
    "\n",
    "# In the background\n",
    "# We are passing the specific instance\n",
    "print(Employee.fullname(emp_3))"
   ]
  },
  {
   "cell_type": "markdown",
   "metadata": {
    "toc-hr-collapsed": true,
    "toc-nb-collapsed": true
   },
   "source": [
    "## Class vs Instance Attributes\n",
    "* Previously we have been looking at instance attributes, or attributes specific to each object\n",
    "* What if we wanted to store an attribute that is accessible to each object?\n",
    "* This is called a class attribute\n",
    "* We can reference a class attribute with either `my_object.class_attribute` or `Myclass.class_attribute`"
   ]
  },
  {
   "cell_type": "markdown",
   "metadata": {},
   "source": [
    "##### `my_object.class_attribute`\n",
    "* The benefit of referencing the class attribute through the object, is that you can add an object specific attribute to override the class attribute value\n",
    "* This is due to namespacing in classes\n",
    "* The class will look for an instance attribute before looking for a class attribute\n",
    "* We can use `__dict__` to check the instance and class namespaces "
   ]
  },
  {
   "cell_type": "code",
   "execution_count": 137,
   "metadata": {},
   "outputs": [],
   "source": [
    "# We define a class\n",
    "class Employee():\n",
    "    \n",
    "    # Class attribute\n",
    "    raise_amount = 1.04\n",
    "    \n",
    "    def __init__(self,first,last,pay):\n",
    "        self.first = first\n",
    "        self.last = last\n",
    "        self.email = f'{self.first}.{self.last}@gmail.com'\n",
    "        self.pay = pay\n",
    "           \n",
    "    def fullname(self):\n",
    "        return f'{self.first} {self.last}'\n",
    "    \n",
    "    def apply_raise(self):\n",
    "        self.pay = int(self.pay * self.raise_amount) # note self.raise_amount (`my_object.class_attribute`)"
   ]
  },
  {
   "cell_type": "markdown",
   "metadata": {},
   "source": [
    "###### Before overriding"
   ]
  },
  {
   "cell_type": "code",
   "execution_count": 133,
   "metadata": {},
   "outputs": [
    {
     "name": "stdout",
     "output_type": "stream",
     "text": [
      "before raise: $78,000\n",
      "after raise: $81,120\n",
      "object specific raise amount: 1.04\n",
      "class specific raise amount: 1.04\n"
     ]
    }
   ],
   "source": [
    "emp_4 = Employee('Alex','Lee',78000)\n",
    "\n",
    "print(f'before raise: ${emp_4.pay:,}')\n",
    "emp_4.apply_raise()\n",
    "print(f'after raise: ${emp_4.pay:,}')\n",
    "print(f'object specific raise amount: {emp_4.raise_amount}')\n",
    "print(f'class specific raise amount: {Employee.raise_amount}')"
   ]
  },
  {
   "cell_type": "code",
   "execution_count": 136,
   "metadata": {},
   "outputs": [
    {
     "data": {
      "text/plain": [
       "{'first': 'Alex', 'last': 'Lee', 'email': 'Alex.Lee@gmail.com', 'pay': 81120}"
      ]
     },
     "execution_count": 136,
     "metadata": {},
     "output_type": "execute_result"
    }
   ],
   "source": [
    "# Note the instance namespace is missing, so we use the class namespace instead\n",
    "emp_4.__dict__"
   ]
  },
  {
   "cell_type": "code",
   "execution_count": 131,
   "metadata": {},
   "outputs": [
    {
     "data": {
      "text/plain": [
       "mappingproxy({'__module__': '__main__',\n",
       "              'raise_amount': 1.04,\n",
       "              'employee_count': 10,\n",
       "              '__init__': <function __main__.Employee.__init__(self, first, last, pay)>,\n",
       "              'fullname': <function __main__.Employee.fullname(self)>,\n",
       "              'apply_raise': <function __main__.Employee.apply_raise(self)>,\n",
       "              '__dict__': <attribute '__dict__' of 'Employee' objects>,\n",
       "              '__weakref__': <attribute '__weakref__' of 'Employee' objects>,\n",
       "              '__doc__': None})"
      ]
     },
     "execution_count": 131,
     "metadata": {},
     "output_type": "execute_result"
    }
   ],
   "source": [
    "Employee.__dict__"
   ]
  },
  {
   "cell_type": "markdown",
   "metadata": {},
   "source": [
    "###### After overriding"
   ]
  },
  {
   "cell_type": "code",
   "execution_count": 127,
   "metadata": {},
   "outputs": [
    {
     "name": "stdout",
     "output_type": "stream",
     "text": [
      "before raise: $78,000\n",
      "after raise: $117,000\n",
      "object specific raise amount: 1.5\n",
      "class specific raise amount: 1.04\n"
     ]
    }
   ],
   "source": [
    "emp_4 = Employee('Alex','Lee',78000)\n",
    "emp_4.raise_amount = 1.5\n",
    "\n",
    "print(f'before raise: ${emp_4.pay:,}')\n",
    "emp_4.apply_raise()\n",
    "print(f'after raise: ${emp_4.pay:,}')\n",
    "print(f'object specific raise amount: {emp_4.raise_amount}')\n",
    "print(f'class specific raise amount: {Employee.raise_amount}')"
   ]
  },
  {
   "cell_type": "code",
   "execution_count": 130,
   "metadata": {},
   "outputs": [
    {
     "data": {
      "text/plain": [
       "{'first': 'Alex', 'last': 'Lee', 'email': 'Alex.Lee@gmail.com', 'pay': 81120}"
      ]
     },
     "execution_count": 130,
     "metadata": {},
     "output_type": "execute_result"
    }
   ],
   "source": [
    "# We find an instance namespace, so we use it over any class namespaces\n",
    "emp_4.__dict__"
   ]
  },
  {
   "cell_type": "code",
   "execution_count": 132,
   "metadata": {},
   "outputs": [
    {
     "data": {
      "text/plain": [
       "mappingproxy({'__module__': '__main__',\n",
       "              'raise_amount': 1.04,\n",
       "              'employee_count': 10,\n",
       "              '__init__': <function __main__.Employee.__init__(self, first, last, pay)>,\n",
       "              'fullname': <function __main__.Employee.fullname(self)>,\n",
       "              'apply_raise': <function __main__.Employee.apply_raise(self)>,\n",
       "              '__dict__': <attribute '__dict__' of 'Employee' objects>,\n",
       "              '__weakref__': <attribute '__weakref__' of 'Employee' objects>,\n",
       "              '__doc__': None})"
      ]
     },
     "execution_count": 132,
     "metadata": {},
     "output_type": "execute_result"
    }
   ],
   "source": [
    "# The class namespace exists, but we don't use it\n",
    "Employee.__dict__"
   ]
  },
  {
   "cell_type": "markdown",
   "metadata": {},
   "source": [
    "##### `Myclass.class_attribute`\n",
    "* Referencing the class attribute through the class is useful for attributes we don't expect to change for each individual object"
   ]
  },
  {
   "cell_type": "code",
   "execution_count": 143,
   "metadata": {},
   "outputs": [],
   "source": [
    "# We define a class\n",
    "class Employee():\n",
    "    \n",
    "    # Class attribute\n",
    "    raise_amount = 1.04\n",
    "    employee_count = 0\n",
    "    \n",
    "    def __init__(self,first,last,pay):\n",
    "        self.first = first\n",
    "        self.last = last\n",
    "        self.email = f'{self.first}.{self.last}@gmail.com'\n",
    "        self.pay = pay\n",
    "        \n",
    "        Employee.employee_count += 1 # note Employee.employee_count (`Myclass.class_attribute`)\n",
    "    \n",
    "    def fullname(self):\n",
    "        return f'{self.first} {self.last}'\n",
    "    \n",
    "    def apply_raise(self):\n",
    "        self.pay = int(self.pay * self.raise_amount) # note self.raise_amount (`my_object.class_attribute`)"
   ]
  },
  {
   "cell_type": "code",
   "execution_count": 144,
   "metadata": {},
   "outputs": [],
   "source": [
    "emp_6 = Employee('Gerard','Smith',78000)\n",
    "emp_7 = Employee('Homer','Simpson',67000)"
   ]
  },
  {
   "cell_type": "code",
   "execution_count": 145,
   "metadata": {},
   "outputs": [
    {
     "data": {
      "text/plain": [
       "2"
      ]
     },
     "execution_count": 145,
     "metadata": {},
     "output_type": "execute_result"
    }
   ],
   "source": [
    "Employee.employee_count"
   ]
  },
  {
   "cell_type": "markdown",
   "metadata": {
    "toc-hr-collapsed": true,
    "toc-nb-collapsed": true
   },
   "source": [
    "## Regularmethods, classmethods and staticmethods\n",
    "* We have been dealing with regular methods until now, they always pass the instance, or self, as the first argument\n",
    "* Class methods pass the class, or cls, as the first argument. These can be used as alternative constructors\n",
    "* A static method does not pass the instance or class"
   ]
  },
  {
   "cell_type": "markdown",
   "metadata": {
    "toc-hr-collapsed": true,
    "toc-nb-collapsed": true
   },
   "source": [
    "## Inheritance\n",
    "* Subclasses can inherit attributes and methods from other classes\n",
    "* We can change these attributes and methods without impacting the parent class\n",
    "* We pass the `Parentclass` into the parenthesis of the Subclass\n",
    "* We use `super().__init__` to pass the arguments into the parent class to deal with\n",
    "\n",
    "``` python\n",
    "class Subclass(Parentclass):\n",
    "    def __init__(self, parent_param_1, parent_param_2, ..., param_1, param_2, ...)\n",
    "        super().__init__(parent_param_1, , parent_param_2, ...)\n",
    "        self.param_1 = param_1\n",
    "        self.param_2 = param_2\n",
    "```"
   ]
  },
  {
   "cell_type": "code",
   "execution_count": 148,
   "metadata": {},
   "outputs": [],
   "source": [
    "# We define a class\n",
    "class Employee():\n",
    "    \n",
    "    # Class attribute\n",
    "    raise_amount = 1.04\n",
    "    \n",
    "    def __init__(self,first,last,pay):\n",
    "        self.first = first\n",
    "        self.last = last\n",
    "        self.email = f'{self.first}.{self.last}@gmail.com'\n",
    "        self.pay = pay\n",
    "           \n",
    "    def fullname(self):\n",
    "        return f'{self.first} {self.last}'\n",
    "    \n",
    "    def apply_raise(self):\n",
    "        self.pay = int(self.pay * self.raise_amount) # note self.raise_amount (`my_object.class_attribute`)"
   ]
  },
  {
   "cell_type": "code",
   "execution_count": 169,
   "metadata": {},
   "outputs": [],
   "source": [
    "class Developer(Employee):\n",
    "    raise_amount = 1.10\n",
    "    \n",
    "    def __init__(self,first,last,pay,prog_lang):\n",
    "        super().__init__(first,last,pay)\n",
    "        self.prog_lang = prog_lang"
   ]
  },
  {
   "cell_type": "code",
   "execution_count": 170,
   "metadata": {},
   "outputs": [],
   "source": [
    "emp_8 = Employee('Nathan','Smith',100000)\n",
    "emp_9 = Developer('Felix','Pingle',100000,'python')"
   ]
  },
  {
   "cell_type": "markdown",
   "metadata": {},
   "source": [
    "###### Checking Inheritance\n",
    "* The subclass (developer) `raise_amount` does not affect the parentclass (employee)\n",
    "* The subclass (developer) has inherited the `fullname()` method\n",
    "* The subclass (developer) accepts and returns a new attribute, which is not available to the parentclass (employee)"
   ]
  },
  {
   "cell_type": "code",
   "execution_count": 174,
   "metadata": {},
   "outputs": [
    {
     "name": "stdout",
     "output_type": "stream",
     "text": [
      "employee raise amount: 1.04\n",
      "developer raise amount: 1.1\n"
     ]
    }
   ],
   "source": [
    "print(f'employee raise amount: {emp_8.raise_amount}')\n",
    "print(f'developer raise amount: {emp_9.raise_amount}')"
   ]
  },
  {
   "cell_type": "code",
   "execution_count": 175,
   "metadata": {},
   "outputs": [
    {
     "data": {
      "text/plain": [
       "'Felix Pingle'"
      ]
     },
     "execution_count": 175,
     "metadata": {},
     "output_type": "execute_result"
    }
   ],
   "source": [
    "emp_9.fullname()"
   ]
  },
  {
   "cell_type": "code",
   "execution_count": 176,
   "metadata": {},
   "outputs": [
    {
     "data": {
      "text/plain": [
       "'python'"
      ]
     },
     "execution_count": 176,
     "metadata": {},
     "output_type": "execute_result"
    }
   ],
   "source": [
    "emp_9.prog_lang"
   ]
  },
  {
   "cell_type": "markdown",
   "metadata": {
    "toc-hr-collapsed": true,
    "toc-nb-collapsed": true
   },
   "source": [
    "## Dunder methods\n",
    "* Below we will look at some other dunder methods:\n",
    "* `__init__`: initialises an object when creating an instance of an object: When calling `my_obj = Myclass()`\n",
    "* `__repr__`: string representation for developers. When calling `repr(my_obj)` or `my_obj`\n",
    "* `__str__`: string representation for end users. When calling `print(my_obj)`\n",
    "* `__len__`: when calling `len(my_obj)`\n",
    "* `__getitem__`: when calling `my_obj[i]` to get the ith item. Also allows iterating with a `for loop`"
   ]
  },
  {
   "cell_type": "markdown",
   "metadata": {},
   "source": [
    "* Here are some other methods:\n",
    "* `__add__`: when calling `my_obj_1 + my_obj_2`\n",
    "* `__eq__`: when calling `my_obj_1 = my_obj_2`\n",
    "* `__lt__`: when calling `my_obj_1 < my_obj_2`\n",
    "* You can read more here: https://docs.python.org/3/reference/datamodel.html"
   ]
  },
  {
   "cell_type": "code",
   "execution_count": 2,
   "metadata": {},
   "outputs": [],
   "source": [
    "# We define a class\n",
    "class Employee():\n",
    "    \n",
    "    def __init__(self,first,last,pay,hobbies):\n",
    "        self.first = first\n",
    "        self.last = last\n",
    "        self.email = f'{self.first}.{self.last}@gmail.com'\n",
    "        self.pay = pay\n",
    "        self.hobbies = hobbies\n",
    "    \n",
    "    def __repr__(self):\n",
    "        return f'Employee({self.first}, {self.last}, {self.pay})'\n",
    "\n",
    "    def __str__(self):\n",
    "        return f'{self.fullname()} -- {self.email}'\n",
    "    \n",
    "    def __len__(self):\n",
    "        return len(self.fullname())\n",
    "\n",
    "    def __getitem__(self,i):\n",
    "        return self.hobbies[i]\n",
    "    \n",
    "    def fullname(self):\n",
    "        return f'{self.first} {self.last}'"
   ]
  },
  {
   "cell_type": "code",
   "execution_count": 3,
   "metadata": {},
   "outputs": [],
   "source": [
    "emp_10 = Employee('William','So',100000,['gaming','snow boarding'])"
   ]
  },
  {
   "cell_type": "markdown",
   "metadata": {},
   "source": [
    "##### `__repr__`"
   ]
  },
  {
   "cell_type": "code",
   "execution_count": 4,
   "metadata": {},
   "outputs": [
    {
     "data": {
      "text/plain": [
       "Employee(William, So, 100000)"
      ]
     },
     "execution_count": 4,
     "metadata": {},
     "output_type": "execute_result"
    }
   ],
   "source": [
    "emp_10"
   ]
  },
  {
   "cell_type": "markdown",
   "metadata": {},
   "source": [
    "##### `__str__`"
   ]
  },
  {
   "cell_type": "code",
   "execution_count": 5,
   "metadata": {},
   "outputs": [
    {
     "name": "stdout",
     "output_type": "stream",
     "text": [
      "William So -- William.So@gmail.com\n"
     ]
    }
   ],
   "source": [
    "print(emp_10)"
   ]
  },
  {
   "cell_type": "markdown",
   "metadata": {},
   "source": [
    "##### `__len__`"
   ]
  },
  {
   "cell_type": "code",
   "execution_count": 6,
   "metadata": {},
   "outputs": [
    {
     "data": {
      "text/plain": [
       "10"
      ]
     },
     "execution_count": 6,
     "metadata": {},
     "output_type": "execute_result"
    }
   ],
   "source": [
    "len(emp_10)"
   ]
  },
  {
   "cell_type": "markdown",
   "metadata": {},
   "source": [
    "##### `__getitem__`"
   ]
  },
  {
   "cell_type": "code",
   "execution_count": 7,
   "metadata": {},
   "outputs": [
    {
     "data": {
      "text/plain": [
       "'gaming'"
      ]
     },
     "execution_count": 7,
     "metadata": {},
     "output_type": "execute_result"
    }
   ],
   "source": [
    "emp_10[0]"
   ]
  },
  {
   "cell_type": "code",
   "execution_count": 8,
   "metadata": {},
   "outputs": [
    {
     "name": "stdout",
     "output_type": "stream",
     "text": [
      "gaming\n",
      "snow boarding\n"
     ]
    }
   ],
   "source": [
    "for i in emp_10:\n",
    "    print(i)"
   ]
  },
  {
   "cell_type": "markdown",
   "metadata": {
    "toc-hr-collapsed": true,
    "toc-nb-collapsed": true
   },
   "source": [
    "## Context Managers\n",
    "* Context managers are useful for set up and tear down of resources\n",
    "* This is useful when we open a file, connect to a database or make a database transaction\n",
    "* A context manager always closes the file, closes the connection or roles back a transaction, even if an error occurs\n",
    "* The functionality of a context manager comes from classes and their dunder methods `__enter__` & `__exit__`"
   ]
  },
  {
   "cell_type": "markdown",
   "metadata": {},
   "source": [
    "##### Opening a file without context managers\n",
    "* We can open files with Python's built-in function `open()`\n",
    "* After we are done reading or writing to a file, we need to close the file to free up system resources\n",
    "* We can use `my_file.close()` to close the file\n",
    "* We can check if a file is closed using `my_file.closed`\n",
    "* The focus is on the high level functionality of context mangers not `open()`. `open()` will be explained more in depth in the file system notebook"
   ]
  },
  {
   "cell_type": "code",
   "execution_count": 6,
   "metadata": {},
   "outputs": [
    {
     "name": "stdout",
     "output_type": "stream",
     "text": [
      "\"first_name\",\"last_name\",\"company_name\",\"address\",\"city\",\"state\",\"post\",\"phone1\",\"phone2\",\"email\",\"web\"\n",
      "\n",
      "\"Rebbecca\",\"Didio\",\"Brandt, Jonathan F Esq\",\"171 E 24th St\",\"Leith\",\"TAS\",7315,\"03-8174-9123\",\"0458-665-290\",\"rebbecca.didio@didio.com.au\",\"http://www.brandtjonathanfesq.com.au\"\n",
      "\n",
      "\"Stevie\",\"Hallo\",\"Landrum Temporary Services\",\"22222 Acoma St\",\"Proston\",\"QLD\",4613,\"07-9997-3366\",\"0497-622-620\",\"stevie.hallo@hotmail.com\",\"http://www.landrumtemporaryservices.com.au\"\n",
      "\n",
      "\"Mariko\",\"Stayer\",\"Inabinet, Macre Esq\",\"534 Schoenborn St #51\",\"Hamel\",\"WA\",6215,\"08-5558-9019\",\"0427-885-282\",\"mariko_stayer@hotmail.com\",\"http://www.inabinetmacreesq.com.au\"\n",
      "\n",
      "\"Gerardo\",\"Woodka\",\"Morris Downing & Sherred\",\"69206 Jackson Ave\",\"Talmalmo\",\"NSW\",2640,\"02-6044-4682\",\"0443-795-912\",\"gerardo_woodka@hotmail.com\",\"http://www.morrisdowningsherred.com.au\"\n",
      "\n"
     ]
    },
    {
     "data": {
      "text/plain": [
       "False"
      ]
     },
     "execution_count": 6,
     "metadata": {},
     "output_type": "execute_result"
    }
   ],
   "source": [
    "# We open the file, assign all the lines to the rows variable and print out the first 5 rows\n",
    "my_path = 'Data/au-500.csv'\n",
    "my_file = open(my_path)\n",
    "rows = my_file.readlines()\n",
    "for row in rows[:5]:\n",
    "    print(row)\n",
    "# Then we check if the file is closed, which its not\n",
    "my_file.closed"
   ]
  },
  {
   "cell_type": "code",
   "execution_count": 7,
   "metadata": {},
   "outputs": [
    {
     "data": {
      "text/plain": [
       "True"
      ]
     },
     "execution_count": 7,
     "metadata": {},
     "output_type": "execute_result"
    }
   ],
   "source": [
    "# Running the close argument \n",
    "my_file.close()\n",
    "my_file.closed"
   ]
  },
  {
   "cell_type": "markdown",
   "metadata": {},
   "source": [
    "* Opening a file this way isn't very robust\n",
    "* If an error occurs when the file is opened and we try closing the file after the error occurs, the file won't be closed\n",
    "* We need a more full proof method to ensure the file is always closed\n",
    "* We could use a try-except-finally, but this is more verbose than Python's way of solving it, which is the context manager"
   ]
  },
  {
   "cell_type": "code",
   "execution_count": 5,
   "metadata": {},
   "outputs": [
    {
     "ename": "ZeroDivisionError",
     "evalue": "division by zero",
     "output_type": "error",
     "traceback": [
      "\u001b[1;31m---------------------------------------------------------------------------\u001b[0m",
      "\u001b[1;31mZeroDivisionError\u001b[0m                         Traceback (most recent call last)",
      "\u001b[1;32m<ipython-input-5-93314f47039e>\u001b[0m in \u001b[0;36m<module>\u001b[1;34m\u001b[0m\n\u001b[0;32m      3\u001b[0m \u001b[0mmy_path\u001b[0m \u001b[1;33m=\u001b[0m \u001b[1;34m'Data/au-500.csv'\u001b[0m\u001b[1;33m\u001b[0m\u001b[1;33m\u001b[0m\u001b[0m\n\u001b[0;32m      4\u001b[0m \u001b[0mmy_file\u001b[0m \u001b[1;33m=\u001b[0m \u001b[0mopen\u001b[0m\u001b[1;33m(\u001b[0m\u001b[0mmy_path\u001b[0m\u001b[1;33m)\u001b[0m\u001b[1;33m\u001b[0m\u001b[1;33m\u001b[0m\u001b[0m\n\u001b[1;32m----> 5\u001b[1;33m \u001b[1;36m1\u001b[0m\u001b[1;33m/\u001b[0m\u001b[1;36m0\u001b[0m\u001b[1;33m\u001b[0m\u001b[1;33m\u001b[0m\u001b[0m\n\u001b[0m\u001b[0;32m      6\u001b[0m \u001b[0mmy_file\u001b[0m\u001b[1;33m.\u001b[0m\u001b[0mclose\u001b[0m\u001b[1;33m(\u001b[0m\u001b[1;33m)\u001b[0m\u001b[1;33m\u001b[0m\u001b[1;33m\u001b[0m\u001b[0m\n",
      "\u001b[1;31mZeroDivisionError\u001b[0m: division by zero"
     ]
    }
   ],
   "source": [
    "# After opening the file, we encounter an error\n",
    "# The program stops running and my_file.close() is never run. The file is never closed\n",
    "my_path = 'Data/au-500.csv'\n",
    "my_file = open(my_path)\n",
    "1/0\n",
    "my_file.close()"
   ]
  },
  {
   "cell_type": "code",
   "execution_count": 7,
   "metadata": {},
   "outputs": [
    {
     "name": "stdout",
     "output_type": "stream",
     "text": [
      "False\n"
     ]
    }
   ],
   "source": [
    "print(my_file.closed)"
   ]
  },
  {
   "cell_type": "markdown",
   "metadata": {},
   "source": [
    "##### Opening a file With context manager \n",
    "* Python built-in function `open()` can be called as a context manager\n",
    "* `my_class_obj` must be an instance of a class with `__enter__` and `__exit__` methods\n",
    "\n",
    "``` python\n",
    "with my_class_obj as f:\n",
    "    pass\n",
    "```"
   ]
  },
  {
   "cell_type": "code",
   "execution_count": 10,
   "metadata": {},
   "outputs": [
    {
     "ename": "ZeroDivisionError",
     "evalue": "division by zero",
     "output_type": "error",
     "traceback": [
      "\u001b[1;31m---------------------------------------------------------------------------\u001b[0m",
      "\u001b[1;31mZeroDivisionError\u001b[0m                         Traceback (most recent call last)",
      "\u001b[1;32m<ipython-input-10-8b52d6289390>\u001b[0m in \u001b[0;36m<module>\u001b[1;34m\u001b[0m\n\u001b[0;32m      1\u001b[0m \u001b[0mmy_path\u001b[0m \u001b[1;33m=\u001b[0m \u001b[1;34m'Data/au-500.csv'\u001b[0m\u001b[1;33m\u001b[0m\u001b[1;33m\u001b[0m\u001b[0m\n\u001b[0;32m      2\u001b[0m \u001b[1;32mwith\u001b[0m \u001b[0mopen\u001b[0m\u001b[1;33m(\u001b[0m\u001b[0mmy_path\u001b[0m\u001b[1;33m)\u001b[0m \u001b[1;32mas\u001b[0m \u001b[0mmy_file\u001b[0m\u001b[1;33m:\u001b[0m\u001b[1;33m\u001b[0m\u001b[1;33m\u001b[0m\u001b[0m\n\u001b[1;32m----> 3\u001b[1;33m     \u001b[1;36m1\u001b[0m\u001b[1;33m/\u001b[0m\u001b[1;36m0\u001b[0m\u001b[1;33m\u001b[0m\u001b[1;33m\u001b[0m\u001b[0m\n\u001b[0m",
      "\u001b[1;31mZeroDivisionError\u001b[0m: division by zero"
     ]
    }
   ],
   "source": [
    "# Repeating the same example using open() as a context manager\n",
    "my_path = 'Data/au-500.csv'\n",
    "with open(my_path) as my_file:\n",
    "    1/0"
   ]
  },
  {
   "cell_type": "code",
   "execution_count": 12,
   "metadata": {},
   "outputs": [
    {
     "data": {
      "text/plain": [
       "True"
      ]
     },
     "execution_count": 12,
     "metadata": {},
     "output_type": "execute_result"
    }
   ],
   "source": [
    "# We can see the file is now closed\n",
    "my_file.closed"
   ]
  },
  {
   "cell_type": "markdown",
   "metadata": {},
   "source": [
    "##### Creating a Context Manager using `__enter__` & `__exit__`"
   ]
  },
  {
   "cell_type": "code",
   "execution_count": 21,
   "metadata": {},
   "outputs": [],
   "source": [
    "class File():\n",
    "    def __init__(self,file_path):\n",
    "        self.file_path = file_path"
   ]
  },
  {
   "cell_type": "code",
   "execution_count": 22,
   "metadata": {},
   "outputs": [],
   "source": [
    "my_file = File('Data/au-500.csv')"
   ]
  },
  {
   "cell_type": "code",
   "execution_count": 23,
   "metadata": {},
   "outputs": [
    {
     "ename": "AttributeError",
     "evalue": "__enter__",
     "output_type": "error",
     "traceback": [
      "\u001b[1;31m---------------------------------------------------------------------------\u001b[0m",
      "\u001b[1;31mAttributeError\u001b[0m                            Traceback (most recent call last)",
      "\u001b[1;32m<ipython-input-23-dae85df6d23a>\u001b[0m in \u001b[0;36m<module>\u001b[1;34m\u001b[0m\n\u001b[0;32m      1\u001b[0m \u001b[1;31m# When we try to use the object as a context manager, it doesn't work\u001b[0m\u001b[1;33m\u001b[0m\u001b[1;33m\u001b[0m\u001b[1;33m\u001b[0m\u001b[0m\n\u001b[1;32m----> 2\u001b[1;33m \u001b[1;32mwith\u001b[0m \u001b[0mmy_file\u001b[0m \u001b[1;32mas\u001b[0m \u001b[0mf\u001b[0m\u001b[1;33m:\u001b[0m\u001b[1;33m\u001b[0m\u001b[1;33m\u001b[0m\u001b[0m\n\u001b[0m\u001b[0;32m      3\u001b[0m     \u001b[1;32mpass\u001b[0m\u001b[1;33m\u001b[0m\u001b[1;33m\u001b[0m\u001b[0m\n",
      "\u001b[1;31mAttributeError\u001b[0m: __enter__"
     ]
    }
   ],
   "source": [
    "# When we try to use the object as a context manager, it doesn't work\n",
    "with my_file as f:\n",
    "    pass"
   ]
  },
  {
   "cell_type": "markdown",
   "metadata": {},
   "source": [
    "* It will now work, when we insert `__enter__` and `__exit__` methods\n",
    "* We create a `session` variable to store the open file\n",
    "* We would do the same for a connection\n",
    "* We return the opened file/connection in `__enter__`, this becomes the alias"
   ]
  },
  {
   "cell_type": "code",
   "execution_count": 37,
   "metadata": {},
   "outputs": [],
   "source": [
    "class File():\n",
    "    def __init__(self,file_path):\n",
    "        self.file_path = file_path\n",
    "        \n",
    "        # We initialise this to represent the opened file/connection\n",
    "        self.session = None\n",
    "    \n",
    "    def __enter__(self):\n",
    "        print('Setting up')\n",
    "\n",
    "        # We open the file/connection\n",
    "        self.session = open(self.file_path,'r')\n",
    "        \n",
    "        # We then return the opened file/connection as the alias\n",
    "        return self.session\n",
    "        \n",
    "    def __exit__(self, type, value, traceback):\n",
    "        print('Tearing down')\n",
    "        \n",
    "        # We close the file/connection\n",
    "        self.session.close()\n",
    "        print('Is file closed: '+str(self.session.closed))"
   ]
  },
  {
   "cell_type": "code",
   "execution_count": 38,
   "metadata": {},
   "outputs": [
    {
     "name": "stdout",
     "output_type": "stream",
     "text": [
      "Setting up\n",
      "\"first_name\",\"last_name\",\"company_name\",\"address\",\"city\",\"state\",\"post\",\"phone1\",\"phone2\",\"email\",\"web\"\n",
      "\n",
      "\"Rebbecca\",\"Didio\",\"Brandt, Jonathan F Esq\",\"171 E 24th St\",\"Leith\",\"TAS\",7315,\"03-8174-9123\",\"0458-665-290\",\"rebbecca.didio@didio.com.au\",\"http://www.brandtjonathanfesq.com.au\"\n",
      "\n",
      "\"Stevie\",\"Hallo\",\"Landrum Temporary Services\",\"22222 Acoma St\",\"Proston\",\"QLD\",4613,\"07-9997-3366\",\"0497-622-620\",\"stevie.hallo@hotmail.com\",\"http://www.landrumtemporaryservices.com.au\"\n",
      "\n",
      "\"Mariko\",\"Stayer\",\"Inabinet, Macre Esq\",\"534 Schoenborn St #51\",\"Hamel\",\"WA\",6215,\"08-5558-9019\",\"0427-885-282\",\"mariko_stayer@hotmail.com\",\"http://www.inabinetmacreesq.com.au\"\n",
      "\n",
      "\"Gerardo\",\"Woodka\",\"Morris Downing & Sherred\",\"69206 Jackson Ave\",\"Talmalmo\",\"NSW\",2640,\"02-6044-4682\",\"0443-795-912\",\"gerardo_woodka@hotmail.com\",\"http://www.morrisdowningsherred.com.au\"\n",
      "\n",
      "Tearing down\n",
      "Is file closed: True\n"
     ]
    }
   ],
   "source": [
    "# self.session is returned as the alias f\n",
    "with File('Data/au-500.csv') as f:\n",
    "    for row in range(5):\n",
    "        print(next(f))"
   ]
  },
  {
   "cell_type": "markdown",
   "metadata": {},
   "source": [
    "##### Exception Handling with Context Managers\n",
    "* Context managers allow for error handling through the `__exit__` method\n",
    "* If the return value for `__exit__` is not True and an error occurs, it will raise an error\n",
    "* If the return value for `__exit__` is True and an error occurs, it won't raise an error. This lets us allow for exception handling\n",
    "* `__exit__` accepts 3 arguments other than `self`:\n",
    "* `type`: The exception class\n",
    "* `value`: The error message\n",
    "* `traceback`"
   ]
  },
  {
   "cell_type": "code",
   "execution_count": 47,
   "metadata": {},
   "outputs": [],
   "source": [
    "class File():\n",
    "    def __init__(self,file_path):\n",
    "        self.file_path = file_path\n",
    "        self.session = None\n",
    "    \n",
    "    def __enter__(self):\n",
    "        self.session = open(self.file_path,'r')\n",
    "        return self.session\n",
    "        \n",
    "    def __exit__(self, type, value, traceback):\n",
    "        self.session.close()"
   ]
  },
  {
   "cell_type": "code",
   "execution_count": 49,
   "metadata": {},
   "outputs": [
    {
     "ename": "AttributeError",
     "evalue": "'_io.TextIOWrapper' object has no attribute 'imaginary_method'",
     "output_type": "error",
     "traceback": [
      "\u001b[1;31m---------------------------------------------------------------------------\u001b[0m",
      "\u001b[1;31mAttributeError\u001b[0m                            Traceback (most recent call last)",
      "\u001b[1;32m<ipython-input-49-5e2c7f3fad3d>\u001b[0m in \u001b[0;36m<module>\u001b[1;34m\u001b[0m\n\u001b[0;32m      1\u001b[0m \u001b[1;32mwith\u001b[0m \u001b[0mFile\u001b[0m\u001b[1;33m(\u001b[0m\u001b[1;34m'Data/au-500.csv'\u001b[0m\u001b[1;33m)\u001b[0m \u001b[1;32mas\u001b[0m \u001b[0mf\u001b[0m\u001b[1;33m:\u001b[0m\u001b[1;33m\u001b[0m\u001b[1;33m\u001b[0m\u001b[0m\n\u001b[1;32m----> 2\u001b[1;33m     \u001b[0mf\u001b[0m\u001b[1;33m.\u001b[0m\u001b[0mimaginary_method\u001b[0m\u001b[1;33m(\u001b[0m\u001b[1;33m)\u001b[0m\u001b[1;33m\u001b[0m\u001b[1;33m\u001b[0m\u001b[0m\n\u001b[0m",
      "\u001b[1;31mAttributeError\u001b[0m: '_io.TextIOWrapper' object has no attribute 'imaginary_method'"
     ]
    }
   ],
   "source": [
    "with File('Data/au-500.csv') as f:\n",
    "    f.imaginary_method()"
   ]
  },
  {
   "cell_type": "markdown",
   "metadata": {},
   "source": [
    "* We can print out the exception `type`, `value` and `traceback` if an exception is encountered\n",
    "* We can return `True` to handle exceptions we want to specifically target"
   ]
  },
  {
   "cell_type": "code",
   "execution_count": 53,
   "metadata": {},
   "outputs": [],
   "source": [
    "class File():\n",
    "    def __init__(self,file_path):\n",
    "        self.file_path = file_path\n",
    "        self.session = None\n",
    "    \n",
    "    def __enter__(self):\n",
    "        self.session = open(self.file_path,'r')\n",
    "        return self.session\n",
    "        \n",
    "    def __exit__(self, type, value, traceback):\n",
    "        self.session.close()\n",
    "        print(f'type: {type}')\n",
    "        print(f'value: {value}')\n",
    "        print(f'traceback: {traceback}')\n",
    "        if type == AttributeError:\n",
    "            print('Caught AttributeError')\n",
    "            return True\n",
    "        return True"
   ]
  },
  {
   "cell_type": "code",
   "execution_count": 54,
   "metadata": {},
   "outputs": [
    {
     "name": "stdout",
     "output_type": "stream",
     "text": [
      "type: None\n",
      "value: None\n",
      "traceback: None\n"
     ]
    }
   ],
   "source": [
    "# With no error, type, value and traceback are None\n",
    "with File('Data/au-500.csv') as f:\n",
    "    pass"
   ]
  },
  {
   "cell_type": "code",
   "execution_count": 56,
   "metadata": {},
   "outputs": [
    {
     "name": "stdout",
     "output_type": "stream",
     "text": [
      "type: <class 'ZeroDivisionError'>\n",
      "value: division by zero\n",
      "traceback: <traceback object at 0x00000161E85CE908>\n"
     ]
    }
   ],
   "source": [
    "# If an exception is encountered and we return True, the exception is handled\n",
    "with File('Data/au-500.csv') as f:\n",
    "    1/0"
   ]
  },
  {
   "cell_type": "code",
   "execution_count": 55,
   "metadata": {},
   "outputs": [
    {
     "name": "stdout",
     "output_type": "stream",
     "text": [
      "type: <class 'AttributeError'>\n",
      "value: '_io.TextIOWrapper' object has no attribute 'imaginary_method'\n",
      "traceback: <traceback object at 0x00000161E85CEBC8>\n",
      "Caught AttributeError\n"
     ]
    }
   ],
   "source": [
    "# If a AttributeError exception is encountered, we print out 'Caught AttributeError' and return True. The exception is handled\n",
    "with File('Data/au-500.csv') as f:\n",
    "    f.imaginary_method()"
   ]
  },
  {
   "cell_type": "markdown",
   "metadata": {},
   "source": [
    "##### Context Manager\n",
    "* For the sake of completeness, there is another approach that uses the `@contextmanager` decorator from the contextlib library\n",
    "* This method uses a combined approach with a decorator and generator\n",
    "* The resource is yielded in the try block\n",
    "* The try-except-finally block is to catch exceptions and force the closing of the resource"
   ]
  },
  {
   "cell_type": "code",
   "execution_count": 61,
   "metadata": {},
   "outputs": [],
   "source": [
    "# Without @contextmanager\n",
    "def File(name):\n",
    "    f = open(name)\n",
    "    try:\n",
    "        yield f\n",
    "    finally:\n",
    "        f.close()"
   ]
  },
  {
   "cell_type": "code",
   "execution_count": 63,
   "metadata": {},
   "outputs": [
    {
     "ename": "AttributeError",
     "evalue": "__enter__",
     "output_type": "error",
     "traceback": [
      "\u001b[1;31m---------------------------------------------------------------------------\u001b[0m",
      "\u001b[1;31mAttributeError\u001b[0m                            Traceback (most recent call last)",
      "\u001b[1;32m<ipython-input-63-f9cab23d6ea9>\u001b[0m in \u001b[0;36m<module>\u001b[1;34m\u001b[0m\n\u001b[1;32m----> 1\u001b[1;33m \u001b[1;32mwith\u001b[0m \u001b[0mFile\u001b[0m\u001b[1;33m(\u001b[0m\u001b[1;34m'Data/au-500.csv'\u001b[0m\u001b[1;33m)\u001b[0m \u001b[1;32mas\u001b[0m \u001b[0mf\u001b[0m\u001b[1;33m:\u001b[0m\u001b[1;33m\u001b[0m\u001b[1;33m\u001b[0m\u001b[0m\n\u001b[0m\u001b[0;32m      2\u001b[0m     \u001b[1;32mpass\u001b[0m\u001b[1;33m\u001b[0m\u001b[1;33m\u001b[0m\u001b[0m\n",
      "\u001b[1;31mAttributeError\u001b[0m: __enter__"
     ]
    }
   ],
   "source": [
    "with File('Data/au-500.csv') as f:\n",
    "    pass"
   ]
  },
  {
   "cell_type": "markdown",
   "metadata": {},
   "source": [
    "* Using @contextmanager. allows a function to be used as a context manager"
   ]
  },
  {
   "cell_type": "code",
   "execution_count": 68,
   "metadata": {},
   "outputs": [],
   "source": [
    "from contextlib import contextmanager\n",
    "\n",
    "@contextmanager\n",
    "def File(name):\n",
    "    f = open(name)\n",
    "    try:\n",
    "        yield f\n",
    "    except ZeroDivisionError:\n",
    "        print('ZeroDivisionError encountered')\n",
    "    finally:\n",
    "        f.close()\n",
    "        print(f'Is the file closed?: {f.closed}')"
   ]
  },
  {
   "cell_type": "code",
   "execution_count": 69,
   "metadata": {},
   "outputs": [
    {
     "name": "stdout",
     "output_type": "stream",
     "text": [
      "ZeroDivisionError encountered\n",
      "Is the file closed?: True\n"
     ]
    }
   ],
   "source": [
    "with File('Data/au-500.csv') as f:\n",
    "    1/0"
   ]
  },
  {
   "cell_type": "markdown",
   "metadata": {
    "toc-hr-collapsed": true,
    "toc-nb-collapsed": true
   },
   "source": [
    "## Encapsulation\n",
    "* A key part of object orientated programing in Python classes is encapsulation\n",
    "* This prevents direct manipulation of data"
   ]
  },
  {
   "cell_type": "markdown",
   "metadata": {},
   "source": [
    "## Getters, Setters and Deleters\n",
    "* Decorators can be used with classes through `@property`, `@my_method.setter` and `@my_method.deleter`\n",
    "* `@property` is the Python equivalent to setters and getters in Java\n",
    "* `@property` is used to make a method callable like an attribute. `my_method` is the same as calling `my_method()`\n",
    "* `@my_method.setter` is used for setting an attribute. `my_method = my_value` calls `@my_method.setter`\n",
    "* `@my_method.deleter` is used for deleting an attribute.`del(my_method.my_value)` calls `@my_method.deleter`"
   ]
  },
  {
   "cell_type": "markdown",
   "metadata": {},
   "source": [
    "##### Without decorators\n",
    "* For this example we will create the class `Celsius` to store a temperature in celsius in attribute `self.celsius` and the method `to_fahrenheit()` to return the fahrenheit value"
   ]
  },
  {
   "cell_type": "code",
   "execution_count": 69,
   "metadata": {},
   "outputs": [],
   "source": [
    "class Celsius:\n",
    "    def __init__(self, celsius = 0):\n",
    "        self.celsius = celsius\n",
    "\n",
    "    def to_fahrenheit(self):\n",
    "        return (self.celsius * 1.8) + 32"
   ]
  },
  {
   "cell_type": "code",
   "execution_count": 70,
   "metadata": {},
   "outputs": [],
   "source": [
    "my_temp = Celsius()"
   ]
  },
  {
   "cell_type": "code",
   "execution_count": 71,
   "metadata": {},
   "outputs": [
    {
     "name": "stdout",
     "output_type": "stream",
     "text": [
      "0\n",
      "32.0\n"
     ]
    }
   ],
   "source": [
    "print(my_temp.celsius)\n",
    "print(my_temp.to_fahrenheit())"
   ]
  },
  {
   "cell_type": "code",
   "execution_count": 72,
   "metadata": {},
   "outputs": [],
   "source": [
    "# Note we can directly change the celsius value\n",
    "my_temp.celsius = 50"
   ]
  },
  {
   "cell_type": "code",
   "execution_count": 73,
   "metadata": {},
   "outputs": [
    {
     "name": "stdout",
     "output_type": "stream",
     "text": [
      "50\n",
      "122.0\n"
     ]
    }
   ],
   "source": [
    "# This updates the to_fahrenheit() call, which relies on the celsius value\n",
    "print(my_temp.celsius)\n",
    "print(my_temp.to_fahrenheit())"
   ]
  },
  {
   "cell_type": "code",
   "execution_count": 74,
   "metadata": {},
   "outputs": [
    {
     "data": {
      "text/plain": [
       "{'celsius': 50}"
      ]
     },
     "execution_count": 74,
     "metadata": {},
     "output_type": "execute_result"
    }
   ],
   "source": [
    "# Remember we can see the stored attributes\n",
    "my_temp.__dict__"
   ]
  },
  {
   "cell_type": "markdown",
   "metadata": {},
   "source": [
    "##### Imposing input conditions on setting a value, without a setter\n",
    "* Let's try setting an input condition through the `__init__` method\n",
    "* This however does not apply the input condition to `my_method = my_value`, as demonstrated below\n",
    "* For this we need to use a setter"
   ]
  },
  {
   "cell_type": "code",
   "execution_count": 75,
   "metadata": {},
   "outputs": [],
   "source": [
    "class Celsius:\n",
    "    def __init__(self, celsius = 0):\n",
    "        if celsius < -273.15:\n",
    "            raise ValueError('celsius below -273.15 is not possible.') \n",
    "        self.celsius = celsius\n",
    "    \n",
    "    def to_fahrenheit(self):\n",
    "        return (self.celsius * 1.8) + 32    "
   ]
  },
  {
   "cell_type": "code",
   "execution_count": 76,
   "metadata": {},
   "outputs": [],
   "source": [
    "my_temp = Celsius()"
   ]
  },
  {
   "cell_type": "code",
   "execution_count": 77,
   "metadata": {},
   "outputs": [
    {
     "name": "stdout",
     "output_type": "stream",
     "text": [
      "0\n",
      "32.0\n"
     ]
    }
   ],
   "source": [
    "print(my_temp.celsius)\n",
    "print(my_temp.to_fahrenheit())"
   ]
  },
  {
   "cell_type": "code",
   "execution_count": 78,
   "metadata": {},
   "outputs": [
    {
     "ename": "ValueError",
     "evalue": "celsius below -273.15 is not possible.",
     "output_type": "error",
     "traceback": [
      "\u001b[1;31m---------------------------------------------------------------------------\u001b[0m",
      "\u001b[1;31mValueError\u001b[0m                                Traceback (most recent call last)",
      "\u001b[1;32m<ipython-input-78-a6d41315da94>\u001b[0m in \u001b[0;36m<module>\u001b[1;34m\u001b[0m\n\u001b[0;32m      1\u001b[0m \u001b[1;31m# This should raise an error\u001b[0m\u001b[1;33m\u001b[0m\u001b[1;33m\u001b[0m\u001b[1;33m\u001b[0m\u001b[0m\n\u001b[1;32m----> 2\u001b[1;33m \u001b[0mmy_temp\u001b[0m \u001b[1;33m=\u001b[0m \u001b[0mCelsius\u001b[0m\u001b[1;33m(\u001b[0m\u001b[1;33m-\u001b[0m\u001b[1;36m300\u001b[0m\u001b[1;33m)\u001b[0m\u001b[1;33m\u001b[0m\u001b[1;33m\u001b[0m\u001b[0m\n\u001b[0m",
      "\u001b[1;32m<ipython-input-75-2457ee7c40dd>\u001b[0m in \u001b[0;36m__init__\u001b[1;34m(self, celsius)\u001b[0m\n\u001b[0;32m      2\u001b[0m     \u001b[1;32mdef\u001b[0m \u001b[0m__init__\u001b[0m\u001b[1;33m(\u001b[0m\u001b[0mself\u001b[0m\u001b[1;33m,\u001b[0m \u001b[0mcelsius\u001b[0m \u001b[1;33m=\u001b[0m \u001b[1;36m0\u001b[0m\u001b[1;33m)\u001b[0m\u001b[1;33m:\u001b[0m\u001b[1;33m\u001b[0m\u001b[1;33m\u001b[0m\u001b[0m\n\u001b[0;32m      3\u001b[0m         \u001b[1;32mif\u001b[0m \u001b[0mcelsius\u001b[0m \u001b[1;33m<\u001b[0m \u001b[1;33m-\u001b[0m\u001b[1;36m273.15\u001b[0m\u001b[1;33m:\u001b[0m\u001b[1;33m\u001b[0m\u001b[1;33m\u001b[0m\u001b[0m\n\u001b[1;32m----> 4\u001b[1;33m             \u001b[1;32mraise\u001b[0m \u001b[0mValueError\u001b[0m\u001b[1;33m(\u001b[0m\u001b[1;34m'celsius below -273.15 is not possible.'\u001b[0m\u001b[1;33m)\u001b[0m\u001b[1;33m\u001b[0m\u001b[1;33m\u001b[0m\u001b[0m\n\u001b[0m\u001b[0;32m      5\u001b[0m         \u001b[0mself\u001b[0m\u001b[1;33m.\u001b[0m\u001b[0mcelsius\u001b[0m \u001b[1;33m=\u001b[0m \u001b[0mcelsius\u001b[0m\u001b[1;33m\u001b[0m\u001b[1;33m\u001b[0m\u001b[0m\n\u001b[0;32m      6\u001b[0m \u001b[1;33m\u001b[0m\u001b[0m\n",
      "\u001b[1;31mValueError\u001b[0m: celsius below -273.15 is not possible."
     ]
    }
   ],
   "source": [
    "# This should raise an error\n",
    "my_temp = Celsius(-300)"
   ]
  },
  {
   "cell_type": "code",
   "execution_count": 82,
   "metadata": {},
   "outputs": [],
   "source": [
    "# But this doesn't raise an error, we need to use a setter\n",
    "my_temp = Celsius()\n",
    "my_temp = -300 "
   ]
  },
  {
   "cell_type": "markdown",
   "metadata": {},
   "source": [
    "##### Imposing input conditions on setting a value, with a setter\n",
    "* As previously seen imposing a condition during `__init__`, only works during initialision but does not affect attribute assignment\n",
    "* We need to use some sort of method for setting the attribute, called a setter\n",
    "* Let's introduce two methods `get_celsius()` and `set_celsius()`\n",
    "* `self.celsius` is replaced with private attribute `self._celsius`\n",
    "* The problem with this approach is that existing user code will need to modify `obj.celsius` to `obj.get_celsius()` and `obj.celsius = val` to `obj.set_celsius(val)`\n",
    "* Furthermore, we need to modify the library code, where we are calling `get_celsius()` and `set_celsius()` methods\n",
    "* We will learn how to handle backward compatibility using `@property` decorators later on"
   ]
  },
  {
   "cell_type": "code",
   "execution_count": 85,
   "metadata": {},
   "outputs": [],
   "source": [
    "class Celsius:\n",
    "    def __init__(self, celsius = 0):\n",
    "        self.set_celsius(celsius)\n",
    "    \n",
    "    def to_fahrenheit(self):\n",
    "        return (self.get_celsius() * 1.8) + 32\n",
    "    \n",
    "    # getter method\n",
    "    def get_celsius(self):\n",
    "        return self._celsius\n",
    "    \n",
    "    # setter method\n",
    "    def set_celsius(self,value):\n",
    "        if value < -274.15:\n",
    "            raise ValueError('celsius below -273.15 is not possible.')\n",
    "        self._celsius = value"
   ]
  },
  {
   "cell_type": "code",
   "execution_count": 90,
   "metadata": {},
   "outputs": [],
   "source": [
    "my_temp = Celsius()"
   ]
  },
  {
   "cell_type": "code",
   "execution_count": 91,
   "metadata": {},
   "outputs": [
    {
     "name": "stdout",
     "output_type": "stream",
     "text": [
      "0\n",
      "32.0\n",
      "50\n",
      "122.0\n"
     ]
    },
    {
     "ename": "ValueError",
     "evalue": "celsius below -273.15 is not possible.",
     "output_type": "error",
     "traceback": [
      "\u001b[1;31m---------------------------------------------------------------------------\u001b[0m",
      "\u001b[1;31mValueError\u001b[0m                                Traceback (most recent call last)",
      "\u001b[1;32m<ipython-input-91-8d069ab4d41a>\u001b[0m in \u001b[0;36m<module>\u001b[1;34m\u001b[0m\n\u001b[0;32m      4\u001b[0m \u001b[0mprint\u001b[0m\u001b[1;33m(\u001b[0m\u001b[0mmy_temp\u001b[0m\u001b[1;33m.\u001b[0m\u001b[0mget_celsius\u001b[0m\u001b[1;33m(\u001b[0m\u001b[1;33m)\u001b[0m\u001b[1;33m)\u001b[0m\u001b[1;33m\u001b[0m\u001b[1;33m\u001b[0m\u001b[0m\n\u001b[0;32m      5\u001b[0m \u001b[0mprint\u001b[0m\u001b[1;33m(\u001b[0m\u001b[0mmy_temp\u001b[0m\u001b[1;33m.\u001b[0m\u001b[0mto_fahrenheit\u001b[0m\u001b[1;33m(\u001b[0m\u001b[1;33m)\u001b[0m\u001b[1;33m)\u001b[0m\u001b[1;33m\u001b[0m\u001b[1;33m\u001b[0m\u001b[0m\n\u001b[1;32m----> 6\u001b[1;33m \u001b[0mmy_temp\u001b[0m\u001b[1;33m.\u001b[0m\u001b[0mset_celsius\u001b[0m\u001b[1;33m(\u001b[0m\u001b[1;33m-\u001b[0m\u001b[1;36m300\u001b[0m\u001b[1;33m)\u001b[0m\u001b[1;33m\u001b[0m\u001b[1;33m\u001b[0m\u001b[0m\n\u001b[0m",
      "\u001b[1;32m<ipython-input-85-002ee95dcd1b>\u001b[0m in \u001b[0;36mset_celsius\u001b[1;34m(self, value)\u001b[0m\n\u001b[0;32m     13\u001b[0m     \u001b[1;32mdef\u001b[0m \u001b[0mset_celsius\u001b[0m\u001b[1;33m(\u001b[0m\u001b[0mself\u001b[0m\u001b[1;33m,\u001b[0m\u001b[0mvalue\u001b[0m\u001b[1;33m)\u001b[0m\u001b[1;33m:\u001b[0m\u001b[1;33m\u001b[0m\u001b[1;33m\u001b[0m\u001b[0m\n\u001b[0;32m     14\u001b[0m         \u001b[1;32mif\u001b[0m \u001b[0mvalue\u001b[0m \u001b[1;33m<\u001b[0m \u001b[1;33m-\u001b[0m\u001b[1;36m274.15\u001b[0m\u001b[1;33m:\u001b[0m\u001b[1;33m\u001b[0m\u001b[1;33m\u001b[0m\u001b[0m\n\u001b[1;32m---> 15\u001b[1;33m             \u001b[1;32mraise\u001b[0m \u001b[0mValueError\u001b[0m\u001b[1;33m(\u001b[0m\u001b[1;34m'celsius below -273.15 is not possible.'\u001b[0m\u001b[1;33m)\u001b[0m\u001b[1;33m\u001b[0m\u001b[1;33m\u001b[0m\u001b[0m\n\u001b[0m\u001b[0;32m     16\u001b[0m         \u001b[0mself\u001b[0m\u001b[1;33m.\u001b[0m\u001b[0m_celsius\u001b[0m \u001b[1;33m=\u001b[0m \u001b[0mvalue\u001b[0m\u001b[1;33m\u001b[0m\u001b[1;33m\u001b[0m\u001b[0m\n",
      "\u001b[1;31mValueError\u001b[0m: celsius below -273.15 is not possible."
     ]
    }
   ],
   "source": [
    "# You can see we are retaining previous functions\n",
    "# In addition, the input condition is applied when using obj.set_celsius\n",
    "print(my_temp.get_celsius())\n",
    "print(my_temp.to_fahrenheit())\n",
    "my_temp.set_celsius(50)\n",
    "print(my_temp.get_celsius())\n",
    "print(my_temp.to_fahrenheit())\n",
    "my_temp.set_celsius(-300)"
   ]
  },
  {
   "cell_type": "code",
   "execution_count": 93,
   "metadata": {},
   "outputs": [
    {
     "ename": "ValueError",
     "evalue": "celsius below -273.15 is not possible.",
     "output_type": "error",
     "traceback": [
      "\u001b[1;31m---------------------------------------------------------------------------\u001b[0m",
      "\u001b[1;31mValueError\u001b[0m                                Traceback (most recent call last)",
      "\u001b[1;32m<ipython-input-93-18d98f184b28>\u001b[0m in \u001b[0;36m<module>\u001b[1;34m\u001b[0m\n\u001b[0;32m      1\u001b[0m \u001b[1;31m# We can see that __init__ is also calling obj.set_celsius, and throwing the correct error\u001b[0m\u001b[1;33m\u001b[0m\u001b[1;33m\u001b[0m\u001b[1;33m\u001b[0m\u001b[0m\n\u001b[1;32m----> 2\u001b[1;33m \u001b[0mmy_temp\u001b[0m \u001b[1;33m=\u001b[0m \u001b[0mCelsius\u001b[0m\u001b[1;33m(\u001b[0m\u001b[1;33m-\u001b[0m\u001b[1;36m300\u001b[0m\u001b[1;33m)\u001b[0m\u001b[1;33m\u001b[0m\u001b[1;33m\u001b[0m\u001b[0m\n\u001b[0m",
      "\u001b[1;32m<ipython-input-85-002ee95dcd1b>\u001b[0m in \u001b[0;36m__init__\u001b[1;34m(self, celsius)\u001b[0m\n\u001b[0;32m      1\u001b[0m \u001b[1;32mclass\u001b[0m \u001b[0mCelsius\u001b[0m\u001b[1;33m:\u001b[0m\u001b[1;33m\u001b[0m\u001b[1;33m\u001b[0m\u001b[0m\n\u001b[0;32m      2\u001b[0m     \u001b[1;32mdef\u001b[0m \u001b[0m__init__\u001b[0m\u001b[1;33m(\u001b[0m\u001b[0mself\u001b[0m\u001b[1;33m,\u001b[0m \u001b[0mcelsius\u001b[0m \u001b[1;33m=\u001b[0m \u001b[1;36m0\u001b[0m\u001b[1;33m)\u001b[0m\u001b[1;33m:\u001b[0m\u001b[1;33m\u001b[0m\u001b[1;33m\u001b[0m\u001b[0m\n\u001b[1;32m----> 3\u001b[1;33m         \u001b[0mself\u001b[0m\u001b[1;33m.\u001b[0m\u001b[0mset_celsius\u001b[0m\u001b[1;33m(\u001b[0m\u001b[0mcelsius\u001b[0m\u001b[1;33m)\u001b[0m\u001b[1;33m\u001b[0m\u001b[1;33m\u001b[0m\u001b[0m\n\u001b[0m\u001b[0;32m      4\u001b[0m \u001b[1;33m\u001b[0m\u001b[0m\n\u001b[0;32m      5\u001b[0m     \u001b[1;32mdef\u001b[0m \u001b[0mto_fahrenheit\u001b[0m\u001b[1;33m(\u001b[0m\u001b[0mself\u001b[0m\u001b[1;33m)\u001b[0m\u001b[1;33m:\u001b[0m\u001b[1;33m\u001b[0m\u001b[1;33m\u001b[0m\u001b[0m\n",
      "\u001b[1;32m<ipython-input-85-002ee95dcd1b>\u001b[0m in \u001b[0;36mset_celsius\u001b[1;34m(self, value)\u001b[0m\n\u001b[0;32m     13\u001b[0m     \u001b[1;32mdef\u001b[0m \u001b[0mset_celsius\u001b[0m\u001b[1;33m(\u001b[0m\u001b[0mself\u001b[0m\u001b[1;33m,\u001b[0m\u001b[0mvalue\u001b[0m\u001b[1;33m)\u001b[0m\u001b[1;33m:\u001b[0m\u001b[1;33m\u001b[0m\u001b[1;33m\u001b[0m\u001b[0m\n\u001b[0;32m     14\u001b[0m         \u001b[1;32mif\u001b[0m \u001b[0mvalue\u001b[0m \u001b[1;33m<\u001b[0m \u001b[1;33m-\u001b[0m\u001b[1;36m274.15\u001b[0m\u001b[1;33m:\u001b[0m\u001b[1;33m\u001b[0m\u001b[1;33m\u001b[0m\u001b[0m\n\u001b[1;32m---> 15\u001b[1;33m             \u001b[1;32mraise\u001b[0m \u001b[0mValueError\u001b[0m\u001b[1;33m(\u001b[0m\u001b[1;34m'celsius below -273.15 is not possible.'\u001b[0m\u001b[1;33m)\u001b[0m\u001b[1;33m\u001b[0m\u001b[1;33m\u001b[0m\u001b[0m\n\u001b[0m\u001b[0;32m     16\u001b[0m         \u001b[0mself\u001b[0m\u001b[1;33m.\u001b[0m\u001b[0m_celsius\u001b[0m \u001b[1;33m=\u001b[0m \u001b[0mvalue\u001b[0m\u001b[1;33m\u001b[0m\u001b[1;33m\u001b[0m\u001b[0m\n",
      "\u001b[1;31mValueError\u001b[0m: celsius below -273.15 is not possible."
     ]
    }
   ],
   "source": [
    "# We can see that __init__ is also calling obj.set_celsius, and throwing the correct error\n",
    "my_temp = Celsius(-300)"
   ]
  },
  {
   "cell_type": "markdown",
   "metadata": {},
   "source": [
    "##### The property class\n",
    "* The property class is the solution to both issues of backward compatibility and changing library code\n",
    "* The Class is decorated, so calling `self.celsius` calls the getter and `self.celsius = val` calls the setter. This is represented by `Myclass = property(my_getter, my_setter)`\n",
    "* This makes it much easier to write library code, without needing to change it when a setter or getter is needed\n",
    "* However there is still the issue of trying to get the fahtrenheit value, we expect to be able to retrieve it like an attribute"
   ]
  },
  {
   "cell_type": "code",
   "execution_count": 94,
   "metadata": {},
   "outputs": [],
   "source": [
    "# using property class\n",
    "class Celsius:\n",
    "    def __init__(self, celsius=0):\n",
    "        self.celsius = celsius\n",
    "\n",
    "    def to_fahrenheit(self):\n",
    "        return (self.celsius * 1.8) + 32\n",
    "\n",
    "    # getter\n",
    "    def get_celsius(self):\n",
    "        print(\"Getting value...\")\n",
    "        return self._celsius\n",
    "\n",
    "    # setter\n",
    "    def set_celsius(self, value):\n",
    "        print(\"Setting value...\")\n",
    "        if value < -273.15:\n",
    "            raise ValueError(\"celsius below -273.15 is not possible\")\n",
    "        self._celsius = value\n",
    "\n",
    "    # creating a property object\n",
    "    celsius = property(get_celsius, set_celsius)"
   ]
  },
  {
   "cell_type": "code",
   "execution_count": 97,
   "metadata": {},
   "outputs": [
    {
     "name": "stdout",
     "output_type": "stream",
     "text": [
      "Setting value...\n"
     ]
    }
   ],
   "source": [
    "my_temp = Celsius()"
   ]
  },
  {
   "cell_type": "code",
   "execution_count": 98,
   "metadata": {},
   "outputs": [
    {
     "name": "stdout",
     "output_type": "stream",
     "text": [
      "Getting value...\n"
     ]
    },
    {
     "data": {
      "text/plain": [
       "0"
      ]
     },
     "execution_count": 98,
     "metadata": {},
     "output_type": "execute_result"
    }
   ],
   "source": [
    "my_temp.celsius"
   ]
  },
  {
   "cell_type": "code",
   "execution_count": 101,
   "metadata": {},
   "outputs": [
    {
     "name": "stdout",
     "output_type": "stream",
     "text": [
      "Getting value...\n"
     ]
    },
    {
     "data": {
      "text/plain": [
       "32.0"
      ]
     },
     "execution_count": 101,
     "metadata": {},
     "output_type": "execute_result"
    }
   ],
   "source": [
    "# Note we can't get the fahrenheit value as an attribute\n",
    "my_temp.to_fahrenheit()"
   ]
  },
  {
   "cell_type": "markdown",
   "metadata": {},
   "source": [
    "##### The property class using decorators\n",
    "* This is the best solution is to use decorators\n",
    "* `Myclass = property(my_getter, my_setter)` is the similar syntax as how a decorator works, that means we can use decorators\n",
    "* The actual celsius value is stored in the private _celsius variable. The celsius attribute is a property object which provides an interface to this private variable.  "
   ]
  },
  {
   "cell_type": "markdown",
   "metadata": {},
   "source": [
    "* To Recap:\n",
    "* Decorators can be used with classes through `@property`, `@my_method.setter` and `@my_method.deleter`\n",
    "* `@property` is used to make a method callable like an attribute. `my_method` is the same as calling `my_method()`\n",
    "* `@my_method.setter` is used for setting an attribute. `my_method = my_value` calls `@my_method.setter`\n",
    "* `@my_method.deleter` is used for deleting an attribute.`del(my_method.my_value)` calls `@my_method.deleter`"
   ]
  },
  {
   "cell_type": "code",
   "execution_count": 102,
   "metadata": {},
   "outputs": [],
   "source": [
    "# Using @property decorator\n",
    "class Celsius:\n",
    "    def __init__(self, celsius=0):\n",
    "        self.celsius = celsius\n",
    "\n",
    "    def to_fahrenheit(self):\n",
    "        return (self.celsius * 1.8) + 32\n",
    "\n",
    "    @property\n",
    "    def celsius(self):\n",
    "        print(\"Getting value...\")\n",
    "        return self._celsius\n",
    "\n",
    "    @celsius.setter\n",
    "    def celsius(self, value):\n",
    "        print(\"Setting value...\")\n",
    "        if value < -273.15:\n",
    "            raise ValueError(\"celsius below -273 is not possible\")\n",
    "        self._celsius = value"
   ]
  },
  {
   "cell_type": "code",
   "execution_count": 117,
   "metadata": {},
   "outputs": [
    {
     "name": "stdout",
     "output_type": "stream",
     "text": [
      "Setting value... celsius\n"
     ]
    }
   ],
   "source": [
    "my_temp = Celsius()"
   ]
  },
  {
   "cell_type": "code",
   "execution_count": 104,
   "metadata": {},
   "outputs": [
    {
     "name": "stdout",
     "output_type": "stream",
     "text": [
      "Getting value...\n"
     ]
    },
    {
     "data": {
      "text/plain": [
       "0"
      ]
     },
     "execution_count": 104,
     "metadata": {},
     "output_type": "execute_result"
    }
   ],
   "source": [
    "my_temp.celsius"
   ]
  },
  {
   "cell_type": "code",
   "execution_count": 105,
   "metadata": {},
   "outputs": [
    {
     "name": "stdout",
     "output_type": "stream",
     "text": [
      "Setting value...\n"
     ]
    }
   ],
   "source": [
    "my_temp.celsius = 500"
   ]
  },
  {
   "cell_type": "code",
   "execution_count": 106,
   "metadata": {},
   "outputs": [
    {
     "name": "stdout",
     "output_type": "stream",
     "text": [
      "Setting value...\n"
     ]
    },
    {
     "ename": "ValueError",
     "evalue": "celsius below -273 is not possible",
     "output_type": "error",
     "traceback": [
      "\u001b[1;31m---------------------------------------------------------------------------\u001b[0m",
      "\u001b[1;31mValueError\u001b[0m                                Traceback (most recent call last)",
      "\u001b[1;32m<ipython-input-106-0f441cf05824>\u001b[0m in \u001b[0;36m<module>\u001b[1;34m\u001b[0m\n\u001b[1;32m----> 1\u001b[1;33m \u001b[0mmy_temp\u001b[0m\u001b[1;33m.\u001b[0m\u001b[0mcelsius\u001b[0m \u001b[1;33m=\u001b[0m \u001b[1;33m-\u001b[0m\u001b[1;36m300\u001b[0m\u001b[1;33m\u001b[0m\u001b[1;33m\u001b[0m\u001b[0m\n\u001b[0m",
      "\u001b[1;32m<ipython-input-102-20c69cf4c0d1>\u001b[0m in \u001b[0;36mcelsius\u001b[1;34m(self, value)\u001b[0m\n\u001b[0;32m     16\u001b[0m         \u001b[0mprint\u001b[0m\u001b[1;33m(\u001b[0m\u001b[1;34m\"Setting value...\"\u001b[0m\u001b[1;33m)\u001b[0m\u001b[1;33m\u001b[0m\u001b[1;33m\u001b[0m\u001b[0m\n\u001b[0;32m     17\u001b[0m         \u001b[1;32mif\u001b[0m \u001b[0mvalue\u001b[0m \u001b[1;33m<\u001b[0m \u001b[1;33m-\u001b[0m\u001b[1;36m273.15\u001b[0m\u001b[1;33m:\u001b[0m\u001b[1;33m\u001b[0m\u001b[1;33m\u001b[0m\u001b[0m\n\u001b[1;32m---> 18\u001b[1;33m             \u001b[1;32mraise\u001b[0m \u001b[0mValueError\u001b[0m\u001b[1;33m(\u001b[0m\u001b[1;34m\"celsius below -273 is not possible\"\u001b[0m\u001b[1;33m)\u001b[0m\u001b[1;33m\u001b[0m\u001b[1;33m\u001b[0m\u001b[0m\n\u001b[0m\u001b[0;32m     19\u001b[0m         \u001b[0mself\u001b[0m\u001b[1;33m.\u001b[0m\u001b[0m_celsius\u001b[0m \u001b[1;33m=\u001b[0m \u001b[0mvalue\u001b[0m\u001b[1;33m\u001b[0m\u001b[1;33m\u001b[0m\u001b[0m\n",
      "\u001b[1;31mValueError\u001b[0m: celsius below -273 is not possible"
     ]
    }
   ],
   "source": [
    "my_temp.celsius = -300"
   ]
  },
  {
   "cell_type": "markdown",
   "metadata": {},
   "source": [
    "##### Making fahrenheit callable like an attribute\n",
    "* Using the `@property` decorator we can make it callable like an attribute"
   ]
  },
  {
   "cell_type": "code",
   "execution_count": 118,
   "metadata": {},
   "outputs": [],
   "source": [
    "# Using @property decorator\n",
    "class Celsius:\n",
    "    def __init__(self, celsius=0):\n",
    "        self.celsius = celsius\n",
    "    \n",
    "    @property\n",
    "    def fahrenheit(self):\n",
    "        print(\"Getting value... fahrenheit\")\n",
    "        return (self.celsius * 1.8) + 32\n",
    "\n",
    "    @property\n",
    "    def celsius(self):\n",
    "        print(\"Getting value... celsius\")\n",
    "        return self._celsius\n",
    "\n",
    "    @celsius.setter\n",
    "    def celsius(self, value):\n",
    "        print(\"Setting value... celsius\")\n",
    "        if value < -273.15:\n",
    "            raise ValueError(\"celsius below -273 is not possible\")\n",
    "        self._celsius = value"
   ]
  },
  {
   "cell_type": "code",
   "execution_count": 119,
   "metadata": {},
   "outputs": [
    {
     "name": "stdout",
     "output_type": "stream",
     "text": [
      "Setting value... celsius\n"
     ]
    }
   ],
   "source": [
    "my_temp = Celsius()"
   ]
  },
  {
   "cell_type": "code",
   "execution_count": 120,
   "metadata": {},
   "outputs": [
    {
     "name": "stdout",
     "output_type": "stream",
     "text": [
      "Getting value... fahrenheit\n",
      "Getting value... celsius\n"
     ]
    },
    {
     "data": {
      "text/plain": [
       "32.0"
      ]
     },
     "execution_count": 120,
     "metadata": {},
     "output_type": "execute_result"
    }
   ],
   "source": [
    "my_temp.fahrenheit"
   ]
  },
  {
   "cell_type": "markdown",
   "metadata": {},
   "source": [
    "##### Updating an attribute, based on another attribute\n",
    "* When we get the fahrenheit attribute, it is getting the celsius attribute, which is then converted and returned\n",
    "* So the fahrenheit attribute is actually based on the celsius attribute\n",
    "* When we are setting the fahrenheit attribute, we need to set the celsius attribute\n",
    "* The input conditions we applied to the celsius attribute, must independently be applied to the fahrenheit attribute"
   ]
  },
  {
   "cell_type": "code",
   "execution_count": 125,
   "metadata": {},
   "outputs": [],
   "source": [
    "# Using @property decorator\n",
    "class Celsius:\n",
    "    def __init__(self, celsius=0):\n",
    "        self.celsius = celsius\n",
    "    \n",
    "    @property\n",
    "    def fahrenheit(self):\n",
    "        print(\"Getting value... fahrenheit\")\n",
    "        return (self.celsius * 1.8) + 32\n",
    "\n",
    "    @property\n",
    "    def celsius(self):\n",
    "        print(\"Getting value... celsius\")\n",
    "        return self._celsius\n",
    "\n",
    "    @celsius.setter\n",
    "    def celsius(self, value):\n",
    "        print(\"Setting value... celsius\")\n",
    "        if value < -273.15:\n",
    "            raise ValueError(\"celsius below -273 is not possible\")\n",
    "        self._celsius = value\n",
    "    \n",
    "    @fahrenheit.setter\n",
    "    def fahrenheit(self, value):\n",
    "        print(\"Setting value... fahrenheit\")\n",
    "        if value < (-273.15-32)/1.8:\n",
    "            raise ValueError(\"celsius below -273 is not possible\")\n",
    "        self._celsius = (value -32)/1.8"
   ]
  },
  {
   "cell_type": "code",
   "execution_count": 126,
   "metadata": {},
   "outputs": [
    {
     "name": "stdout",
     "output_type": "stream",
     "text": [
      "Setting value... celsius\n"
     ]
    }
   ],
   "source": [
    "my_temp = Celsius()"
   ]
  },
  {
   "cell_type": "code",
   "execution_count": 127,
   "metadata": {},
   "outputs": [
    {
     "data": {
      "text/plain": [
       "{'_celsius': 0}"
      ]
     },
     "execution_count": 127,
     "metadata": {},
     "output_type": "execute_result"
    }
   ],
   "source": [
    "# you can see that fahrenheit is based off the ._celsius attribute\n",
    "my_temp.__dict__"
   ]
  },
  {
   "cell_type": "code",
   "execution_count": 128,
   "metadata": {},
   "outputs": [
    {
     "name": "stdout",
     "output_type": "stream",
     "text": [
      "Setting value... celsius\n",
      "Getting value... fahrenheit\n",
      "Getting value... celsius\n"
     ]
    },
    {
     "data": {
      "text/plain": [
       "32.0"
      ]
     },
     "execution_count": 128,
     "metadata": {},
     "output_type": "execute_result"
    }
   ],
   "source": [
    "# a celsius of 0 returns a fahrenheit of 32\n",
    "my_temp.celsius = 0\n",
    "my_temp.fahrenheit"
   ]
  },
  {
   "cell_type": "code",
   "execution_count": 129,
   "metadata": {},
   "outputs": [
    {
     "name": "stdout",
     "output_type": "stream",
     "text": [
      "Setting value... celsius\n",
      "Getting value... fahrenheit\n",
      "Getting value... celsius\n"
     ]
    },
    {
     "data": {
      "text/plain": [
       "86.0"
      ]
     },
     "execution_count": 129,
     "metadata": {},
     "output_type": "execute_result"
    }
   ],
   "source": [
    "# Let's change the celsius to see if setting the fahrenheit works or not\n",
    "my_temp.celsius = 30\n",
    "my_temp.fahrenheit"
   ]
  },
  {
   "cell_type": "code",
   "execution_count": 130,
   "metadata": {},
   "outputs": [
    {
     "name": "stdout",
     "output_type": "stream",
     "text": [
      "Setting value... fahrenheit\n",
      "Getting value... celsius\n"
     ]
    },
    {
     "data": {
      "text/plain": [
       "0.0"
      ]
     },
     "execution_count": 130,
     "metadata": {},
     "output_type": "execute_result"
    }
   ],
   "source": [
    "# a fahrenheit of 32 correctly returns a celsius of 0\n",
    "my_temp.fahrenheit = 32\n",
    "my_temp.celsius"
   ]
  },
  {
   "cell_type": "code",
   "execution_count": 131,
   "metadata": {},
   "outputs": [
    {
     "data": {
      "text/plain": [
       "{'_celsius': 0.0}"
      ]
     },
     "execution_count": 131,
     "metadata": {},
     "output_type": "execute_result"
    }
   ],
   "source": [
    "my_temp.__dict__"
   ]
  },
  {
   "cell_type": "code",
   "execution_count": 133,
   "metadata": {},
   "outputs": [
    {
     "name": "stdout",
     "output_type": "stream",
     "text": [
      "Setting value... fahrenheit\n"
     ]
    },
    {
     "ename": "ValueError",
     "evalue": "celsius below -273 is not possible",
     "output_type": "error",
     "traceback": [
      "\u001b[1;31m---------------------------------------------------------------------------\u001b[0m",
      "\u001b[1;31mValueError\u001b[0m                                Traceback (most recent call last)",
      "\u001b[1;32m<ipython-input-133-0f9dbfd5a249>\u001b[0m in \u001b[0;36m<module>\u001b[1;34m\u001b[0m\n\u001b[0;32m      1\u001b[0m \u001b[1;31m# we can see the input conditions applied when setting the fahrenheit works\u001b[0m\u001b[1;33m\u001b[0m\u001b[1;33m\u001b[0m\u001b[1;33m\u001b[0m\u001b[0m\n\u001b[1;32m----> 2\u001b[1;33m \u001b[0mmy_temp\u001b[0m\u001b[1;33m.\u001b[0m\u001b[0mfahrenheit\u001b[0m \u001b[1;33m=\u001b[0m \u001b[1;33m-\u001b[0m\u001b[1;36m500\u001b[0m\u001b[1;33m\u001b[0m\u001b[1;33m\u001b[0m\u001b[0m\n\u001b[0m",
      "\u001b[1;32m<ipython-input-125-d3a791bc958a>\u001b[0m in \u001b[0;36mfahrenheit\u001b[1;34m(self, value)\u001b[0m\n\u001b[0;32m     25\u001b[0m         \u001b[0mprint\u001b[0m\u001b[1;33m(\u001b[0m\u001b[1;34m\"Setting value... fahrenheit\"\u001b[0m\u001b[1;33m)\u001b[0m\u001b[1;33m\u001b[0m\u001b[1;33m\u001b[0m\u001b[0m\n\u001b[0;32m     26\u001b[0m         \u001b[1;32mif\u001b[0m \u001b[0mvalue\u001b[0m \u001b[1;33m<\u001b[0m \u001b[1;33m(\u001b[0m\u001b[1;33m-\u001b[0m\u001b[1;36m273.15\u001b[0m\u001b[1;33m-\u001b[0m\u001b[1;36m32\u001b[0m\u001b[1;33m)\u001b[0m\u001b[1;33m/\u001b[0m\u001b[1;36m1.8\u001b[0m\u001b[1;33m:\u001b[0m\u001b[1;33m\u001b[0m\u001b[1;33m\u001b[0m\u001b[0m\n\u001b[1;32m---> 27\u001b[1;33m             \u001b[1;32mraise\u001b[0m \u001b[0mValueError\u001b[0m\u001b[1;33m(\u001b[0m\u001b[1;34m\"celsius below -273 is not possible\"\u001b[0m\u001b[1;33m)\u001b[0m\u001b[1;33m\u001b[0m\u001b[1;33m\u001b[0m\u001b[0m\n\u001b[0m\u001b[0;32m     28\u001b[0m         \u001b[0mself\u001b[0m\u001b[1;33m.\u001b[0m\u001b[0m_celsius\u001b[0m \u001b[1;33m=\u001b[0m \u001b[1;33m(\u001b[0m\u001b[0mvalue\u001b[0m \u001b[1;33m-\u001b[0m\u001b[1;36m32\u001b[0m\u001b[1;33m)\u001b[0m\u001b[1;33m/\u001b[0m\u001b[1;36m1.8\u001b[0m\u001b[1;33m\u001b[0m\u001b[1;33m\u001b[0m\u001b[0m\n",
      "\u001b[1;31mValueError\u001b[0m: celsius below -273 is not possible"
     ]
    }
   ],
   "source": [
    "# we can see the input conditions applied when setting the fahrenheit works\n",
    "my_temp.fahrenheit = -500"
   ]
  },
  {
   "cell_type": "markdown",
   "metadata": {},
   "source": [
    "##### Deleter\n",
    "* Deleters dictate how a method is run when the attribute is deleted\n",
    "* del(my_method.my_value)` calls `@my_method.deleter`"
   ]
  },
  {
   "cell_type": "code",
   "execution_count": 108,
   "metadata": {},
   "outputs": [],
   "source": [
    "# Using @property decorator\n",
    "class Celsius:\n",
    "    def __init__(self, celsius=0):\n",
    "        self.celsius = celsius\n",
    "    \n",
    "    @property\n",
    "    def fahrenheit(self):\n",
    "        print(\"Getting value... fahrenheit\")\n",
    "        return (self.celsius * 1.8) + 32\n",
    "\n",
    "    @property\n",
    "    def celsius(self):\n",
    "        print(\"Getting value... celsius\")\n",
    "        return self._celsius\n",
    "\n",
    "    @celsius.setter\n",
    "    def celsius(self, value):\n",
    "        print(\"Setting value... celsius\")\n",
    "        if value < -273.15:\n",
    "            raise ValueError(\"celsius below -273 is not possible\")\n",
    "        self._celsius = value\n",
    "    \n",
    "    @fahrenheit.setter\n",
    "    def fahrenheit(self, value):\n",
    "        print(\"Setting value... fahrenheit\")\n",
    "        self._celsius = (value -32)/1.8\n",
    "        \n",
    "    @celsius.deleter\n",
    "    def celsius(self):\n",
    "        print(\"Celsius attribute deleted\")\n",
    "        del(self._celsius)"
   ]
  },
  {
   "cell_type": "code",
   "execution_count": 109,
   "metadata": {},
   "outputs": [
    {
     "name": "stdout",
     "output_type": "stream",
     "text": [
      "Setting value... celsius\n"
     ]
    }
   ],
   "source": [
    "my_temp = Celsius()"
   ]
  },
  {
   "cell_type": "code",
   "execution_count": 110,
   "metadata": {},
   "outputs": [
    {
     "data": {
      "text/plain": [
       "{'_celsius': 0}"
      ]
     },
     "execution_count": 110,
     "metadata": {},
     "output_type": "execute_result"
    }
   ],
   "source": [
    "my_temp.__dict__"
   ]
  },
  {
   "cell_type": "code",
   "execution_count": 111,
   "metadata": {},
   "outputs": [
    {
     "name": "stdout",
     "output_type": "stream",
     "text": [
      "Celsius attribute deleted\n"
     ]
    }
   ],
   "source": [
    "del(my_temp.celsius)"
   ]
  },
  {
   "cell_type": "code",
   "execution_count": 112,
   "metadata": {},
   "outputs": [
    {
     "data": {
      "text/plain": [
       "{}"
      ]
     },
     "execution_count": 112,
     "metadata": {},
     "output_type": "execute_result"
    }
   ],
   "source": [
    "my_temp.__dict__"
   ]
  }
 ],
 "metadata": {
  "kernelspec": {
   "display_name": "Python 3",
   "language": "python",
   "name": "python3"
  },
  "language_info": {
   "codemirror_mode": {
    "name": "ipython",
    "version": 3
   },
   "file_extension": ".py",
   "mimetype": "text/x-python",
   "name": "python",
   "nbconvert_exporter": "python",
   "pygments_lexer": "ipython3",
   "version": "3.7.3"
  },
  "toc-autonumbering": true,
  "toc-showcode": false,
  "toc-showmarkdowntxt": false,
  "toc-showtags": false
 },
 "nbformat": 4,
 "nbformat_minor": 4
}
