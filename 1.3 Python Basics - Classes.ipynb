{
 "cells": [
  {
   "cell_type": "markdown",
   "metadata": {
    "Collapsed": "false"
   },
   "source": [
    "<img src=\"https://www.python.org/static/community_logos/python-powered-w-200x80.png\" style=\"float: left; margin: 20px; height: 55px\">\n",
    "\n",
    "# Python Basics - Classes\n",
    "\n",
    "_Author: Alfred Zou_\n",
    "\n",
    "---"
   ]
  },
  {
   "cell_type": "markdown",
   "metadata": {
    "Collapsed": "false",
    "toc-hr-collapsed": true,
    "toc-nb-collapsed": true
   },
   "source": [
    "## Introduction to Classes\n",
    "---\n",
    "\n",
    "* Classes are blueprints that determine what data an object can store and what functions it can run\n",
    "* To use a class, you need to make an instance of it, called an object\n",
    "* Everything in Python is an object\n",
    "* For example, a list is a Python class\n",
    "* We create an instance of a list, and then we can access its class specific `append()` function\n",
    "\n",
    "``` python\n",
    "my_list = [1,2,3]\n",
    "my_list.append(4)\n",
    "```\n",
    "\n",
    "* To recap:\n",
    "* Classes can store data using attributes. e.g. `my_class.attribute`\n",
    "* Classes can use functions specific to the class, called methods. e.g. `my_class.method()`\n",
    "* By convention user created class methods have the first letter capatalised "
   ]
  },
  {
   "cell_type": "markdown",
   "metadata": {},
   "source": [
    "##### Defining and Instantiating a Class\n",
    "* To use a class, we must first define it:\n",
    "\n",
    "```python\n",
    "class Myclass():\n",
    "    pass\n",
    "```\n",
    "\n",
    "* Then we must create an instance of it:\n",
    "\n",
    "``` python\n",
    "instance_1 = Myclass()\n",
    "```"
   ]
  },
  {
   "cell_type": "code",
   "execution_count": 1,
   "metadata": {},
   "outputs": [],
   "source": [
    "# We define a class\n",
    "class Employee():\n",
    "    pass"
   ]
  },
  {
   "cell_type": "code",
   "execution_count": 2,
   "metadata": {},
   "outputs": [],
   "source": [
    "# We create an instance of a class\n",
    "emp_1 = Employee()"
   ]
  },
  {
   "cell_type": "code",
   "execution_count": 33,
   "metadata": {},
   "outputs": [],
   "source": [
    "# We assign some attributes to our instance of a class, or object\n",
    "emp_1.first = 'Tim'\n",
    "emp_1.last = 'Wong'\n",
    "emp_1.email = \"Tim.Wong@gmail.com\"\n",
    "emp_1.pay = 50000"
   ]
  },
  {
   "cell_type": "code",
   "execution_count": 135,
   "metadata": {},
   "outputs": [
    {
     "name": "stdout",
     "output_type": "stream",
     "text": [
      "tim\n",
      "{'first': 'tim', 'last': 'wong', 'email': 'tim.wong@gmail.com', 'pay': 50000}\n",
      "{'first': 'tim', 'last': 'wong', 'email': 'tim.wong@gmail.com', 'pay': 50000}\n"
     ]
    }
   ],
   "source": [
    "# We can print the attributes\n",
    "# We can also use vars() or __dict__ to look at all the associated attributes and value pairs\n",
    "print(emp_1.first)\n",
    "print(vars(emp_1))\n",
    "print(emp_1.__dict__)"
   ]
  },
  {
   "cell_type": "markdown",
   "metadata": {},
   "source": [
    "##### `__init__` method\n",
    "* init stands for initialise, which means to set the initial values for\n",
    "* Instead of adding the attributes after we instantiate an object, we can do it during the instantiation phase\n",
    "* the `__init__` method is called during the instantiation phase\n",
    "* data models, dunder methods or `__method__` are special python defined methods that determine the behaviour of a class\n",
    "* These include `__repr__` for string representation when the object is called\n",
    "* And, `__add__` for when object_1 + object_2 is called \n",
    "* self is a reference to the instance of the object being used\n",
    "* self must always be included in all methods\n",
    "\n",
    "```python\n",
    "# When defining a class\n",
    "class Myclass():\n",
    "    def __init__(self, param_1, param_2, ...):\n",
    "        self.param_1 = param_1\n",
    "        self.param_2 = param_2\n",
    "```\n",
    "\n",
    "```python\n",
    "# When instantiating an object, which runs the __init__ method\n",
    "my_object_1 = Myclass(argument_1,argument_2, ...):\n",
    "```"
   ]
  },
  {
   "cell_type": "code",
   "execution_count": 65,
   "metadata": {},
   "outputs": [],
   "source": [
    "# We define a class\n",
    "class Employee():\n",
    "    def __init__(self,first,last,pay):\n",
    "        self.first = first\n",
    "        self.last = last\n",
    "        self.email = f'{self.first}.{self.last}@gmail.com'\n",
    "        self.pay = pay"
   ]
  },
  {
   "cell_type": "code",
   "execution_count": 66,
   "metadata": {},
   "outputs": [],
   "source": [
    "# Now we instantiate the class by supplying the relenvant arguments\n",
    "emp_2 = Employee('Karl','Jin',35000)"
   ]
  },
  {
   "cell_type": "code",
   "execution_count": 67,
   "metadata": {},
   "outputs": [
    {
     "name": "stdout",
     "output_type": "stream",
     "text": [
      "Karl\n"
     ]
    },
    {
     "data": {
      "text/plain": [
       "{'first': 'Karl', 'last': 'Jin', 'email': 'Karl.Jin@gmail.com', 'pay': 35000}"
      ]
     },
     "execution_count": 67,
     "metadata": {},
     "output_type": "execute_result"
    }
   ],
   "source": [
    "print(emp_2.first)\n",
    "vars(emp_2)"
   ]
  },
  {
   "cell_type": "markdown",
   "metadata": {},
   "source": [
    "##### Methods\n",
    "* Let's create some class specific methods"
   ]
  },
  {
   "cell_type": "code",
   "execution_count": 68,
   "metadata": {},
   "outputs": [],
   "source": [
    "# We define a class\n",
    "class Employee():\n",
    "    def __init__(self,first,last,pay):\n",
    "        self.first = first\n",
    "        self.last = last\n",
    "        self.email = f'{self.first}.{self.last}@gmail.com'\n",
    "        self.pay = pay\n",
    "    \n",
    "    def fullname(self):\n",
    "        return f'{self.first} {self.last}'"
   ]
  },
  {
   "cell_type": "code",
   "execution_count": 69,
   "metadata": {},
   "outputs": [],
   "source": [
    "# Now we instantiate the class by supplying the relenvant arguments\n",
    "emp_3 = Employee('Foo','Bar',35000)"
   ]
  },
  {
   "cell_type": "code",
   "execution_count": 70,
   "metadata": {},
   "outputs": [
    {
     "name": "stdout",
     "output_type": "stream",
     "text": [
      "Foo Bar\n",
      "Foo Bar\n"
     ]
    }
   ],
   "source": [
    "# Normally we call the method like so\n",
    "print(emp_3.fullname())\n",
    "\n",
    "# In the background\n",
    "# We are passing the specific instance\n",
    "print(Employee.fullname(emp_3))"
   ]
  },
  {
   "cell_type": "markdown",
   "metadata": {
    "toc-hr-collapsed": true,
    "toc-nb-collapsed": true
   },
   "source": [
    "## Class vs Instance Attributes\n",
    "* Previously we have been looking at instance attributes, or attributes specific to each object\n",
    "* What if we wanted to store an attribute that is accessible to each object?\n",
    "* This is called a class attribute\n",
    "* We can reference a class attribute with either `my_object.class_attribute` or `Myclass.class_attribute`"
   ]
  },
  {
   "cell_type": "markdown",
   "metadata": {},
   "source": [
    "##### `my_object.class_attribute`\n",
    "* The benefit of referencing the class attribute through the object, is that you can add an object specific attribute to override the class attribute value\n",
    "* This is due to namespacing in classes\n",
    "* The class will look for an instance attribute before looking for a class attribute\n",
    "* We can use `__dict__` to check the instance and class namespaces "
   ]
  },
  {
   "cell_type": "code",
   "execution_count": 137,
   "metadata": {},
   "outputs": [],
   "source": [
    "# We define a class\n",
    "class Employee():\n",
    "    \n",
    "    # Class attribute\n",
    "    raise_amount = 1.04\n",
    "    \n",
    "    def __init__(self,first,last,pay):\n",
    "        self.first = first\n",
    "        self.last = last\n",
    "        self.email = f'{self.first}.{self.last}@gmail.com'\n",
    "        self.pay = pay\n",
    "           \n",
    "    def fullname(self):\n",
    "        return f'{self.first} {self.last}'\n",
    "    \n",
    "    def apply_raise(self):\n",
    "        self.pay = int(self.pay * self.raise_amount) # note self.raise_amount (`my_object.class_attribute`)"
   ]
  },
  {
   "cell_type": "markdown",
   "metadata": {},
   "source": [
    "###### Before overriding"
   ]
  },
  {
   "cell_type": "code",
   "execution_count": 133,
   "metadata": {},
   "outputs": [
    {
     "name": "stdout",
     "output_type": "stream",
     "text": [
      "before raise: $78,000\n",
      "after raise: $81,120\n",
      "object specific raise amount: 1.04\n",
      "class specific raise amount: 1.04\n"
     ]
    }
   ],
   "source": [
    "emp_4 = Employee('Alex','Lee',78000)\n",
    "\n",
    "print(f'before raise: ${emp_4.pay:,}')\n",
    "emp_4.apply_raise()\n",
    "print(f'after raise: ${emp_4.pay:,}')\n",
    "print(f'object specific raise amount: {emp_4.raise_amount}')\n",
    "print(f'class specific raise amount: {Employee.raise_amount}')"
   ]
  },
  {
   "cell_type": "code",
   "execution_count": 136,
   "metadata": {},
   "outputs": [
    {
     "data": {
      "text/plain": [
       "{'first': 'Alex', 'last': 'Lee', 'email': 'Alex.Lee@gmail.com', 'pay': 81120}"
      ]
     },
     "execution_count": 136,
     "metadata": {},
     "output_type": "execute_result"
    }
   ],
   "source": [
    "# Note the instance namespace is missing, so we use the class namespace instead\n",
    "emp_4.__dict__"
   ]
  },
  {
   "cell_type": "code",
   "execution_count": 131,
   "metadata": {},
   "outputs": [
    {
     "data": {
      "text/plain": [
       "mappingproxy({'__module__': '__main__',\n",
       "              'raise_amount': 1.04,\n",
       "              'employee_count': 10,\n",
       "              '__init__': <function __main__.Employee.__init__(self, first, last, pay)>,\n",
       "              'fullname': <function __main__.Employee.fullname(self)>,\n",
       "              'apply_raise': <function __main__.Employee.apply_raise(self)>,\n",
       "              '__dict__': <attribute '__dict__' of 'Employee' objects>,\n",
       "              '__weakref__': <attribute '__weakref__' of 'Employee' objects>,\n",
       "              '__doc__': None})"
      ]
     },
     "execution_count": 131,
     "metadata": {},
     "output_type": "execute_result"
    }
   ],
   "source": [
    "Employee.__dict__"
   ]
  },
  {
   "cell_type": "markdown",
   "metadata": {},
   "source": [
    "###### After overriding"
   ]
  },
  {
   "cell_type": "code",
   "execution_count": 127,
   "metadata": {},
   "outputs": [
    {
     "name": "stdout",
     "output_type": "stream",
     "text": [
      "before raise: $78,000\n",
      "after raise: $117,000\n",
      "object specific raise amount: 1.5\n",
      "class specific raise amount: 1.04\n"
     ]
    }
   ],
   "source": [
    "emp_4 = Employee('Alex','Lee',78000)\n",
    "emp_4.raise_amount = 1.5\n",
    "\n",
    "print(f'before raise: ${emp_4.pay:,}')\n",
    "emp_4.apply_raise()\n",
    "print(f'after raise: ${emp_4.pay:,}')\n",
    "print(f'object specific raise amount: {emp_4.raise_amount}')\n",
    "print(f'class specific raise amount: {Employee.raise_amount}')"
   ]
  },
  {
   "cell_type": "code",
   "execution_count": 130,
   "metadata": {},
   "outputs": [
    {
     "data": {
      "text/plain": [
       "{'first': 'Alex', 'last': 'Lee', 'email': 'Alex.Lee@gmail.com', 'pay': 81120}"
      ]
     },
     "execution_count": 130,
     "metadata": {},
     "output_type": "execute_result"
    }
   ],
   "source": [
    "# We find an instance namespace, so we use it over any class namespaces\n",
    "emp_4.__dict__"
   ]
  },
  {
   "cell_type": "code",
   "execution_count": 132,
   "metadata": {},
   "outputs": [
    {
     "data": {
      "text/plain": [
       "mappingproxy({'__module__': '__main__',\n",
       "              'raise_amount': 1.04,\n",
       "              'employee_count': 10,\n",
       "              '__init__': <function __main__.Employee.__init__(self, first, last, pay)>,\n",
       "              'fullname': <function __main__.Employee.fullname(self)>,\n",
       "              'apply_raise': <function __main__.Employee.apply_raise(self)>,\n",
       "              '__dict__': <attribute '__dict__' of 'Employee' objects>,\n",
       "              '__weakref__': <attribute '__weakref__' of 'Employee' objects>,\n",
       "              '__doc__': None})"
      ]
     },
     "execution_count": 132,
     "metadata": {},
     "output_type": "execute_result"
    }
   ],
   "source": [
    "# The class namespace exists, but we don't use it\n",
    "Employee.__dict__"
   ]
  },
  {
   "cell_type": "markdown",
   "metadata": {},
   "source": [
    "##### `Myclass.class_attribute`\n",
    "* Referencing the class attribute through the class is useful for attributes we don't expect to change for each individual object"
   ]
  },
  {
   "cell_type": "code",
   "execution_count": 143,
   "metadata": {},
   "outputs": [],
   "source": [
    "# We define a class\n",
    "class Employee():\n",
    "    \n",
    "    # Class attribute\n",
    "    raise_amount = 1.04\n",
    "    employee_count = 0\n",
    "    \n",
    "    def __init__(self,first,last,pay):\n",
    "        self.first = first\n",
    "        self.last = last\n",
    "        self.email = f'{self.first}.{self.last}@gmail.com'\n",
    "        self.pay = pay\n",
    "        \n",
    "        Employee.employee_count += 1 # note Employee.employee_count (`Myclass.class_attribute`)\n",
    "    \n",
    "    def fullname(self):\n",
    "        return f'{self.first} {self.last}'\n",
    "    \n",
    "    def apply_raise(self):\n",
    "        self.pay = int(self.pay * self.raise_amount) # note self.raise_amount (`my_object.class_attribute`)"
   ]
  },
  {
   "cell_type": "code",
   "execution_count": 144,
   "metadata": {},
   "outputs": [],
   "source": [
    "emp_6 = Employee('Gerard','Smith',78000)\n",
    "emp_7 = Employee('Homer','Simpson',67000)"
   ]
  },
  {
   "cell_type": "code",
   "execution_count": 145,
   "metadata": {},
   "outputs": [
    {
     "data": {
      "text/plain": [
       "2"
      ]
     },
     "execution_count": 145,
     "metadata": {},
     "output_type": "execute_result"
    }
   ],
   "source": [
    "Employee.employee_count"
   ]
  },
  {
   "cell_type": "markdown",
   "metadata": {
    "toc-hr-collapsed": true,
    "toc-nb-collapsed": true
   },
   "source": [
    "## Regularmethods, classmethods and staticmethods\n",
    "* We have been dealing with regular methods until now, they always pass the instance, or self, as the first argument\n",
    "* Class methods pass the class, or cls, as the first argument. These can be used as alternative constructors\n",
    "* A static method does not pass the instance or class"
   ]
  },
  {
   "cell_type": "markdown",
   "metadata": {
    "toc-hr-collapsed": true,
    "toc-nb-collapsed": true
   },
   "source": [
    "## Inheritance\n",
    "* Subclasses can inherit attributes and methods from other classes\n",
    "* We can change these attributes and methods without impacting the parent class\n",
    "* We pass the `Parentclass` into the parenthesis of the Subclass\n",
    "* We use `super().__init__` to pass the arguments into the parent class to deal with\n",
    "\n",
    "``` python\n",
    "class Subclass(Parentclass):\n",
    "    def __init__(self, parent_param_1, parent_param_2, ..., param_1, param_2, ...)\n",
    "        super().__init__(parent_param_1, , parent_param_2, ...)\n",
    "        self.param_1 = param_1\n",
    "        self.param_2 = param_2\n",
    "```"
   ]
  },
  {
   "cell_type": "code",
   "execution_count": 148,
   "metadata": {},
   "outputs": [],
   "source": [
    "# We define a class\n",
    "class Employee():\n",
    "    \n",
    "    # Class attribute\n",
    "    raise_amount = 1.04\n",
    "    \n",
    "    def __init__(self,first,last,pay):\n",
    "        self.first = first\n",
    "        self.last = last\n",
    "        self.email = f'{self.first}.{self.last}@gmail.com'\n",
    "        self.pay = pay\n",
    "           \n",
    "    def fullname(self):\n",
    "        return f'{self.first} {self.last}'\n",
    "    \n",
    "    def apply_raise(self):\n",
    "        self.pay = int(self.pay * self.raise_amount) # note self.raise_amount (`my_object.class_attribute`)"
   ]
  },
  {
   "cell_type": "code",
   "execution_count": 169,
   "metadata": {},
   "outputs": [],
   "source": [
    "class Developer(Employee):\n",
    "    raise_amount = 1.10\n",
    "    \n",
    "    def __init__(self,first,last,pay,prog_lang):\n",
    "        super().__init__(first,last,pay)\n",
    "        self.prog_lang = prog_lang"
   ]
  },
  {
   "cell_type": "code",
   "execution_count": 170,
   "metadata": {},
   "outputs": [],
   "source": [
    "emp_8 = Employee('Nathan','Smith',100000)\n",
    "emp_9 = Developer('Felix','Pingle',100000,'python')"
   ]
  },
  {
   "cell_type": "markdown",
   "metadata": {},
   "source": [
    "###### Checking Inheritance\n",
    "* The subclass (developer) `raise_amount` does not affect the parentclass (employee)\n",
    "* The subclass (developer) has inherited the `fullname()` method\n",
    "* The subclass (developer) accepts and returns a new attribute, which is not available to the parentclass (employee)"
   ]
  },
  {
   "cell_type": "code",
   "execution_count": 174,
   "metadata": {},
   "outputs": [
    {
     "name": "stdout",
     "output_type": "stream",
     "text": [
      "employee raise amount: 1.04\n",
      "developer raise amount: 1.1\n"
     ]
    }
   ],
   "source": [
    "print(f'employee raise amount: {emp_8.raise_amount}')\n",
    "print(f'developer raise amount: {emp_9.raise_amount}')"
   ]
  },
  {
   "cell_type": "code",
   "execution_count": 175,
   "metadata": {},
   "outputs": [
    {
     "data": {
      "text/plain": [
       "'Felix Pingle'"
      ]
     },
     "execution_count": 175,
     "metadata": {},
     "output_type": "execute_result"
    }
   ],
   "source": [
    "emp_9.fullname()"
   ]
  },
  {
   "cell_type": "code",
   "execution_count": 176,
   "metadata": {},
   "outputs": [
    {
     "data": {
      "text/plain": [
       "'python'"
      ]
     },
     "execution_count": 176,
     "metadata": {},
     "output_type": "execute_result"
    }
   ],
   "source": [
    "emp_9.prog_lang"
   ]
  },
  {
   "cell_type": "markdown",
   "metadata": {
    "toc-hr-collapsed": true,
    "toc-nb-collapsed": true
   },
   "source": [
    "## Dunder methods\n",
    "* `__repr__`: string representation for developers\n",
    "* `__str__`: string representation for end users\n",
    "* `__len__`: when `len()` is called on object"
   ]
  },
  {
   "cell_type": "code",
   "execution_count": 197,
   "metadata": {},
   "outputs": [],
   "source": [
    "# We define a class\n",
    "class Employee():\n",
    "    \n",
    "    def __init__(self,first,last,pay):\n",
    "        self.first = first\n",
    "        self.last = last\n",
    "        self.email = f'{self.first}.{self.last}@gmail.com'\n",
    "        self.pay = pay\n",
    "    \n",
    "    def __repr__(self):\n",
    "        return f'Employee({self.first}, {self.last}, {self.pay})'\n",
    "\n",
    "    def __str__(self):\n",
    "        return f'{self.fullname()} -- {self.email}'\n",
    "    \n",
    "    def __len__(self):\n",
    "        return len(self.fullname())\n",
    "    \n",
    "    def fullname(self):\n",
    "        return f'{self.first} {self.last}'"
   ]
  },
  {
   "cell_type": "code",
   "execution_count": 198,
   "metadata": {},
   "outputs": [],
   "source": [
    "emp_10 = Employee('William','So',100000)"
   ]
  },
  {
   "cell_type": "markdown",
   "metadata": {},
   "source": [
    "###### `__repr__`"
   ]
  },
  {
   "cell_type": "code",
   "execution_count": 199,
   "metadata": {},
   "outputs": [
    {
     "data": {
      "text/plain": [
       "Employee(William, So, 100000)"
      ]
     },
     "execution_count": 199,
     "metadata": {},
     "output_type": "execute_result"
    }
   ],
   "source": [
    "emp_10"
   ]
  },
  {
   "cell_type": "markdown",
   "metadata": {},
   "source": [
    "###### `__str__`"
   ]
  },
  {
   "cell_type": "code",
   "execution_count": 200,
   "metadata": {},
   "outputs": [
    {
     "name": "stdout",
     "output_type": "stream",
     "text": [
      "William So -- William.So@gmail.com\n"
     ]
    }
   ],
   "source": [
    "print(emp_10)"
   ]
  },
  {
   "cell_type": "markdown",
   "metadata": {},
   "source": [
    "###### `__len__`"
   ]
  },
  {
   "cell_type": "code",
   "execution_count": 201,
   "metadata": {},
   "outputs": [
    {
     "data": {
      "text/plain": [
       "10"
      ]
     },
     "execution_count": 201,
     "metadata": {},
     "output_type": "execute_result"
    }
   ],
   "source": [
    "len(emp_10)"
   ]
  },
  {
   "cell_type": "markdown",
   "metadata": {
    "toc-hr-collapsed": true,
    "toc-nb-collapsed": true
   },
   "source": [
    "## Encapsulation\n",
    "* A key part of object orientated programing in Python classes is encapsulation\n",
    "* This prevents direct manipulation of data"
   ]
  },
  {
   "cell_type": "markdown",
   "metadata": {},
   "source": [
    "## Getters, Setters and Deleters\n",
    "* Decorators is anything above a method prefixed with `@`\n",
    "* `@property` is used to make a method callable like an attribute\n",
    "* `@setter` is used for setting an attribute and connected attributes"
   ]
  },
  {
   "cell_type": "markdown",
   "metadata": {},
   "source": [
    "##### without `@property`"
   ]
  },
  {
   "cell_type": "code",
   "execution_count": 237,
   "metadata": {},
   "outputs": [],
   "source": [
    "# We define a class\n",
    "class Employee():\n",
    "    \n",
    "    def __init__(self,first,last):\n",
    "        self.first = first\n",
    "        self.last = last\n",
    "        \n",
    "    def email(self):\n",
    "        return f'{self.first}.{self.last}@gmail.com'\n",
    "        \n",
    "    def fullname(self):\n",
    "        return f'{self.first} {self.last}'"
   ]
  },
  {
   "cell_type": "code",
   "execution_count": 238,
   "metadata": {},
   "outputs": [
    {
     "data": {
      "text/plain": [
       "<bound method Employee.email of <__main__.Employee object at 0x00000291CA3C10F0>>"
      ]
     },
     "execution_count": 238,
     "metadata": {},
     "output_type": "execute_result"
    }
   ],
   "source": [
    "emp_11 = Employee('Michael','Lim')\n",
    "\n",
    "# We can call it because of the @property decorator\n",
    "emp_11.email"
   ]
  },
  {
   "cell_type": "markdown",
   "metadata": {},
   "source": [
    "##### with `@property`"
   ]
  },
  {
   "cell_type": "code",
   "execution_count": 239,
   "metadata": {},
   "outputs": [],
   "source": [
    "# We define a class\n",
    "class Employee():\n",
    "    \n",
    "    def __init__(self,first,last):\n",
    "        self.first = first\n",
    "        self.last = last\n",
    "    \n",
    "    @property\n",
    "    def email(self):\n",
    "        return f'{self.first}.{self.last}@gmail.com'\n",
    "        \n",
    "    def fullname(self):\n",
    "        return f'{self.first} {self.last}'"
   ]
  },
  {
   "cell_type": "code",
   "execution_count": 240,
   "metadata": {},
   "outputs": [
    {
     "data": {
      "text/plain": [
       "'Michael.Lim@gmail.com'"
      ]
     },
     "execution_count": 240,
     "metadata": {},
     "output_type": "execute_result"
    }
   ],
   "source": [
    "emp_11 = Employee('Michael','Lim')\n",
    "\n",
    "# We can call it because of the @property decorator\n",
    "emp_11.email"
   ]
  },
  {
   "cell_type": "markdown",
   "metadata": {},
   "source": [
    "##### without setter"
   ]
  },
  {
   "cell_type": "code",
   "execution_count": 245,
   "metadata": {},
   "outputs": [],
   "source": [
    "# We define a class\n",
    "class Employee():\n",
    "    \n",
    "    def __init__(self,first,last):\n",
    "        self.first = first\n",
    "        self.last = last\n",
    "    \n",
    "    @property\n",
    "    def email(self):\n",
    "        return f'{self.first}.{self.last}@gmail.com'\n",
    "        \n",
    "    def fullname(self):\n",
    "        return f'{self.first} {self.last}'"
   ]
  },
  {
   "cell_type": "code",
   "execution_count": 247,
   "metadata": {},
   "outputs": [
    {
     "data": {
      "text/plain": [
       "{'first': 'Michael', 'last': 'Lim', 'fullname': 'Tom Scott'}"
      ]
     },
     "execution_count": 247,
     "metadata": {},
     "output_type": "execute_result"
    }
   ],
   "source": [
    "emp_11 = Employee('Michael','Lim')\n",
    "\n",
    "emp_11.fullname = 'Tom Scott'\n",
    "emp_11.__dict__"
   ]
  },
  {
   "cell_type": "markdown",
   "metadata": {},
   "source": [
    "##### with setter"
   ]
  },
  {
   "cell_type": "code",
   "execution_count": 248,
   "metadata": {},
   "outputs": [],
   "source": [
    "# We define a class\n",
    "class Employee():\n",
    "    \n",
    "    def __init__(self,first,last):\n",
    "        self.first = first\n",
    "        self.last = last\n",
    "    \n",
    "    @property\n",
    "    def email(self):\n",
    "        return f'{self.first}.{self.last}@gmail.com'\n",
    "        \n",
    "    @property\n",
    "    def fullname(self):\n",
    "        return f'{self.first} {self.last}'\n",
    "\n",
    "    @fullname.setter\n",
    "    def fullname(self,name):\n",
    "        first,last = name.split(' ')\n",
    "        self.first = first\n",
    "        self.last = last"
   ]
  },
  {
   "cell_type": "code",
   "execution_count": 250,
   "metadata": {},
   "outputs": [
    {
     "data": {
      "text/plain": [
       "{'first': 'Tom', 'last': 'Scott'}"
      ]
     },
     "execution_count": 250,
     "metadata": {},
     "output_type": "execute_result"
    }
   ],
   "source": [
    "emp_11 = Employee('Michael','Lim')\n",
    "\n",
    "emp_11.fullname = 'Tom Scott'\n",
    "emp_11.__dict__"
   ]
  },
  {
   "cell_type": "code",
   "execution_count": 259,
   "metadata": {},
   "outputs": [],
   "source": [
    "class Celsius:\n",
    "    def __init__(self, temperature = 0):\n",
    "        if temperature < -273.15:\n",
    "            raise ValueError(\"Temperature below -273.15 is not possible.\")\n",
    "        self.temperature = temperature\n",
    "\n",
    "    def to_fahrenheit(self):\n",
    "        return (self.temperature * 1.8) + 32"
   ]
  },
  {
   "cell_type": "code",
   "execution_count": 263,
   "metadata": {},
   "outputs": [],
   "source": [
    "cel = Celsius()"
   ]
  },
  {
   "cell_type": "code",
   "execution_count": 264,
   "metadata": {},
   "outputs": [],
   "source": [
    "cel.temperature=-300"
   ]
  },
  {
   "cell_type": "code",
   "execution_count": 258,
   "metadata": {},
   "outputs": [
    {
     "data": {
      "text/plain": [
       "41.0"
      ]
     },
     "execution_count": 258,
     "metadata": {},
     "output_type": "execute_result"
    }
   ],
   "source": [
    "cel.to_fahrenheit()"
   ]
  },
  {
   "cell_type": "code",
   "execution_count": 265,
   "metadata": {},
   "outputs": [],
   "source": [
    "# Making Getters and Setter methods\n",
    "class Celsius:\n",
    "    def __init__(self, temperature=0):\n",
    "        self.set_temperature(temperature)\n",
    "\n",
    "    def to_fahrenheit(self):\n",
    "        return (self.get_temperature() * 1.8) + 32\n",
    "\n",
    "    # getter method\n",
    "    def get_temperature(self):\n",
    "        return self._temperature\n",
    "\n",
    "    # setter method\n",
    "    def set_temperature(self, value):\n",
    "        if value < -273.15:\n",
    "            raise ValueError(\"Temperature below -273.15 is not possible.\")\n",
    "        self._temperature = value"
   ]
  },
  {
   "cell_type": "code",
   "execution_count": 266,
   "metadata": {},
   "outputs": [],
   "source": [
    "cel = Celsius()"
   ]
  },
  {
   "cell_type": "code",
   "execution_count": 270,
   "metadata": {},
   "outputs": [],
   "source": [
    "cel._temperature = 50"
   ]
  },
  {
   "cell_type": "code",
   "execution_count": 274,
   "metadata": {},
   "outputs": [
    {
     "ename": "ValueError",
     "evalue": "Temperature below -273.15 is not possible.",
     "output_type": "error",
     "traceback": [
      "\u001b[1;31m---------------------------------------------------------------------------\u001b[0m",
      "\u001b[1;31mValueError\u001b[0m                                Traceback (most recent call last)",
      "\u001b[1;32m<ipython-input-274-76ab6971cbb4>\u001b[0m in \u001b[0;36m<module>\u001b[1;34m\u001b[0m\n\u001b[1;32m----> 1\u001b[1;33m \u001b[0mcel\u001b[0m\u001b[1;33m.\u001b[0m\u001b[0mset_temperature\u001b[0m\u001b[1;33m(\u001b[0m\u001b[1;33m-\u001b[0m\u001b[1;36m300\u001b[0m\u001b[1;33m)\u001b[0m\u001b[1;33m\u001b[0m\u001b[1;33m\u001b[0m\u001b[0m\n\u001b[0m",
      "\u001b[1;32m<ipython-input-265-0c7b75919c8d>\u001b[0m in \u001b[0;36mset_temperature\u001b[1;34m(self, value)\u001b[0m\n\u001b[0;32m     14\u001b[0m     \u001b[1;32mdef\u001b[0m \u001b[0mset_temperature\u001b[0m\u001b[1;33m(\u001b[0m\u001b[0mself\u001b[0m\u001b[1;33m,\u001b[0m \u001b[0mvalue\u001b[0m\u001b[1;33m)\u001b[0m\u001b[1;33m:\u001b[0m\u001b[1;33m\u001b[0m\u001b[1;33m\u001b[0m\u001b[0m\n\u001b[0;32m     15\u001b[0m         \u001b[1;32mif\u001b[0m \u001b[0mvalue\u001b[0m \u001b[1;33m<\u001b[0m \u001b[1;33m-\u001b[0m\u001b[1;36m273.15\u001b[0m\u001b[1;33m:\u001b[0m\u001b[1;33m\u001b[0m\u001b[1;33m\u001b[0m\u001b[0m\n\u001b[1;32m---> 16\u001b[1;33m             \u001b[1;32mraise\u001b[0m \u001b[0mValueError\u001b[0m\u001b[1;33m(\u001b[0m\u001b[1;34m\"Temperature below -273.15 is not possible.\"\u001b[0m\u001b[1;33m)\u001b[0m\u001b[1;33m\u001b[0m\u001b[1;33m\u001b[0m\u001b[0m\n\u001b[0m\u001b[0;32m     17\u001b[0m         \u001b[0mself\u001b[0m\u001b[1;33m.\u001b[0m\u001b[0m_temperature\u001b[0m \u001b[1;33m=\u001b[0m \u001b[0mvalue\u001b[0m\u001b[1;33m\u001b[0m\u001b[1;33m\u001b[0m\u001b[0m\n",
      "\u001b[1;31mValueError\u001b[0m: Temperature below -273.15 is not possible."
     ]
    }
   ],
   "source": [
    "cel.set_temperature(-300)"
   ]
  },
  {
   "cell_type": "code",
   "execution_count": 275,
   "metadata": {},
   "outputs": [
    {
     "data": {
      "text/plain": [
       "{'_temperature': 100}"
      ]
     },
     "execution_count": 275,
     "metadata": {},
     "output_type": "execute_result"
    }
   ],
   "source": [
    "cel.__dict__"
   ]
  },
  {
   "cell_type": "code",
   "execution_count": null,
   "metadata": {},
   "outputs": [],
   "source": []
  },
  {
   "cell_type": "code",
   "execution_count": 276,
   "metadata": {},
   "outputs": [
    {
     "name": "stdout",
     "output_type": "stream",
     "text": [
      "['__class__', '__delattr__', '__dict__', '__dir__', '__doc__', '__eq__', '__format__', '__ge__', '__getattribute__', '__gt__', '__hash__', '__init__', '__init_subclass__', '__le__', '__lt__', '__module__', '__ne__', '__new__', '__reduce__', '__reduce_ex__', '__repr__', '__setattr__', '__sizeof__', '__str__', '__subclasshook__', '__weakref__', '_temperature', 'get_temperature', 'set_temperature', 'to_fahrenheit']\n"
     ]
    }
   ],
   "source": [
    "print(dir(cel))"
   ]
  },
  {
   "cell_type": "code",
   "execution_count": null,
   "metadata": {},
   "outputs": [],
   "source": []
  },
  {
   "cell_type": "code",
   "execution_count": null,
   "metadata": {},
   "outputs": [],
   "source": []
  },
  {
   "cell_type": "code",
   "execution_count": null,
   "metadata": {},
   "outputs": [],
   "source": []
  },
  {
   "cell_type": "code",
   "execution_count": 1,
   "metadata": {},
   "outputs": [],
   "source": [
    "class Celsius:\n",
    "    def __init__(self, temperature = 0):\n",
    "        self.temperature = temperature\n",
    "\n",
    "    def to_fahrenheit(self):\n",
    "        return (self.temperature * 1.8) + 32"
   ]
  },
  {
   "cell_type": "code",
   "execution_count": null,
   "metadata": {},
   "outputs": [],
   "source": []
  }
 ],
 "metadata": {
  "kernelspec": {
   "display_name": "Python 3",
   "language": "python",
   "name": "python3"
  },
  "language_info": {
   "codemirror_mode": {
    "name": "ipython",
    "version": 3
   },
   "file_extension": ".py",
   "mimetype": "text/x-python",
   "name": "python",
   "nbconvert_exporter": "python",
   "pygments_lexer": "ipython3",
   "version": "3.7.3"
  },
  "toc-showmarkdowntxt": false
 },
 "nbformat": 4,
 "nbformat_minor": 4
}
