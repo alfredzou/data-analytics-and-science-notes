{
 "cells": [
  {
   "cell_type": "markdown",
   "metadata": {
    "Collapsed": "false"
   },
   "source": [
    "<img src=\"https://encrypted-tbn0.gstatic.com/images?q=tbn%3AANd9GcSd67niF79pJltZKn9Gn7L-EpmJhZTlwALBX1mHHp4QOtre7t8d\" style=\"float: left; margin: 20px; height: 100px\">\n",
    "\n",
    "# Nano & Vim\n",
    "_Author: Alfred Zou_\n",
    "\n",
    "---"
   ]
  },
  {
   "cell_type": "markdown",
   "metadata": {
    "Collapsed": "false"
   },
   "source": [
    "### Why use Nano\n",
    "* Nano is a simple editor\n",
    "* Vim and Emacs are more powerful but have a steep learning curve\n",
    "\n",
    "### Basic Commands\n",
    "* First open a file using `nano file_name`. This will open a text editing interface\n",
    "* You can edit straight away with nano\n",
    "* Nano shows a lot of the hotkeys on the screen. `^` stands for `Cntrl` and `M-` stands for `Alt`\n",
    "* Navigate with arrow keys\n",
    "* `Cntrl + x`: to exit. If you have made any changes it will prompt you to save\n",
    "* `Cntrl + o`: to save\n",
    "* `Alt + u`: to undo\n",
    "* `Alt + e`: to redo an undo\n",
    "* `Alt + ^`: to copy selected text\n",
    "* `Cntrl + k`: to cut selected text\n",
    "* `Cntrl + u`: to paste"
   ]
  },
  {
   "cell_type": "markdown",
   "metadata": {
    "Collapsed": "false"
   },
   "source": [
    "### Vim basic commands\n",
    "* First open the file with `vim file_name`\n",
    "* Vim has multiple modes. The important ones are command mode and insert mode\n",
    "* When you first open a file you'll be in command mode\n",
    "* Command mode lets you save, quit, copy, paste, etc\n",
    "* Insert mode lets you edit text\n",
    "* `i`: to enter insert mode\n",
    "* `Esc`: to enter command mode\n",
    "* All commands start with `:`\n",
    "* `:x`: to save and exit\n",
    "* `:w`: to save\n",
    "* `:qw`: to save and quit\n",
    "* `:q!`: to quit vim without saving\n",
    "* `y`: copy selection\n",
    "* `p`: paste selection\n",
    "* `d`: cut slection"
   ]
  }
 ],
 "metadata": {
  "kernelspec": {
   "display_name": "Python 3",
   "language": "python",
   "name": "python3"
  },
  "language_info": {
   "codemirror_mode": {
    "name": "ipython",
    "version": 3
   },
   "file_extension": ".py",
   "mimetype": "text/x-python",
   "name": "python",
   "nbconvert_exporter": "python",
   "pygments_lexer": "ipython3",
   "version": "3.7.3"
  }
 },
 "nbformat": 4,
 "nbformat_minor": 4
}
