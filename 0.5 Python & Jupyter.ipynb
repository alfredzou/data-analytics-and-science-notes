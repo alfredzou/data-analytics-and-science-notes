{
 "cells": [
  {
   "cell_type": "markdown",
   "metadata": {
    "Collapsed": "false"
   },
   "source": [
    "<img src=\"https://www.python.org/static/community_logos/python-powered-w-200x80.png\" style=\"float: left; margin: 20px; height: 55px\">\n",
    "\n",
    "# Intro to Python & Jupyter Lab/Notebook Notes\n",
    "\n",
    "_Author: Alfred Zou_\n",
    "\n",
    "---"
   ]
  },
  {
   "cell_type": "markdown",
   "metadata": {
    "Collapsed": "false"
   },
   "source": [
    "## Python\n",
    "---\n",
    "##### Why Python?\n",
    "\n",
    "* One of the most popular and widely used languages in industry\n",
    "* Python is open source, this allows a lot of developers to contribute to Python through libraries. Installing these libraries provides a lot of added functionality. It also allows developers working together to solve problems\n",
    "* Object orientated programing. This relates to classes being able to call on specific class specific functions called methods.\n",
    "* Python is not a compiled language, it is an interpreted language. This means the code runs step by step. This allows for rapid prototyping. The trade off is run speed and memory management enjoyed by compiled languages\n",
    "* Natural syntax making it easy to write, read and learn\n",
    "* Can be run on multiple machines\n",
    "* Easy to install via Anaconda, a distribution of Python.\n",
    "\n",
    "##### Python Data Science Packages\n",
    "\n",
    "* Pandas - Handle tabluated data with Dataframe and series classes\n",
    "* NumPy - Linear algebra, matrix manipulation, nparray\n",
    "* matplotlib/seaborn/plotly - Data visualisation\n",
    "* Scikit-learn - Machine learning and popular datasets\n",
    "* TensorFlow/Pytorch - Deep learning"
   ]
  },
  {
   "cell_type": "markdown",
   "metadata": {
    "Collapsed": "false"
   },
   "source": [
    "## Jupyter Lab & Jupyter Notebook\n",
    "---\n",
    "##### Jupyter Notebook\n",
    "\n",
    "* Application that allows you to run and share live python code, embeded data visualisations and narrative explainations\n",
    "* Popular with data analysts for data cleaning, data visualisation and communicating insights"
   ]
  },
  {
   "cell_type": "markdown",
   "metadata": {
    "Collapsed": "false"
   },
   "source": [
    "##### Jupyter Lab vs Jupyter Notebook\n",
    "\n",
    "* Jupyter Lab provides the same features of Jupyter Notebook but both have their minor nuances\n",
    "* Jupyter Lab provides better workflow management, as you can work on multiple notebooks at the same time and there is a better file explorer interface on the left of the screen. In Jupyter Notebook, you can only work on one notebook at one time\n",
    "* Jupyter Notebook is the predecessor to Jupyter Lab. Jupyter Lab is currently in beta but is ready for user use\n",
    "* I recomend using Jupyter Lab over Jupyter notebook\n",
    "* I also recommend enabling auto scrolling of output results in Jupyter Lab. This feature is not a part of Jupyter Lab but you can enable it by following the instructions at https://github.com/jupyterlab/jupyterlab/issues/4028#issuecomment-446820575. It involves installing a css styling extension to your web browser. Copy the code snippet below into the css styling extension and apply to all websites on the domain **localhost**\n",
    "\n",
    "``` css\n",
    ".jp-OutputArea-child {\n",
    "    max-height: 15em;\n",
    "}\n",
    "\n",
    ".jp-OutputArea-child .jp-OutputArea-output {\n",
    "    overflow: auto;\n",
    "}\n",
    "```"
   ]
  },
  {
   "cell_type": "markdown",
   "metadata": {
    "Collapsed": "false"
   },
   "source": [
    "### Jupyter Lab Useful Keyboard Short-cuts\n",
    "\n",
    "##### Command vs Edit Mode\n",
    "\n",
    "* It is important to understand how to differentiate and move between the two modes: command and edit mode. This is because there are different commands for each and users will need to frequently toggle between modes.\n",
    "* The command mode allows for creation and deleting of cells. It is signified by a greyed out cell.\n",
    "* The edit mode allows editing of text within a cell. It is signified by the cell turning white.\n",
    "* To enter the edit mode from the command mode, press Enter\n",
    "* To enter the command mode from the edit mode, press Esc\n",
    "\n",
    "##### Universal Commands\n",
    "\n",
    "* These commands work in both command and edit mode\n",
    "* `Cntrl + Enter`: Runs the cell\n",
    "* `Shift + Enter`: Runs the cell and selects the cell below. If there is no cell below it will create one\n",
    "* `Alt + Enter`: Runs the cell and creates a cell below\n",
    "* `Cntrl + S`: Save workbook and checkpoint\n",
    "* This allows you to revert to checkpoint\n",
    "* `Cntrl + F`: Search. Can also be used to replace all. Jupyter notebook must be at least version 1.0+\n",
    "* `Cntrl + Shift + [`: Previous tab\n",
    "* `Cntrl + Shift + ]`: Next tab\n",
    "* `Alt + W`: Close tab\n",
    "* `Cntrl + B`: Shrinks or expands the file explorer\n",
    "* `Right Click + Show in File Browser on notebook at the top`: Jump to notebook directory\n",
    "\n",
    "##### Command Mode Keyboard Short-cuts\n",
    "\n",
    "* Navigate cells with up and down keys\n",
    "* `Shift + up`: Select will navigating up\n",
    "* `Shift + down`: Select will navigating down\n",
    "* `A`: Insert cell above\n",
    "* `B`: Insert cell below\n",
    "* `Y`: Convert cell into a code cell. Code cells are used for writing code\n",
    "* `M`: Convert cell into a markdown cell. Markdown cells are used for text, lists, images and videos with formatting\n",
    "* `X`: Cut cell\n",
    "* `C`: Copy cell\n",
    "* `V`: Paste cell\n",
    "* `Z`: Undo command mode action\n",
    "* `D,D`: Delete cell\n",
    "* `I,I`: Interrupt kernal. Use this if you're stuck in an infinite loop\n",
    "* `0,0`: Restart kernal\n",
    "* `Shift + M`: Merge selected cell with the cell below\n",
    "\n",
    "##### Edit Mode \n",
    "\n",
    "* `Shift + Tab` on function: Reveal docstring\n",
    "* `Cntrl + /`: Comment selection\n",
    "* `Cntrl + Shift + -`: Split cell at break point \n",
    "* `Cntrl + Z`: undo\n",
    "* `Cntrl + Y`: redo"
   ]
  },
  {
   "cell_type": "markdown",
   "metadata": {
    "Collapsed": "false"
   },
   "source": [
    "## % It's Magic \n",
    "---\n",
    "* Jupyter Lab/notebook support additional commands called magic, that can be used by placing `%` or `%%` at the front of the code\n",
    "\n",
    "```python\n",
    "%matplotlib inline\n",
    "# This is a very common one that allows plots to be shown inline in our Jupyter Lab/notebook\n",
    "```\n",
    "\n",
    "* We can do some really cool stuff like creating files, running files, etc"
   ]
  },
  {
   "cell_type": "code",
   "execution_count": 5,
   "metadata": {
    "Collapsed": "false"
   },
   "outputs": [
    {
     "name": "stdout",
     "output_type": "stream",
     "text": [
      "Writing Scripts/test.py\n"
     ]
    }
   ],
   "source": [
    "%%writefile \"Scripts\\test.py\"\n",
    "# This magic will write our cell text into the file test.py and our current working directory\n",
    "\n",
    "print('hello world')"
   ]
  },
  {
   "cell_type": "code",
   "execution_count": 1,
   "metadata": {
    "Collapsed": "false"
   },
   "outputs": [
    {
     "data": {
      "text/plain": [
       "\u001b[1;31mDocstring:\u001b[0m\n",
       "Load code into the current frontend.\n",
       "\n",
       "Usage:\n",
       "  %load [options] source\n",
       "\n",
       "  where source can be a filename, URL, input history range, macro, or\n",
       "  element in the user namespace\n",
       "\n",
       "Options:\n",
       "\n",
       "  -r <lines>: Specify lines or ranges of lines to load from the source.\n",
       "  Ranges could be specified as x-y (x..y) or in python-style x:y \n",
       "  (x..(y-1)). Both limits x and y can be left blank (meaning the \n",
       "  beginning and end of the file, respectively).\n",
       "\n",
       "  -s <symbols>: Specify function or classes to load from python source. \n",
       "\n",
       "  -y : Don't ask confirmation for loading source above 200 000 characters.\n",
       "\n",
       "  -n : Include the user's namespace when searching for source code.\n",
       "\n",
       "This magic command can either take a local filename, a URL, an history\n",
       "range (see %history) or a macro as argument, it will prompt for\n",
       "confirmation before loading source with more than 200 000 characters, unless\n",
       "-y flag is passed or if the frontend does not support raw_input::\n",
       "\n",
       "%load myscript.py\n",
       "%load 7-27\n",
       "%load myMacro\n",
       "%load http://www.example.com/myscript.py\n",
       "%load -r 5-10 myscript.py\n",
       "%load -r 10-20,30,40: foo.py\n",
       "%load -s MyClass,wonder_function myscript.py\n",
       "%load -n MyClass\n",
       "%load -n my_module.wonder_function\n",
       "\u001b[1;31mFile:\u001b[0m      c:\\users\\draciel\\anaconda3\\lib\\site-packages\\ipython\\core\\magics\\code.py\n"
      ]
     },
     "metadata": {},
     "output_type": "display_data"
    }
   ],
   "source": [
    "%load?\n",
    "# We can check the docstring of magic commands by putting a ? mark after them"
   ]
  },
  {
   "cell_type": "code",
   "execution_count": 8,
   "metadata": {
    "Collapsed": "false"
   },
   "outputs": [],
   "source": [
    "%load \"Scripts\\test.py\"\n",
    "# If we run this, we get below:\n",
    "# This magic reads the file and puts it into our cell"
   ]
  },
  {
   "cell_type": "code",
   "execution_count": 7,
   "metadata": {
    "Collapsed": "false"
   },
   "outputs": [],
   "source": [
    "# %load \"Scripts\\test.py\"\n",
    "# This magic will write our cell text into the file test.py and our current working directory\n",
    "\n",
    "print('hello world')\n"
   ]
  },
  {
   "cell_type": "markdown",
   "metadata": {
    "Collapsed": "false"
   },
   "source": [
    "## Markdown\n",
    "---\n",
    "* Markdown allows users to write in plain text, which is converted into html\n",
    "* It can be directly used in Jupyter Lab/notebook and is also a standalone file type\n",
    "* It is compatible with html and LaTeX equations\n",
    "* It's extremely powerful for note taking and allows users to illustrate their code\n",
    "\n",
    "##### New line Trick\n",
    "* Unexpectedly text continues on the same line, even when you hit enter\n",
    "\n",
    "new line\n",
    "new line\n",
    "\n",
    "* Put two spaces after a line to force a new line\n",
    "\n",
    "new line  \n",
    "new line\n",
    "\n",
    "##### Noteable Features (note different header sizes)\n",
    "1. ~Emphasis~ _Emphasis_ **Emphasis** `Emphasis`\n",
    "2. Ordered lists, and\n",
    "* Unordered\n",
    "* Lists\n",
    "3. Line Break\n",
    "---\n",
    "4. Illustrative Code\n",
    "```python\n",
    "for i in n:\n",
    "    print(i)\n",
    "```\n",
    "5.\n",
    "> Block quotes Block quotes Block quotes Block quotes Block quotes Block quotes Block quotes Block quotes Block quotes Block quotes Block quotes Block quotes Block quotes Block quotes Block quotes Block quotes Block quotes Block quotes Block quotes Block quotes Block quotes Block quotes Block quotes Block quotes Block quotes Block quotes Block quotes Block quotes Block quotes Block quotes Block quotes Block quotes Block quotes Block quotes Block quotes Block quotes Block quotes Block quotes Block quotes Block quotes Block quotes Block quotes\n",
    "6. LaTeX:\n",
    "$$e^{i\\pi} + 1 = 0$$\n",
    "7. Tables:\n",
    "\n",
    "Markdown | Less | Pretty\n",
    "--- | --- | ---\n",
    "*Still* | `renders` | **nicely**\n",
    "1 | 2 | 3\n",
    "\n",
    "8. Links:  \n",
    "[Markdown Cheatsheet](https://github.com/adam-p/markdown-here/wiki/Markdown-Cheatsheet)  \n",
    "[Jupyter Notebook Markdown Notes](https://jupyter-notebook.readthedocs.io/en/stable/examples/Notebook/Working%20With%20Markdown%20Cells.html)\n",
    "9. Images:   \n",
    "![alt text](https://cdn1.iconfinder.com/data/icons/logos-and-brands-3/512/205_Markdown_logo_logos-128.png)\n",
    "10. HTML:\n",
    "<p style=\"color:red;font-size:50px\">I am html text</p>"
   ]
  }
 ],
 "metadata": {
  "kernelspec": {
   "display_name": "Python 3",
   "language": "python",
   "name": "python3"
  },
  "language_info": {
   "codemirror_mode": {
    "name": "ipython",
    "version": 3
   },
   "file_extension": ".py",
   "mimetype": "text/x-python",
   "name": "python",
   "nbconvert_exporter": "python",
   "pygments_lexer": "ipython3",
   "version": "3.7.3"
  }
 },
 "nbformat": 4,
 "nbformat_minor": 4
}
