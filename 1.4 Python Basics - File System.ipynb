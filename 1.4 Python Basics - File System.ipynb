{
 "cells": [
  {
   "cell_type": "markdown",
   "metadata": {
    "Collapsed": "false"
   },
   "source": [
    "<img src=\"https://www.python.org/static/community_logos/python-powered-w-200x80.png\" style=\"float: left; margin: 20px; height: 55px\">\n",
    "\n",
    "# Python Basics - File System\n",
    "\n",
    "_Author: Alfred Zou_\n",
    "\n",
    "---"
   ]
  },
  {
   "cell_type": "markdown",
   "metadata": {},
   "source": [
    "## Filer Operations"
   ]
  },
  {
   "cell_type": "code",
   "execution_count": 79,
   "metadata": {},
   "outputs": [],
   "source": [
    "with open('test.txt','r') as f:\n",
    "    a = f.readlines()"
   ]
  },
  {
   "cell_type": "code",
   "execution_count": 80,
   "metadata": {},
   "outputs": [
    {
     "data": {
      "text/plain": [
       "['tim wong tim wong tim wong tim wong tim wong tim wong \\n',\n",
       " ' tim wong sucks\\n',\n",
       " ' tim wong sucks\\n',\n",
       " ' tim wong sucks\\n',\n",
       " ' tim wong sucks\\n',\n",
       " ' tim wong sucks\\n',\n",
       " ' tim wong sucksyeye\\n',\n",
       " ' tim wong sucks\\n',\n",
       " 'ye\\n',\n",
       " 'ye\\n',\n",
       " '\\n',\n",
       " ' tim wong sucksyeye\\n',\n",
       " ' tim wong sucksyeye\\n',\n",
       " ' tim wong sucksyeye\\n',\n",
       " ' tim wong sucks\\n',\n",
       " 'yeye']"
      ]
     },
     "execution_count": 80,
     "metadata": {},
     "output_type": "execute_result"
    }
   ],
   "source": [
    "a"
   ]
  },
  {
   "cell_type": "code",
   "execution_count": 78,
   "metadata": {},
   "outputs": [],
   "source": [
    "with open('test.txt','a') as f:\n",
    "    f.writelines(['\\n tim wong sucks\\n','ye','ye'])"
   ]
  },
  {
   "cell_type": "code",
   "execution_count": 35,
   "metadata": {},
   "outputs": [
    {
     "name": "stdout",
     "output_type": "stream",
     "text": [
      "tim wong tim wong tim wong tim wong tim wong tim wong \n"
     ]
    }
   ],
   "source": [
    "!cat test.txt"
   ]
  },
  {
   "cell_type": "markdown",
   "metadata": {
    "Collapsed": "false"
   },
   "source": [
    "## Opening Files\n",
    "---\n",
    "* Most of the time our data will be in another file\n",
    "* We will need to somehow tell Python to open the file, then extract the data\n",
    "* `r` read\n",
    "* `b` binary\n",
    "* `w` write\n",
    "* `a` append\n",
    "* f.write()\n",
    "* f.writelines(lines)"
   ]
  },
  {
   "cell_type": "code",
   "execution_count": 10,
   "metadata": {
    "Collapsed": "false"
   },
   "outputs": [],
   "source": [
    "# The best way to open a file to read it is using the with method (context managers)\n",
    "# Context managers are recommended, even if we throw an error, it'll close the file (DB connection)\n",
    "# handles the teardown of resources\n",
    "# This method means you don't have to close the file after\n",
    "# 'r' tells open() to open the file in read only mode\n",
    "\n",
    "with open('Data\\earthquakes.csv','r') as f:\n",
    "    lines = f.readlines()"
   ]
  },
  {
   "cell_type": "markdown",
   "metadata": {
    "Collapsed": "false"
   },
   "source": [
    "?? -m what does do"
   ]
  },
  {
   "cell_type": "code",
   "execution_count": 11,
   "metadata": {
    "Collapsed": "false"
   },
   "outputs": [
    {
     "name": "stdout",
     "output_type": "stream",
     "text": [
      "earthquake id,occurred_on,latitude,longitude,depth,magnitude,calculation_method,network_id,place,cause\n",
      "\n",
      "1,1/01/1969 9:07,51.096,-179.392,45,5.6,mw,iscgem812771,\"Andreanof Islands, Aleutian Islands, Alaska\",earthquake\n",
      "\n",
      "2,2/01/1969 17:50,-56.096,-27.842,80.1,6,mw,iscgemsup812819,South Sandwich Islands region,earthquake\n",
      "\n",
      "3,3/01/1969 3:16,37.14,57.899,10,5.5,mw,iscgem812826,Turkmenistan-Iran border region,earthquake\n",
      "\n",
      "4,3/01/1969 13:28,51.132,-179.306,15,5.9,mw,iscgem812841,\"Andreanof Islands, Aleutian Islands, Alaska\",earthquake\n",
      "\n"
     ]
    }
   ],
   "source": [
    "for line in lines[0:5]:\n",
    "    print(line)"
   ]
  },
  {
   "cell_type": "code",
   "execution_count": null,
   "metadata": {
    "Collapsed": "false"
   },
   "outputs": [],
   "source": [
    "# We can also use open() to create, write and append to files"
   ]
  },
  {
   "cell_type": "markdown",
   "metadata": {},
   "source": [
    "## Python Directory\n",
    "* os.getcwd()\n",
    "* os.listdir()\n",
    "* os.rename()\n",
    "* os.mkdir()\n",
    "* os.rmdir()\n",
    "* os.remove()"
   ]
  },
  {
   "cell_type": "code",
   "execution_count": 1,
   "metadata": {},
   "outputs": [
    {
     "data": {
      "text/plain": [
       "'C:\\\\Users\\\\draciel\\\\Dropbox\\\\General_Assembly\\\\Github\\\\Notes'"
      ]
     },
     "execution_count": 1,
     "metadata": {},
     "output_type": "execute_result"
    }
   ],
   "source": [
    "import os\n",
    "os.getcwd()"
   ]
  },
  {
   "cell_type": "code",
   "execution_count": 2,
   "metadata": {},
   "outputs": [
    {
     "name": "stdout",
     "output_type": "stream",
     "text": [
      "C:\\Users\\draciel\\Dropbox\\General_Assembly\\Github\\Notes\\Scripts\n"
     ]
    }
   ],
   "source": [
    "cd Scripts/"
   ]
  },
  {
   "cell_type": "code",
   "execution_count": 6,
   "metadata": {},
   "outputs": [
    {
     "data": {
      "text/plain": [
       "'C:\\\\Users\\\\draciel\\\\Dropbox\\\\General_Assembly\\\\Github\\\\Notes'"
      ]
     },
     "execution_count": 6,
     "metadata": {},
     "output_type": "execute_result"
    }
   ],
   "source": [
    "os.getcwd()"
   ]
  },
  {
   "cell_type": "code",
   "execution_count": 7,
   "metadata": {},
   "outputs": [],
   "source": [
    "os.mkdir('asdf.txt')"
   ]
  },
  {
   "cell_type": "code",
   "execution_count": 11,
   "metadata": {},
   "outputs": [],
   "source": [
    "os.rename('library.py','lib.py')"
   ]
  },
  {
   "cell_type": "code",
   "execution_count": 13,
   "metadata": {},
   "outputs": [
    {
     "ename": "SyntaxError",
     "evalue": "invalid syntax (<ipython-input-13-3a483b7f91eb>, line 1)",
     "output_type": "error",
     "traceback": [
      "\u001b[1;36m  File \u001b[1;32m\"<ipython-input-13-3a483b7f91eb>\"\u001b[1;36m, line \u001b[1;32m1\u001b[0m\n\u001b[1;33m    os.listdir() | grep .\u001b[0m\n\u001b[1;37m                         ^\u001b[0m\n\u001b[1;31mSyntaxError\u001b[0m\u001b[1;31m:\u001b[0m invalid syntax\n"
     ]
    }
   ],
   "source": [
    "os.listdir() | grep ."
   ]
  },
  {
   "cell_type": "code",
   "execution_count": 14,
   "metadata": {},
   "outputs": [],
   "source": [
    "os.mkdir('full')"
   ]
  },
  {
   "cell_type": "code",
   "execution_count": 15,
   "metadata": {},
   "outputs": [],
   "source": [
    "os.chdir('full')"
   ]
  },
  {
   "cell_type": "code",
   "execution_count": 16,
   "metadata": {},
   "outputs": [],
   "source": [
    "os.mkdir('fileb')"
   ]
  },
  {
   "cell_type": "code",
   "execution_count": 17,
   "metadata": {},
   "outputs": [],
   "source": [
    "os.chdir('..')"
   ]
  },
  {
   "cell_type": "code",
   "execution_count": 19,
   "metadata": {},
   "outputs": [
    {
     "data": {
      "text/plain": [
       "'C:\\\\Users\\\\draciel\\\\Dropbox\\\\General_Assembly\\\\Github\\\\Notes'"
      ]
     },
     "execution_count": 19,
     "metadata": {},
     "output_type": "execute_result"
    }
   ],
   "source": [
    "os.getcwd()"
   ]
  },
  {
   "cell_type": "code",
   "execution_count": 20,
   "metadata": {},
   "outputs": [
    {
     "data": {
      "text/plain": [
       "['.git',\n",
       " '.gitignore',\n",
       " '.ipynb_checkpoints',\n",
       " '0.1 Intro to Data & Command Line.ipynb',\n",
       " '0.2 Git & GitHub.ipynb',\n",
       " '0.3 Nano & Vim.ipynb',\n",
       " '0.5 Python & Jupyter.ipynb',\n",
       " '1.0 Python Basics - Data Types.ipynb',\n",
       " '2.0 Python Basics - Control Flow.ipynb',\n",
       " '3.0 Python Basics - Functions.ipynb',\n",
       " '3.5 Python Basics - Classes.ipynb',\n",
       " '4.0 Python Basics - Misc.ipynb',\n",
       " '5.0 Data Visualisation.ipynb',\n",
       " '6.0 NumPy.ipynb',\n",
       " '7.0 Pandas.ipynb',\n",
       " '8.0 Regular Expressions.ipynb',\n",
       " '9.0 Relational Databases and SQL.ipynb',\n",
       " 'chromedriver',\n",
       " 'code-vault',\n",
       " 'Data',\n",
       " 'full',\n",
       " 'github test.ipynb',\n",
       " 'IgnoredDirectory',\n",
       " 'lib.py',\n",
       " 'raise.py',\n",
       " 'README.md',\n",
       " 'Scripts',\n",
       " 'test.txt',\n",
       " 'user.py',\n",
       " 'Web Scraping & APIs.ipynb',\n",
       " '__pycache__']"
      ]
     },
     "execution_count": 20,
     "metadata": {},
     "output_type": "execute_result"
    }
   ],
   "source": [
    "os.listdir()"
   ]
  },
  {
   "cell_type": "code",
   "execution_count": 21,
   "metadata": {},
   "outputs": [
    {
     "ename": "OSError",
     "evalue": "[WinError 145] The directory is not empty: 'full'",
     "output_type": "error",
     "traceback": [
      "\u001b[1;31m---------------------------------------------------------------------------\u001b[0m",
      "\u001b[1;31mOSError\u001b[0m                                   Traceback (most recent call last)",
      "\u001b[1;32m<ipython-input-21-88b6ca10438d>\u001b[0m in \u001b[0;36m<module>\u001b[1;34m\u001b[0m\n\u001b[1;32m----> 1\u001b[1;33m \u001b[0mos\u001b[0m\u001b[1;33m.\u001b[0m\u001b[0mrmdir\u001b[0m\u001b[1;33m(\u001b[0m\u001b[1;34m'full'\u001b[0m\u001b[1;33m)\u001b[0m\u001b[1;33m\u001b[0m\u001b[1;33m\u001b[0m\u001b[0m\n\u001b[0m",
      "\u001b[1;31mOSError\u001b[0m: [WinError 145] The directory is not empty: 'full'"
     ]
    }
   ],
   "source": [
    "os.rmdir('full')"
   ]
  },
  {
   "cell_type": "code",
   "execution_count": 22,
   "metadata": {},
   "outputs": [],
   "source": [
    "import shutil"
   ]
  },
  {
   "cell_type": "code",
   "execution_count": 9,
   "metadata": {},
   "outputs": [],
   "source": [
    "os.rmdir('asdf.txt')"
   ]
  },
  {
   "cell_type": "code",
   "execution_count": 25,
   "metadata": {},
   "outputs": [],
   "source": [
    "shutil.rmtree('full')"
   ]
  },
  {
   "cell_type": "code",
   "execution_count": 26,
   "metadata": {},
   "outputs": [
    {
     "data": {
      "text/plain": [
       "['.git',\n",
       " '.gitignore',\n",
       " '.ipynb_checkpoints',\n",
       " '0.1 Intro to Data & Command Line.ipynb',\n",
       " '0.2 Git & GitHub.ipynb',\n",
       " '0.3 Nano & Vim.ipynb',\n",
       " '0.5 Python & Jupyter.ipynb',\n",
       " '1.0 Python Basics - Data Types.ipynb',\n",
       " '2.0 Python Basics - Control Flow.ipynb',\n",
       " '3.0 Python Basics - Functions.ipynb',\n",
       " '3.5 Python Basics - Classes.ipynb',\n",
       " '4.0 Python Basics - Misc.ipynb',\n",
       " '5.0 Data Visualisation.ipynb',\n",
       " '6.0 NumPy.ipynb',\n",
       " '7.0 Pandas.ipynb',\n",
       " '8.0 Regular Expressions.ipynb',\n",
       " '9.0 Relational Databases and SQL.ipynb',\n",
       " 'chromedriver',\n",
       " 'code-vault',\n",
       " 'Data',\n",
       " 'github test.ipynb',\n",
       " 'IgnoredDirectory',\n",
       " 'lib.py',\n",
       " 'raise.py',\n",
       " 'README.md',\n",
       " 'Scripts',\n",
       " 'test.txt',\n",
       " 'user.py',\n",
       " 'Web Scraping & APIs.ipynb',\n",
       " '__pycache__']"
      ]
     },
     "execution_count": 26,
     "metadata": {},
     "output_type": "execute_result"
    }
   ],
   "source": [
    "os.listdir()"
   ]
  },
  {
   "cell_type": "code",
   "execution_count": 2,
   "metadata": {},
   "outputs": [
    {
     "name": "stdout",
     "output_type": "stream",
     "text": [
      "The entry is a\n",
      "['In', 'Out', '_', '__', '___', '__builtin__', '__builtins__', '__doc__', '__loader__', '__name__', '__package__', '__spec__', '_dh', '_i', '_i1', '_i2', '_ih', '_ii', '_iii', '_oh', 'entry', 'exit', 'get_ipython', 'quit', 'r', 'randomList', 'sys']\n",
      "Oops! <class 'ValueError'> occurred.\n",
      "Next entry.\n",
      "\n",
      "The entry is 0\n",
      "['In', 'Out', '_', '__', '___', '__builtin__', '__builtins__', '__doc__', '__loader__', '__name__', '__package__', '__spec__', '_dh', '_i', '_i1', '_i2', '_ih', '_ii', '_iii', '_oh', 'entry', 'exit', 'get_ipython', 'quit', 'r', 'randomList', 'sys']\n",
      "Oops! <class 'ZeroDivisionError'> occurred.\n",
      "Next entry.\n",
      "\n",
      "The entry is 2\n",
      "['In', 'Out', '_', '__', '___', '__builtin__', '__builtins__', '__doc__', '__loader__', '__name__', '__package__', '__spec__', '_dh', '_i', '_i1', '_i2', '_ih', '_ii', '_iii', '_oh', 'entry', 'exit', 'get_ipython', 'quit', 'r', 'randomList', 'sys']\n",
      "['In', 'Out', '_', '__', '___', '__builtin__', '__builtins__', '__doc__', '__loader__', '__name__', '__package__', '__spec__', '_dh', '_i', '_i1', '_i2', '_ih', '_ii', '_iii', '_oh', 'entry', 'exit', 'get_ipython', 'quit', 'r', 'randomList', 'sys']\n",
      "2\n",
      "0.5\n",
      "The reciprocal of 2 is 0.5\n"
     ]
    }
   ],
   "source": [
    "# import module sys to get the type of exception\n",
    "import sys\n",
    "\n",
    "randomList = ['a', 0, 2]\n",
    "\n",
    "for entry in randomList:\n",
    "    try:\n",
    "        print(\"The entry is\", entry)\n",
    "        print(dir())\n",
    "        r = 1/int(entry)\n",
    "        break\n",
    "    except:\n",
    "        print(\"Oops!\", sys.exc_info()[0], \"occurred.\")\n",
    "        print(\"Next entry.\")\n",
    "        print()\n",
    "        \n",
    "print(dir())\n",
    "print(entry)\n",
    "print(r)\n",
    "print(\"The reciprocal of\", entry, \"is\", r)"
   ]
  },
  {
   "cell_type": "code",
   "execution_count": 6,
   "metadata": {},
   "outputs": [
    {
     "name": "stdout",
     "output_type": "stream",
     "text": [
      "1\n",
      "3\n",
      "2\n",
      "3\n",
      "3\n",
      "3\n",
      "3\n",
      "3\n"
     ]
    }
   ],
   "source": [
    "for i in [1,2,3]:\n",
    "    print(i)\n",
    "    x = 3\n",
    "    print(x)\n",
    "print(i)\n",
    "print(x)"
   ]
  },
  {
   "cell_type": "code",
   "execution_count": 4,
   "metadata": {},
   "outputs": [
    {
     "ename": "SyntaxError",
     "evalue": "(unicode error) 'unicodeescape' codec can't decode bytes in position 2-3: truncated \\UXXXXXXXX escape (<ipython-input-4-fd2062e4c501>, line 1)",
     "output_type": "error",
     "traceback": [
      "\u001b[1;36m  File \u001b[1;32m\"<ipython-input-4-fd2062e4c501>\"\u001b[1;36m, line \u001b[1;32m1\u001b[0m\n\u001b[1;33m    os.chdir('C:\\Users\\draciel\\Dropbox\\General_Assembly\\Github\\Notes')\u001b[0m\n\u001b[1;37m            ^\u001b[0m\n\u001b[1;31mSyntaxError\u001b[0m\u001b[1;31m:\u001b[0m (unicode error) 'unicodeescape' codec can't decode bytes in position 2-3: truncated \\UXXXXXXXX escape\n"
     ]
    }
   ],
   "source": [
    "os.chdir('C:\\Users\\draciel\\Dropbox\\General_Assembly\\Github\\Notes')"
   ]
  },
  {
   "cell_type": "code",
   "execution_count": 130,
   "metadata": {},
   "outputs": [],
   "source": [
    "!cd Dropbox/General_Assembly/Github/Notes/"
   ]
  },
  {
   "cell_type": "code",
   "execution_count": 138,
   "metadata": {},
   "outputs": [
    {
     "name": "stderr",
     "output_type": "stream",
     "text": [
      "The filename, directory name, or volume label syntax is incorrect.\n"
     ]
    }
   ],
   "source": [
    "!cd 'C:\\Users\\draciel\\Dropbox\\General_Assembly\\Github\\Notes'"
   ]
  },
  {
   "cell_type": "code",
   "execution_count": 106,
   "metadata": {},
   "outputs": [
    {
     "data": {
      "text/plain": [
       "['.ipynb_checkpoints',\n",
       " 'alfredzou.github.io',\n",
       " 'Capstone',\n",
       " 'Certificate',\n",
       " 'Coursera',\n",
       " 'fastai',\n",
       " 'GHpractice',\n",
       " 'HackForBetterDays',\n",
       " 'Info',\n",
       " 'Japanese',\n",
       " 'Meetup Notes',\n",
       " 'Notes',\n",
       " 'Outcomes',\n",
       " 'Pre-work',\n",
       " 'Project-1',\n",
       " 'Project-2',\n",
       " 'Project-3',\n",
       " 'Project-4',\n",
       " 'Robust Regression.ipynb',\n",
       " 'SQL',\n",
       " 'Unit-1-Restructured',\n",
       " 'Unit-2-Restructured',\n",
       " 'Unit-3-Restructured',\n",
       " 'Unit-4-Restructured',\n",
       " 'Unit-5-Restructured']"
      ]
     },
     "execution_count": 106,
     "metadata": {},
     "output_type": "execute_result"
    }
   ],
   "source": [
    "os.listdir()"
   ]
  },
  {
   "cell_type": "code",
   "execution_count": 105,
   "metadata": {},
   "outputs": [
    {
     "name": "stdout",
     "output_type": "stream",
     "text": [
      "C:\\Users\\draciel\\Dropbox\\General_Assembly\\Github\n"
     ]
    }
   ],
   "source": [
    "cd .."
   ]
  },
  {
   "cell_type": "code",
   "execution_count": null,
   "metadata": {},
   "outputs": [],
   "source": []
  },
  {
   "cell_type": "markdown",
   "metadata": {
    "Collapsed": "false"
   },
   "source": [
    "### Importing Files vs Running from a Script\n"
   ]
  },
  {
   "cell_type": "code",
   "execution_count": null,
   "metadata": {
    "Collapsed": "false"
   },
   "outputs": [],
   "source": [
    "if __name__ == '__main__':\n",
    "    print('run directly')\n",
    "else:\n",
    "    print('imported')"
   ]
  },
  {
   "cell_type": "markdown",
   "metadata": {
    "Collapsed": "false"
   },
   "source": [
    "### Converting Python Scripts into .exe Files"
   ]
  },
  {
   "cell_type": "code",
   "execution_count": null,
   "metadata": {
    "Collapsed": "false"
   },
   "outputs": [],
   "source": []
  },
  {
   "cell_type": "markdown",
   "metadata": {
    "Collapsed": "false"
   },
   "source": [
    "### Python GUIs"
   ]
  },
  {
   "cell_type": "markdown",
   "metadata": {
    "Collapsed": "false"
   },
   "source": [
    "* Tkinter()\n",
    "* \n",
    "* ElectronJS is coded in html, css and javascript and rendered on a Chromium browser. It uses the capabilities of NodeJS to use javascript outside of a browser. It is popular for creating desktop apps including Slack and Visual Studio Code"
   ]
  },
  {
   "cell_type": "markdown",
   "metadata": {
    "Collapsed": "false"
   },
   "source": [
    "### Hosting ML models"
   ]
  },
  {
   "cell_type": "markdown",
   "metadata": {
    "Collapsed": "false"
   },
   "source": [
    "* Flask\n",
    "* Streamlit"
   ]
  }
 ],
 "metadata": {
  "kernelspec": {
   "display_name": "Python 3",
   "language": "python",
   "name": "python3"
  },
  "language_info": {
   "codemirror_mode": {
    "name": "ipython",
    "version": 3
   },
   "file_extension": ".py",
   "mimetype": "text/x-python",
   "name": "python",
   "nbconvert_exporter": "python",
   "pygments_lexer": "ipython3",
   "version": "3.7.3"
  }
 },
 "nbformat": 4,
 "nbformat_minor": 4
}
