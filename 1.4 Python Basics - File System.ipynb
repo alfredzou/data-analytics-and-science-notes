{
 "cells": [
  {
   "cell_type": "markdown",
   "metadata": {
    "Collapsed": "false"
   },
   "source": [
    "<img src=\"https://www.python.org/static/community_logos/python-powered-w-200x80.png\" style=\"float: left; margin: 20px; height: 55px\">\n",
    "\n",
    "# Python Basics - File System\n",
    "\n",
    "_Author: Alfred Zou_\n",
    "\n",
    "---"
   ]
  },
  {
   "cell_type": "markdown",
   "metadata": {
    "toc-hr-collapsed": true,
    "toc-nb-collapsed": true
   },
   "source": [
    "## Opening Files\n",
    "* Most of the time our data will be in another file\n",
    "* We will need to somehow tell Python to open the file, then extract the data\n",
    "* We've already talked about opening files in the classes notebook regarding context managers, but I want to expand on the functionality of `open()`\n",
    "* There's a lot of flags that can be used:\n",
    "* `r`: read\n",
    "* `b`: binary\n",
    "* `w`: write. Will overwrite any existing text. Will create a file if it doesn't exist already\n",
    "* `a`: append. Add to the end of the file as an extra line. Will create a file if it doesn't exist already\n",
    "* Other arguments:\n",
    "* `encoding`: specify the encoding the file to be read/written in\n",
    "* `` :\n",
    "\n",
    "```python\n",
    "with open(my_file_path,flags) as f:\n",
    "    f.my_method()\n",
    "```"
   ]
  },
  {
   "cell_type": "markdown",
   "metadata": {},
   "source": [
    "##### Writing to a file\n",
    "* `f.write()` for `w` and `a`"
   ]
  },
  {
   "cell_type": "code",
   "execution_count": 68,
   "metadata": {},
   "outputs": [],
   "source": [
    "with open('Scripts/test.txt','w') as f:\n",
    "    f.write('line 1\\n')\n",
    "    f.write('line 2\\n')\n",
    "    f.write('line 3\\n')"
   ]
  },
  {
   "cell_type": "markdown",
   "metadata": {},
   "source": [
    "##### Retrieving values from a file\n",
    "* `f.readlines()` to retrieve all the lines of a file in a list format"
   ]
  },
  {
   "cell_type": "code",
   "execution_count": 69,
   "metadata": {},
   "outputs": [
    {
     "data": {
      "text/plain": [
       "['line 1\\n', 'line 2\\n', 'line 3\\n']"
      ]
     },
     "execution_count": 69,
     "metadata": {},
     "output_type": "execute_result"
    }
   ],
   "source": [
    "with open('Scripts/test.txt','r') as f:\n",
    "    rows = f.readlines()\n",
    "rows"
   ]
  },
  {
   "cell_type": "markdown",
   "metadata": {},
   "source": [
    "##### Separating Column Headings from Data\n",
    "* Sometimes you might want to split off the header in case of a csv"
   ]
  },
  {
   "cell_type": "code",
   "execution_count": 89,
   "metadata": {},
   "outputs": [
    {
     "name": "stdout",
     "output_type": "stream",
     "text": [
      "header: \"first_name\",\"last_name\",\"company_name\",\"address\",\"city\",\"state\",\"post\",\"phone1\",\"phone2\",\"email\",\"web\"\n",
      "\n",
      "data: ['\"Rebbecca\",\"Didio\",\"Brandt, Jonathan F Esq\",\"171 E 24th St\",\"Leith\",\"TAS\",7315,\"03-8174-9123\",\"0458-665-290\",\"rebbecca.didio@didio.com.au\",\"http://www.brandtjonathanfesq.com.au\"\\n', '\"Stevie\",\"Hallo\",\"Landrum Temporary Services\",\"22222 Acoma St\",\"Proston\",\"QLD\",4613,\"07-9997-3366\",\"0497-622-620\",\"stevie.hallo@hotmail.com\",\"http://www.landrumtemporaryservices.com.au\"\\n', '\"Mariko\",\"Stayer\",\"Inabinet, Macre Esq\",\"534 Schoenborn St #51\",\"Hamel\",\"WA\",6215,\"08-5558-9019\",\"0427-885-282\",\"mariko_stayer@hotmail.com\",\"http://www.inabinetmacreesq.com.au\"\\n', '\"Gerardo\",\"Woodka\",\"Morris Downing & Sherred\",\"69206 Jackson Ave\",\"Talmalmo\",\"NSW\",2640,\"02-6044-4682\",\"0443-795-912\",\"gerardo_woodka@hotmail.com\",\"http://www.morrisdowningsherred.com.au\"\\n', '\"Mayra\",\"Bena\",\"Buelt, David L Esq\",\"808 Glen Cove Ave\",\"Lane Cove\",\"NSW\",1595,\"02-1455-6085\",\"0453-666-885\",\"mayra.bena@gmail.com\",\"http://www.bueltdavidlesq.com.au\"\\n']\n"
     ]
    }
   ],
   "source": [
    "with open('Data/au-500.csv','r') as f:\n",
    "    header = next(f)\n",
    "    data = f.readlines()[:5]\n",
    "print(f'header: {header}')\n",
    "print(f'data: {data}')"
   ]
  },
  {
   "cell_type": "markdown",
   "metadata": {},
   "source": [
    "##### Reading a file\n",
    "* `next(f)` to get the next line, open returns rows like a generator\n",
    "* For reading a file, you can loop over the generated rows. This is my preferred approach"
   ]
  },
  {
   "cell_type": "code",
   "execution_count": 73,
   "metadata": {},
   "outputs": [
    {
     "name": "stdout",
     "output_type": "stream",
     "text": [
      "line 1\n",
      "line 2\n",
      "line 3\n"
     ]
    }
   ],
   "source": [
    "with open('Scripts/test.txt','r') as f:\n",
    "    print(next(f),end='')\n",
    "    print(next(f),end='')\n",
    "    print(next(f),end='')"
   ]
  },
  {
   "cell_type": "code",
   "execution_count": 85,
   "metadata": {},
   "outputs": [
    {
     "name": "stdout",
     "output_type": "stream",
     "text": [
      "line 1\n",
      "line 2\n",
      "line 3\n"
     ]
    }
   ],
   "source": [
    "with open('Scripts/test.txt','r') as f:\n",
    "    for row in f:\n",
    "        print(row,end='')"
   ]
  },
  {
   "cell_type": "markdown",
   "metadata": {},
   "source": [
    "##### Appending to a file"
   ]
  },
  {
   "cell_type": "code",
   "execution_count": 86,
   "metadata": {},
   "outputs": [],
   "source": [
    "with open('Scripts/test.txt','a') as f:\n",
    "    f.write('line 4\\n')"
   ]
  },
  {
   "cell_type": "code",
   "execution_count": 87,
   "metadata": {},
   "outputs": [
    {
     "data": {
      "text/plain": [
       "'line 1\\nline 2\\nline 3\\nline 4\\n'"
      ]
     },
     "execution_count": 87,
     "metadata": {},
     "output_type": "execute_result"
    }
   ],
   "source": [
    "# To confirm appending of data\n",
    "with open('Scripts/test.txt','r') as f:\n",
    "    rows = f.read()\n",
    "rows"
   ]
  },
  {
   "cell_type": "markdown",
   "metadata": {
    "toc-hr-collapsed": true,
    "toc-nb-collapsed": true
   },
   "source": [
    "## Navigating the File System using Python\n",
    "* Sometimes it might be useful to interface with our computer's file system\n",
    "* This is probably easier to do using bash (refer to note book on the command line interface), as Python's method through the `os` module is more verbose\n",
    "* However, Bash is quite limited in its ability as a programming language\n",
    "* If you need to use Python and interface with your computer's file system, its probably easier to just only use Python\n",
    "* Rather than attempt to integrate both Python and Bash somehow"
   ]
  },
  {
   "cell_type": "code",
   "execution_count": 1,
   "metadata": {},
   "outputs": [],
   "source": [
    "import os"
   ]
  },
  {
   "cell_type": "markdown",
   "metadata": {},
   "source": [
    "##### get current working directory (cwd)"
   ]
  },
  {
   "cell_type": "code",
   "execution_count": 2,
   "metadata": {},
   "outputs": [
    {
     "data": {
      "text/plain": [
       "'C:\\\\Users\\\\draciel\\\\Dropbox\\\\General_Assembly\\\\Github\\\\Notes'"
      ]
     },
     "execution_count": 2,
     "metadata": {},
     "output_type": "execute_result"
    }
   ],
   "source": [
    "os.getcwd()"
   ]
  },
  {
   "cell_type": "markdown",
   "metadata": {},
   "source": [
    "##### list cwd"
   ]
  },
  {
   "cell_type": "code",
   "execution_count": 3,
   "metadata": {},
   "outputs": [
    {
     "name": "stdout",
     "output_type": "stream",
     "text": [
      "['.git', '.gitignore', '.ipynb_checkpoints', '0.1 Intro to Data & Command Line.ipynb', '0.2 Git & GitHub.ipynb', '0.3 Nano & Vim.ipynb', '0.5 Python & Jupyter.ipynb', '1.0 Python Basics - Data Types.ipynb', '1.1 Python Basics - Control Flow.ipynb', '1.2 Python Basics - Functions.ipynb', '1.3 Python Basics - Classes.ipynb', '1.4 Python Basics - File System.ipynb', '1.5 Python Basics - Scripting.ipynb', '1.9 Python Basics - Misc.ipynb', '5.0 Data Visualisation.ipynb', '6.0 NumPy.ipynb', '7.0 Pandas.ipynb', '8.0 Regular Expressions.ipynb', '9.0 Relational Databases and SQL.ipynb', 'chromedriver', 'code-vault', 'Data', 'demo.txt', 'github test.ipynb', 'IgnoredDirectory', 'README.md', 'Scripts', 'Web Scraping & APIs.ipynb', '__pycache__']\n"
     ]
    }
   ],
   "source": [
    "print(os.listdir())"
   ]
  },
  {
   "cell_type": "markdown",
   "metadata": {},
   "source": [
    "##### changing directory (relative path)"
   ]
  },
  {
   "cell_type": "code",
   "execution_count": 4,
   "metadata": {},
   "outputs": [
    {
     "name": "stdout",
     "output_type": "stream",
     "text": [
      "C:\\Users\\draciel\\Dropbox\\General_Assembly\\Github\\Notes\\Scripts\n",
      "['math_operations.py', 'Test Folder', 'test.py', 'test.txt', '__pycache__']\n"
     ]
    }
   ],
   "source": [
    "os.chdir('Scripts')\n",
    "print(os.getcwd())\n",
    "print(os.listdir())"
   ]
  },
  {
   "cell_type": "markdown",
   "metadata": {},
   "source": [
    "##### Creating folders"
   ]
  },
  {
   "cell_type": "code",
   "execution_count": 7,
   "metadata": {},
   "outputs": [
    {
     "data": {
      "text/plain": [
       "['math_operations.py', 'Test Folder', 'test.py', 'test.txt', '__pycache__']"
      ]
     },
     "execution_count": 7,
     "metadata": {},
     "output_type": "execute_result"
    }
   ],
   "source": [
    "os.mkdir('Test Folder')\n",
    "os.listdir()"
   ]
  },
  {
   "cell_type": "markdown",
   "metadata": {},
   "source": [
    "##### changing directory (absolute path)"
   ]
  },
  {
   "cell_type": "code",
   "execution_count": 8,
   "metadata": {},
   "outputs": [
    {
     "name": "stdout",
     "output_type": "stream",
     "text": [
      "C:\\Users\\draciel\\Dropbox\\General_Assembly\\Github\\Notes\\Scripts\\Test Folder\n"
     ]
    }
   ],
   "source": [
    "existing_path = os.getcwd()\n",
    "new_path = existing_path + '\\\\Test Folder'\n",
    "print(new_path)"
   ]
  },
  {
   "cell_type": "code",
   "execution_count": 9,
   "metadata": {},
   "outputs": [
    {
     "data": {
      "text/plain": [
       "'C:\\\\Users\\\\draciel\\\\Dropbox\\\\General_Assembly\\\\Github\\\\Notes\\\\Scripts\\\\Test Folder'"
      ]
     },
     "execution_count": 9,
     "metadata": {},
     "output_type": "execute_result"
    }
   ],
   "source": [
    "os.chdir(new_path)\n",
    "os.getcwd()"
   ]
  },
  {
   "cell_type": "markdown",
   "metadata": {},
   "source": [
    "##### Creating Files"
   ]
  },
  {
   "cell_type": "code",
   "execution_count": 15,
   "metadata": {},
   "outputs": [
    {
     "name": "stdout",
     "output_type": "stream",
     "text": [
      "['test_file.csv']\n"
     ]
    }
   ],
   "source": [
    "with open('test_file.csv','w') as f:\n",
    "    pass\n",
    "print(os.listdir())"
   ]
  },
  {
   "cell_type": "markdown",
   "metadata": {},
   "source": [
    "##### Removing Files"
   ]
  },
  {
   "cell_type": "code",
   "execution_count": 16,
   "metadata": {},
   "outputs": [
    {
     "name": "stdout",
     "output_type": "stream",
     "text": [
      "[]\n"
     ]
    }
   ],
   "source": [
    "os.remove('test_file.csv')\n",
    "print(os.listdir())"
   ]
  },
  {
   "cell_type": "markdown",
   "metadata": {},
   "source": [
    "##### Removing folders"
   ]
  },
  {
   "cell_type": "code",
   "execution_count": 18,
   "metadata": {},
   "outputs": [
    {
     "data": {
      "text/plain": [
       "['math_operations.py', 'test.py', 'test.txt', '__pycache__']"
      ]
     },
     "execution_count": 18,
     "metadata": {},
     "output_type": "execute_result"
    }
   ],
   "source": [
    "os.chdir('..')\n",
    "os.rmdir('Test Folder')\n",
    "os.listdir()"
   ]
  }
 ],
 "metadata": {
  "kernelspec": {
   "display_name": "Python 3",
   "language": "python",
   "name": "python3"
  },
  "language_info": {
   "codemirror_mode": {
    "name": "ipython",
    "version": 3
   },
   "file_extension": ".py",
   "mimetype": "text/x-python",
   "name": "python",
   "nbconvert_exporter": "python",
   "pygments_lexer": "ipython3",
   "version": "3.7.3"
  },
  "toc-autonumbering": true
 },
 "nbformat": 4,
 "nbformat_minor": 4
}
