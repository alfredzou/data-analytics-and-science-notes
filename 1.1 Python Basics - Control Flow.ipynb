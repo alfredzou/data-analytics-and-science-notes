{
 "cells": [
  {
   "cell_type": "markdown",
   "metadata": {
    "Collapsed": "false"
   },
   "source": [
    "<img src=\"https://www.python.org/static/community_logos/python-powered-w-200x80.png\" style=\"float: left; margin: 20px; height: 55px\">\n",
    "\n",
    "# Python Basics - Control Flow\n",
    "\n",
    "_Author: Alfred Zou_\n",
    "\n",
    "---"
   ]
  },
  {
   "cell_type": "markdown",
   "metadata": {
    "Collapsed": "false"
   },
   "source": [
    "## Control Flow Introduction\n",
    "---\n",
    "* A program's control flow is the order of operation in which the program operates\n",
    "* Without applying any logic, the program would run sequentially\n",
    "* We can apply logic through the use of control flow statements. These include:\n",
    "    * Logic through if-elif-else statements\n",
    "    * Looping a definite amount of times with for loops\n",
    "    * Looping an unknown amount of times with while loops\n",
    "    * Applying more control to loops with pass, continue and break\n",
    "    * Attempting to do something with try and except statements\n",
    "    * Calling a function - this will be discussed in 3.0 Python Basics - Functions\n",
    "    \n",
    "<img src='https://upload.wikimedia.org/wikipedia/commons/thumb/0/06/For-loop-diagram.png/220px-For-loop-diagram.png' style={height:200px;margin-left:auto;margin-right:auto>"
   ]
  },
  {
   "cell_type": "markdown",
   "metadata": {
    "Collapsed": "false"
   },
   "source": [
    "## Python Operators\n",
    "---\n",
    "\n",
    "* We have already covered arithmetic operators. Unlike arithmetic operators, these important operators return either a boolean True or False. This allows us to perform logical operations later on:\n",
    "    * Comparison operators - compares two values\n",
    "    * Membership operators - tests if a variable is a member of a collection \n",
    "    * Identity operators - tests if two variables are the same\n",
    "    * Boolean operators - applies logic to two other non-arithmetic operators\n",
    "* [Operators run on an operator precedence](https://docs.python.org/3/reference/expressions.html#operator-precedence)"
   ]
  },
  {
   "cell_type": "markdown",
   "metadata": {
    "Collapsed": "false"
   },
   "source": [
    "#### Comparison Operators\n",
    "\n",
    "* `>` `<` `=>` `=<` `!=` `==`\n",
    "\n",
    "```python\n",
    "3<4\n",
    "output:True\n",
    "```"
   ]
  },
  {
   "cell_type": "markdown",
   "metadata": {
    "Collapsed": "false"
   },
   "source": [
    "#### Membership Operators\n",
    "\n",
    "* `in` `not in`\n",
    "\n",
    "```python\n",
    "list = [1,2,3,4]\n",
    "2 in list\n",
    "output:True\n",
    "```"
   ]
  },
  {
   "cell_type": "markdown",
   "metadata": {
    "Collapsed": "false"
   },
   "source": [
    "#### Identity Operators\n",
    "\n",
    "* `is` `is not`"
   ]
  },
  {
   "cell_type": "code",
   "execution_count": 9,
   "metadata": {
    "Collapsed": "false"
   },
   "outputs": [
    {
     "data": {
      "text/plain": [
       "True"
      ]
     },
     "execution_count": 9,
     "metadata": {},
     "output_type": "execute_result"
    }
   ],
   "source": [
    "list1 = [1,2,3]\n",
    "list2 = list1\n",
    "list1.append(4)\n",
    "list1 is list2"
   ]
  },
  {
   "cell_type": "markdown",
   "metadata": {
    "Collapsed": "false"
   },
   "source": [
    "#### Boolean Operators\n",
    "\n",
    "* `and` `or` `not`"
   ]
  },
  {
   "cell_type": "code",
   "execution_count": 10,
   "metadata": {
    "Collapsed": "false"
   },
   "outputs": [
    {
     "name": "stdout",
     "output_type": "stream",
     "text": [
      "False\n",
      "True\n",
      "True\n",
      "True\n"
     ]
    }
   ],
   "source": [
    "print(3<4 and 8<7)\n",
    "print(3<4 or 8<7)\n",
    "print(not 8<7)\n",
    "print(3<4 and not 8<7)"
   ]
  },
  {
   "cell_type": "markdown",
   "metadata": {
    "Collapsed": "false"
   },
   "source": [
    "## If-elif-else Statements\n",
    "* An if-elif-else statement will execute the first True condition and then stops running\n",
    "* If the if-statement is False, it will check the next elif statement. Then so on and so on until all elifs have been checked\n",
    "* The else statement catches all other alternatives\n",
    "\n",
    "```python\n",
    "number = 3\n",
    "if number > 2:\n",
    "    print('number larger than 2')\n",
    "output: 'number larger than 2'\n",
    "```\n",
    "\n",
    "* We can also apply boolean logic for multiple conditions\n",
    "\n",
    "```python\n",
    "number = 3\n",
    "if number > 2 and number < 5:\n",
    "    print('number between 2 and 5')\n",
    "output: 'number between 2 and 5'\n",
    "```"
   ]
  },
  {
   "cell_type": "markdown",
   "metadata": {
    "Collapsed": "false"
   },
   "source": [
    "##### Fizzbuzz is a good example of the if statement stopping when the first condition is true\n",
    "\n",
    "* Print fizz when the number is divisible by 3\n",
    "* Print buzz when the number is divisible by 5\n",
    "* Print fizzbuzz when the number is divisible by 15\n",
    "\n",
    "##### Given the number 15, we would expect the results to be fizzbuzz"
   ]
  },
  {
   "cell_type": "code",
   "execution_count": 31,
   "metadata": {
    "Collapsed": "false"
   },
   "outputs": [
    {
     "name": "stdout",
     "output_type": "stream",
     "text": [
      "fizz "
     ]
    }
   ],
   "source": [
    "# This example is wrong, order of operations matter\n",
    "number = 15\n",
    "\n",
    "if number % 3 == 0:\n",
    "    print(\"fizz\", end=\" \")\n",
    "elif number % 5 == 0:\n",
    "    print(\"buzz\", end=\" \")\n",
    "elif number % 3 == 0 and number % 5 == 0:\n",
    "    print(\"fizzbuzz\", end=\" \")         \n",
    "else:\n",
    "    print(number, end=\" \")"
   ]
  },
  {
   "cell_type": "code",
   "execution_count": 32,
   "metadata": {
    "Collapsed": "false"
   },
   "outputs": [
    {
     "name": "stdout",
     "output_type": "stream",
     "text": [
      "fizzbuzz "
     ]
    }
   ],
   "source": [
    "# This example is correct\n",
    "number = 15\n",
    "\n",
    "if number % 3 == 0 and number % 5 == 0:\n",
    "    print(\"fizzbuzz\", end=\" \")\n",
    "elif number % 3 == 0:\n",
    "    print(\"fizz\", end=\" \")\n",
    "elif number % 5 == 0:\n",
    "    print(\"buzz\", end=\" \")\n",
    "else:\n",
    "    print(number, end=\" \")"
   ]
  },
  {
   "cell_type": "markdown",
   "metadata": {
    "Collapsed": "false"
   },
   "source": [
    "## For Loops\n",
    "---\n",
    "* Often we have a collection we want to iterate over for each element inside. Instead of writing code for each element, we use loops instead. We use for loops when we want to loop a fixed number of times, i.e. over a collection\n",
    "* We can also loop over other iterables such as `enumerate()`, `range()`, `zip()`, etc. These will be explained later\n",
    "* The general format is noted below:\n",
    "\n",
    "```python\n",
    "for items in iterable:\n",
    "    print(items)\n",
    "```\n",
    "\n",
    "* If we need to run a fixed number of times, use range():\n",
    "\n",
    "```python\n",
    "for items in range(number_of_times):\n",
    "    print(items)\n",
    "```\n",
    "\n",
    "* If we need to run a fixed number of times based on the legnth of a collection, use range(len()):\n",
    "\n",
    "```python\n",
    "for items in range(len(iterable)):\n",
    "    print(items)\n",
    "```\n",
    "\n",
    "* For loops over dictionary k:v pairs, first unpack it into a list of tuples with .items():"
   ]
  },
  {
   "cell_type": "code",
   "execution_count": 8,
   "metadata": {
    "Collapsed": "false"
   },
   "outputs": [
    {
     "name": "stdout",
     "output_type": "stream",
     "text": [
      "[(8, 3), (9, 5), (10, 8)]\n",
      "24 45 80 "
     ]
    }
   ],
   "source": [
    "my_dict = {8:3,9:5,10:8}\n",
    "print(list(my_dict.items()))\n",
    "\n",
    "for k,v in my_dict.items():\n",
    "    print(k*v, end = \" \")"
   ]
  },
  {
   "cell_type": "markdown",
   "metadata": {
    "Collapsed": "false"
   },
   "source": [
    "#### How do For loops work? Iterables and Iterators\n",
    "* They take an iterable object and then turn them into an interator by applying the function `iter()` on them\n",
    "* The purpose of an iterator is to step through each element using next(iterator) on them, until the iterator is exhausted\n",
    "* Iterators are temporary and are discarded as they are iterated through"
   ]
  },
  {
   "cell_type": "code",
   "execution_count": 42,
   "metadata": {
    "Collapsed": "false"
   },
   "outputs": [
    {
     "name": "stdout",
     "output_type": "stream",
     "text": [
      "1\n",
      "2\n",
      "3\n",
      "4\n",
      "5\n"
     ]
    }
   ],
   "source": [
    "# Take this simple For loop, lets try recreate what is happening in the back end\n",
    "for i in [1,2,3,4,5]:\n",
    "    print(i)"
   ]
  },
  {
   "cell_type": "code",
   "execution_count": 1,
   "metadata": {
    "Collapsed": "false"
   },
   "outputs": [
    {
     "name": "stdout",
     "output_type": "stream",
     "text": [
      "1\n",
      "2\n",
      "3\n",
      "4\n",
      "5\n"
     ]
    },
    {
     "ename": "StopIteration",
     "evalue": "",
     "output_type": "error",
     "traceback": [
      "\u001b[1;31m---------------------------------------------------------------------------\u001b[0m",
      "\u001b[1;31mStopIteration\u001b[0m                             Traceback (most recent call last)",
      "\u001b[1;32m<ipython-input-1-2856e9a03a8d>\u001b[0m in \u001b[0;36m<module>\u001b[1;34m\u001b[0m\n\u001b[0;32m      9\u001b[0m \u001b[0mprint\u001b[0m\u001b[1;33m(\u001b[0m\u001b[0mnext\u001b[0m\u001b[1;33m(\u001b[0m\u001b[0miterator\u001b[0m\u001b[1;33m)\u001b[0m\u001b[1;33m)\u001b[0m\u001b[1;33m\u001b[0m\u001b[1;33m\u001b[0m\u001b[0m\n\u001b[0;32m     10\u001b[0m \u001b[0mprint\u001b[0m\u001b[1;33m(\u001b[0m\u001b[0mnext\u001b[0m\u001b[1;33m(\u001b[0m\u001b[0miterator\u001b[0m\u001b[1;33m)\u001b[0m\u001b[1;33m)\u001b[0m\u001b[1;33m\u001b[0m\u001b[1;33m\u001b[0m\u001b[0m\n\u001b[1;32m---> 11\u001b[1;33m \u001b[0mprint\u001b[0m\u001b[1;33m(\u001b[0m\u001b[0mnext\u001b[0m\u001b[1;33m(\u001b[0m\u001b[0miterator\u001b[0m\u001b[1;33m)\u001b[0m\u001b[1;33m)\u001b[0m\u001b[1;33m\u001b[0m\u001b[1;33m\u001b[0m\u001b[0m\n\u001b[0m",
      "\u001b[1;31mStopIteration\u001b[0m: "
     ]
    }
   ],
   "source": [
    "# First its turning the iterable into an iterator\n",
    "# This let's us use next(iterator)\n",
    "iterator = iter([1,2,3,4,5])\n",
    "\n",
    "# Then it's running print(next(iterator)) until the iterator is exhausted\n",
    "# If the iterator is exhausted, it will pass the StopIteration error, which is excepted in a normal for loop, see error handling section\n",
    "print(next(iterator))\n",
    "print(next(iterator))\n",
    "print(next(iterator))\n",
    "print(next(iterator))\n",
    "print(next(iterator))\n",
    "print(next(iterator))"
   ]
  },
  {
   "cell_type": "markdown",
   "metadata": {
    "Collapsed": "false"
   },
   "source": [
    "#### Creating Iterables\n",
    "---\n",
    "* Let's look at the special built-in functions to create iterables `zip()`, `enumerate()`\n",
    "* To display iterators, they must be iterated through. They must be wrapped in `list()` or `tuple()`"
   ]
  },
  {
   "cell_type": "code",
   "execution_count": 39,
   "metadata": {
    "Collapsed": "false"
   },
   "outputs": [
    {
     "data": {
      "text/plain": [
       "[(1, 4, 7), (2, 5, 8), (3, 6, 9)]"
      ]
     },
     "execution_count": 39,
     "metadata": {},
     "output_type": "execute_result"
    }
   ],
   "source": [
    "# zip takes in iterables and makes a list of tuples. For every ith tuple from the zip it corresponds to the tuple of ith elements in the original iterables\n",
    "list_1 =[1,2,3]\n",
    "list_2 =[4,5,6]\n",
    "list_3 =[7,8,9]\n",
    "list(zip(list_1,list_2,list_3))"
   ]
  },
  {
   "cell_type": "code",
   "execution_count": 10,
   "metadata": {
    "Collapsed": "false"
   },
   "outputs": [
    {
     "data": {
      "text/plain": [
       "['1', '2', '3']"
      ]
     },
     "execution_count": 10,
     "metadata": {},
     "output_type": "execute_result"
    }
   ],
   "source": [
    "# map applies the function to every element. In this case it is turning every integer element into a string\n",
    "list_1 =[1,2,3]\n",
    "list(map(str,list_1))"
   ]
  },
  {
   "cell_type": "code",
   "execution_count": 54,
   "metadata": {
    "Collapsed": "false"
   },
   "outputs": [
    {
     "data": {
      "text/plain": [
       "[[1, 4, 7], [2, 5, 8], [3, 6, 9]]"
      ]
     },
     "execution_count": 54,
     "metadata": {},
     "output_type": "execute_result"
    }
   ],
   "source": [
    "# if we want to make the zip a list of lists, we use map(list,zip). Map applies the function list to each element in the zip, turning them into lists.\n",
    "list_1 =[1,2,3]\n",
    "list_2 =[4,5,6]\n",
    "list_3 =[7,8,9]\n",
    "list(map(list,zip(list_1,list_2,list_3)))"
   ]
  },
  {
   "cell_type": "code",
   "execution_count": 34,
   "metadata": {
    "Collapsed": "false"
   },
   "outputs": [
    {
     "data": {
      "text/plain": [
       "[(0, 'tim'), (1, 'toby'), (2, 'alex')]"
      ]
     },
     "execution_count": 34,
     "metadata": {},
     "output_type": "execute_result"
    }
   ],
   "source": [
    "# if we want to get the index of a list, we use enumerate().\n",
    "list_4 = ['tim','toby','alex']\n",
    "list(enumerate(list_4))"
   ]
  },
  {
   "cell_type": "markdown",
   "metadata": {
    "Collapsed": "false"
   },
   "source": [
    "## List Comprehension\n",
    "* List comprehension is an alternate way of creating lists rather than using For Loops to append to a list\n",
    "* It condenses the For loop into one sentence\n",
    "* It is difficult to comprehend at first but once the user understands the syntax (especially the positioning of the conditional statements and the lack of elif), it can be much easier and quicker to create and read than For loops\n",
    "* We can also apply functions and methods to each element in a list, similar to a For Loop\n",
    "\n",
    "```python\n",
    "# The syntax for creating a list in a for loop\n",
    "my_list = []\n",
    "for items in iterable:\n",
    "    my_list.append(items)\n",
    "```\n",
    "\n",
    "```python\n",
    "# The list comprehension equivalent\n",
    "[items for items in iterable]\n",
    "```"
   ]
  },
  {
   "cell_type": "code",
   "execution_count": 9,
   "metadata": {
    "Collapsed": "false"
   },
   "outputs": [
    {
     "name": "stdout",
     "output_type": "stream",
     "text": [
      "[0.0, 10.0, 25.555555555555557]\n"
     ]
    }
   ],
   "source": [
    "# Convert a list of fahrenheit temperatures to degrees\n",
    "fahrenheit = [32,50,78]\n",
    "degrees = []\n",
    "\n",
    "for temp in fahrenheit:\n",
    "    degrees.append((temp-32)*5/9)\n",
    "print(degrees)"
   ]
  },
  {
   "cell_type": "code",
   "execution_count": 14,
   "metadata": {
    "Collapsed": "false"
   },
   "outputs": [
    {
     "data": {
      "text/plain": [
       "[0.0, 10.0, 25.555555555555557]"
      ]
     },
     "execution_count": 14,
     "metadata": {},
     "output_type": "execute_result"
    }
   ],
   "source": [
    "# List comprehension\n",
    "fahrenheit = [32,50,78]\n",
    "\n",
    "[(temp-32)*5/9 for temp in fahrenheit]"
   ]
  },
  {
   "cell_type": "code",
   "execution_count": 28,
   "metadata": {
    "Collapsed": "false"
   },
   "outputs": [
    {
     "data": {
      "text/plain": [
       "[2.4, 53.4, 234.5]"
      ]
     },
     "execution_count": 28,
     "metadata": {},
     "output_type": "execute_result"
    }
   ],
   "source": [
    "# Convert strings to floats\n",
    "# Applying a function to each element\n",
    "string_floats = ['2.4','53.4','234.5']\n",
    "\n",
    "[float(string) for string in string_floats]"
   ]
  },
  {
   "cell_type": "markdown",
   "metadata": {
    "Collapsed": "false"
   },
   "source": [
    "#### For loop and list comprehensions for input conditionals\n",
    "* We use this format when the if conditional statement is applied to the input, i.e. the number is even\n",
    "* We can use logic for multiple if conditional statements, i.e. the number is even and divisible by 4\n",
    "\n",
    "```python\n",
    "# The syntax for creating a list in a for loop\n",
    "my_list = []\n",
    "for items in interator:\n",
    "    if condition:\n",
    "        my_list.append(items)\n",
    "```\n",
    "\n",
    "```python\n",
    "# The list comprehension equivalent\n",
    "[items for items in iterator if condition]\n",
    "```\n",
    "\n",
    "* For multiple conditional statements\n",
    "\n",
    "```python\n",
    "# The syntax for creating a list in a for loop\n",
    "my_list = []\n",
    "for items in interator:\n",
    "    if condition1:\n",
    "        if condition2:\n",
    "            my_list.append(items)\n",
    "```\n",
    "\n",
    "```python\n",
    "# The list comprehension equivalent\n",
    "[items for items in iterator if condition1 if condition2]\n",
    "```"
   ]
  },
  {
   "cell_type": "code",
   "execution_count": 11,
   "metadata": {
    "Collapsed": "false"
   },
   "outputs": [
    {
     "name": "stdout",
     "output_type": "stream",
     "text": [
      "[0, 1, 2, 3, 4, 5, 6, 7, 8, 9]\n",
      "[0, 2, 4, 6, 8]\n"
     ]
    }
   ],
   "source": [
    "# Print even numbers\n",
    "numbers = [i for i in range(10)]\n",
    "print(numbers)\n",
    "\n",
    "even_numbers = []\n",
    "for i in numbers:\n",
    "    if i %2 ==0:\n",
    "        even_numbers.append(i)\n",
    "print(even_numbers)"
   ]
  },
  {
   "cell_type": "code",
   "execution_count": 12,
   "metadata": {
    "Collapsed": "false"
   },
   "outputs": [
    {
     "name": "stdout",
     "output_type": "stream",
     "text": [
      "[0, 1, 2, 3, 4, 5, 6, 7, 8, 9]\n"
     ]
    },
    {
     "data": {
      "text/plain": [
       "[0, 2, 4, 6, 8]"
      ]
     },
     "execution_count": 12,
     "metadata": {},
     "output_type": "execute_result"
    }
   ],
   "source": [
    "# List comprehension\n",
    "numbers = [i for i in range(10)]\n",
    "print(numbers)\n",
    "\n",
    "[i for i in numbers if i%2==0]"
   ]
  },
  {
   "cell_type": "code",
   "execution_count": 13,
   "metadata": {
    "Collapsed": "false"
   },
   "outputs": [
    {
     "name": "stdout",
     "output_type": "stream",
     "text": [
      "[0, 1, 2, 3, 4, 5, 6, 7, 8, 9]\n"
     ]
    },
    {
     "data": {
      "text/plain": [
       "[0, 4, 8]"
      ]
     },
     "execution_count": 13,
     "metadata": {},
     "output_type": "execute_result"
    }
   ],
   "source": [
    "# Multiple if statement conditionals\n",
    "numbers = [i for i in range(10)]\n",
    "print(numbers)\n",
    "\n",
    "[i for i in numbers if i%2==0 if i%4==0]"
   ]
  },
  {
   "cell_type": "code",
   "execution_count": 15,
   "metadata": {
    "Collapsed": "false"
   },
   "outputs": [
    {
     "name": "stdout",
     "output_type": "stream",
     "text": [
      "[0, 1, 2, 3, 4, 5, 6, 7, 8, 9]\n"
     ]
    },
    {
     "data": {
      "text/plain": [
       "[2, 6]"
      ]
     },
     "execution_count": 15,
     "metadata": {},
     "output_type": "execute_result"
    }
   ],
   "source": [
    "# Multiple if statement conditionals\n",
    "numbers = [i for i in range(10)]\n",
    "print(numbers)\n",
    "\n",
    "[i for i in numbers if i%2==0 if not i%4==0]"
   ]
  },
  {
   "cell_type": "markdown",
   "metadata": {
    "Collapsed": "false"
   },
   "source": [
    "#### For loop and list comprehensions for output conditionals: if-elif-else\n",
    "* We use this format when the conditional is applied to the output via if-elif-else\n",
    "\n",
    "```python\n",
    "# The syntax for creating a list in a for loop\n",
    "my_list = []\n",
    "for items in interator:\n",
    "    if condition1:\n",
    "        my_list.append(1)\n",
    "    elif condition2:\n",
    "        my_list.append(2)\n",
    "    else:\n",
    "        my_list.append(3)\n",
    "```\n",
    "\n",
    "```python\n",
    "# Alternatively we can write it this way to conceptualise a if-else-if-else list comprehension\n",
    "# We do this because list comprehensions doesn't allow for elifs\n",
    "my_list = []\n",
    "for items in interator:\n",
    "    if condition1:\n",
    "        my_list.append(1)\n",
    "    else:\n",
    "        if condition2:\n",
    "            my_list.append(2)\n",
    "        else:\n",
    "            my_list.append(3)\n",
    "```\n",
    "\n",
    "```python\n",
    "# The list comprehension equivalent\n",
    "[1 if condition1 else 2 if condition2 else 3 for items in iterator]\n",
    "```"
   ]
  },
  {
   "cell_type": "code",
   "execution_count": 10,
   "metadata": {
    "Collapsed": "false"
   },
   "outputs": [
    {
     "name": "stdout",
     "output_type": "stream",
     "text": [
      "[0, 1, 2, 3, 4, 5, 6, 7, 8, 9, 'string']\n",
      "['even', 'odd', 'even', 'odd', 'even', 'odd', 'even', 'odd', 'even', 'odd', 'not a number'] "
     ]
    }
   ],
   "source": [
    "# For loop with if-elif-else conditional\n",
    "\n",
    "numbers = [i for i in range(10)]\n",
    "numbers.append('string')\n",
    "print(numbers)\n",
    "\n",
    "new_list = []\n",
    "for i in numbers:\n",
    "    if type(i) != (int or float):\n",
    "        new_list.append('not a number')\n",
    "    elif i%2==0:\n",
    "        new_list.append('even')\n",
    "    else:\n",
    "        new_list.append('odd')\n",
    "print(new_list, end = \" \")"
   ]
  },
  {
   "cell_type": "code",
   "execution_count": 11,
   "metadata": {
    "Collapsed": "false"
   },
   "outputs": [
    {
     "name": "stdout",
     "output_type": "stream",
     "text": [
      "[0, 1, 2, 3, 4, 5, 6, 7, 8, 9, 'string']\n",
      "['even', 'odd', 'even', 'odd', 'even', 'odd', 'even', 'odd', 'even', 'odd', 'not a number'] "
     ]
    }
   ],
   "source": [
    "# Note the lack of elif\n",
    "\n",
    "numbers = [i for i in range(10)]\n",
    "numbers.append('string')\n",
    "print(numbers)\n",
    "\n",
    "new_list = []\n",
    "for i in numbers:\n",
    "    if type(i) != (int or float):\n",
    "        new_list.append('not a number')\n",
    "    else:\n",
    "        if i%2==0:\n",
    "            new_list.append('even')\n",
    "        else:\n",
    "            new_list.append('odd')\n",
    "print(new_list, end = \" \")"
   ]
  },
  {
   "cell_type": "code",
   "execution_count": 8,
   "metadata": {
    "Collapsed": "false"
   },
   "outputs": [
    {
     "name": "stdout",
     "output_type": "stream",
     "text": [
      "[0, 1, 2, 3, 4, 5, 6, 7, 8, 9, 'string']\n",
      "['even', 'odd', 'even', 'odd', 'even', 'odd', 'even', 'odd', 'even', 'odd', 'not a number'] "
     ]
    }
   ],
   "source": [
    "# List comprehension\n",
    "\n",
    "numbers = [i for i in range(10)]\n",
    "numbers.append('string')\n",
    "print(numbers)\n",
    "\n",
    "print(['not a number' if type(i)!=(int or float) else 'even' if i%2==0 else 'odd' for i in numbers],end = \" \")"
   ]
  },
  {
   "cell_type": "markdown",
   "metadata": {
    "Collapsed": "false"
   },
   "source": [
    "## While Loops\n",
    "\n",
    "* While loops is the alternative to For loops, when we want to iterate an unknown number of times\n",
    "* The standard layout is:\n",
    "\n",
    "```python\n",
    "i = 0\n",
    "while condition:\n",
    "    print(items)\n",
    "    i += 1\n",
    "```"
   ]
  },
  {
   "cell_type": "code",
   "execution_count": 3,
   "metadata": {
    "Collapsed": "false"
   },
   "outputs": [
    {
     "name": "stdout",
     "output_type": "stream",
     "text": [
      "[0, 1, 2, 3, 4, 5, 6, 7, 8, 9, 10, 11, 12, 13, 14, 15, 16, 17, 18, 19, 20, 21, 22, 23, 24, 25, 26, 27, 28, 29, 30, 31, 32, 33, 34, 35, 36] "
     ]
    }
   ],
   "source": [
    "import numpy as np\n",
    "target=np.random.randint(0,100)\n",
    "\n",
    "i=0\n",
    "numb_to_target = []\n",
    "while i< target:\n",
    "    numb_to_target.append(i)\n",
    "    i +=1\n",
    "print(numb_to_target,end=\" \")"
   ]
  },
  {
   "cell_type": "markdown",
   "metadata": {
    "Collapsed": "false"
   },
   "source": [
    "## Basic Error Handling\n",
    "* It is important to know the most common exceptions and how to address them:\n",
    "* `SyntaxError`: the syntax is incorrect\n",
    "* `NameError`: the variable doesn't exist\n",
    "* `TypeError`: the variable is the wrong type\n",
    "* `ValueError` the variable is the right type, but an inappropriate value. i.e. supplying a negative number to a function that only accepts positive numbers\n",
    "* Other built-in exceptions can be found here: https://docs.python.org/3/library/exceptions.html"
   ]
  },
  {
   "cell_type": "markdown",
   "metadata": {},
   "source": [
    "##### Try & Except Blocks\n",
    "* We can tell the program to try something, and if an error occurs to do something else\n",
    "* After an error occurs, it will immediately jump to the except section\n",
    "* If no error occurs it will jump to the else section\n",
    "* Regardless of any outcome, it will always run the finally section"
   ]
  },
  {
   "cell_type": "code",
   "execution_count": 50,
   "metadata": {
    "Collapsed": "false"
   },
   "outputs": [
    {
     "name": "stdout",
     "output_type": "stream",
     "text": [
      "I will print if the str can be converted into a float. The float is 2.1. I will print when there is no error. I will always print.\n",
      "I will print if the str can be converted into a float. The float is 2.3. I will print when there is no error. I will always print.\n",
      "I will always print.\n",
      "I will always print.\n",
      "I will print if the str can be converted into a float. The float is 8.9. I will print when there is no error. I will always print.\n",
      "I will always print.\n",
      "I will print if the str can be converted into a float. The float is 33.1. I will print when there is no error. I will always print.\n",
      "[2.1, 2.3, None, None, 8.9, None, 33.1]\n"
     ]
    }
   ],
   "source": [
    "# Notice how the element isn't printed when the string cannot be converted into an int\n",
    "str_to_float = ['2.1', '2.3', '7,5', '$12.12', '8.9', '5%', '33.1']\n",
    "floats = []\n",
    "for i in str_to_float:\n",
    "    try:\n",
    "        floats.append(float(i))\n",
    "        print(f'I will print if the str can be converted into a float. The float is {i}.',end=' ')\n",
    "    except:\n",
    "        floats.append(None)\n",
    "    else:\n",
    "        print('I will print when there is no error.',end = ' ')\n",
    "    finally:\n",
    "        print('I will always print.')\n",
    "print(floats)"
   ]
  },
  {
   "cell_type": "markdown",
   "metadata": {},
   "source": [
    "##### Catching Specific Exceptions\n",
    "* We can also tell the program to run a block of code if a type of error is received"
   ]
  },
  {
   "cell_type": "code",
   "execution_count": 62,
   "metadata": {},
   "outputs": [
    {
     "name": "stdout",
     "output_type": "stream",
     "text": [
      "Print this if its a ValueError\n"
     ]
    }
   ],
   "source": [
    "try:\n",
    "    int('my_string')\n",
    "except ValueError:\n",
    "    print('Print this if its a ValueError')"
   ]
  },
  {
   "cell_type": "markdown",
   "metadata": {},
   "source": [
    "##### Raising Errors\n",
    "* We can also tell the program to raise errors when they normally don't happen"
   ]
  },
  {
   "cell_type": "code",
   "execution_count": 52,
   "metadata": {
    "Collapsed": "false"
   },
   "outputs": [
    {
     "name": "stdout",
     "output_type": "stream",
     "text": [
      "4\n"
     ]
    },
    {
     "ename": "ValueError",
     "evalue": "Positive numbers only",
     "output_type": "error",
     "traceback": [
      "\u001b[1;31m---------------------------------------------------------------------------\u001b[0m",
      "\u001b[1;31mValueError\u001b[0m                                Traceback (most recent call last)",
      "\u001b[1;32m<ipython-input-52-c2b523859949>\u001b[0m in \u001b[0;36m<module>\u001b[1;34m\u001b[0m\n\u001b[0;32m      5\u001b[0m         \u001b[1;32mreturn\u001b[0m \u001b[0ma\u001b[0m \u001b[1;33m+\u001b[0m \u001b[0mb\u001b[0m\u001b[1;33m\u001b[0m\u001b[1;33m\u001b[0m\u001b[0m\n\u001b[0;32m      6\u001b[0m \u001b[0mprint\u001b[0m\u001b[1;33m(\u001b[0m\u001b[0mpositives_only\u001b[0m\u001b[1;33m(\u001b[0m\u001b[1;36m1\u001b[0m\u001b[1;33m,\u001b[0m\u001b[1;36m3\u001b[0m\u001b[1;33m)\u001b[0m\u001b[1;33m)\u001b[0m\u001b[1;33m\u001b[0m\u001b[1;33m\u001b[0m\u001b[0m\n\u001b[1;32m----> 7\u001b[1;33m \u001b[0mprint\u001b[0m\u001b[1;33m(\u001b[0m\u001b[0mpositives_only\u001b[0m\u001b[1;33m(\u001b[0m\u001b[1;36m1\u001b[0m\u001b[1;33m,\u001b[0m\u001b[1;33m-\u001b[0m\u001b[1;36m3\u001b[0m\u001b[1;33m)\u001b[0m\u001b[1;33m)\u001b[0m\u001b[1;33m\u001b[0m\u001b[1;33m\u001b[0m\u001b[0m\n\u001b[0m",
      "\u001b[1;32m<ipython-input-52-c2b523859949>\u001b[0m in \u001b[0;36mpositives_only\u001b[1;34m(a, b)\u001b[0m\n\u001b[0;32m      1\u001b[0m \u001b[1;32mdef\u001b[0m \u001b[0mpositives_only\u001b[0m\u001b[1;33m(\u001b[0m\u001b[0ma\u001b[0m\u001b[1;33m,\u001b[0m\u001b[0mb\u001b[0m\u001b[1;33m)\u001b[0m\u001b[1;33m:\u001b[0m\u001b[1;33m\u001b[0m\u001b[1;33m\u001b[0m\u001b[0m\n\u001b[0;32m      2\u001b[0m     \u001b[1;32mif\u001b[0m \u001b[0ma\u001b[0m \u001b[1;33m<\u001b[0m \u001b[1;36m0\u001b[0m \u001b[1;32mor\u001b[0m \u001b[0mb\u001b[0m \u001b[1;33m<\u001b[0m \u001b[1;36m0\u001b[0m\u001b[1;33m:\u001b[0m\u001b[1;33m\u001b[0m\u001b[1;33m\u001b[0m\u001b[0m\n\u001b[1;32m----> 3\u001b[1;33m         \u001b[1;32mraise\u001b[0m \u001b[0mValueError\u001b[0m\u001b[1;33m(\u001b[0m\u001b[1;34m'Positive numbers only'\u001b[0m\u001b[1;33m)\u001b[0m\u001b[1;33m\u001b[0m\u001b[1;33m\u001b[0m\u001b[0m\n\u001b[0m\u001b[0;32m      4\u001b[0m     \u001b[1;32melse\u001b[0m\u001b[1;33m:\u001b[0m\u001b[1;33m\u001b[0m\u001b[1;33m\u001b[0m\u001b[0m\n\u001b[0;32m      5\u001b[0m         \u001b[1;32mreturn\u001b[0m \u001b[0ma\u001b[0m \u001b[1;33m+\u001b[0m \u001b[0mb\u001b[0m\u001b[1;33m\u001b[0m\u001b[1;33m\u001b[0m\u001b[0m\n",
      "\u001b[1;31mValueError\u001b[0m: Positive numbers only"
     ]
    }
   ],
   "source": [
    "def positives_only(a,b):\n",
    "    if a < 0 or b < 0:\n",
    "        raise ValueError('Positive numbers only')\n",
    "    else:\n",
    "        return a + b\n",
    "print(positives_only(1,3))\n",
    "print(positives_only(1,-3))"
   ]
  },
  {
   "cell_type": "markdown",
   "metadata": {},
   "source": [
    "##### Assertions\n",
    "* Assertions can be used to check if a variable is a certain value or type\n",
    "* If the statement is false, it will raise an AssertionError"
   ]
  },
  {
   "cell_type": "code",
   "execution_count": 60,
   "metadata": {},
   "outputs": [],
   "source": [
    "my_string = 'tim'\n",
    "assert type(my_string) == str"
   ]
  },
  {
   "cell_type": "code",
   "execution_count": 59,
   "metadata": {},
   "outputs": [
    {
     "ename": "AssertionError",
     "evalue": "",
     "output_type": "error",
     "traceback": [
      "\u001b[1;31m---------------------------------------------------------------------------\u001b[0m",
      "\u001b[1;31mAssertionError\u001b[0m                            Traceback (most recent call last)",
      "\u001b[1;32m<ipython-input-59-5376b26893fe>\u001b[0m in \u001b[0;36m<module>\u001b[1;34m\u001b[0m\n\u001b[0;32m      1\u001b[0m \u001b[0mmy_string2\u001b[0m \u001b[1;33m=\u001b[0m \u001b[1;36m3\u001b[0m\u001b[1;33m\u001b[0m\u001b[1;33m\u001b[0m\u001b[0m\n\u001b[1;32m----> 2\u001b[1;33m \u001b[1;32massert\u001b[0m \u001b[0mtype\u001b[0m\u001b[1;33m(\u001b[0m\u001b[0mmy_string2\u001b[0m\u001b[1;33m)\u001b[0m \u001b[1;33m==\u001b[0m \u001b[0mstr\u001b[0m\u001b[1;33m\u001b[0m\u001b[1;33m\u001b[0m\u001b[0m\n\u001b[0m",
      "\u001b[1;31mAssertionError\u001b[0m: "
     ]
    }
   ],
   "source": [
    "my_string2 = 3\n",
    "assert type(my_string2) == str"
   ]
  },
  {
   "cell_type": "markdown",
   "metadata": {
    "Collapsed": "false"
   },
   "source": [
    "## Pass, Continue and Break\n",
    "\n",
    "* There are also additional controls for While and For loop iterations\n",
    "* These are called:\n",
    "    * Pass - pass does nothing. However, it is a useful placeholder while writing code\n",
    "    * Continue - continue moves onto the next iterator\n",
    "    * Break - break stops the iteration"
   ]
  },
  {
   "cell_type": "code",
   "execution_count": 45,
   "metadata": {
    "Collapsed": "false"
   },
   "outputs": [
    {
     "name": "stdout",
     "output_type": "stream",
     "text": [
      "Iteration: 1. End of iteration: 1.\n",
      "Iteration: 2. Will pass, this does nothing. End of iteration: 2.\n",
      "Iteration: 3. End of iteration: 3.\n",
      "Iteration: 4. End of iteration: 4.\n",
      "Iteration: 5. Will continue, this moves to the next iteration. Note the end of iteration message will not print\n",
      "Iteration: 6. End of iteration: 6.\n",
      "Iteration: 7. End of iteration: 7.\n",
      "Iteration: 8. End of iteration: 8.\n",
      "Iteration: 9. Will break, this will end the iteration. "
     ]
    }
   ],
   "source": [
    "for i in [1,2,3,4,5,6,7,8,9,10]:\n",
    "    print(f\"Iteration: {i}.\", end = \" \")\n",
    "    if i == 2:\n",
    "        print('Will pass, this does nothing.', end = \" \")\n",
    "        pass\n",
    "    elif i ==5:\n",
    "        print('Will continue, this moves to the next iteration. Note the end of iteration message will not print')\n",
    "        continue\n",
    "    elif i ==9:\n",
    "        print('Will break, this will end the iteration.', end = \" \")\n",
    "        break\n",
    "    print(f\"End of iteration: {i}.\")       "
   ]
  }
 ],
 "metadata": {
  "kernelspec": {
   "display_name": "Python 3",
   "language": "python",
   "name": "python3"
  },
  "language_info": {
   "codemirror_mode": {
    "name": "ipython",
    "version": 3
   },
   "file_extension": ".py",
   "mimetype": "text/x-python",
   "name": "python",
   "nbconvert_exporter": "python",
   "pygments_lexer": "ipython3",
   "version": "3.7.3"
  },
  "toc-autonumbering": true,
  "toc-showcode": false,
  "toc-showtags": false
 },
 "nbformat": 4,
 "nbformat_minor": 4
}
