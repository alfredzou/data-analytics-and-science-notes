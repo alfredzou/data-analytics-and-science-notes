{
 "cells": [
  {
   "cell_type": "markdown",
   "metadata": {
    "Collapsed": "false"
   },
   "source": [
    "<img src=\"https://github.githubassets.com/images/modules/logos_page/Octocat.png\" style=\"float: left; margin: 20px; height: 100px\">\n",
    "\n",
    "# Git & GitHub\n",
    "\n",
    "_Author: Alfred Zou_\n",
    "\n",
    "---"
   ]
  },
  {
   "cell_type": "markdown",
   "metadata": {
    "Collapsed": "false"
   },
   "source": [
    "### Git\n",
    "* Git is a version control system for local repositories, also known as file and folders\n",
    "* It allows users to make changes to the repositiories, make save points with commits, log changes and restore to previous save points\n",
    "* Each project starts with the a main branch called the origin\n",
    "* Users can create branches to test new features, then if they want to, they can merge the changes into the main branch\n",
    "* Upon merging conflicts must be resolved\n",
    "* Note Git can be used without GitHub\n",
    "\n",
    "### GitHub\n",
    "* GitHub is the online equivalent of Git, or an online repository\n",
    "* It promotes collaboration by providing a location for code storage, and a platform for issues to be raised\n",
    "* GitHub also promotes open source, as most users leave their repositories public\n",
    "* Local repositories can be pushed to GitHub\n",
    "* Online repositories can be pulled from GitHub\n",
    "* Other users projects can be forked, which adds an online repository to your GitHub\n",
    "* Cloning a project, downloads a online repository to your computer (a local repository)\n",
    "* While one developer works on a main branch, at the same time another developer could create a branch to test a new feature. When this feature is complete it can then be merged with the master branch and any conflicts must be resolved\n",
    "\n",
    "### GitHub Enterprise\n",
    "* GitHub Enterprise is the commercial version of GitHub. Companies pay GitHub for their own private versions of GitHub"
   ]
  },
  {
   "cell_type": "markdown",
   "metadata": {
    "Collapsed": "false"
   },
   "source": [
    "### Git Commands\n",
    "* `git init`: turn a local folder into a local repository\n",
    "* `git status`: checks the status of a local repository. It will let you know what files are not tracked. It will let you know what files have been modified.\n",
    "* `git log`: provides the history of all commits made for this proejct. Press space to go down a page and q to quit\n",
    "* `git add file_name`: stage a file, so when you git commit it will be included in the commit\n",
    "* `git add .`: stages all files in the local repository\n",
    "* `git restore -S file_name`: unstages a file\n",
    "* `git commit -m \"log_message\"`: commit all staged files. The \"log_message\" will show in git log\n",
    "\n",
    "### Branches\n",
    "* Branches let you test out new features without effecting the master (or main) branch\n",
    "* After we are satified with it, we can merge it back into the master branch\n",
    "* `git branch`: checks existing branches\n",
    "* `git branch my_branch`: creates a new branch\n",
    "* `git checkout my_branch`: switches branches\n",
    "* to merge the branch into the master branch\n",
    "* `git checkout master`: navigate to the master branch\n",
    "* `git merge my_branch`: to merge the branch into the master branch\n",
    "* `git branch -d my_branch`: delete the branch\n",
    "\n",
    "### The Git Process:\n",
    "1. git init: initiliase the folder as a local repository\n",
    "2. Make edits\n",
    "3. git add file_name: stage the files\n",
    "4. git commit -m \"log_message\": commit the file with the log message \"log_message\"\n",
    "5. git push origin master: push it onto GitHub\n",
    "\n",
    "### Git with GitHub\n",
    "* To use Git with GitHub, we need to create an online repository on GitHub\n",
    "* Then we need to tell Git about the location of the online repository\n",
    "* We can get the URL from GitHub\n",
    "* `git remote add origin URL`: this tells git to associate origin with the URL\n",
    "* `git remote set-url origin new_URL`: change the url of a remote connection\n",
    "* `git remote rm origin`: delete a remote connection\n",
    "* `git push -u origin master`: this tells git to upload the local repository to GitHub under the branch, master. The -u lets you use `git push` and `git pull` without arguments, telling git to push to the URL at origin and to the branch, Master\n",
    "* `git push origin my_branch`: this tells git to upload the local repository to GitHub under the branch, my_branch.\n",
    "* `git pull`: to download GitHub repository to local repository and merge"
   ]
  },
  {
   "cell_type": "markdown",
   "metadata": {
    "Collapsed": "false"
   },
   "source": [
    "### Ignoring Files with Git\n",
    "* `touch .gitignore`: create an ignore file\n",
    "* `echo \"file_name\" > .gitignore`: ignore certain file_names. This could be \"*.log\" for log files, not wild cards can be used\n",
    "* `git status`: if you run this, you shouldn't see the ignored files now"
   ]
  },
  {
   "cell_type": "markdown",
   "metadata": {
    "Collapsed": "false"
   },
   "source": [
    "### Multiple GitHub Accounts using SSH\n",
    "* Often you'll have a personal and company github account. You need to use SSH keys to ensure your local repository matches up with the online repository of the correct account\n",
    "\n",
    "### Navigating to SSH folder\n",
    "* Using `gitbash` or command line interface of your choice:\n",
    "* `cd ~/.ssh`: to navitage to the ssh folder\n",
    "* `ls -l`: to list all files in the ssh folder\n",
    "\n",
    "### Generating SSH Key-Pairs and Linking to Online GitHub Account\n",
    "* `ssh-keygen -t rsa -C \"email@gmail.com\" -f \"id_rsa_file_name\"`: creates a ssh private and public keys. -t is the flag for the algorithm. -c is the comment flag for putting in your email. -f is the file name flag. In this case it will generate two files id_rsa_file_name (private key that stays on your desktop) and id_rsa_file_name.pub (public key that connects with GitHub's online account. Note for each computer, you will need to generate a key-pair for each GitHub account.\n",
    "* `enter` `enter` when prompted for a password\n",
    "* `ssh-add id_rsa_file_name`: register each key with the ssh agent. If successful you'll see 'Identity Added'\n",
    "* `vim id_rsa_file_name.pub`: go into your file and copy the public ssh key\n",
    "* `:q` to exit vim\n",
    "* Go to your GitHub account you want to connect to. In the top-right hit settings > SSH and GPG keys > New SSH Key. Then copy in the public ssh key\n",
    "* Repeat above steps for the number of GitHub accounts you have\n",
    "\n",
    "### Creating the Config File\n",
    "* The config file is necessary to help git connect the public ssh key you have provided to each GitHub account and direct it to your private ssh key\n",
    "* `touch config`: create the config file\n",
    "* `nano config`: enter the config file and paste in the code block in the file\n",
    "* The Host is a unique identifier, the HostName is the URL of the github site and the IdnetityFile is the location of the private ssh key\n",
    "\n",
    "``` bash\n",
    "Host github.com\n",
    "        HostName github.com\n",
    "        User git\n",
    "        IdentityFile ~/.ssh/id_rsa_personal\n",
    "\n",
    "Host github-cape\n",
    "        HostName github.com\n",
    "        User git\n",
    "        IdentityFile ~/.ssh/id_rsa_cape\n",
    "\n",
    "Host github-ga\n",
    "        HostName git.generalassemb.ly\n",
    "        User git\n",
    "        IdentityFile ~/.ssh/id_rsa_GA\n",
    "```\n",
    "* `Cntrl + x` `y` `enter`: save the file and exit\n",
    "* Add a new code block for each GitHub account\n",
    "* Here is an example where I have connected three accounts\n",
    "\n",
    "### Testing if it Works or Not - Setup\n",
    "* `mkdir my_folder`: creates a folder\n",
    "* `cd my_folder`: navigates into the folder\n",
    "* `git init`: initialises the folder for git\n",
    "* `touch README.md`: creates a readme document\n",
    "* `git add .`: stages the readme document\n",
    "* `git commit -m 'first commit'`: commits the readme document\n",
    "\n",
    "### Testing if it Works or Not - Connecting to Online Repository\n",
    "* Go to your GitHub account and create a New Repository\n",
    "* `git remote -v`: to see all the online connections. It should be empty\n",
    "* For the New Repository copy the ssh_address\n",
    "* `git remote add origin ssh_address`: adds a remote repository called origin connected to the URL of ssh_address\n",
    "* `git push -u origin master`: pushes to your online repo\n",
    "* Check your GitHub account, if the repo has been updated\n",
    "\n",
    "``` bash\n",
    "$ git remote -v\n",
    "origin  git@github.com:alfredzou/ssh-test.git (fetch)\n",
    "origin  git@github.com:alfredzou/ssh-test.git (push)\n",
    "\n",
    "$ git remote -v\n",
    "origin  git@git.generalassemb.ly:alfredzou/ssh-test.git (fetch)\n",
    "origin  git@git.generalassemb.ly:alfredzou/ssh-test.git (push)\n",
    "\n",
    "$ git remote -v\n",
    "origin  git@github-cape:capeofstorms/ssh-test.git (fetch)\n",
    "origin  git@github-cape:capeofstorms/ssh-test.git (push)\n",
    "```"
   ]
  },
  {
   "cell_type": "markdown",
   "metadata": {
    "Collapsed": "false"
   },
   "source": [
    "### Changing User Name and Email\n",
    "* As we are using different accounts, we probably want to use different emails to differentiate personal and work GitHub Accounts\n",
    "* `git config user.name`: using this we can check the user name\n",
    "* `git config user.email`: using this we can check the user email\n",
    "* `git config user.name new_name`: change user name for this project\n",
    "* `git config user.email new_email`: change email for this project"
   ]
  }
 ],
 "metadata": {
  "kernelspec": {
   "display_name": "Python 3",
   "language": "python",
   "name": "python3"
  },
  "language_info": {
   "codemirror_mode": {
    "name": "ipython",
    "version": 3
   },
   "file_extension": ".py",
   "mimetype": "text/x-python",
   "name": "python",
   "nbconvert_exporter": "python",
   "pygments_lexer": "ipython3",
   "version": "3.7.3"
  }
 },
 "nbformat": 4,
 "nbformat_minor": 4
}
