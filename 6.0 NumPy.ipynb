{
 "cells": [
  {
   "cell_type": "markdown",
   "metadata": {
    "Collapsed": "false"
   },
   "source": [
    "<img src=\"https://api.nuget.org/v3-flatcontainer/numpy/3.7.1.10/icon\" style=\"float: left; margin: 20px; height: 55px\">\n",
    "\n",
    "# NumPy & Linear Algebra\n",
    "\n",
    "_Author: Alfred Zou_\n",
    "\n",
    "---"
   ]
  },
  {
   "cell_type": "markdown",
   "metadata": {
    "Collapsed": "false"
   },
   "source": [
    "* NumPy, or numerical python, is a popular python package for numerical calculations\n",
    "* It introduces the nparray class that allows vectors and matrices to be stored and mathmatically operated on\n",
    "* This allows for applications of linear algebra, which are extremely and heavily used for data scientists\n",
    "* There are many applications for linear algebra, but they are not too clear to me at this moment\n",
    "* One of the main uses is to solve multiple simultaneous equations at once"
   ]
  },
  {
   "cell_type": "markdown",
   "metadata": {
    "Collapsed": "false"
   },
   "source": [
    "## Linear Algebra\n",
    "---\n",
    "* Linear algebra is the branch of mathematics concerning linear equations through vectors and matrices \n",
    "* [3B1B's geometric explanation of linear algebra is a great series](https://www.youtube.com/watch?v=fNk_zzaMoSs&list=PLZHQObOWTQDPD3MizzM2xVFitgF8hE_ab)\n",
    "\n",
    "### Vectors\n",
    "* A vector is a collection of points\n",
    "* It can also be perceived as either a arrow originating from the origin, the physics explaination\n",
    "\n",
    "### $$\\vec{v} = \\left[ \\begin{array}{c}\n",
    "1 \\\\\n",
    "3 \\\\\n",
    "7 \\\\\n",
    "\\end{array} \\right]$$\n",
    "\n",
    "##### Vector Operations\n",
    "* Vectors are usually denoted by **u**, **v** and **w** or a lowercase letter, with an arrow pointing right on top, $\\vec{a}$. This is to distinguish them from the lowercase scalars\n",
    "* Vectors can be added and subtracting\n",
    "    * Mathematically, this is simply an elementwise operation. \n",
    "\n",
    "<img src=\"http://www.maths.usyd.edu.au/u/MOW/vectors/images/v0314x.gif\" style=\"margin:20px;margin-left:auto;margin-right:auto;height:200px\">\n",
    "\n",
    "* Alternatively they can be scaled by a multiplying with a scalar\n",
    "    * Mathematically, this is simply an elementwise operation. Geometrically, imagine a vector stretching by the factor of the scalar\n",
    "\n",
    "<img src=\"https://encrypted-tbn0.gstatic.com/images?q=tbn%3AANd9GcS8Z8fRL2SOjwBz7QduNRPjqaxd8GV2wkGFo2-HQ8B_Qelr4uCq\" style=\"margin:20px;margin-left:auto;margin-right:auto;height:250px;\">\n",
    "\n",
    "\n",
    "##### Dot Product\n",
    "* Dot product of two vectors provides us some idea on if they orientate in the same direction:\n",
    "    * positive: they orientate in the same direction\n",
    "    * 0: they're perpendicular\n",
    "    * negative: they orientate in opposite directions\n",
    "* For a geometric explaination refer to the matrix multiplication section.\n",
    "    * A 2D plane is squashed into a 1D line\n",
    "* Although vector dot products are usually represented by two column vectors, its a good habit to visualise the first vector transposed\n",
    "* This makes it more relatable to matrix multiplication, which will be explained further on\n",
    "    \n",
    "### $$\\vec{v} = \\left[ \\begin{array}{c}\n",
    "1 \\\\\n",
    "3 \\\\\n",
    "7\n",
    "\\end{array} \\right], \\vec{w} = \\left[ \\begin{array}{c}\n",
    "1 \\\\\n",
    "0 \\\\\n",
    "1\n",
    "\\end{array} \\right]$$\n",
    "\n",
    "### $$\\vec{v} \\cdot \\vec{w} = \\left[ \\begin{array}{c}\n",
    "1 & 3 & 7\n",
    "\\end{array} \\right] \\left[ \\begin{array}{c}\n",
    "1 \\\\\n",
    "0 \\\\\n",
    "1\n",
    "\\end{array} \\right]$$\n",
    "\n",
    "### $$ \\vec{v} \\cdot \\vec{w} = 1*1 + 3*0 + 7*1 = 8 $$\n",
    "\n",
    "##### Cross Product\n",
    "* I won't go too much in detail about cross product\n",
    "* Cross product of two vectors is another vector, perpendicular to the initial two vectors\n",
    "* The orientation of the cross product can be determined by the right hand rule\n",
    "* The length of the cross product is equal to the determinant of the intial two vectors\n",
    "\n",
    "<img src=\"https://encrypted-tbn0.gstatic.com/images?q=tbn%3AANd9GcRkmnGlK9LKL5sDBBoj3wHr9H9ty0XPkHYgPfLxEZJx3qML-PTZ\" style=\"margin:20px;margin-left:auto;margin-right:auto;height:250px\">"
   ]
  },
  {
   "cell_type": "markdown",
   "metadata": {
    "Collapsed": "false"
   },
   "source": [
    "##### Matrix\n",
    "* A matrix is a collection of points with at least two columns\n",
    "* Essentially a matrix is just a one or more vectors. The operations we can perform on a vector can also be performed on a matrix\n",
    "* Matrices are denoted by a capital letter such as A\n",
    "* An m x n matrix is a rectangular array of numbers with m rows and n columns\n",
    "* The elements are indexed by i,j. Where i represents the row and j the column\n",
    "\n",
    "### $$A= \\left[ \\begin{array}{c}\n",
    "a_{11} & a_{12} & ... & a_{1n}  \\\\\n",
    "a_{21} & a_{22} & ... & a_{2n}  \\\\\n",
    "... & ... & ... & ... \\\\\n",
    "a_{m1} & a_{m2} & ... & a_{mn}\n",
    "\\end{array} \\right]$$\n",
    "\n",
    "##### Matrix Multiplication Graphical Explaination\n",
    "* Matrix multiplication is often taught mathematically and with rote memorisation, leaving students confused\n",
    "* There is actually a very intuitive graphical explaination that is often not taught\n",
    "* [If you haven't tried out 3B1B's videos on matrix multiplication, I highly implore you to](https://www.youtube.com/watch?v=fNk_zzaMoSs&list=PLZHQObOWTQDPD3MizzM2xVFitgF8hE_ab)\n",
    "* [Coranac's explaination is amazing as well](https://www.coranac.com/documents/geomatrix/)\n",
    "* To understand the graphical approach we first need to understand the concept of a basis\n",
    "\n",
    "##### Basis\n",
    "* For a 3D space, the cartesian co-ordinate system is made of the 3 bases: $\\hat{i}, \\hat{j}, \\hat{k}$\n",
    "* These bases are unit vectors, which means they have a length of 1\n",
    "* These bases are also perpendicular to each other\n",
    "\n",
    "<img src=\"https://mathinsight.org/media/applet/image/large/standard_unit_vectors_3d.png\" style=\"margin:20px;margin-left:auto;margin-right:auto;height:200px\">\n",
    "\n",
    "##### Graphical Explaination TBC\n",
    "* Image A is a random collection of points\n",
    "* We can choose whatever co-ordinate system we like to represent these points\n",
    "    * Image B-D shows a cartesian co-ordinate system at point A\n",
    "    * Let's take this co-ordinate system\n",
    "    \n",
    "<img src=\"https://www.coranac.com/img/geomatrix/cosys-alt1.png\" style=\"margin:20px;margin-left:auto;margin-right:auto;height:400px\">\n",
    "\n",
    "* Let's choose another co-ordinate system with different basis vectors\n",
    "    \n",
    "<img src=\"https://www.coranac.com/img/geomatrix/cosys-alt2.png\" style=\"margin:20px;margin-left:auto;margin-right:auto;height:200px\">\n",
    "\n",
    "* Now we have the co-ordinates of the point P from the non cartesian co-ordinate system\n",
    "* We can relate it back to the cartesian co-ordinate system by multiplying the matrix of \n",
    "* \n",
    "\n",
    "<img src=\"https://www.coranac.com/img/geomatrix/cosys-es.png\" style=\"margin:20px;margin-left:auto;margin-right:auto;height:200px\">\n",
    "<img src=\"https://www.coranac.com/img/geomatrix/cosys-sine.png\" style=\"margin:20px;margin-left:auto;margin-right:auto;height:200px\">\n",
    "\n",
    "##### Matrix Multiplication Mathematical Explaination\n",
    "* Matrix multiplication from an mathematic standpoint is essentially multiple vector dot products\n",
    "* Lets say we have matrix A with dimensions (m x n) and matrix B with dimensions (o x p)\n",
    "    * To successfully carry out a matrix mulitiplication the number of columns for A must be the same as the number of rows for B, or n = o\n",
    "    * This is required so multiple vector dot products can be applied\n",
    "    * The resulting matrix will have the dimensions (m x p)\n",
    "* AB != BA: matrix multiplication is not commutative, so order matters\n",
    "\n",
    "<img src=\"https://encrypted-tbn0.gstatic.com/images?q=tbn%3AANd9GcRs82DjaoR599zTFd9CwH3g616quyOEq2J44Jv8mcP7D3aN8aBD\" style=\"margin:20px;margin-left:auto;margin-right:auto;height:150px\">\n",
    "\n",
    "##### Determinant \n",
    "* The determinant can only be calculated for square matrices with m x m shape\n",
    "* It is the parallelogram area bounded by two vectors\n",
    "* It represents how any 2D area or 3D volume will scale if the matrix was \n",
    "* The determinant is also a check for linear independence:\n",
    "    * If the determinant is 0, the column vectors for the matrix are linerally dependent\n",
    "\n",
    "##### Rank\n",
    "* Rank is the comparison between the determinant and the number of columns in the matrix\n",
    "* It is the number of independent column vectors. This number represents the dimension of the span, the set of all possible output values\n",
    "* If a column vector can be expressed by another column vectory, they are linearlly dependent. That means the span does not gain another dimension\n",
    "* If the rank is equal to the number of columns, the matrix is said to be full rank\n",
    "\n",
    "##### Special Matrices\n",
    "* The identity matrix, I\n",
    "    * IA = A\n",
    "    \n",
    "### $$ \\left[ \\begin{array}{c}\n",
    "1 & 0 \\\\\n",
    "0 & 1 \n",
    "\\end{array} \\right] \\cdot \\left[ \\begin{array}{c}\n",
    "3 & 4 \\\\\n",
    "5 & 6 \n",
    "\\end{array} \\right] = \\left[ \\begin{array}{c}\n",
    "(1 \\cdot 3 + 0 \\cdot 5) & (1 \\cdot 4 + 0 \\cdot 6) \\\\\n",
    "(0 \\cdot 3 + 1 \\cdot 5) & (0 \\cdot 4 + 1 \\cdot 6) \n",
    "\\end{array} \\right] =\n",
    "\\left[ \\begin{array}{c}\n",
    "3 & 4 \\\\\n",
    "5 & 6 \n",
    "\\end{array} \\right]$$\n",
    "\n",
    "* The inverse matrix, the inverse of A is A<sup>-1</sup>\n",
    "    * A<sup>-1</sup>A = I \n",
    "\n",
    "##### Solving Multiple Linear Algebras TBC\n",
    "* The general form is:\n",
    "    * AX = y\n",
    "    * A<sup>-1</sup>AX = A<sup>-1</sup>y\n",
    "    * IX = A<sup>-1</sup>y\n",
    "    * X = A<sup>-1</sup>y\n",
    "\n",
    "### $$ ax_1 + dx_2 + gx_3 = y_1 $$\n",
    "### $$ bx_1 + ex_2 + hx_3 = y_2 $$\n",
    "### $$ cx_1 + fx_2 + ix_3 = y_3 $$\n",
    "\n",
    "### $$AX = y$$\n",
    "\n",
    "### $$$$\n",
    "\n",
    "### $$\\vec{i} = \\left[ \\begin{array}{c}\n",
    "a \\\\\n",
    "b \\\\\n",
    "c\n",
    "\\end{array} \\right], \\vec{j} = \\left[ \\begin{array}{c}\n",
    "d \\\\\n",
    "e \\\\\n",
    "f\n",
    "\\end{array} \\right],\\vec{k} = \\left[ \\begin{array}{c}\n",
    "g \\\\\n",
    "h \\\\\n",
    "i\n",
    "\\end{array} \\right]$$\n",
    "\n",
    "### $$A= \\left[ \\begin{array}{c}\n",
    "a & d & g  \\\\\n",
    "b & e & h  \\\\\n",
    "c & f & i\n",
    "\\end{array} \\right],X = \\left[ \\begin{array}{c}\n",
    "x_1 \\\\\n",
    "x_2 \\\\\n",
    "x_3\n",
    "\\end{array} \\right]$$\n",
    "\n",
    "##### Eigenvectors and Eigenvalues\n",
    "* An eigenvector is a vector that when transformed, stretches by a factor known as the eigenvalue\n",
    "    * $A\\vec{v}=\\lambda\\vec{v}$\n",
    "* I'm not too clear on the use about eigenvectors and eigenvalues, but I know they are important in speeding up simultaneous equations\n",
    "* We can solve below to find the eigenvector and eigenvalue\n",
    "* $A\\vec{v}=\\lambda\\vec{v}$\n",
    "* $A\\vec{v}=\\lambda I\\vec{v}$\n",
    "* $(A-\\lambda I)\\vec{v}=0, \\vec{v}\\neq0$"
   ]
  },
  {
   "cell_type": "markdown",
   "metadata": {
    "Collapsed": "false"
   },
   "source": [
    "## Numpy\n",
    "---"
   ]
  },
  {
   "cell_type": "markdown",
   "metadata": {
    "Collapsed": "true"
   },
   "source": [
    "#### Vectors\n",
    "---"
   ]
  },
  {
   "cell_type": "markdown",
   "metadata": {
    "Collapsed": "false"
   },
   "source": [
    "##### Creation"
   ]
  },
  {
   "cell_type": "code",
   "execution_count": 14,
   "metadata": {
    "Collapsed": "false"
   },
   "outputs": [
    {
     "name": "stdout",
     "output_type": "stream",
     "text": [
      "[1 2 3 4]\n"
     ]
    }
   ],
   "source": [
    "# Creating a vector\n",
    "import numpy as np\n",
    "vector = np.array([1,2,3,4])\n",
    "print(vector)"
   ]
  },
  {
   "cell_type": "markdown",
   "metadata": {
    "Collapsed": "false"
   },
   "source": [
    "##### Dot product"
   ]
  },
  {
   "cell_type": "code",
   "execution_count": 20,
   "metadata": {
    "Collapsed": "false"
   },
   "outputs": [
    {
     "data": {
      "text/plain": [
       "40"
      ]
     },
     "execution_count": 20,
     "metadata": {},
     "output_type": "execute_result"
    }
   ],
   "source": [
    "# Vector multiplication\n",
    "# Vectors need to be the same length\n",
    "u = np.array([1,2,3,4])\n",
    "v = np.array([2,3,4,5])\n",
    "u.dot(v)"
   ]
  },
  {
   "cell_type": "markdown",
   "metadata": {
    "Collapsed": "false"
   },
   "source": [
    "##### Vector Length"
   ]
  },
  {
   "cell_type": "code",
   "execution_count": 15,
   "metadata": {
    "Collapsed": "false"
   },
   "outputs": [
    {
     "data": {
      "text/plain": [
       "5.0"
      ]
     },
     "execution_count": 15,
     "metadata": {},
     "output_type": "execute_result"
    }
   ],
   "source": [
    "# Calculating the length of a vector or the vector norm\n",
    "np.linalg.norm(np.array([3,4]))"
   ]
  },
  {
   "cell_type": "markdown",
   "metadata": {
    "Collapsed": "false"
   },
   "source": [
    "##### Vector Array Creation"
   ]
  },
  {
   "cell_type": "code",
   "execution_count": 61,
   "metadata": {
    "Collapsed": "false"
   },
   "outputs": [
    {
     "data": {
      "text/plain": [
       "8.881784197001252e-16"
      ]
     },
     "execution_count": 61,
     "metadata": {},
     "output_type": "execute_result"
    }
   ],
   "source": [
    "# arange() works similarly to range(), may give floating point error\n",
    "# This is seen by calling the last value, where we expect to see 0.001\n",
    "a = np.arange(-1., 0.001, 0.01)\n",
    "a[-1]"
   ]
  },
  {
   "cell_type": "code",
   "execution_count": 62,
   "metadata": {
    "Collapsed": "false"
   },
   "outputs": [
    {
     "data": {
      "text/plain": [
       "0.001"
      ]
     },
     "execution_count": 62,
     "metadata": {},
     "output_type": "execute_result"
    }
   ],
   "source": [
    "# The alternative is linspace, where number of samples is indicated\n",
    "# This is preferred to reduce floats with large decimals\n",
    "a = np.linspace(-1., 0.001, 1000)\n",
    "a[-1]"
   ]
  },
  {
   "cell_type": "markdown",
   "metadata": {
    "Collapsed": "false"
   },
   "source": [
    "### Matrixes\n",
    "---"
   ]
  },
  {
   "cell_type": "markdown",
   "metadata": {
    "Collapsed": "true"
   },
   "source": [
    "#### Matrices Creation"
   ]
  },
  {
   "cell_type": "markdown",
   "metadata": {
    "Collapsed": "false"
   },
   "source": [
    "##### Supplying Lists"
   ]
  },
  {
   "cell_type": "code",
   "execution_count": 13,
   "metadata": {
    "Collapsed": "false"
   },
   "outputs": [
    {
     "name": "stdout",
     "output_type": "stream",
     "text": [
      "[[1 2 3]\n",
      " [4 5 6]]\n",
      "[[1 2]\n",
      " [3 4]\n",
      " [5 6]]\n"
     ]
    }
   ],
   "source": [
    "# np.array accepts rows then cols\n",
    "matrix = np.array([[1,2,3],[4,5,6]])\n",
    "print(matrix)\n",
    "matrix = np.array([[1,2],[3,4],[5,6]])\n",
    "print(matrix)"
   ]
  },
  {
   "cell_type": "markdown",
   "metadata": {
    "Collapsed": "false"
   },
   "source": [
    "##### Random"
   ]
  },
  {
   "cell_type": "code",
   "execution_count": 76,
   "metadata": {
    "Collapsed": "false"
   },
   "outputs": [
    {
     "name": "stdout",
     "output_type": "stream",
     "text": [
      "[[0.22998154 0.38066297 0.28199135 0.34077443]\n",
      " [0.20467937 0.37259301 0.95480868 0.15035346]\n",
      " [0.53724267 0.20320423 0.3656962  0.22148118]]\n"
     ]
    }
   ],
   "source": [
    "matrix = np.random.rand(3,4)\n",
    "print(matrix)"
   ]
  },
  {
   "cell_type": "code",
   "execution_count": 77,
   "metadata": {
    "Collapsed": "false"
   },
   "outputs": [
    {
     "name": "stdout",
     "output_type": "stream",
     "text": [
      "[[6 6 6 8]\n",
      " [9 7 9 9]\n",
      " [8 5 9 6]]\n"
     ]
    }
   ],
   "source": [
    "matrix = np.random.randint(5,10,size=(3,4))\n",
    "print(matrix)"
   ]
  },
  {
   "cell_type": "code",
   "execution_count": 76,
   "metadata": {
    "Collapsed": "false"
   },
   "outputs": [
    {
     "name": "stdout",
     "output_type": "stream",
     "text": [
      "[[0.22998154 0.38066297 0.28199135 0.34077443]\n",
      " [0.20467937 0.37259301 0.95480868 0.15035346]\n",
      " [0.53724267 0.20320423 0.3656962  0.22148118]]\n"
     ]
    }
   ],
   "source": [
    "matrix = np.random.rand(3,4)\n",
    "print(matrix)"
   ]
  },
  {
   "cell_type": "markdown",
   "metadata": {
    "Collapsed": "false"
   },
   "source": [
    "##### Zeros and Ones"
   ]
  },
  {
   "cell_type": "code",
   "execution_count": 97,
   "metadata": {
    "Collapsed": "false"
   },
   "outputs": [
    {
     "name": "stdout",
     "output_type": "stream",
     "text": [
      "[[0. 0. 0. 0.]\n",
      " [0. 0. 0. 0.]\n",
      " [0. 0. 0. 0.]]\n"
     ]
    }
   ],
   "source": [
    "matrix = np.zeros((3,4))\n",
    "print(matrix)"
   ]
  },
  {
   "cell_type": "code",
   "execution_count": 98,
   "metadata": {
    "Collapsed": "false"
   },
   "outputs": [
    {
     "name": "stdout",
     "output_type": "stream",
     "text": [
      "[[1. 1. 1. 1.]\n",
      " [1. 1. 1. 1.]\n",
      " [1. 1. 1. 1.]]\n"
     ]
    }
   ],
   "source": [
    "matrix = np.ones((3,4))\n",
    "print(matrix)"
   ]
  },
  {
   "cell_type": "markdown",
   "metadata": {
    "Collapsed": "false"
   },
   "source": [
    "##### Normal Distribution"
   ]
  },
  {
   "cell_type": "code",
   "execution_count": 25,
   "metadata": {
    "Collapsed": "false"
   },
   "outputs": [
    {
     "name": "stdout",
     "output_type": "stream",
     "text": [
      "[[[-0.44398196 -0.43435128]\n",
      "  [ 2.20593008  2.18678609]]\n",
      "\n",
      " [[ 1.0040539   0.3861864 ]\n",
      "  [ 0.73736858  1.49073203]]\n",
      "\n",
      " [[-0.93583387  1.17582904]\n",
      "  [-1.25388067 -0.6377515 ]]]\n"
     ]
    }
   ],
   "source": [
    "# 3D array based on normal distribution with mean = 0 and std = 1\n",
    "matrix = np.random.normal(0, 1, (3,2,2))\n",
    "print(matrix)"
   ]
  },
  {
   "cell_type": "markdown",
   "metadata": {
    "Collapsed": "false"
   },
   "source": [
    "#### Matrices Other"
   ]
  },
  {
   "cell_type": "markdown",
   "metadata": {
    "Collapsed": "false"
   },
   "source": [
    "##### Idexing"
   ]
  },
  {
   "cell_type": "code",
   "execution_count": 100,
   "metadata": {
    "Collapsed": "false"
   },
   "outputs": [
    {
     "name": "stdout",
     "output_type": "stream",
     "text": [
      "[['0,0' '0,1' '0,2']\n",
      " ['1,0' '1,1' '1,2']\n",
      " ['2,0' '2,1' '2,2']]\n"
     ]
    },
    {
     "data": {
      "text/plain": [
       "'0,1'"
      ]
     },
     "execution_count": 100,
     "metadata": {},
     "output_type": "execute_result"
    }
   ],
   "source": [
    "# Indexing\n",
    "matrix = np.array([['0,0','0,1','0,2'],['1,0','1,1','1,2'],['2,0','2,1','2,2']])\n",
    "print(matrix)\n",
    "# Return the element for row 0 and column 1\n",
    "matrix[0,1]"
   ]
  },
  {
   "cell_type": "markdown",
   "metadata": {
    "Collapsed": "false"
   },
   "source": [
    "##### Multiplication"
   ]
  },
  {
   "cell_type": "code",
   "execution_count": 68,
   "metadata": {
    "Collapsed": "false"
   },
   "outputs": [
    {
     "name": "stdout",
     "output_type": "stream",
     "text": [
      "(3, 2)\n",
      "(2, 2)\n",
      "[[ 7 10]\n",
      " [15 22]\n",
      " [23 34]]\n",
      "(3, 2)\n",
      "[[ 7 10]\n",
      " [15 22]\n",
      " [23 34]]\n"
     ]
    }
   ],
   "source": [
    "# Before multiplying matrices together, we need to make sure the number of columns in the first matrix matches the number of rows in the second matrix\n",
    "A = np.array([[1,2],[3,4],[5,6]])\n",
    "print(A.shape)\n",
    "B = np.array([[1,2],[3,4]])\n",
    "print(B.shape)\n",
    "# 2 columns from the first matrix match the 2 rows from the second matrix, OK\n",
    "\n",
    "# Our expected resulting matrix will be 3 rows and 2 columns\n",
    "C = A.dot(B)\n",
    "print(C)\n",
    "print(C.shape)\n",
    "\n",
    "# Alternatively\n",
    "C = A@B\n",
    "print(C)"
   ]
  },
  {
   "cell_type": "markdown",
   "metadata": {
    "Collapsed": "false"
   },
   "source": [
    "##### Matrix Properties"
   ]
  },
  {
   "cell_type": "code",
   "execution_count": 66,
   "metadata": {
    "Collapsed": "false"
   },
   "outputs": [
    {
     "data": {
      "text/plain": [
       "3"
      ]
     },
     "execution_count": 66,
     "metadata": {},
     "output_type": "execute_result"
    }
   ],
   "source": [
    "# ndim returns the number of dimensions for the matrix\n",
    "A = np.array([[[1,3],[5,2]]])\n",
    "A.ndim"
   ]
  },
  {
   "cell_type": "code",
   "execution_count": 91,
   "metadata": {
    "Collapsed": "false"
   },
   "outputs": [
    {
     "data": {
      "text/plain": [
       "0.0"
      ]
     },
     "execution_count": 91,
     "metadata": {},
     "output_type": "execute_result"
    }
   ],
   "source": [
    "# np.linalg.det() returs the determinant\n",
    "A = np.array([[1,2,0],[0,1,1],[1,2,0]])\n",
    "np.linalg.det(A)"
   ]
  },
  {
   "cell_type": "markdown",
   "metadata": {
    "Collapsed": "false"
   },
   "source": [
    "##### Transpose"
   ]
  },
  {
   "cell_type": "code",
   "execution_count": 92,
   "metadata": {
    "Collapsed": "false"
   },
   "outputs": [
    {
     "data": {
      "text/plain": [
       "array([[1, 0, 1],\n",
       "       [2, 1, 2],\n",
       "       [0, 1, 0]])"
      ]
     },
     "execution_count": 92,
     "metadata": {},
     "output_type": "execute_result"
    }
   ],
   "source": [
    "# transpose\n",
    "A = np.array([[1,2,0],[0,1,1],[1,2,0]]).T\n",
    "A"
   ]
  },
  {
   "cell_type": "markdown",
   "metadata": {
    "Collapsed": "false"
   },
   "source": [
    "##### Functions"
   ]
  },
  {
   "cell_type": "code",
   "execution_count": 108,
   "metadata": {
    "Collapsed": "false"
   },
   "outputs": [
    {
     "name": "stdout",
     "output_type": "stream",
     "text": [
      "[[1 2 0]\n",
      " [0 1 1]\n",
      " [1 2 0]]\n",
      "8\n",
      "[2 5 1]\n",
      "[3 2 3]\n"
     ]
    }
   ],
   "source": [
    "# sum\n",
    "A = np.array([[1,2,0],[0,1,1],[1,2,0]])\n",
    "print(A)\n",
    "# if we don't provide any arguments, its for the whole matrix\n",
    "print(A.sum())\n",
    "# down the rows\n",
    "print(A.sum(axis=0))\n",
    "# across the columns\n",
    "print(A.sum(axis=1))\n",
    "# Similarly for min(), max()"
   ]
  },
  {
   "cell_type": "markdown",
   "metadata": {
    "Collapsed": "false"
   },
   "source": [
    "##### Random"
   ]
  },
  {
   "cell_type": "code",
   "execution_count": 65,
   "metadata": {
    "Collapsed": "false"
   },
   "outputs": [
    {
     "name": "stdout",
     "output_type": "stream",
     "text": [
      "[ 8  8  3  7  7  0 10  4  2  5  2  2  2  1  0  8  4 10  0  9  6  2  4  1\n",
      "  5  3  4  4  3  7  1  1  7  7  0  2  9  9  3  2  5  8  1  0  7  6  2  0\n",
      "  8  2]\n",
      "[ 5 10  1  8 10  1  5  4  2  8  3  5  0  9 10  3  6  3  4 10  7  6  3  9\n",
      "  0  4  4  5  7  6  6  2 10  4  2  7  1 10  6 10  6  0 10  7  2  3  5  4\n",
      "  2  4]\n"
     ]
    }
   ],
   "source": [
    "# Setting a random seed\n",
    "# If we keep running this cell, the arrays never change\n",
    "np.random.seed(100)\n",
    "print(np.random.randint(0,11,size=50))\n",
    "print(np.random.randint(0,11,size=50))"
   ]
  },
  {
   "cell_type": "code",
   "execution_count": 63,
   "metadata": {
    "Collapsed": "false"
   },
   "outputs": [
    {
     "name": "stdout",
     "output_type": "stream",
     "text": [
      "[ 2  3  2  7  0  6  9  8 10  2  1  1  2  2  6  2  4  5  1  7  5  4  0  1\n",
      "  5  9  0  1  0  4  3  2  7 10  6  3  7  2  7  8  5  1 10  9  6  0  9  9\n",
      "  2  5]\n"
     ]
    }
   ],
   "source": [
    "# If we run this cell without the random.seed(), the arrays change\n",
    "# This shows the random.seed() only works for the cell it is in and does not affect the whole workbook\n",
    "print(np.random.randint(0,11,size=50))"
   ]
  },
  {
   "cell_type": "markdown",
   "metadata": {
    "Collapsed": "false"
   },
   "source": [
    "##### Reshaping"
   ]
  },
  {
   "cell_type": "code",
   "execution_count": 33,
   "metadata": {
    "Collapsed": "false"
   },
   "outputs": [],
   "source": [
    "array = np.array([1,2,3,4,5,6])"
   ]
  },
  {
   "cell_type": "code",
   "execution_count": 34,
   "metadata": {
    "Collapsed": "false"
   },
   "outputs": [
    {
     "data": {
      "text/plain": [
       "array([[1, 2, 3],\n",
       "       [4, 5, 6]])"
      ]
     },
     "execution_count": 34,
     "metadata": {},
     "output_type": "execute_result"
    }
   ],
   "source": [
    "# Reshaping an array\n",
    "array.reshape(2,3)"
   ]
  },
  {
   "cell_type": "code",
   "execution_count": 35,
   "metadata": {
    "Collapsed": "false"
   },
   "outputs": [
    {
     "data": {
      "text/plain": [
       "array([[1, 2, 3],\n",
       "       [4, 5, 6]])"
      ]
     },
     "execution_count": 35,
     "metadata": {},
     "output_type": "execute_result"
    }
   ],
   "source": [
    "# Using -1 tells numpy to figure it out\n",
    "array.reshape(2,-1)"
   ]
  },
  {
   "cell_type": "code",
   "execution_count": 41,
   "metadata": {
    "Collapsed": "false"
   },
   "outputs": [
    {
     "data": {
      "text/plain": [
       "array([1, 2, 3, 4, 5, 6])"
      ]
     },
     "execution_count": 41,
     "metadata": {},
     "output_type": "execute_result"
    }
   ],
   "source": [
    "# Using -1 tells numpy to figure it out\n",
    "array.reshape(2,-1).reshape(-1)"
   ]
  },
  {
   "cell_type": "markdown",
   "metadata": {
    "Collapsed": "false"
   },
   "source": [
    "##### Matrix into a vector (or flattening)"
   ]
  },
  {
   "cell_type": "code",
   "execution_count": 55,
   "metadata": {
    "Collapsed": "false"
   },
   "outputs": [
    {
     "data": {
      "text/plain": [
       "array([[1, 2, 3],\n",
       "       [4, 5, 6]])"
      ]
     },
     "execution_count": 55,
     "metadata": {},
     "output_type": "execute_result"
    }
   ],
   "source": [
    "matrix = np.array([[1,2,3],[4,5,6]])\n",
    "matrix"
   ]
  },
  {
   "cell_type": "code",
   "execution_count": 57,
   "metadata": {
    "Collapsed": "false"
   },
   "outputs": [
    {
     "name": "stdout",
     "output_type": "stream",
     "text": [
      "[1 2 3 4 5 6]\n",
      "(6,)\n"
     ]
    }
   ],
   "source": [
    "# we can turn it back into a vector\n",
    "print(matrix.reshape(-1))\n",
    "print(matrix.reshape(-1).shape)"
   ]
  },
  {
   "cell_type": "markdown",
   "metadata": {
    "Collapsed": "true"
   },
   "source": [
    "##### Raveling (or flattening)\n",
    "* It's the same as calling `.reshape(-1)`"
   ]
  },
  {
   "cell_type": "code",
   "execution_count": 62,
   "metadata": {
    "Collapsed": "false"
   },
   "outputs": [
    {
     "data": {
      "text/plain": [
       "array([1, 2, 3, 4, 5, 6])"
      ]
     },
     "execution_count": 62,
     "metadata": {},
     "output_type": "execute_result"
    }
   ],
   "source": [
    "matrix.ravel()"
   ]
  },
  {
   "cell_type": "markdown",
   "metadata": {
    "Collapsed": "false"
   },
   "source": [
    "##### Concatenation with `.concatenate`"
   ]
  },
  {
   "cell_type": "code",
   "execution_count": 76,
   "metadata": {
    "Collapsed": "false"
   },
   "outputs": [],
   "source": [
    "matrix1 = np.array([[1,2],[4,5]])\n",
    "matrix2 = np.array([[7,8]])"
   ]
  },
  {
   "cell_type": "code",
   "execution_count": 79,
   "metadata": {
    "Collapsed": "false"
   },
   "outputs": [
    {
     "data": {
      "text/plain": [
       "array([[1, 2],\n",
       "       [4, 5],\n",
       "       [7, 8]])"
      ]
     },
     "execution_count": 79,
     "metadata": {},
     "output_type": "execute_result"
    }
   ],
   "source": [
    "np.concatenate((matrix1,matrix2),axis=0)"
   ]
  },
  {
   "cell_type": "code",
   "execution_count": 78,
   "metadata": {
    "Collapsed": "false"
   },
   "outputs": [
    {
     "data": {
      "text/plain": [
       "array([[1, 2, 7],\n",
       "       [4, 5, 8]])"
      ]
     },
     "execution_count": 78,
     "metadata": {},
     "output_type": "execute_result"
    }
   ],
   "source": [
    "np.concatenate((matrix1,matrix2.T),axis=1)"
   ]
  },
  {
   "cell_type": "markdown",
   "metadata": {
    "Collapsed": "true"
   },
   "source": [
    "#### Descriptive Statistics"
   ]
  },
  {
   "cell_type": "code",
   "execution_count": 10,
   "metadata": {
    "Collapsed": "false"
   },
   "outputs": [
    {
     "name": "stdout",
     "output_type": "stream",
     "text": [
      "list:  [1, 6, 7, 9, 8, 4, 8, 5, 0, 5, 8, 1, 3, 10, 8, 3, 3, 2, 8, 9]\n",
      "sorted list:  [0, 1, 1, 2, 3, 3, 3, 4, 5, 5, 6, 7, 8, 8, 8, 8, 8, 9, 9, 10]\n",
      "sum:  108\n",
      "length:  20\n",
      "mean:  5.4\n",
      "median:  5.5\n",
      "range:  10\n",
      "variance:  9.139999999999999\n",
      "standard deviation:  3.0232432915661946\n"
     ]
    }
   ],
   "source": [
    "np.random.seed(101)\n",
    "a = list(np.random.randint(0,11,size=20))\n",
    "print('list: ',a)\n",
    "print('sorted list: ',sorted(a))\n",
    "print('sum: ',np.sum(a))\n",
    "print('length: ',len(a))\n",
    "print('mean: ',np.mean(a))\n",
    "print('median: ',np.median(a))\n",
    "print('range: ',np.ptp(a))\n",
    "print('variance: ',np.var(a))\n",
    "print('standard deviation: ',np.std(a))"
   ]
  },
  {
   "cell_type": "code",
   "execution_count": 17,
   "metadata": {
    "Collapsed": "false"
   },
   "outputs": [
    {
     "name": "stdout",
     "output_type": "stream",
     "text": [
      "ModeResult(mode=array([8]), count=array([5]))\n",
      "The mode is: [8] , which appears [5] times\n"
     ]
    }
   ],
   "source": [
    "# Unfortunately there is no mode provided by np\n",
    "# Instead we use SciPy\n",
    "import scipy.stats as stats\n",
    "print(stats.mode(a))\n",
    "print('The mode is:',stats.mode(a)[0],', which appears',stats.mode(a)[1],'times')"
   ]
  }
 ],
 "metadata": {
  "kernelspec": {
   "display_name": "Python 3",
   "language": "python",
   "name": "python3"
  },
  "language_info": {
   "codemirror_mode": {
    "name": "ipython",
    "version": 3
   },
   "file_extension": ".py",
   "mimetype": "text/x-python",
   "name": "python",
   "nbconvert_exporter": "python",
   "pygments_lexer": "ipython3",
   "version": "3.7.3"
  }
 },
 "nbformat": 4,
 "nbformat_minor": 4
}
